{
 "cells": [
  {
   "cell_type": "code",
   "execution_count": 1,
   "metadata": {
    "collapsed": true
   },
   "outputs": [],
   "source": [
    "import pandas as pd\n",
    "import numpy as np\n",
    "import requests as requests\n",
    "from IPython.core.display import HTML\n",
    "from bs4 import BeautifulSoup, UnicodeDammit\n",
    "import StringIO\n",
    "import logging\n",
    "import time\n",
    "import pickle\n",
    "\n",
    "import matplotlib.pyplot as plt\n",
    "%matplotlib inline"
   ]
  },
  {
   "cell_type": "code",
   "execution_count": 4,
   "metadata": {
    "collapsed": true
   },
   "outputs": [],
   "source": [
    "s = requests.Session()"
   ]
  },
  {
   "cell_type": "code",
   "execution_count": 96,
   "metadata": {
    "collapsed": true
   },
   "outputs": [],
   "source": [
    "link = 'https://public.cdpehs.com/NCENVPBL/INSPECTION/ShowESTABLISHMENTPage.aspx'\n",
    "payload = {'ESTABLISHMENT':129779, 'esttst_cty':60}\n",
    "#payload = {'ESTABLISHMENT':121890, 'esttst_cty':60}\n",
    "z = s.get(link, params=payload)\n",
    "soup = BeautifulSoup(z.content, from_encoding='UTF-8')"
   ]
  },
  {
   "cell_type": "code",
   "execution_count": 100,
   "metadata": {
    "collapsed": false
   },
   "outputs": [],
   "source": [
    "t = soup.findAll('table')[0]\n",
    "r = t.findAll('td', attrs={'class':'dfv'})\n",
    "rest_info = [x.text for x in r]\n",
    "rest_info = [rest_info[x] for x in [0,2,8,9,10,16,19]]\n",
    "\n",
    "insp_info = np.array([y.text for y in t.findAll('td', attrs={'class':'ttc'})]).reshape(-1,4)"
   ]
  },
  {
   "cell_type": "code",
   "execution_count": 107,
   "metadata": {
    "collapsed": true
   },
   "outputs": [],
   "source": [
    "def get_page_info(id_no, s=None):\n",
    "    if s is None:\n",
    "        s = requests.Session()\n",
    "    link = 'https://public.cdpehs.com/NCENVPBL/INSPECTION/ShowESTABLISHMENTPage.aspx'\n",
    "    payload = {'ESTABLISHMENT':id_no, 'esttst_cty':60}\n",
    "    z = s.get(link, params=payload)\n",
    "    soup = BeautifulSoup(z.content, from_encoding='UTF-8')\n",
    "    \n",
    "    t = soup.findAll('table')[0]\n",
    "    \n",
    "    insp_info = np.array([y.text for y in t.findAll('td', attrs={'class':'ttc'})]).reshape(-1,4)\n",
    "    \n",
    "    if insp_info.shape[0] < 1:\n",
    "        return None\n",
    "    \n",
    "    r = t.findAll('td', attrs={'class':'dfv'})\n",
    "    rest_info = [x.text for x in r]\n",
    "    \n",
    "    return {'name'       :rest_info[0],\n",
    "            'address'    :rest_info[2],\n",
    "            'city'       :rest_info[8],\n",
    "            'state'      :rest_info[9],\n",
    "            'zip'        :rest_info[10],\n",
    "            'type'       :rest_info[16],\n",
    "            'county'     :rest_info[19],\n",
    "            'inspections':insp_info}\n",
    "\n",
    "def save_to_pickle(data, fname):\n",
    "    with open(fname, 'wb') as handle:\n",
    "        pickle.dump(data, handle)\n",
    "        \n",
    "def merge_two_dicts(x, y):\n",
    "    '''Given two dicts, merge them into a new dict as a shallow copy.'''\n",
    "    z = x.copy()\n",
    "    z.update(y)\n",
    "    return z"
   ]
  },
  {
   "cell_type": "code",
   "execution_count": 108,
   "metadata": {
    "collapsed": true
   },
   "outputs": [],
   "source": [
    "dicts_main = {}"
   ]
  },
  {
   "cell_type": "code",
   "execution_count": 163,
   "metadata": {
    "collapsed": true
   },
   "outputs": [
    {
     "name": "stdout",
     "output_type": "stream",
     "text": [
      "[00] START: 140000\n",
      "[01] START: 141000\n",
      "[02] START: 142000\n",
      "[03] START: 143000\n",
      "[04] START: 144000\n",
      "144368 has 4 inspections\n",
      "144382 has 2 inspections\n",
      "144396 has 5 inspections\n",
      "144401 has 7 inspections\n",
      "144402 has 2 inspections\n",
      "144421 has 1 inspections\n",
      "144422 has 5 inspections\n",
      "144438 has 6 inspections\n",
      "144482 has 5 inspections\n",
      "144522 has 9 inspections\n",
      "144532 has 7 inspections\n",
      "144543 has 7 inspections\n",
      "144546 has 4 inspections\n",
      "144599 has 6 inspections\n",
      "144600 has 4 inspections\n",
      "144601 has 6 inspections\n",
      "144603 has 7 inspections\n",
      "144619 has 5 inspections\n",
      "144620 has 4 inspections\n",
      "144621 has 5 inspections\n",
      "144637 has 6 inspections\n",
      "144674 has 6 inspections\n",
      "144675 has 6 inspections\n",
      "144712 has 8 inspections\n",
      "144735 has 4 inspections\n",
      "144740 has 1 inspections\n",
      "[05] START: 145000\n"
     ]
    }
   ],
   "source": [
    "def get_pages_in_range(start, n_loops, step_size=1000):\n",
    "    s = requests.Session()\n",
    "    dicts_main = {}\n",
    "    for i in xrange(n_loops):\n",
    "        dicts_loop = {}\n",
    "        print '[%02d] START: %d' % (i, start)\n",
    "        for i in xrange(step_size):\n",
    "            dicts = get_page_info(start, s)\n",
    "            if dicts is not None and dicts['type'][:3]=='1 -':\n",
    "                dicts_loop[start] = dicts\n",
    "                print '%d has %d inspections' % (start, dicts['inspections'].shape[0])\n",
    "            start += 1\n",
    "        save_to_pickle(dicts_loop, 'data/char/char_%s.pkl' % (start-1))\n",
    "        dicts_main = merge_two_dicts(dicts_main, dicts_loop)\n",
    "    return dicts_main\n",
    "    "
   ]
  },
  {
   "cell_type": "code",
   "execution_count": 163,
   "metadata": {
    "collapsed": false,
    "scrolled": true
   },
   "outputs": [
    {
     "name": "stdout",
     "output_type": "stream",
     "text": [
      "[00] START: 140000\n",
      "[01] START: 141000\n",
      "[02] START: 142000\n",
      "[03] START: 143000\n",
      "[04] START: 144000\n",
      "144368 has 4 inspections\n",
      "144382 has 2 inspections\n",
      "144396 has 5 inspections\n",
      "144401 has 7 inspections\n",
      "144402 has 2 inspections\n",
      "144421 has 1 inspections\n",
      "144422 has 5 inspections\n",
      "144438 has 6 inspections\n",
      "144482 has 5 inspections\n",
      "144522 has 9 inspections\n",
      "144532 has 7 inspections\n",
      "144543 has 7 inspections\n",
      "144546 has 4 inspections\n",
      "144599 has 6 inspections\n",
      "144600 has 4 inspections\n",
      "144601 has 6 inspections\n",
      "144603 has 7 inspections\n",
      "144619 has 5 inspections\n",
      "144620 has 4 inspections\n",
      "144621 has 5 inspections\n",
      "144637 has 6 inspections\n",
      "144674 has 6 inspections\n",
      "144675 has 6 inspections\n",
      "144712 has 8 inspections\n",
      "144735 has 4 inspections\n",
      "144740 has 1 inspections\n",
      "[05] START: 145000\n"
     ]
    }
   ],
   "source": [
    "start = 140000\n",
    "s = requests.Session()\n",
    "\n",
    "for i in xrange(6):\n",
    "    dicts_loop = {}\n",
    "    print '[%02d] START: %d' % (i, start)\n",
    "    for i in xrange(1000):\n",
    "        dicts = get_page_info(start, s)\n",
    "        if dicts is not None and dicts['type'][:3]=='1 -':\n",
    "            dicts_loop[start] = dicts\n",
    "            print '%d has %d inspections' % (start, dicts['inspections'].shape[0])\n",
    "        start += 1\n",
    "    save_to_pickle(dicts_loop, 'data/char_%s.pkl' % (start-1))\n",
    "    dicts_main = merge_two_dicts(dicts_main, dicts_loop)\n",
    "    "
   ]
  },
  {
   "cell_type": "markdown",
   "metadata": {},
   "source": []
  },
  {
   "cell_type": "code",
   "execution_count": 164,
   "metadata": {
    "collapsed": true
   },
   "outputs": [],
   "source": [
    "save_to_pickle(dicts_main, 'data/char/char_FULL_04.pkl')"
   ]
  },
  {
   "cell_type": "code",
   "execution_count": 113,
   "metadata": {
    "collapsed": false
   },
   "outputs": [],
   "source": [
    "save_to_pickle(dicts_loop, 'data/char_%s.pkl' % (start-1))\n",
    "dicts_main = merge_two_dicts(dicts_main, dicts_loop)"
   ]
  },
  {
   "cell_type": "code",
   "execution_count": 165,
   "metadata": {
    "collapsed": false
   },
   "outputs": [],
   "source": [
    "test = pd.DataFrame.from_records(dicts_main).T"
   ]
  },
  {
   "cell_type": "code",
   "execution_count": 166,
   "metadata": {
    "collapsed": false
   },
   "outputs": [
    {
     "name": "stdout",
     "output_type": "stream",
     "text": [
      "<class 'pandas.core.frame.DataFrame'>\n",
      "Int64Index: 2920 entries, 122131 to 168863\n",
      "Data columns (total 8 columns):\n",
      "address        2920 non-null object\n",
      "city           2920 non-null object\n",
      "county         2920 non-null object\n",
      "inspections    2920 non-null object\n",
      "name           2920 non-null object\n",
      "state          2920 non-null object\n",
      "type           2920 non-null object\n",
      "zip            2920 non-null object\n",
      "dtypes: object(8)\n",
      "memory usage: 205.3+ KB\n"
     ]
    }
   ],
   "source": [
    "test.info()"
   ]
  },
  {
   "cell_type": "code",
   "execution_count": 167,
   "metadata": {
    "collapsed": false
   },
   "outputs": [
    {
     "data": {
      "text/html": [
       "<div>\n",
       "<table border=\"1\" class=\"dataframe\">\n",
       "  <thead>\n",
       "    <tr style=\"text-align: right;\">\n",
       "      <th></th>\n",
       "      <th>address</th>\n",
       "      <th>city</th>\n",
       "      <th>county</th>\n",
       "      <th>inspections</th>\n",
       "      <th>name</th>\n",
       "      <th>state</th>\n",
       "      <th>type</th>\n",
       "      <th>zip</th>\n",
       "    </tr>\n",
       "  </thead>\n",
       "  <tbody>\n",
       "    <tr>\n",
       "      <th>168590</th>\n",
       "      <td>10901 UNIVERSITY CITY BLVD SUITE 14  \\r\\n</td>\n",
       "      <td>CHARLOTTE</td>\n",
       "      <td>Mecklenburg</td>\n",
       "      <td>[[10/1/2015, 98.50, A, 2490]]</td>\n",
       "      <td>CICI'S PIZZA #353</td>\n",
       "      <td>NC</td>\n",
       "      <td>1 - Restaurant</td>\n",
       "      <td>28213</td>\n",
       "    </tr>\n",
       "    <tr>\n",
       "      <th>168591</th>\n",
       "      <td>14318 RIVERGATE VIEW DR  \\r\\n</td>\n",
       "      <td>CHARLOTTE</td>\n",
       "      <td>Mecklenburg</td>\n",
       "      <td>[[10/21/2015, 98.50, A, 2134]]</td>\n",
       "      <td>MOD PIZZA RIVERGATE</td>\n",
       "      <td>NC</td>\n",
       "      <td>1 - Restaurant</td>\n",
       "      <td>28273</td>\n",
       "    </tr>\n",
       "    <tr>\n",
       "      <th>168653</th>\n",
       "      <td>929 PARK CENTER DR  \\r\\n</td>\n",
       "      <td>MATTHEWS</td>\n",
       "      <td>Mecklenburg</td>\n",
       "      <td>[[10/20/2015, 95.50, A, 2222]]</td>\n",
       "      <td>WAYBACK BURGERS #135</td>\n",
       "      <td>NC</td>\n",
       "      <td>1 - Restaurant</td>\n",
       "      <td>28105</td>\n",
       "    </tr>\n",
       "    <tr>\n",
       "      <th>168849</th>\n",
       "      <td>3100 CENTRAL AVE  \\r\\n</td>\n",
       "      <td>CHARLOTTE</td>\n",
       "      <td>Mecklenburg</td>\n",
       "      <td>[[10/9/2015, 96, A, 2498]]</td>\n",
       "      <td>ADAMARY'S RESTAURANTE Y PUPUSERIA</td>\n",
       "      <td>NC</td>\n",
       "      <td>1 - Restaurant</td>\n",
       "      <td>28205</td>\n",
       "    </tr>\n",
       "    <tr>\n",
       "      <th>168863</th>\n",
       "      <td>14027 CONLAN CIRCLE  \\r\\n</td>\n",
       "      <td>CHARLOTTE</td>\n",
       "      <td>Mecklenburg</td>\n",
       "      <td>[[10/9/2015, 84, B, 2365]]</td>\n",
       "      <td>PERSIS BIRYANI INDIAN GRILL</td>\n",
       "      <td>NC</td>\n",
       "      <td>1 - Restaurant</td>\n",
       "      <td>28277</td>\n",
       "    </tr>\n",
       "  </tbody>\n",
       "</table>\n",
       "</div>"
      ],
      "text/plain": [
       "                                          address         city       county  \\\n",
       "168590  10901 UNIVERSITY CITY BLVD SUITE 14  \\r\\n  CHARLOTTE    Mecklenburg   \n",
       "168591              14318 RIVERGATE VIEW DR  \\r\\n  CHARLOTTE    Mecklenburg   \n",
       "168653                   929 PARK CENTER DR  \\r\\n   MATTHEWS    Mecklenburg   \n",
       "168849                     3100 CENTRAL AVE  \\r\\n  CHARLOTTE    Mecklenburg   \n",
       "168863                  14027 CONLAN CIRCLE  \\r\\n  CHARLOTTE    Mecklenburg   \n",
       "\n",
       "                           inspections                                name  \\\n",
       "168590   [[10/1/2015, 98.50, A, 2490]]                  CICI'S PIZZA #353    \n",
       "168591  [[10/21/2015, 98.50, A, 2134]]                MOD PIZZA RIVERGATE    \n",
       "168653  [[10/20/2015, 95.50, A, 2222]]               WAYBACK BURGERS #135    \n",
       "168849      [[10/9/2015, 96, A, 2498]]  ADAMARY'S RESTAURANTE Y PUPUSERIA    \n",
       "168863      [[10/9/2015, 84, B, 2365]]        PERSIS BIRYANI INDIAN GRILL    \n",
       "\n",
       "       state            type    zip  \n",
       "168590   NC   1 - Restaurant  28213  \n",
       "168591   NC   1 - Restaurant  28273  \n",
       "168653   NC   1 - Restaurant  28105  \n",
       "168849   NC   1 - Restaurant  28205  \n",
       "168863   NC   1 - Restaurant  28277  "
      ]
     },
     "execution_count": 167,
     "metadata": {},
     "output_type": "execute_result"
    }
   ],
   "source": [
    "test.tail()"
   ]
  },
  {
   "cell_type": "code",
   "execution_count": 144,
   "metadata": {
    "collapsed": false
   },
   "outputs": [],
   "source": [
    "with open('Establishment.html') as f:\n",
    "    html_str = f.read()\n",
    "soup_test = BeautifulSoup(html_str, 'html.parser')"
   ]
  },
  {
   "cell_type": "code",
   "execution_count": 145,
   "metadata": {
    "collapsed": false
   },
   "outputs": [],
   "source": [
    "test2 = soup_test.findAll('td', attrs={'class':'ttc'})"
   ]
  },
  {
   "cell_type": "code",
   "execution_count": 146,
   "metadata": {
    "collapsed": false
   },
   "outputs": [],
   "source": [
    "test_df = pd.DataFrame(np.array([x.text for x in test2]).reshape(-1,6), columns=['name','address','city','state','zip','type'])"
   ]
  },
  {
   "cell_type": "code",
   "execution_count": 168,
   "metadata": {
    "collapsed": false
   },
   "outputs": [],
   "source": [
    "out = set(test_df['name'].values) - set(test['name'].values)"
   ]
  },
  {
   "cell_type": "code",
   "execution_count": 169,
   "metadata": {
    "collapsed": false
   },
   "outputs": [
    {
     "data": {
      "text/plain": [
       "18"
      ]
     },
     "execution_count": 169,
     "metadata": {},
     "output_type": "execute_result"
    }
   ],
   "source": [
    "len(out)"
   ]
  },
  {
   "cell_type": "code",
   "execution_count": 170,
   "metadata": {
    "collapsed": false,
    "scrolled": true
   },
   "outputs": [
    {
     "data": {
      "text/plain": [
       "{u\"ANGRY ALE'S \",\n",
       " u\"ANTONIO'S PIZZA \",\n",
       " u\"BJ'S MEMBERSHIP CLUB #375 FOOD COURT \",\n",
       " u'C TOWN EXPRESS RESTAURANT ',\n",
       " u\"CICI'S PIZZA #674 \",\n",
       " u'DUNKIN DONUTS/BASKIN ROBBINS #342490 ',\n",
       " u'GUSTO PASTA BAR ',\n",
       " u'HOT TACO ',\n",
       " u'JAMBA JUICE ',\n",
       " u'LAWRENCE CARIBBEAN ',\n",
       " u'MI TIERRITA ',\n",
       " u\"NATALEIGH'S \",\n",
       " u'PINTVILLE CRAFT BEER ',\n",
       " u'PURE PIZZA ',\n",
       " u'SUGAR HANDMADE GOURMET DONUTS ',\n",
       " u'TIAA-BETSILL #30761 ',\n",
       " u'TIMES BUFFET HIBACHI & SUHSI ',\n",
       " u'VILLAGE INN PIZZA '}"
      ]
     },
     "execution_count": 170,
     "metadata": {},
     "output_type": "execute_result"
    }
   ],
   "source": [
    "out"
   ]
  },
  {
   "cell_type": "code",
   "execution_count": 173,
   "metadata": {
    "collapsed": false
   },
   "outputs": [
    {
     "data": {
      "text/html": [
       "<div>\n",
       "<table border=\"1\" class=\"dataframe\">\n",
       "  <thead>\n",
       "    <tr style=\"text-align: right;\">\n",
       "      <th></th>\n",
       "      <th>address</th>\n",
       "      <th>city</th>\n",
       "      <th>county</th>\n",
       "      <th>inspections</th>\n",
       "      <th>name</th>\n",
       "      <th>state</th>\n",
       "      <th>type</th>\n",
       "      <th>zip</th>\n",
       "    </tr>\n",
       "  </thead>\n",
       "  <tbody>\n",
       "    <tr>\n",
       "      <th>124943</th>\n",
       "      <td>1804 WINDSOR SQUARE DR  \\r\\n</td>\n",
       "      <td>MATTHEWS</td>\n",
       "      <td>Mecklenburg</td>\n",
       "      <td>[[8/6/2014, 91, A, 2222], [12/9/2013, 94.50, A...</td>\n",
       "      <td>CICI'S PIZZA #205</td>\n",
       "      <td>NC</td>\n",
       "      <td>1 - Restaurant</td>\n",
       "      <td>28105</td>\n",
       "    </tr>\n",
       "    <tr>\n",
       "      <th>124974</th>\n",
       "      <td>10707 PARK RD  \\r\\n</td>\n",
       "      <td>CHARLOTTE</td>\n",
       "      <td>Mecklenburg</td>\n",
       "      <td>[[7/6/2015, 93, A, 2465], [2/12/2015, 90, A, 2...</td>\n",
       "      <td>CICI'S PIZZA #150</td>\n",
       "      <td>NC</td>\n",
       "      <td>1 - Restaurant</td>\n",
       "      <td>28210</td>\n",
       "    </tr>\n",
       "    <tr>\n",
       "      <th>126009</th>\n",
       "      <td>10901 UNIVERSITY CITY BV  \\r\\n</td>\n",
       "      <td>CHARLOTTE</td>\n",
       "      <td>Mecklenburg</td>\n",
       "      <td>[[6/9/2015, 92.50, A, 2159], [8/12/2014, 93, A...</td>\n",
       "      <td>CICI'S PIZZA #353</td>\n",
       "      <td>NC</td>\n",
       "      <td>1 - Restaurant</td>\n",
       "      <td>28213</td>\n",
       "    </tr>\n",
       "    <tr>\n",
       "      <th>127494</th>\n",
       "      <td>10823 JOHN PRICE RD  \\r\\n</td>\n",
       "      <td>CHARLOTTE</td>\n",
       "      <td>Mecklenburg</td>\n",
       "      <td>[[8/17/2015, 90.50, A, 2118], [8/6/2015, 88.50...</td>\n",
       "      <td>CICI`S PIZZA #674</td>\n",
       "      <td>NC</td>\n",
       "      <td>1 - Restaurant</td>\n",
       "      <td>28273</td>\n",
       "    </tr>\n",
       "    <tr>\n",
       "      <th>163959</th>\n",
       "      <td>1804 WINDSOR SQUARE DRIVE  \\r\\n</td>\n",
       "      <td>MATTHEWS</td>\n",
       "      <td>Mecklenburg</td>\n",
       "      <td>[[9/2/2015, 88, B, 2174], [3/3/2015, 94, A, 19...</td>\n",
       "      <td>CICI'S #205</td>\n",
       "      <td>NC</td>\n",
       "      <td>1 - Restaurant</td>\n",
       "      <td>28105</td>\n",
       "    </tr>\n",
       "    <tr>\n",
       "      <th>168590</th>\n",
       "      <td>10901 UNIVERSITY CITY BLVD SUITE 14  \\r\\n</td>\n",
       "      <td>CHARLOTTE</td>\n",
       "      <td>Mecklenburg</td>\n",
       "      <td>[[10/1/2015, 98.50, A, 2490]]</td>\n",
       "      <td>CICI'S PIZZA #353</td>\n",
       "      <td>NC</td>\n",
       "      <td>1 - Restaurant</td>\n",
       "      <td>28213</td>\n",
       "    </tr>\n",
       "  </tbody>\n",
       "</table>\n",
       "</div>"
      ],
      "text/plain": [
       "                                          address         city       county  \\\n",
       "124943               1804 WINDSOR SQUARE DR  \\r\\n   MATTHEWS    Mecklenburg   \n",
       "124974                        10707 PARK RD  \\r\\n  CHARLOTTE    Mecklenburg   \n",
       "126009             10901 UNIVERSITY CITY BV  \\r\\n  CHARLOTTE    Mecklenburg   \n",
       "127494                  10823 JOHN PRICE RD  \\r\\n  CHARLOTTE    Mecklenburg   \n",
       "163959            1804 WINDSOR SQUARE DRIVE  \\r\\n   MATTHEWS    Mecklenburg   \n",
       "168590  10901 UNIVERSITY CITY BLVD SUITE 14  \\r\\n  CHARLOTTE    Mecklenburg   \n",
       "\n",
       "                                              inspections                name  \\\n",
       "124943  [[8/6/2014, 91, A, 2222], [12/9/2013, 94.50, A...  CICI'S PIZZA #205    \n",
       "124974  [[7/6/2015, 93, A, 2465], [2/12/2015, 90, A, 2...  CICI'S PIZZA #150    \n",
       "126009  [[6/9/2015, 92.50, A, 2159], [8/12/2014, 93, A...  CICI'S PIZZA #353    \n",
       "127494  [[8/17/2015, 90.50, A, 2118], [8/6/2015, 88.50...  CICI`S PIZZA #674    \n",
       "163959  [[9/2/2015, 88, B, 2174], [3/3/2015, 94, A, 19...        CICI'S #205    \n",
       "168590                      [[10/1/2015, 98.50, A, 2490]]  CICI'S PIZZA #353    \n",
       "\n",
       "       state            type    zip  \n",
       "124943   NC   1 - Restaurant  28105  \n",
       "124974   NC   1 - Restaurant  28210  \n",
       "126009   NC   1 - Restaurant  28213  \n",
       "127494   NC   1 - Restaurant  28273  \n",
       "163959   NC   1 - Restaurant  28105  \n",
       "168590   NC   1 - Restaurant  28213  "
      ]
     },
     "execution_count": 173,
     "metadata": {},
     "output_type": "execute_result"
    }
   ],
   "source": [
    "test[test.name.apply(lambda x: x[:4])=='CICI']"
   ]
  },
  {
   "cell_type": "code",
   "execution_count": null,
   "metadata": {
    "collapsed": true
   },
   "outputs": [],
   "source": []
  },
  {
   "cell_type": "code",
   "execution_count": 45,
   "metadata": {
    "collapsed": false
   },
   "outputs": [],
   "source": [
    "def build_restaurants(fname):\n",
    "    dict_final = pickle.load(open(fname,'rb'))\n",
    "    R = pd.DataFrame.from_records(dict_final).T\n",
    "    R = R[R.type == '1 - Restaurant']\n",
    "    R.loc[:,'address'] = R.address.apply(lambda x: x.replace(' \\r\\n',''))\n",
    "    return R\n",
    "    \n",
    "def build_inspections(R):\n",
    "    d = []\n",
    "    for id_ in R.index:\n",
    "        for row in R.loc[id_,'inspections']:\n",
    "            d.append((id_,) + tuple(row))\n",
    "    I = pd.DataFrame(d, columns=['id','date','score','grade','inspector'])\n",
    "    I['date'] = pd.to_datetime(I['date'])\n",
    "    I.loc[I.score==u'\\xa0','score'] = 'NaN'\n",
    "    I.score = I.score.astype(float)\n",
    "    return I\n",
    "\n",
    "def get_data(fname):\n",
    "    R = build_restaurants(fname)\n",
    "    I = build_inspections(R)\n",
    "    R.drop('inspections', axis=1, inplace=True)\n",
    "    return R, I\n"
   ]
  },
  {
   "cell_type": "code",
   "execution_count": 46,
   "metadata": {
    "collapsed": false
   },
   "outputs": [
    {
     "name": "stdout",
     "output_type": "stream",
     "text": [
      "<class 'pandas.core.frame.DataFrame'>\n",
      "Int64Index: 2707 entries, 122131 to 168863\n",
      "Data columns (total 7 columns):\n",
      "address    2707 non-null object\n",
      "city       2707 non-null object\n",
      "county     2707 non-null object\n",
      "name       2707 non-null object\n",
      "state      2707 non-null object\n",
      "type       2707 non-null object\n",
      "zip        2707 non-null object\n",
      "dtypes: object(7)\n",
      "memory usage: 169.2+ KB\n",
      "<class 'pandas.core.frame.DataFrame'>\n",
      "Int64Index: 12491 entries, 0 to 12490\n",
      "Data columns (total 5 columns):\n",
      "id           12491 non-null int64\n",
      "date         12491 non-null datetime64[ns]\n",
      "score        12482 non-null float64\n",
      "grade        12491 non-null object\n",
      "inspector    12491 non-null object\n",
      "dtypes: datetime64[ns](1), float64(1), int64(1), object(2)\n",
      "memory usage: 585.5+ KB\n"
     ]
    }
   ],
   "source": [
    "R, I = get_data('data/char/char_FULL_04.pkl')\n",
    "R.info()\n",
    "I.info()"
   ]
  },
  {
   "cell_type": "code",
   "execution_count": 42,
   "metadata": {
    "collapsed": false
   },
   "outputs": [
    {
     "data": {
      "text/html": [
       "<div>\n",
       "<table border=\"1\" class=\"dataframe\">\n",
       "  <thead>\n",
       "    <tr style=\"text-align: right;\">\n",
       "      <th></th>\n",
       "      <th></th>\n",
       "      <th>id</th>\n",
       "      <th>score</th>\n",
       "    </tr>\n",
       "    <tr>\n",
       "      <th>grade</th>\n",
       "      <th></th>\n",
       "      <th></th>\n",
       "      <th></th>\n",
       "    </tr>\n",
       "  </thead>\n",
       "  <tbody>\n",
       "    <tr>\n",
       "      <th rowspan=\"8\" valign=\"top\"></th>\n",
       "      <th>count</th>\n",
       "      <td>12.000000</td>\n",
       "      <td>3.000000</td>\n",
       "    </tr>\n",
       "    <tr>\n",
       "      <th>mean</th>\n",
       "      <td>127689.750000</td>\n",
       "      <td>66.000000</td>\n",
       "    </tr>\n",
       "    <tr>\n",
       "      <th>std</th>\n",
       "      <td>2700.499992</td>\n",
       "      <td>3.041381</td>\n",
       "    </tr>\n",
       "    <tr>\n",
       "      <th>min</th>\n",
       "      <td>122223.000000</td>\n",
       "      <td>64.000000</td>\n",
       "    </tr>\n",
       "    <tr>\n",
       "      <th>25%</th>\n",
       "      <td>126992.000000</td>\n",
       "      <td>64.250000</td>\n",
       "    </tr>\n",
       "    <tr>\n",
       "      <th>50%</th>\n",
       "      <td>128844.000000</td>\n",
       "      <td>64.500000</td>\n",
       "    </tr>\n",
       "    <tr>\n",
       "      <th>75%</th>\n",
       "      <td>129588.500000</td>\n",
       "      <td>67.000000</td>\n",
       "    </tr>\n",
       "    <tr>\n",
       "      <th>max</th>\n",
       "      <td>129773.000000</td>\n",
       "      <td>69.500000</td>\n",
       "    </tr>\n",
       "    <tr>\n",
       "      <th rowspan=\"8\" valign=\"top\">A</th>\n",
       "      <th>count</th>\n",
       "      <td>12162.000000</td>\n",
       "      <td>12162.000000</td>\n",
       "    </tr>\n",
       "    <tr>\n",
       "      <th>mean</th>\n",
       "      <td>131422.861043</td>\n",
       "      <td>96.011799</td>\n",
       "    </tr>\n",
       "    <tr>\n",
       "      <th>std</th>\n",
       "      <td>10138.546104</td>\n",
       "      <td>2.221394</td>\n",
       "    </tr>\n",
       "    <tr>\n",
       "      <th>min</th>\n",
       "      <td>122131.000000</td>\n",
       "      <td>90.000000</td>\n",
       "    </tr>\n",
       "    <tr>\n",
       "      <th>25%</th>\n",
       "      <td>126557.000000</td>\n",
       "      <td>95.000000</td>\n",
       "    </tr>\n",
       "    <tr>\n",
       "      <th>50%</th>\n",
       "      <td>128348.000000</td>\n",
       "      <td>96.500000</td>\n",
       "    </tr>\n",
       "    <tr>\n",
       "      <th>75%</th>\n",
       "      <td>129480.000000</td>\n",
       "      <td>97.500000</td>\n",
       "    </tr>\n",
       "    <tr>\n",
       "      <th>max</th>\n",
       "      <td>168849.000000</td>\n",
       "      <td>100.000000</td>\n",
       "    </tr>\n",
       "    <tr>\n",
       "      <th rowspan=\"8\" valign=\"top\">B</th>\n",
       "      <th>count</th>\n",
       "      <td>300.000000</td>\n",
       "      <td>300.000000</td>\n",
       "    </tr>\n",
       "    <tr>\n",
       "      <th>mean</th>\n",
       "      <td>132373.400000</td>\n",
       "      <td>85.750000</td>\n",
       "    </tr>\n",
       "    <tr>\n",
       "      <th>std</th>\n",
       "      <td>10599.281969</td>\n",
       "      <td>2.231014</td>\n",
       "    </tr>\n",
       "    <tr>\n",
       "      <th>min</th>\n",
       "      <td>122256.000000</td>\n",
       "      <td>80.000000</td>\n",
       "    </tr>\n",
       "    <tr>\n",
       "      <th>25%</th>\n",
       "      <td>127175.500000</td>\n",
       "      <td>84.375000</td>\n",
       "    </tr>\n",
       "    <tr>\n",
       "      <th>50%</th>\n",
       "      <td>128845.500000</td>\n",
       "      <td>86.000000</td>\n",
       "    </tr>\n",
       "    <tr>\n",
       "      <th>75%</th>\n",
       "      <td>129627.500000</td>\n",
       "      <td>87.500000</td>\n",
       "    </tr>\n",
       "    <tr>\n",
       "      <th>max</th>\n",
       "      <td>168863.000000</td>\n",
       "      <td>89.500000</td>\n",
       "    </tr>\n",
       "    <tr>\n",
       "      <th rowspan=\"8\" valign=\"top\">C</th>\n",
       "      <th>count</th>\n",
       "      <td>17.000000</td>\n",
       "      <td>17.000000</td>\n",
       "    </tr>\n",
       "    <tr>\n",
       "      <th>mean</th>\n",
       "      <td>140179.235294</td>\n",
       "      <td>75.117647</td>\n",
       "    </tr>\n",
       "    <tr>\n",
       "      <th>std</th>\n",
       "      <td>14552.207339</td>\n",
       "      <td>3.038963</td>\n",
       "    </tr>\n",
       "    <tr>\n",
       "      <th>min</th>\n",
       "      <td>125535.000000</td>\n",
       "      <td>70.000000</td>\n",
       "    </tr>\n",
       "    <tr>\n",
       "      <th>25%</th>\n",
       "      <td>129246.000000</td>\n",
       "      <td>72.000000</td>\n",
       "    </tr>\n",
       "    <tr>\n",
       "      <th>50%</th>\n",
       "      <td>129524.000000</td>\n",
       "      <td>76.000000</td>\n",
       "    </tr>\n",
       "    <tr>\n",
       "      <th>75%</th>\n",
       "      <td>155197.000000</td>\n",
       "      <td>77.500000</td>\n",
       "    </tr>\n",
       "    <tr>\n",
       "      <th>max</th>\n",
       "      <td>161572.000000</td>\n",
       "      <td>79.000000</td>\n",
       "    </tr>\n",
       "  </tbody>\n",
       "</table>\n",
       "</div>"
      ],
      "text/plain": [
       "                        id         score\n",
       "grade                                   \n",
       "      count      12.000000      3.000000\n",
       "      mean   127689.750000     66.000000\n",
       "      std      2700.499992      3.041381\n",
       "      min    122223.000000     64.000000\n",
       "      25%    126992.000000     64.250000\n",
       "      50%    128844.000000     64.500000\n",
       "      75%    129588.500000     67.000000\n",
       "      max    129773.000000     69.500000\n",
       "A     count   12162.000000  12162.000000\n",
       "      mean   131422.861043     96.011799\n",
       "      std     10138.546104      2.221394\n",
       "      min    122131.000000     90.000000\n",
       "      25%    126557.000000     95.000000\n",
       "      50%    128348.000000     96.500000\n",
       "      75%    129480.000000     97.500000\n",
       "      max    168849.000000    100.000000\n",
       "B     count     300.000000    300.000000\n",
       "      mean   132373.400000     85.750000\n",
       "      std     10599.281969      2.231014\n",
       "      min    122256.000000     80.000000\n",
       "      25%    127175.500000     84.375000\n",
       "      50%    128845.500000     86.000000\n",
       "      75%    129627.500000     87.500000\n",
       "      max    168863.000000     89.500000\n",
       "C     count      17.000000     17.000000\n",
       "      mean   140179.235294     75.117647\n",
       "      std     14552.207339      3.038963\n",
       "      min    125535.000000     70.000000\n",
       "      25%    129246.000000     72.000000\n",
       "      50%    129524.000000     76.000000\n",
       "      75%    155197.000000     77.500000\n",
       "      max    161572.000000     79.000000"
      ]
     },
     "execution_count": 42,
     "metadata": {},
     "output_type": "execute_result"
    }
   ],
   "source": [
    "I.groupby('grade').describe()"
   ]
  },
  {
   "cell_type": "code",
   "execution_count": 38,
   "metadata": {
    "collapsed": false
   },
   "outputs": [
    {
     "data": {
      "text/plain": [
       "0        90.0\n",
       "1        93.0\n",
       "2        96.0\n",
       "3        91.0\n",
       "4        91.0\n",
       "5        90.0\n",
       "6        93.5\n",
       "7        95.0\n",
       "8        97.0\n",
       "9        94.5\n",
       "10       97.0\n",
       "11       98.5\n",
       "12       97.5\n",
       "13       96.0\n",
       "14       96.0\n",
       "15       93.0\n",
       "16       96.5\n",
       "17       95.5\n",
       "18       96.0\n",
       "19       98.5\n",
       "20       95.5\n",
       "21       95.5\n",
       "22       96.5\n",
       "23       94.0\n",
       "24       96.0\n",
       "25       98.0\n",
       "26       98.0\n",
       "27       98.5\n",
       "28       97.0\n",
       "29       97.0\n",
       "         ... \n",
       "12461    97.0\n",
       "12462    93.0\n",
       "12463    96.0\n",
       "12464    97.5\n",
       "12465    96.5\n",
       "12466    95.5\n",
       "12467    99.0\n",
       "12468    95.5\n",
       "12469    94.5\n",
       "12470    99.0\n",
       "12471    99.5\n",
       "12472    98.0\n",
       "12473    94.0\n",
       "12474    95.0\n",
       "12475    98.0\n",
       "12476    99.0\n",
       "12477    94.0\n",
       "12478    97.0\n",
       "12479    95.5\n",
       "12480    91.5\n",
       "12481    94.0\n",
       "12482    97.5\n",
       "12483    97.5\n",
       "12484    97.0\n",
       "12485    91.5\n",
       "12486    98.5\n",
       "12487    98.5\n",
       "12488    95.5\n",
       "12489    96.0\n",
       "12490    84.0\n",
       "Name: score, dtype: float64"
      ]
     },
     "execution_count": 38,
     "metadata": {},
     "output_type": "execute_result"
    }
   ],
   "source": [
    "I.score.astype(float)"
   ]
  },
  {
   "cell_type": "code",
   "execution_count": null,
   "metadata": {
    "collapsed": true
   },
   "outputs": [],
   "source": []
  },
  {
   "cell_type": "markdown",
   "metadata": {},
   "source": [
    "for row in x['inspections']:\n",
    "    print tuple(row)"
   ]
  },
  {
   "cell_type": "code",
   "execution_count": 197,
   "metadata": {
    "collapsed": false
   },
   "outputs": [
    {
     "data": {
      "text/plain": [
       "(1, u'10/2/2013', u'96', u'A', u'2174')"
      ]
     },
     "execution_count": 197,
     "metadata": {},
     "output_type": "execute_result"
    }
   ],
   "source": [
    "(1,) + tuple(row)"
   ]
  },
  {
   "cell_type": "code",
   "execution_count": 188,
   "metadata": {
    "collapsed": false
   },
   "outputs": [
    {
     "data": {
      "text/plain": [
       "u'231 E WOODLAWN RD '"
      ]
     },
     "execution_count": 188,
     "metadata": {},
     "output_type": "execute_result"
    }
   ],
   "source": [
    "x['address']"
   ]
  },
  {
   "cell_type": "code",
   "execution_count": 47,
   "metadata": {
    "collapsed": false
   },
   "outputs": [
    {
     "data": {
      "text/plain": [
       "326.0869565217391"
      ]
     },
     "execution_count": 47,
     "metadata": {},
     "output_type": "execute_result"
    }
   ],
   "source": [
    "15/23.*500."
   ]
  },
  {
   "cell_type": "code",
   "execution_count": 48,
   "metadata": {
    "collapsed": false
   },
   "outputs": [
    {
     "data": {
      "text/plain": [
       "5.433333333333334"
      ]
     },
     "execution_count": 48,
     "metadata": {},
     "output_type": "execute_result"
    }
   ],
   "source": [
    "326./60."
   ]
  },
  {
   "cell_type": "code",
   "execution_count": 50,
   "metadata": {
    "collapsed": false
   },
   "outputs": [],
   "source": [
    "R1 = pickle.load(open('data/phx/phoenix_R_0199.pkl'))\n",
    "R2 = pickle.load(open('data/phx/phoenix_R_0200.pkl'))"
   ]
  },
  {
   "cell_type": "code",
   "execution_count": 51,
   "metadata": {
    "collapsed": false
   },
   "outputs": [
    {
     "data": {
      "text/html": [
       "<div>\n",
       "<table border=\"1\" class=\"dataframe\">\n",
       "  <thead>\n",
       "    <tr style=\"text-align: right;\">\n",
       "      <th></th>\n",
       "      <th>address</th>\n",
       "      <th>cutting_edge</th>\n",
       "      <th>link</th>\n",
       "      <th>name</th>\n",
       "      <th>permit_id</th>\n",
       "    </tr>\n",
       "  </thead>\n",
       "  <tbody>\n",
       "    <tr>\n",
       "      <th>490</th>\n",
       "      <td>1542 W University Dr   Mesa 85201</td>\n",
       "      <td></td>\n",
       "      <td>/EnvSvc/OnlineApplication/EnvironmentalHealth/...</td>\n",
       "      <td>Parilla Los Picos</td>\n",
       "      <td>FD-02563</td>\n",
       "    </tr>\n",
       "    <tr>\n",
       "      <th>491</th>\n",
       "      <td>1159 E Southern Ave   Mesa 85204</td>\n",
       "      <td></td>\n",
       "      <td>/EnvSvc/OnlineApplication/EnvironmentalHealth/...</td>\n",
       "      <td>Walgreens  No 3670</td>\n",
       "      <td>FD-02564</td>\n",
       "    </tr>\n",
       "    <tr>\n",
       "      <th>492</th>\n",
       "      <td>3201 N Hayden Rd   Scottsdale 85251</td>\n",
       "      <td></td>\n",
       "      <td>/EnvSvc/OnlineApplication/EnvironmentalHealth/...</td>\n",
       "      <td>Kiddie Kampus</td>\n",
       "      <td>FD-02565</td>\n",
       "    </tr>\n",
       "    <tr>\n",
       "      <th>493</th>\n",
       "      <td>15585 N 91st Ave   Peoria 85382</td>\n",
       "      <td></td>\n",
       "      <td>/EnvSvc/OnlineApplication/EnvironmentalHealth/...</td>\n",
       "      <td>Desert Harbor Elementary School</td>\n",
       "      <td>FD-02566</td>\n",
       "    </tr>\n",
       "    <tr>\n",
       "      <th>494</th>\n",
       "      <td>7059 E Baseline Rd   Mesa 85208</td>\n",
       "      <td></td>\n",
       "      <td>/EnvSvc/OnlineApplication/EnvironmentalHealth/...</td>\n",
       "      <td>Walgreens  No 3728</td>\n",
       "      <td>FD-02567</td>\n",
       "    </tr>\n",
       "    <tr>\n",
       "      <th>495</th>\n",
       "      <td>744 E Broadway Rd   Mesa 85204</td>\n",
       "      <td></td>\n",
       "      <td>/EnvSvc/OnlineApplication/EnvironmentalHealth/...</td>\n",
       "      <td>Mesa Food &amp; Deli</td>\n",
       "      <td>FD-02569</td>\n",
       "    </tr>\n",
       "    <tr>\n",
       "      <th>496</th>\n",
       "      <td>24218 S Oakwood Blvd   Sun Lakes 85248</td>\n",
       "      <td></td>\n",
       "      <td>/EnvSvc/OnlineApplication/EnvironmentalHealth/...</td>\n",
       "      <td>Oakwood Country Club</td>\n",
       "      <td>FD-02570</td>\n",
       "    </tr>\n",
       "    <tr>\n",
       "      <th>497</th>\n",
       "      <td>4259 W Mcdowell Rd   Phoenix 85009</td>\n",
       "      <td></td>\n",
       "      <td>/EnvSvc/OnlineApplication/EnvironmentalHealth/...</td>\n",
       "      <td>Circle K Store  No 2705407</td>\n",
       "      <td>FD-02572</td>\n",
       "    </tr>\n",
       "    <tr>\n",
       "      <th>498</th>\n",
       "      <td>4259 W Mcdowell Rd   Phoenix 85009</td>\n",
       "      <td></td>\n",
       "      <td>/EnvSvc/OnlineApplication/EnvironmentalHealth/...</td>\n",
       "      <td>Circle K Store  No 2705407</td>\n",
       "      <td>FD-02573</td>\n",
       "    </tr>\n",
       "    <tr>\n",
       "      <th>499</th>\n",
       "      <td>7851 E Mcdowell Rd   Scottsdale 85257</td>\n",
       "      <td></td>\n",
       "      <td>/EnvSvc/OnlineApplication/EnvironmentalHealth/...</td>\n",
       "      <td>French's Meat Shoppe Inc</td>\n",
       "      <td>FD-02574</td>\n",
       "    </tr>\n",
       "  </tbody>\n",
       "</table>\n",
       "</div>"
      ],
      "text/plain": [
       "                                    address cutting_edge  \\\n",
       "490       1542 W University Dr   Mesa 85201                \n",
       "491        1159 E Southern Ave   Mesa 85204                \n",
       "492     3201 N Hayden Rd   Scottsdale 85251                \n",
       "493         15585 N 91st Ave   Peoria 85382                \n",
       "494         7059 E Baseline Rd   Mesa 85208                \n",
       "495          744 E Broadway Rd   Mesa 85204                \n",
       "496  24218 S Oakwood Blvd   Sun Lakes 85248                \n",
       "497      4259 W Mcdowell Rd   Phoenix 85009                \n",
       "498      4259 W Mcdowell Rd   Phoenix 85009                \n",
       "499   7851 E Mcdowell Rd   Scottsdale 85257                \n",
       "\n",
       "                                                  link  \\\n",
       "490  /EnvSvc/OnlineApplication/EnvironmentalHealth/...   \n",
       "491  /EnvSvc/OnlineApplication/EnvironmentalHealth/...   \n",
       "492  /EnvSvc/OnlineApplication/EnvironmentalHealth/...   \n",
       "493  /EnvSvc/OnlineApplication/EnvironmentalHealth/...   \n",
       "494  /EnvSvc/OnlineApplication/EnvironmentalHealth/...   \n",
       "495  /EnvSvc/OnlineApplication/EnvironmentalHealth/...   \n",
       "496  /EnvSvc/OnlineApplication/EnvironmentalHealth/...   \n",
       "497  /EnvSvc/OnlineApplication/EnvironmentalHealth/...   \n",
       "498  /EnvSvc/OnlineApplication/EnvironmentalHealth/...   \n",
       "499  /EnvSvc/OnlineApplication/EnvironmentalHealth/...   \n",
       "\n",
       "                                name permit_id  \n",
       "490                Parilla Los Picos  FD-02563  \n",
       "491               Walgreens  No 3670  FD-02564  \n",
       "492                    Kiddie Kampus  FD-02565  \n",
       "493  Desert Harbor Elementary School  FD-02566  \n",
       "494               Walgreens  No 3728  FD-02567  \n",
       "495                 Mesa Food & Deli  FD-02569  \n",
       "496             Oakwood Country Club  FD-02570  \n",
       "497       Circle K Store  No 2705407  FD-02572  \n",
       "498       Circle K Store  No 2705407  FD-02573  \n",
       "499         French's Meat Shoppe Inc  FD-02574  "
      ]
     },
     "execution_count": 51,
     "metadata": {},
     "output_type": "execute_result"
    }
   ],
   "source": [
    "R1.tail(10)"
   ]
  },
  {
   "cell_type": "code",
   "execution_count": 52,
   "metadata": {
    "collapsed": false
   },
   "outputs": [
    {
     "data": {
      "text/html": [
       "<div>\n",
       "<table border=\"1\" class=\"dataframe\">\n",
       "  <thead>\n",
       "    <tr style=\"text-align: right;\">\n",
       "      <th></th>\n",
       "      <th>address</th>\n",
       "      <th>cutting_edge</th>\n",
       "      <th>link</th>\n",
       "      <th>name</th>\n",
       "      <th>permit_id</th>\n",
       "    </tr>\n",
       "  </thead>\n",
       "  <tbody>\n",
       "    <tr>\n",
       "      <th>0</th>\n",
       "      <td>75 W Baseline Rd Suite 12 Gilbert 85234</td>\n",
       "      <td></td>\n",
       "      <td>/EnvSvc/OnlineApplication/EnvironmentalHealth/...</td>\n",
       "      <td>Mesquite Grill</td>\n",
       "      <td>FD-02576</td>\n",
       "    </tr>\n",
       "    <tr>\n",
       "      <th>1</th>\n",
       "      <td>3401 S 43rd Ave   Phoenix 85009</td>\n",
       "      <td></td>\n",
       "      <td>/EnvSvc/OnlineApplication/EnvironmentalHealth/...</td>\n",
       "      <td>Kay's Kafe</td>\n",
       "      <td>FD-02577</td>\n",
       "    </tr>\n",
       "    <tr>\n",
       "      <th>2</th>\n",
       "      <td>4934 E Shea Blvd   Scottsdale 85254</td>\n",
       "      <td></td>\n",
       "      <td>/EnvSvc/OnlineApplication/EnvironmentalHealth/...</td>\n",
       "      <td>Superpumper  No 1</td>\n",
       "      <td>FD-02578</td>\n",
       "    </tr>\n",
       "    <tr>\n",
       "      <th>3</th>\n",
       "      <td>4201 N Scottsdale Rd   Scottsdale 85251</td>\n",
       "      <td></td>\n",
       "      <td>/EnvSvc/OnlineApplication/EnvironmentalHealth/...</td>\n",
       "      <td>Sees Candy Shop AZ 6</td>\n",
       "      <td>FD-02579</td>\n",
       "    </tr>\n",
       "    <tr>\n",
       "      <th>4</th>\n",
       "      <td>1221 S Westwood    Mesa 85210</td>\n",
       "      <td></td>\n",
       "      <td>/EnvSvc/OnlineApplication/EnvironmentalHealth/...</td>\n",
       "      <td>Marriott Courtyard</td>\n",
       "      <td>FD-02581</td>\n",
       "    </tr>\n",
       "    <tr>\n",
       "      <th>5</th>\n",
       "      <td>12601 W Bell Rd   Surprise 85374</td>\n",
       "      <td></td>\n",
       "      <td>/EnvSvc/OnlineApplication/EnvironmentalHealth/...</td>\n",
       "      <td>Burger King  No 5915</td>\n",
       "      <td>FD-02582</td>\n",
       "    </tr>\n",
       "    <tr>\n",
       "      <th>6</th>\n",
       "      <td>1445 S Power Rd   Mesa 85208</td>\n",
       "      <td></td>\n",
       "      <td>/EnvSvc/OnlineApplication/EnvironmentalHealth/...</td>\n",
       "      <td>K Mart  No 7655</td>\n",
       "      <td>FD-02584</td>\n",
       "    </tr>\n",
       "    <tr>\n",
       "      <th>7</th>\n",
       "      <td>1445 S Power Rd   Mesa 85208</td>\n",
       "      <td></td>\n",
       "      <td>/EnvSvc/OnlineApplication/EnvironmentalHealth/...</td>\n",
       "      <td>K Mart  No 7655</td>\n",
       "      <td>FD-02585</td>\n",
       "    </tr>\n",
       "    <tr>\n",
       "      <th>8</th>\n",
       "      <td>8515 N 51st Ave   Glendale 85302</td>\n",
       "      <td></td>\n",
       "      <td>/EnvSvc/OnlineApplication/EnvironmentalHealth/...</td>\n",
       "      <td>American Child Care Center</td>\n",
       "      <td>FD-02586</td>\n",
       "    </tr>\n",
       "    <tr>\n",
       "      <th>9</th>\n",
       "      <td>6661 W Bell Rd Suite 104 Glendale 85308</td>\n",
       "      <td></td>\n",
       "      <td>/EnvSvc/OnlineApplication/EnvironmentalHealth/...</td>\n",
       "      <td>Caramba Mexican Food</td>\n",
       "      <td>FD-02588</td>\n",
       "    </tr>\n",
       "  </tbody>\n",
       "</table>\n",
       "</div>"
      ],
      "text/plain": [
       "                                   address cutting_edge  \\\n",
       "0  75 W Baseline Rd Suite 12 Gilbert 85234                \n",
       "1          3401 S 43rd Ave   Phoenix 85009                \n",
       "2      4934 E Shea Blvd   Scottsdale 85254                \n",
       "3  4201 N Scottsdale Rd   Scottsdale 85251                \n",
       "4            1221 S Westwood    Mesa 85210                \n",
       "5         12601 W Bell Rd   Surprise 85374                \n",
       "6             1445 S Power Rd   Mesa 85208                \n",
       "7             1445 S Power Rd   Mesa 85208                \n",
       "8         8515 N 51st Ave   Glendale 85302                \n",
       "9  6661 W Bell Rd Suite 104 Glendale 85308                \n",
       "\n",
       "                                                link  \\\n",
       "0  /EnvSvc/OnlineApplication/EnvironmentalHealth/...   \n",
       "1  /EnvSvc/OnlineApplication/EnvironmentalHealth/...   \n",
       "2  /EnvSvc/OnlineApplication/EnvironmentalHealth/...   \n",
       "3  /EnvSvc/OnlineApplication/EnvironmentalHealth/...   \n",
       "4  /EnvSvc/OnlineApplication/EnvironmentalHealth/...   \n",
       "5  /EnvSvc/OnlineApplication/EnvironmentalHealth/...   \n",
       "6  /EnvSvc/OnlineApplication/EnvironmentalHealth/...   \n",
       "7  /EnvSvc/OnlineApplication/EnvironmentalHealth/...   \n",
       "8  /EnvSvc/OnlineApplication/EnvironmentalHealth/...   \n",
       "9  /EnvSvc/OnlineApplication/EnvironmentalHealth/...   \n",
       "\n",
       "                         name permit_id  \n",
       "0              Mesquite Grill  FD-02576  \n",
       "1                  Kay's Kafe  FD-02577  \n",
       "2           Superpumper  No 1  FD-02578  \n",
       "3        Sees Candy Shop AZ 6  FD-02579  \n",
       "4          Marriott Courtyard  FD-02581  \n",
       "5        Burger King  No 5915  FD-02582  \n",
       "6             K Mart  No 7655  FD-02584  \n",
       "7             K Mart  No 7655  FD-02585  \n",
       "8  American Child Care Center  FD-02586  \n",
       "9        Caramba Mexican Food  FD-02588  "
      ]
     },
     "execution_count": 52,
     "metadata": {},
     "output_type": "execute_result"
    }
   ],
   "source": [
    "R2.tail(10)"
   ]
  },
  {
   "cell_type": "code",
   "execution_count": 54,
   "metadata": {
    "collapsed": false
   },
   "outputs": [
    {
     "name": "stdout",
     "output_type": "stream",
     "text": [
      "<class 'pandas.core.frame.DataFrame'>\n",
      "Int64Index: 10 entries, 0 to 9\n",
      "Data columns (total 5 columns):\n",
      "address         10 non-null object\n",
      "cutting_edge    10 non-null object\n",
      "link            10 non-null object\n",
      "name            10 non-null object\n",
      "permit_id       10 non-null object\n",
      "dtypes: object(5)\n",
      "memory usage: 480.0+ bytes\n"
     ]
    }
   ],
   "source": [
    "R2.info()"
   ]
  },
  {
   "cell_type": "code",
   "execution_count": 56,
   "metadata": {
    "collapsed": false
   },
   "outputs": [
    {
     "data": {
      "image/png": "[encoded data removed]",
      "text/plain": [
       "<matplotlib.figure.Figure at 0x2008b7110>"
      ]
     },
     "metadata": {},
     "output_type": "display_data"
    }
   ],
   "source": [
    "t = np.array([38, 37, 60, 59, 56, 43, 30, 38, 40, 53, 34, 64, 41, 51, 43, 47, 48, 62, 42, 46, 57, 32, 39, 45, 34, 59, 42, 54, 22, 24, 21, 55, 47, 43, 47, 45, 83, 105, 44, 39, 23, 33, 43, 36, 61, 45, 29, 48, 56, 39, 40, 45, 50, 43, 28, 44, 38, 32, 36, 54, 46, 48, 56, 48, 56, 57, 55, 51, 38, 38, 45, 50, 60, 50, 51, 44, 36, 58, 46, 52, 49, 66, 51, 46, 69, 65, 52])\n",
    "plt.hist(t, bins=20);"
   ]
  },
  {
   "cell_type": "markdown",
   "metadata": {},
   "source": [
    "https://elam.cityofmadison.com/HealthInspections/Estab.aspx\n",
    "click New Search\n"
   ]
  }
 ],
 "metadata": {
  "kernelspec": {
   "display_name": "Python 2",
   "language": "python",
   "name": "python2"
  },
  "language_info": {
   "codemirror_mode": {
    "name": "ipython",
    "version": 2
   },
   "file_extension": ".py",
   "mimetype": "text/x-python",
   "name": "python",
   "nbconvert_exporter": "python",
   "pygments_lexer": "ipython2",
   "version": "2.7.10"
  }
 },
 "nbformat": 4,
 "nbformat_minor": 0
}
