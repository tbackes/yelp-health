{
 "cells": [
  {
   "cell_type": "code",
   "execution_count": 1,
   "metadata": {
    "collapsed": false
   },
   "outputs": [
    {
     "name": "stderr",
     "output_type": "stream",
     "text": [
      "/Users/tracy/anaconda/lib/python2.7/site-packages/fuzzywuzzy/fuzz.py:33: UserWarning: Using slow pure-python SequenceMatcher. Install python-Levenshtein to remove this warning\n",
      "  warnings.warn('Using slow pure-python SequenceMatcher. Install python-Levenshtein to remove this warning')\n"
     ]
    }
   ],
   "source": [
    "import pandas as pd\n",
    "import numpy as np\n",
    "import matplotlib.pyplot as plt\n",
    "import pickle\n",
    "import re\n",
    "import string\n",
    "import json\n",
    "pd.options.mode.chained_assignment = None  # default='warn'\n",
    "from merge_vegas import open_pickle, save_to_pickle\n",
    "from import_yelp_mongo import get_yelp_reviews, get_yelp_reviews_afterdate\n",
    "\n",
    "%matplotlib inline"
   ]
  },
  {
   "cell_type": "code",
   "execution_count": 2,
   "metadata": {
    "collapsed": true
   },
   "outputs": [],
   "source": [
    "from IPython.display import display"
   ]
  },
  {
   "cell_type": "markdown",
   "metadata": {},
   "source": [
    "# Read in datasets"
   ]
  },
  {
   "cell_type": "code",
   "execution_count": 323,
   "metadata": {
    "collapsed": true
   },
   "outputs": [],
   "source": [
    "WI = open_pickle('../data/mad/madison_yelp_merge.pkl')\n",
    "NV = open_pickle('../data/vegas/vegas_yelp_merge.pkl')\n",
    "AZ = open_pickle('../data/phx/phoenix_yelp_merge.pkl')\n",
    "NC = open_pickle('../data/char/charlotte_yelp_merge.pkl')"
   ]
  },
  {
   "cell_type": "code",
   "execution_count": 324,
   "metadata": {
    "collapsed": false
   },
   "outputs": [
    {
     "name": "stdout",
     "output_type": "stream",
     "text": [
      "(654, 54)\n",
      "(952, 40)\n",
      "(3984, 43)\n",
      "(1332, 56)\n"
     ]
    }
   ],
   "source": [
    "print WI.shape\n",
    "print NV.shape\n",
    "print AZ.shape\n",
    "print NC.shape"
   ]
  },
  {
   "cell_type": "markdown",
   "metadata": {},
   "source": [
    "# Subset Review database"
   ]
  },
  {
   "cell_type": "code",
   "execution_count": 14,
   "metadata": {
    "collapsed": false
   },
   "outputs": [],
   "source": [
    "def state_yelp_reviews(df, d, tag):\n",
    "    ids_ = df.business_id.values.tolist()\n",
    "    R = get_yelp_reviews_afterdate(ids_, d)\n",
    "    print R.info()\n",
    "    \n",
    "    save_to_pickle(R, '../data/yelp/yelp_reviews_%s.pkl' % tag)\n",
    "    \n",
    "    return R"
   ]
  },
  {
   "cell_type": "code",
   "execution_count": 15,
   "metadata": {
    "collapsed": false
   },
   "outputs": [
    {
     "name": "stdout",
     "output_type": "stream",
     "text": [
      "<class 'pandas.core.frame.DataFrame'>\n",
      "Int64Index: 18984 entries, 0 to 18983\n",
      "Data columns (total 9 columns):\n",
      "_id            18984 non-null object\n",
      "business_id    18984 non-null object\n",
      "date           18984 non-null object\n",
      "review_id      18984 non-null object\n",
      "stars          18984 non-null int64\n",
      "text           18984 non-null object\n",
      "type           18984 non-null object\n",
      "user_id        18984 non-null object\n",
      "votes          18984 non-null object\n",
      "dtypes: int64(1), object(8)\n",
      "memory usage: 1.4+ MB\n",
      "None\n"
     ]
    }
   ],
   "source": [
    "R_WI = state_yelp_reviews(WI, '2011-06-30', 'madison')"
   ]
  },
  {
   "cell_type": "markdown",
   "metadata": {},
   "source": [
    "## Madison, WI"
   ]
  },
  {
   "cell_type": "code",
   "execution_count": 335,
   "metadata": {
    "collapsed": false
   },
   "outputs": [],
   "source": [
    "import features_madison as lib"
   ]
  },
  {
   "cell_type": "code",
   "execution_count": 342,
   "metadata": {
    "collapsed": false
   },
   "outputs": [
    {
     "data": {
      "text/plain": [
       "<module 'features_madison' from 'features_madison.pyc'>"
      ]
     },
     "execution_count": 342,
     "metadata": {},
     "output_type": "execute_result"
    }
   ],
   "source": [
    "reload(lib)"
   ]
  },
  {
   "cell_type": "code",
   "execution_count": 6,
   "metadata": {
    "collapsed": true
   },
   "outputs": [
    {
     "name": "stdout",
     "output_type": "stream",
     "text": [
      "<class 'pandas.core.frame.DataFrame'>\n",
      "Index: 654 entries, (43 north, 108, king st, madison, 53703) to (windsor, 53598)\n",
      "Data columns (total 54 columns):\n",
      "address                    654 non-null object\n",
      "addressy_                  654 non-null object\n",
      "attributes                 654 non-null object\n",
      "avg                        356 non-null float64\n",
      "avg_2                      356 non-null float64\n",
      "avg_3                      356 non-null float64\n",
      "avg_w                      356 non-null float64\n",
      "avg_w_2                    356 non-null float64\n",
      "avg_w_3                    356 non-null float64\n",
      "business_id                654 non-null object\n",
      "categories                 654 non-null object\n",
      "city                       654 non-null object\n",
      "complex                    654 non-null object\n",
      "complexy_                  654 non-null object\n",
      "full_address               654 non-null object\n",
      "fuzz_partial_ratio         356 non-null float64\n",
      "fuzz_partial_ratio_2       356 non-null float64\n",
      "fuzz_partial_ratio_3       356 non-null float64\n",
      "fuzz_ratio                 356 non-null float64\n",
      "fuzz_ratio_2               356 non-null float64\n",
      "fuzz_ratio_3               356 non-null float64\n",
      "fuzz_token_set_ratio       356 non-null float64\n",
      "fuzz_token_set_ratio_2     356 non-null float64\n",
      "fuzz_token_set_ratio_3     356 non-null float64\n",
      "fuzz_token_sort_ratio      356 non-null float64\n",
      "fuzz_token_sort_ratio_2    356 non-null float64\n",
      "fuzz_token_sort_ratio_3    356 non-null float64\n",
      "hours                      654 non-null object\n",
      "id_                        654 non-null object\n",
      "inspections                654 non-null object\n",
      "latitude                   654 non-null float64\n",
      "longitude                  654 non-null float64\n",
      "max                        356 non-null float64\n",
      "max_2                      356 non-null float64\n",
      "max_3                      356 non-null float64\n",
      "name                       654 non-null object\n",
      "name2_h                    356 non-null object\n",
      "name2_y                    356 non-null object\n",
      "name_                      356 non-null object\n",
      "name_y_                    356 non-null object\n",
      "namey_                     654 non-null object\n",
      "neighborhoods              654 non-null object\n",
      "num                        86 non-null object\n",
      "numy_                      86 non-null object\n",
      "open                       654 non-null bool\n",
      "review_count               654 non-null int64\n",
      "stars                      654 non-null float64\n",
      "state                      654 non-null object\n",
      "street                     86 non-null object\n",
      "streety_                   86 non-null object\n",
      "suite                      654 non-null object\n",
      "suitey_                    654 non-null object\n",
      "type                       654 non-null object\n",
      "typey_                     654 non-null object\n",
      "dtypes: bool(1), float64(24), int64(1), object(28)\n",
      "memory usage: 276.5+ KB\n"
     ]
    }
   ],
   "source": [
    "WI.info()"
   ]
  },
  {
   "cell_type": "code",
   "execution_count": 17,
   "metadata": {
    "collapsed": false
   },
   "outputs": [
    {
     "name": "stdout",
     "output_type": "stream",
     "text": [
      "2011-07-01\n",
      "2015-01-08\n"
     ]
    }
   ],
   "source": [
    "print R_WI.date.min()\n",
    "print R_WI.date.max()"
   ]
  },
  {
   "cell_type": "code",
   "execution_count": 385,
   "metadata": {
    "collapsed": false
   },
   "outputs": [
    {
     "name": "stdout",
     "output_type": "stream",
     "text": [
      "2012-01-04 00:00:00\n",
      "2015-10-30 00:00:00\n"
     ]
    }
   ],
   "source": [
    "print pd.to_datetime(I_WI.date).min()\n",
    "print pd.to_datetime(I_WI.date).max()"
   ]
  },
  {
   "cell_type": "code",
   "execution_count": 343,
   "metadata": {
    "collapsed": false
   },
   "outputs": [
    {
     "name": "stdout",
     "output_type": "stream",
     "text": [
      "<class 'pandas.core.frame.DataFrame'>\n",
      "Int64Index: 18984 entries, 0 to 18983\n",
      "Data columns (total 9 columns):\n",
      "_id            18984 non-null object\n",
      "business_id    18984 non-null object\n",
      "date           18984 non-null object\n",
      "review_id      18984 non-null object\n",
      "stars          18984 non-null int64\n",
      "text           18984 non-null object\n",
      "type           18984 non-null object\n",
      "user_id        18984 non-null object\n",
      "votes          18984 non-null object\n",
      "dtypes: int64(1), object(8)\n",
      "memory usage: 1.4+ MB\n",
      "None\n",
      "(94353, 15)\n",
      "(16775, 15)\n",
      "CPU times: user 53.8 s, sys: 7.5 s, total: 1min 1s\n",
      "Wall time: 1min 19s\n"
     ]
    }
   ],
   "source": [
    "%%time\n",
    "df_WI = lib.get_features_WI(WI)"
   ]
  },
  {
   "cell_type": "code",
   "execution_count": 269,
   "metadata": {
    "collapsed": true
   },
   "outputs": [],
   "source": [
    "save_to_pickle(df_WI, '../data/mad/madison_yelp_features.pkl')"
   ]
  },
  {
   "cell_type": "markdown",
   "metadata": {},
   "source": [
    "# Charlotte, NC"
   ]
  },
  {
   "cell_type": "code",
   "execution_count": 354,
   "metadata": {
    "collapsed": false
   },
   "outputs": [],
   "source": [
    "import features_charlotte as lib"
   ]
  },
  {
   "cell_type": "code",
   "execution_count": 398,
   "metadata": {
    "collapsed": false
   },
   "outputs": [
    {
     "data": {
      "text/plain": [
       "<module 'features_charlotte' from 'features_charlotte.py'>"
      ]
     },
     "execution_count": 398,
     "metadata": {},
     "output_type": "execute_result"
    }
   ],
   "source": [
    "reload(lib)"
   ]
  },
  {
   "cell_type": "code",
   "execution_count": 346,
   "metadata": {
    "collapsed": false
   },
   "outputs": [
    {
     "data": {
      "text/plain": [
       "array(['address', 'addressy_', u'attributes', 'avg', 'avg_2', 'avg_3',\n",
       "       'avg_w', 'avg_w_2', 'avg_w_3', u'business_id', u'categories',\n",
       "       'city', u'cityy_', 'complex', 'county', u'full_address',\n",
       "       'fuzz_partial_ratio', 'fuzz_partial_ratio_2',\n",
       "       'fuzz_partial_ratio_3', 'fuzz_ratio', 'fuzz_ratio_2',\n",
       "       'fuzz_ratio_3', 'fuzz_token_set_ratio', 'fuzz_token_set_ratio_2',\n",
       "       'fuzz_token_set_ratio_3', 'fuzz_token_sort_ratio',\n",
       "       'fuzz_token_sort_ratio_2', 'fuzz_token_sort_ratio_3', u'hours',\n",
       "       'id_', 'inspections', u'latitude', u'longitude', 'max', 'max_2',\n",
       "       'max_3', 'name', 'name2_h', 'name2_y', 'name_', 'name_y_',\n",
       "       u'namey_', u'neighborhoods', 'num', 'numy_', u'open',\n",
       "       u'review_count', u'stars', 'state', u'statey_', 'street',\n",
       "       'streety_', 'suite', 'suitey_', 'type', u'typey_'], dtype=object)"
      ]
     },
     "execution_count": 346,
     "metadata": {},
     "output_type": "execute_result"
    }
   ],
   "source": [
    "NC.columns.values"
   ]
  },
  {
   "cell_type": "code",
   "execution_count": 382,
   "metadata": {
    "collapsed": false
   },
   "outputs": [],
   "source": [
    "I_NC = lib.get_NC_inspections(NC, drop_flag=False)"
   ]
  },
  {
   "cell_type": "code",
   "execution_count": 383,
   "metadata": {
    "collapsed": false
   },
   "outputs": [
    {
     "data": {
      "text/html": [
       "<div>\n",
       "<table border=\"1\" class=\"dataframe\">\n",
       "  <thead>\n",
       "    <tr style=\"text-align: right;\">\n",
       "      <th></th>\n",
       "      <th>date</th>\n",
       "      <th>score</th>\n",
       "      <th>grade</th>\n",
       "      <th>inspector</th>\n",
       "      <th>id_</th>\n",
       "      <th>inspec_id</th>\n",
       "    </tr>\n",
       "  </thead>\n",
       "  <tbody>\n",
       "    <tr>\n",
       "      <th>0</th>\n",
       "      <td>3/3/2015</td>\n",
       "      <td>97</td>\n",
       "      <td>A</td>\n",
       "      <td>2219</td>\n",
       "      <td>161416</td>\n",
       "      <td>161416_0</td>\n",
       "    </tr>\n",
       "    <tr>\n",
       "      <th>1</th>\n",
       "      <td>12/5/2014</td>\n",
       "      <td>96</td>\n",
       "      <td>A</td>\n",
       "      <td>2219</td>\n",
       "      <td>161416</td>\n",
       "      <td>161416_1</td>\n",
       "    </tr>\n",
       "    <tr>\n",
       "      <th>2</th>\n",
       "      <td>9/24/2015</td>\n",
       "      <td>97</td>\n",
       "      <td>A</td>\n",
       "      <td>2427</td>\n",
       "      <td>127669</td>\n",
       "      <td>127669_0</td>\n",
       "    </tr>\n",
       "    <tr>\n",
       "      <th>3</th>\n",
       "      <td>5/26/2015</td>\n",
       "      <td>97.50</td>\n",
       "      <td>A</td>\n",
       "      <td>2447</td>\n",
       "      <td>127669</td>\n",
       "      <td>127669_1</td>\n",
       "    </tr>\n",
       "    <tr>\n",
       "      <th>4</th>\n",
       "      <td>1/15/2015</td>\n",
       "      <td>97</td>\n",
       "      <td>A</td>\n",
       "      <td>2447</td>\n",
       "      <td>127669</td>\n",
       "      <td>127669_2</td>\n",
       "    </tr>\n",
       "  </tbody>\n",
       "</table>\n",
       "</div>"
      ],
      "text/plain": [
       "        date  score grade inspector     id_ inspec_id\n",
       "0   3/3/2015     97     A      2219  161416  161416_0\n",
       "1  12/5/2014     96     A      2219  161416  161416_1\n",
       "2  9/24/2015     97     A      2427  127669  127669_0\n",
       "3  5/26/2015  97.50     A      2447  127669  127669_1\n",
       "4  1/15/2015     97     A      2447  127669  127669_2"
      ]
     },
     "execution_count": 383,
     "metadata": {},
     "output_type": "execute_result"
    }
   ],
   "source": [
    "I_NC.head()"
   ]
  },
  {
   "cell_type": "code",
   "execution_count": 386,
   "metadata": {
    "collapsed": false
   },
   "outputs": [
    {
     "name": "stdout",
     "output_type": "stream",
     "text": [
      "2013-06-24 00:00:00\n",
      "2015-10-21 00:00:00\n"
     ]
    }
   ],
   "source": [
    "print pd.to_datetime(I_NC.date).min()\n",
    "print pd.to_datetime(I_NC.date).max()"
   ]
  },
  {
   "cell_type": "code",
   "execution_count": 387,
   "metadata": {
    "collapsed": false
   },
   "outputs": [
    {
     "name": "stdout",
     "output_type": "stream",
     "text": [
      "<class 'pandas.core.frame.DataFrame'>\n",
      "Int64Index: 29898 entries, 0 to 29897\n",
      "Data columns (total 9 columns):\n",
      "_id            29898 non-null object\n",
      "business_id    29898 non-null object\n",
      "date           29898 non-null object\n",
      "review_id      29898 non-null object\n",
      "stars          29898 non-null int64\n",
      "text           29898 non-null object\n",
      "type           29898 non-null object\n",
      "user_id        29898 non-null object\n",
      "votes          29898 non-null object\n",
      "dtypes: int64(1), object(8)\n",
      "memory usage: 2.3+ MB\n",
      "None\n"
     ]
    }
   ],
   "source": [
    "R_NC = lib.state_yelp_reviews(NC, '2012-11-30', 'charlotte')"
   ]
  },
  {
   "cell_type": "code",
   "execution_count": 391,
   "metadata": {
    "collapsed": false
   },
   "outputs": [
    {
     "name": "stdout",
     "output_type": "stream",
     "text": [
      "(175773, 15)\n",
      "(130504, 15)\n"
     ]
    }
   ],
   "source": [
    "y, x = lib.merge_inspec_dates(I_NC, NC, R_NC, ['score','grade'])"
   ]
  },
  {
   "cell_type": "code",
   "execution_count": 399,
   "metadata": {
    "collapsed": false
   },
   "outputs": [
    {
     "name": "stdout",
     "output_type": "stream",
     "text": [
      "<class 'pandas.core.frame.DataFrame'>\n",
      "Int64Index: 41485 entries, 0 to 41484\n",
      "Data columns (total 9 columns):\n",
      "_id            41485 non-null object\n",
      "business_id    41485 non-null object\n",
      "date           41485 non-null object\n",
      "review_id      41485 non-null object\n",
      "stars          41485 non-null int64\n",
      "text           41485 non-null object\n",
      "type           41485 non-null object\n",
      "user_id        41485 non-null object\n",
      "votes          41485 non-null object\n",
      "dtypes: int64(1), object(8)\n",
      "memory usage: 3.2+ MB\n",
      "None\n",
      "(241574, 15)\n",
      "(196930, 15)\n",
      "CPU times: user 57.9 s, sys: 2.71 s, total: 1min\n",
      "Wall time: 1min 23s\n"
     ]
    }
   ],
   "source": [
    "%%time\n",
    "df_NC = lib.get_features_NC(NC, '2011-06-30', 'charlotte', ['score','grade'])"
   ]
  },
  {
   "cell_type": "markdown",
   "metadata": {},
   "source": [
    "# Model, Create X, y:"
   ]
  },
  {
   "cell_type": "code",
   "execution_count": 285,
   "metadata": {
    "collapsed": true
   },
   "outputs": [],
   "source": [
    "from sklearn.cross_validation import train_test_split\n",
    "from sklearn.linear_model import LinearRegression\n",
    "import statsmodels.api as sm\n",
    "from sklearn.ensemble import RandomForestRegressor\n",
    "from sklearn.metrics import f1_score"
   ]
  },
  {
   "cell_type": "code",
   "execution_count": null,
   "metadata": {
    "collapsed": true
   },
   "outputs": [],
   "source": []
  },
  {
   "cell_type": "code",
   "execution_count": 278,
   "metadata": {
    "collapsed": false
   },
   "outputs": [],
   "source": [
    "df_train, df_test = train_test_split(df_WI)\n",
    "\n",
    "X_train = df_train[['rev_ct','neg_ct','stars_avg','rev_len_avg','stars_var']].values\n",
    "y_train = df_train[['n_violations','n_critical']].values\n",
    "X_test = df_test[['rev_ct','neg_ct','stars_avg','rev_len_avg','stars_var']].values\n",
    "y_test = df_test[['n_violations','n_critical']].values"
   ]
  },
  {
   "cell_type": "code",
   "execution_count": 276,
   "metadata": {
    "collapsed": false
   },
   "outputs": [
    {
     "data": {
      "text/plain": [
       "LinearRegression(copy_X=True, fit_intercept=True, n_jobs=1, normalize=False)"
      ]
     },
     "execution_count": 276,
     "metadata": {},
     "output_type": "execute_result"
    }
   ],
   "source": [
    "model_ols = LinearRegression()\n",
    "model_ols.fit(X_train, y_train)"
   ]
  },
  {
   "cell_type": "code",
   "execution_count": 297,
   "metadata": {
    "collapsed": false
   },
   "outputs": [
    {
     "name": "stdout",
     "output_type": "stream",
     "text": [
      "                            OLS Regression Results                            \n",
      "==============================================================================\n",
      "Dep. Variable:                      y   R-squared:                       0.011\n",
      "Model:                            OLS   Adj. R-squared:                  0.009\n",
      "Method:                 Least Squares   F-statistic:                     5.739\n",
      "Date:                Wed, 11 Nov 2015   Prob (F-statistic):           0.000667\n",
      "Time:                        13:10:02   Log-Likelihood:                -3164.3\n",
      "No. Observations:                1485   AIC:                             6337.\n",
      "Df Residuals:                    1481   BIC:                             6358.\n",
      "Df Model:                           3                                         \n",
      "Covariance Type:            nonrobust                                         \n",
      "==============================================================================\n",
      "                 coef    std err          t      P>|t|      [95.0% Conf. Int.]\n",
      "------------------------------------------------------------------------------\n",
      "const          1.8800      0.248      7.585      0.000         1.394     2.366\n",
      "x1            -0.0276      0.057     -0.481      0.631        -0.140     0.085\n",
      "x2             0.0006      0.000      3.717      0.000         0.000     0.001\n",
      "x3             0.0695      0.045      1.557      0.120        -0.018     0.157\n",
      "==============================================================================\n",
      "Omnibus:                      255.966   Durbin-Watson:                   2.036\n",
      "Prob(Omnibus):                  0.000   Jarque-Bera (JB):              432.926\n",
      "Skew:                           1.105   Prob(JB):                     9.80e-95\n",
      "Kurtosis:                       4.453   Cond. No.                     3.26e+03\n",
      "==============================================================================\n",
      "\n",
      "Warnings:\n",
      "[1] Standard Errors assume that the covariance matrix of the errors is correctly specified.\n",
      "[2] The condition number is large, 3.26e+03. This might indicate that there are\n",
      "strong multicollinearity or other numerical problems.\n"
     ]
    }
   ],
   "source": [
    "model_ols_sm = sm.OLS(y_train[:,1], sm.add_constant(X_train[:,[2,3,4]]) )\n",
    "res = model_ols_sm.fit()\n",
    "print res.summary()"
   ]
  },
  {
   "cell_type": "code",
   "execution_count": 283,
   "metadata": {
    "collapsed": false
   },
   "outputs": [
    {
     "data": {
      "text/html": [
       "<div>\n",
       "<table border=\"1\" class=\"dataframe\">\n",
       "  <thead>\n",
       "    <tr style=\"text-align: right;\">\n",
       "      <th></th>\n",
       "      <th>n_violations</th>\n",
       "      <th>n_critical</th>\n",
       "      <th>rev_ct</th>\n",
       "      <th>neg_ct</th>\n",
       "      <th>stars_avg</th>\n",
       "      <th>rev_len_avg</th>\n",
       "      <th>stars_var</th>\n",
       "    </tr>\n",
       "  </thead>\n",
       "  <tbody>\n",
       "    <tr>\n",
       "      <th>count</th>\n",
       "      <td>1485.000000</td>\n",
       "      <td>1485.000000</td>\n",
       "      <td>1485.000000</td>\n",
       "      <td>1485.000000</td>\n",
       "      <td>1485.000000</td>\n",
       "      <td>1485.000000</td>\n",
       "      <td>1485.000000</td>\n",
       "    </tr>\n",
       "    <tr>\n",
       "      <th>mean</th>\n",
       "      <td>4.282155</td>\n",
       "      <td>2.220202</td>\n",
       "      <td>8.716498</td>\n",
       "      <td>8.716498</td>\n",
       "      <td>3.502187</td>\n",
       "      <td>597.791884</td>\n",
       "      <td>1.111015</td>\n",
       "    </tr>\n",
       "    <tr>\n",
       "      <th>std</th>\n",
       "      <td>3.546835</td>\n",
       "      <td>2.050408</td>\n",
       "      <td>12.690321</td>\n",
       "      <td>12.690321</td>\n",
       "      <td>0.939607</td>\n",
       "      <td>328.411301</td>\n",
       "      <td>1.203548</td>\n",
       "    </tr>\n",
       "    <tr>\n",
       "      <th>min</th>\n",
       "      <td>0.000000</td>\n",
       "      <td>0.000000</td>\n",
       "      <td>1.000000</td>\n",
       "      <td>1.000000</td>\n",
       "      <td>1.000000</td>\n",
       "      <td>36.000000</td>\n",
       "      <td>0.000000</td>\n",
       "    </tr>\n",
       "    <tr>\n",
       "      <th>25%</th>\n",
       "      <td>2.000000</td>\n",
       "      <td>1.000000</td>\n",
       "      <td>2.000000</td>\n",
       "      <td>2.000000</td>\n",
       "      <td>3.000000</td>\n",
       "      <td>391.000000</td>\n",
       "      <td>0.000000</td>\n",
       "    </tr>\n",
       "    <tr>\n",
       "      <th>50%</th>\n",
       "      <td>4.000000</td>\n",
       "      <td>2.000000</td>\n",
       "      <td>4.000000</td>\n",
       "      <td>4.000000</td>\n",
       "      <td>3.666667</td>\n",
       "      <td>564.750000</td>\n",
       "      <td>0.894737</td>\n",
       "    </tr>\n",
       "    <tr>\n",
       "      <th>75%</th>\n",
       "      <td>6.000000</td>\n",
       "      <td>3.000000</td>\n",
       "      <td>10.000000</td>\n",
       "      <td>10.000000</td>\n",
       "      <td>4.100000</td>\n",
       "      <td>740.812500</td>\n",
       "      <td>1.655556</td>\n",
       "    </tr>\n",
       "    <tr>\n",
       "      <th>max</th>\n",
       "      <td>22.000000</td>\n",
       "      <td>13.000000</td>\n",
       "      <td>134.000000</td>\n",
       "      <td>134.000000</td>\n",
       "      <td>5.000000</td>\n",
       "      <td>4236.000000</td>\n",
       "      <td>8.000000</td>\n",
       "    </tr>\n",
       "  </tbody>\n",
       "</table>\n",
       "</div>"
      ],
      "text/plain": [
       "       n_violations   n_critical       rev_ct       neg_ct    stars_avg  \\\n",
       "count   1485.000000  1485.000000  1485.000000  1485.000000  1485.000000   \n",
       "mean       4.282155     2.220202     8.716498     8.716498     3.502187   \n",
       "std        3.546835     2.050408    12.690321    12.690321     0.939607   \n",
       "min        0.000000     0.000000     1.000000     1.000000     1.000000   \n",
       "25%        2.000000     1.000000     2.000000     2.000000     3.000000   \n",
       "50%        4.000000     2.000000     4.000000     4.000000     3.666667   \n",
       "75%        6.000000     3.000000    10.000000    10.000000     4.100000   \n",
       "max       22.000000    13.000000   134.000000   134.000000     5.000000   \n",
       "\n",
       "       rev_len_avg    stars_var  \n",
       "count  1485.000000  1485.000000  \n",
       "mean    597.791884     1.111015  \n",
       "std     328.411301     1.203548  \n",
       "min      36.000000     0.000000  \n",
       "25%     391.000000     0.000000  \n",
       "50%     564.750000     0.894737  \n",
       "75%     740.812500     1.655556  \n",
       "max    4236.000000     8.000000  "
      ]
     },
     "execution_count": 283,
     "metadata": {},
     "output_type": "execute_result"
    }
   ],
   "source": [
    "df_train.describe()"
   ]
  },
  {
   "cell_type": "code",
   "execution_count": 284,
   "metadata": {
    "collapsed": false
   },
   "outputs": [
    {
     "data": {
      "text/html": [
       "<div>\n",
       "<table border=\"1\" class=\"dataframe\">\n",
       "  <thead>\n",
       "    <tr style=\"text-align: right;\">\n",
       "      <th></th>\n",
       "      <th>n_violations</th>\n",
       "      <th>n_critical</th>\n",
       "      <th>rev_ct</th>\n",
       "      <th>neg_ct</th>\n",
       "      <th>stars_avg</th>\n",
       "      <th>rev_len_avg</th>\n",
       "      <th>stars_var</th>\n",
       "    </tr>\n",
       "  </thead>\n",
       "  <tbody>\n",
       "    <tr>\n",
       "      <th>count</th>\n",
       "      <td>495.000000</td>\n",
       "      <td>495.000000</td>\n",
       "      <td>495.000000</td>\n",
       "      <td>495.000000</td>\n",
       "      <td>495.000000</td>\n",
       "      <td>495.000000</td>\n",
       "      <td>495.000000</td>\n",
       "    </tr>\n",
       "    <tr>\n",
       "      <th>mean</th>\n",
       "      <td>4.454545</td>\n",
       "      <td>2.430303</td>\n",
       "      <td>7.739394</td>\n",
       "      <td>7.739394</td>\n",
       "      <td>3.491642</td>\n",
       "      <td>631.490225</td>\n",
       "      <td>1.044846</td>\n",
       "    </tr>\n",
       "    <tr>\n",
       "      <th>std</th>\n",
       "      <td>4.076378</td>\n",
       "      <td>2.432633</td>\n",
       "      <td>9.661412</td>\n",
       "      <td>9.661412</td>\n",
       "      <td>0.949514</td>\n",
       "      <td>384.902831</td>\n",
       "      <td>1.123696</td>\n",
       "    </tr>\n",
       "    <tr>\n",
       "      <th>min</th>\n",
       "      <td>0.000000</td>\n",
       "      <td>0.000000</td>\n",
       "      <td>1.000000</td>\n",
       "      <td>1.000000</td>\n",
       "      <td>1.000000</td>\n",
       "      <td>38.000000</td>\n",
       "      <td>0.000000</td>\n",
       "    </tr>\n",
       "    <tr>\n",
       "      <th>25%</th>\n",
       "      <td>2.000000</td>\n",
       "      <td>1.000000</td>\n",
       "      <td>2.000000</td>\n",
       "      <td>2.000000</td>\n",
       "      <td>3.000000</td>\n",
       "      <td>390.250000</td>\n",
       "      <td>0.000000</td>\n",
       "    </tr>\n",
       "    <tr>\n",
       "      <th>50%</th>\n",
       "      <td>3.000000</td>\n",
       "      <td>2.000000</td>\n",
       "      <td>4.000000</td>\n",
       "      <td>4.000000</td>\n",
       "      <td>3.666667</td>\n",
       "      <td>575.250000</td>\n",
       "      <td>0.787879</td>\n",
       "    </tr>\n",
       "    <tr>\n",
       "      <th>75%</th>\n",
       "      <td>6.000000</td>\n",
       "      <td>4.000000</td>\n",
       "      <td>10.000000</td>\n",
       "      <td>10.000000</td>\n",
       "      <td>4.088008</td>\n",
       "      <td>784.083333</td>\n",
       "      <td>1.600000</td>\n",
       "    </tr>\n",
       "    <tr>\n",
       "      <th>max</th>\n",
       "      <td>37.000000</td>\n",
       "      <td>17.000000</td>\n",
       "      <td>65.000000</td>\n",
       "      <td>65.000000</td>\n",
       "      <td>5.000000</td>\n",
       "      <td>4242.000000</td>\n",
       "      <td>8.000000</td>\n",
       "    </tr>\n",
       "  </tbody>\n",
       "</table>\n",
       "</div>"
      ],
      "text/plain": [
       "       n_violations  n_critical      rev_ct      neg_ct   stars_avg  \\\n",
       "count    495.000000  495.000000  495.000000  495.000000  495.000000   \n",
       "mean       4.454545    2.430303    7.739394    7.739394    3.491642   \n",
       "std        4.076378    2.432633    9.661412    9.661412    0.949514   \n",
       "min        0.000000    0.000000    1.000000    1.000000    1.000000   \n",
       "25%        2.000000    1.000000    2.000000    2.000000    3.000000   \n",
       "50%        3.000000    2.000000    4.000000    4.000000    3.666667   \n",
       "75%        6.000000    4.000000   10.000000   10.000000    4.088008   \n",
       "max       37.000000   17.000000   65.000000   65.000000    5.000000   \n",
       "\n",
       "       rev_len_avg   stars_var  \n",
       "count   495.000000  495.000000  \n",
       "mean    631.490225    1.044846  \n",
       "std     384.902831    1.123696  \n",
       "min      38.000000    0.000000  \n",
       "25%     390.250000    0.000000  \n",
       "50%     575.250000    0.787879  \n",
       "75%     784.083333    1.600000  \n",
       "max    4242.000000    8.000000  "
      ]
     },
     "execution_count": 284,
     "metadata": {},
     "output_type": "execute_result"
    }
   ],
   "source": [
    "df_test.describe()"
   ]
  },
  {
   "cell_type": "code",
   "execution_count": 344,
   "metadata": {
    "collapsed": false
   },
   "outputs": [],
   "source": [
    "model_rf = RandomForestRegressor()\n",
    "model_rf.fit(X_train, y_train[:,1])\n",
    "y_pred = model_rf.predict(X_test)\n",
    "#f1_score(y_test[:,1]+0.001, y_pred+0.001)"
   ]
  },
  {
   "cell_type": "code",
   "execution_count": 298,
   "metadata": {
    "collapsed": false
   },
   "outputs": [
    {
     "data": {
      "text/html": [
       "<div>\n",
       "<table border=\"1\" class=\"dataframe\">\n",
       "  <thead>\n",
       "    <tr style=\"text-align: right;\">\n",
       "      <th></th>\n",
       "      <th>n_violations</th>\n",
       "      <th>n_critical</th>\n",
       "    </tr>\n",
       "  </thead>\n",
       "  <tbody>\n",
       "    <tr>\n",
       "      <th>count</th>\n",
       "      <td>2831.000000</td>\n",
       "      <td>2831.000000</td>\n",
       "    </tr>\n",
       "    <tr>\n",
       "      <th>mean</th>\n",
       "      <td>4.467326</td>\n",
       "      <td>2.374779</td>\n",
       "    </tr>\n",
       "    <tr>\n",
       "      <th>std</th>\n",
       "      <td>3.862419</td>\n",
       "      <td>2.280301</td>\n",
       "    </tr>\n",
       "    <tr>\n",
       "      <th>min</th>\n",
       "      <td>0.000000</td>\n",
       "      <td>0.000000</td>\n",
       "    </tr>\n",
       "    <tr>\n",
       "      <th>25%</th>\n",
       "      <td>1.000000</td>\n",
       "      <td>1.000000</td>\n",
       "    </tr>\n",
       "    <tr>\n",
       "      <th>50%</th>\n",
       "      <td>4.000000</td>\n",
       "      <td>2.000000</td>\n",
       "    </tr>\n",
       "    <tr>\n",
       "      <th>75%</th>\n",
       "      <td>6.000000</td>\n",
       "      <td>4.000000</td>\n",
       "    </tr>\n",
       "    <tr>\n",
       "      <th>max</th>\n",
       "      <td>37.000000</td>\n",
       "      <td>17.000000</td>\n",
       "    </tr>\n",
       "  </tbody>\n",
       "</table>\n",
       "</div>"
      ],
      "text/plain": [
       "       n_violations   n_critical\n",
       "count   2831.000000  2831.000000\n",
       "mean       4.467326     2.374779\n",
       "std        3.862419     2.280301\n",
       "min        0.000000     0.000000\n",
       "25%        1.000000     1.000000\n",
       "50%        4.000000     2.000000\n",
       "75%        6.000000     4.000000\n",
       "max       37.000000    17.000000"
      ]
     },
     "execution_count": 298,
     "metadata": {},
     "output_type": "execute_result"
    }
   ],
   "source": [
    "I_WI.describe()"
   ]
  },
  {
   "cell_type": "code",
   "execution_count": 313,
   "metadata": {
    "collapsed": true
   },
   "outputs": [],
   "source": [
    "temp = I_WI.copy()\n",
    "temp['n_core'] = - temp.n_critical + temp.n_violations\n",
    "temp['grade'] = 0\n",
    "temp.loc[temp.n_critical>= 1,'grade'] +=1\n",
    "temp.loc[temp.n_critical>= 2,'grade'] +=1\n",
    "temp.loc[temp.n_critical>= 3,'grade'] +=1\n",
    "temp.loc[temp.n_core>=4,'grade'] +=1\n",
    "temp['target'] = temp.grade >= 3"
   ]
  },
  {
   "cell_type": "code",
   "execution_count": 322,
   "metadata": {
    "collapsed": false
   },
   "outputs": [
    {
     "data": {
      "text/html": [
       "<div>\n",
       "<table border=\"1\" class=\"dataframe\">\n",
       "  <thead>\n",
       "    <tr style=\"text-align: right;\">\n",
       "      <th></th>\n",
       "      <th>n_violations</th>\n",
       "      <th>n_critical</th>\n",
       "      <th>n_core</th>\n",
       "      <th>grade</th>\n",
       "      <th>target</th>\n",
       "    </tr>\n",
       "  </thead>\n",
       "  <tbody>\n",
       "    <tr>\n",
       "      <th>count</th>\n",
       "      <td>636.000000</td>\n",
       "      <td>636.000000</td>\n",
       "      <td>636.000000</td>\n",
       "      <td>636.000000</td>\n",
       "      <td>636</td>\n",
       "    </tr>\n",
       "    <tr>\n",
       "      <th>mean</th>\n",
       "      <td>7.127358</td>\n",
       "      <td>3.753145</td>\n",
       "      <td>4.061321</td>\n",
       "      <td>2.886792</td>\n",
       "      <td>0.718553</td>\n",
       "    </tr>\n",
       "    <tr>\n",
       "      <th>std</th>\n",
       "      <td>4.149696</td>\n",
       "      <td>2.361850</td>\n",
       "      <td>2.710902</td>\n",
       "      <td>1.064716</td>\n",
       "      <td>0.450059</td>\n",
       "    </tr>\n",
       "    <tr>\n",
       "      <th>min</th>\n",
       "      <td>0.000000</td>\n",
       "      <td>0.000000</td>\n",
       "      <td>0.000000</td>\n",
       "      <td>0.000000</td>\n",
       "      <td>False</td>\n",
       "    </tr>\n",
       "    <tr>\n",
       "      <th>25%</th>\n",
       "      <td>4.000000</td>\n",
       "      <td>2.000000</td>\n",
       "      <td>2.000000</td>\n",
       "      <td>2.000000</td>\n",
       "      <td>0</td>\n",
       "    </tr>\n",
       "    <tr>\n",
       "      <th>50%</th>\n",
       "      <td>6.000000</td>\n",
       "      <td>3.000000</td>\n",
       "      <td>4.000000</td>\n",
       "      <td>3.000000</td>\n",
       "      <td>1</td>\n",
       "    </tr>\n",
       "    <tr>\n",
       "      <th>75%</th>\n",
       "      <td>9.000000</td>\n",
       "      <td>5.000000</td>\n",
       "      <td>6.000000</td>\n",
       "      <td>4.000000</td>\n",
       "      <td>1</td>\n",
       "    </tr>\n",
       "    <tr>\n",
       "      <th>max</th>\n",
       "      <td>37.000000</td>\n",
       "      <td>17.000000</td>\n",
       "      <td>20.000000</td>\n",
       "      <td>4.000000</td>\n",
       "      <td>True</td>\n",
       "    </tr>\n",
       "  </tbody>\n",
       "</table>\n",
       "</div>"
      ],
      "text/plain": [
       "       n_violations  n_critical      n_core       grade    target\n",
       "count    636.000000  636.000000  636.000000  636.000000       636\n",
       "mean       7.127358    3.753145    4.061321    2.886792  0.718553\n",
       "std        4.149696    2.361850    2.710902    1.064716  0.450059\n",
       "min        0.000000    0.000000    0.000000    0.000000     False\n",
       "25%        4.000000    2.000000    2.000000    2.000000         0\n",
       "50%        6.000000    3.000000    4.000000    3.000000         1\n",
       "75%        9.000000    5.000000    6.000000    4.000000         1\n",
       "max       37.000000   17.000000   20.000000    4.000000      True"
      ]
     },
     "execution_count": 322,
     "metadata": {},
     "output_type": "execute_result"
    }
   ],
   "source": [
    "temp.groupby('id_').max().describe()"
   ]
  }
 ],
 "metadata": {
  "kernelspec": {
   "display_name": "Python 2",
   "language": "python",
   "name": "python2"
  },
  "language_info": {
   "codemirror_mode": {
    "name": "ipython",
    "version": 2
   },
   "file_extension": ".py",
   "mimetype": "text/x-python",
   "name": "python",
   "nbconvert_exporter": "python",
   "pygments_lexer": "ipython2",
   "version": "2.7.10"
  }
 },
 "nbformat": 4,
 "nbformat_minor": 0
}
