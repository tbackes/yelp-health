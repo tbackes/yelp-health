{
 "cells": [
  {
   "cell_type": "code",
   "execution_count": 1,
   "metadata": {
    "collapsed": false
   },
   "outputs": [
    {
     "name": "stderr",
     "output_type": "stream",
     "text": [
      "/Users/tracy/anaconda/lib/python2.7/site-packages/fuzzywuzzy/fuzz.py:33: UserWarning: Using slow pure-python SequenceMatcher. Install python-Levenshtein to remove this warning\n",
      "  warnings.warn('Using slow pure-python SequenceMatcher. Install python-Levenshtein to remove this warning')\n"
     ]
    }
   ],
   "source": [
    "import pandas as pd\n",
    "import numpy as np\n",
    "import matplotlib.pyplot as plt\n",
    "import pickle\n",
    "import re\n",
    "import string\n",
    "import json\n",
    "pd.options.mode.chained_assignment = None  # default='warn'\n",
    "from merge_vegas import open_pickle, save_to_pickle\n",
    "from import_yelp_mongo import get_yelp_reviews, get_yelp_reviews_afterdate\n",
    "\n",
    "%matplotlib inline"
   ]
  },
  {
   "cell_type": "code",
   "execution_count": 2,
   "metadata": {
    "collapsed": true
   },
   "outputs": [],
   "source": [
    "from IPython.display import display"
   ]
  },
  {
   "cell_type": "markdown",
   "metadata": {},
   "source": [
    "# Read in datasets"
   ]
  },
  {
   "cell_type": "code",
   "execution_count": 3,
   "metadata": {
    "collapsed": true
   },
   "outputs": [],
   "source": [
    "WI = open_pickle('../data/mad/madison_yelp_merge.pkl')\n",
    "NV = open_pickle('../data/vegas/vegas_yelp_merge.pkl')\n",
    "AZ = open_pickle('../data/phx/phoenix_yelp_merge.pkl')\n",
    "NC = open_pickle('../data/char/charlotte_yelp_merge.pkl')"
   ]
  },
  {
   "cell_type": "code",
   "execution_count": 324,
   "metadata": {
    "collapsed": false
   },
   "outputs": [
    {
     "name": "stdout",
     "output_type": "stream",
     "text": [
      "(654, 54)\n",
      "(952, 40)\n",
      "(3984, 43)\n",
      "(1332, 56)\n"
     ]
    }
   ],
   "source": [
    "print WI.shape\n",
    "print NV.shape\n",
    "print AZ.shape\n",
    "print NC.shape"
   ]
  },
  {
   "cell_type": "markdown",
   "metadata": {},
   "source": [
    "# Subset Review database"
   ]
  },
  {
   "cell_type": "code",
   "execution_count": 14,
   "metadata": {
    "collapsed": false
   },
   "outputs": [],
   "source": [
    "def state_yelp_reviews(df, d, tag):\n",
    "    ids_ = df.business_id.values.tolist()\n",
    "    R = get_yelp_reviews_afterdate(ids_, d)\n",
    "    print R.info()\n",
    "    \n",
    "    save_to_pickle(R, '../data/yelp/yelp_reviews_%s.pkl' % tag)\n",
    "    \n",
    "    return R"
   ]
  },
  {
   "cell_type": "code",
   "execution_count": 15,
   "metadata": {
    "collapsed": false
   },
   "outputs": [
    {
     "name": "stdout",
     "output_type": "stream",
     "text": [
      "<class 'pandas.core.frame.DataFrame'>\n",
      "Int64Index: 18984 entries, 0 to 18983\n",
      "Data columns (total 9 columns):\n",
      "_id            18984 non-null object\n",
      "business_id    18984 non-null object\n",
      "date           18984 non-null object\n",
      "review_id      18984 non-null object\n",
      "stars          18984 non-null int64\n",
      "text           18984 non-null object\n",
      "type           18984 non-null object\n",
      "user_id        18984 non-null object\n",
      "votes          18984 non-null object\n",
      "dtypes: int64(1), object(8)\n",
      "memory usage: 1.4+ MB\n",
      "None\n"
     ]
    }
   ],
   "source": [
    "R_WI = state_yelp_reviews(WI, '2011-06-30', 'madison')"
   ]
  },
  {
   "cell_type": "markdown",
   "metadata": {},
   "source": [
    "## Madison, WI"
   ]
  },
  {
   "cell_type": "code",
   "execution_count": 401,
   "metadata": {
    "collapsed": false
   },
   "outputs": [],
   "source": [
    "import features_madison as lib"
   ]
  },
  {
   "cell_type": "code",
   "execution_count": 402,
   "metadata": {
    "collapsed": false
   },
   "outputs": [
    {
     "data": {
      "text/plain": [
       "<module 'features_madison' from 'features_madison.py'>"
      ]
     },
     "execution_count": 402,
     "metadata": {},
     "output_type": "execute_result"
    }
   ],
   "source": [
    "reload(lib)"
   ]
  },
  {
   "cell_type": "code",
   "execution_count": 6,
   "metadata": {
    "collapsed": true
   },
   "outputs": [
    {
     "name": "stdout",
     "output_type": "stream",
     "text": [
      "<class 'pandas.core.frame.DataFrame'>\n",
      "Index: 654 entries, (43 north, 108, king st, madison, 53703) to (windsor, 53598)\n",
      "Data columns (total 54 columns):\n",
      "address                    654 non-null object\n",
      "addressy_                  654 non-null object\n",
      "attributes                 654 non-null object\n",
      "avg                        356 non-null float64\n",
      "avg_2                      356 non-null float64\n",
      "avg_3                      356 non-null float64\n",
      "avg_w                      356 non-null float64\n",
      "avg_w_2                    356 non-null float64\n",
      "avg_w_3                    356 non-null float64\n",
      "business_id                654 non-null object\n",
      "categories                 654 non-null object\n",
      "city                       654 non-null object\n",
      "complex                    654 non-null object\n",
      "complexy_                  654 non-null object\n",
      "full_address               654 non-null object\n",
      "fuzz_partial_ratio         356 non-null float64\n",
      "fuzz_partial_ratio_2       356 non-null float64\n",
      "fuzz_partial_ratio_3       356 non-null float64\n",
      "fuzz_ratio                 356 non-null float64\n",
      "fuzz_ratio_2               356 non-null float64\n",
      "fuzz_ratio_3               356 non-null float64\n",
      "fuzz_token_set_ratio       356 non-null float64\n",
      "fuzz_token_set_ratio_2     356 non-null float64\n",
      "fuzz_token_set_ratio_3     356 non-null float64\n",
      "fuzz_token_sort_ratio      356 non-null float64\n",
      "fuzz_token_sort_ratio_2    356 non-null float64\n",
      "fuzz_token_sort_ratio_3    356 non-null float64\n",
      "hours                      654 non-null object\n",
      "id_                        654 non-null object\n",
      "inspections                654 non-null object\n",
      "latitude                   654 non-null float64\n",
      "longitude                  654 non-null float64\n",
      "max                        356 non-null float64\n",
      "max_2                      356 non-null float64\n",
      "max_3                      356 non-null float64\n",
      "name                       654 non-null object\n",
      "name2_h                    356 non-null object\n",
      "name2_y                    356 non-null object\n",
      "name_                      356 non-null object\n",
      "name_y_                    356 non-null object\n",
      "namey_                     654 non-null object\n",
      "neighborhoods              654 non-null object\n",
      "num                        86 non-null object\n",
      "numy_                      86 non-null object\n",
      "open                       654 non-null bool\n",
      "review_count               654 non-null int64\n",
      "stars                      654 non-null float64\n",
      "state                      654 non-null object\n",
      "street                     86 non-null object\n",
      "streety_                   86 non-null object\n",
      "suite                      654 non-null object\n",
      "suitey_                    654 non-null object\n",
      "type                       654 non-null object\n",
      "typey_                     654 non-null object\n",
      "dtypes: bool(1), float64(24), int64(1), object(28)\n",
      "memory usage: 276.5+ KB\n"
     ]
    }
   ],
   "source": [
    "WI.info()"
   ]
  },
  {
   "cell_type": "code",
   "execution_count": 17,
   "metadata": {
    "collapsed": false
   },
   "outputs": [
    {
     "name": "stdout",
     "output_type": "stream",
     "text": [
      "2011-07-01\n",
      "2015-01-08\n"
     ]
    }
   ],
   "source": [
    "print R_WI.date.min()\n",
    "print R_WI.date.max()"
   ]
  },
  {
   "cell_type": "code",
   "execution_count": 385,
   "metadata": {
    "collapsed": false
   },
   "outputs": [
    {
     "name": "stdout",
     "output_type": "stream",
     "text": [
      "2012-01-04 00:00:00\n",
      "2015-10-30 00:00:00\n"
     ]
    }
   ],
   "source": [
    "print pd.to_datetime(I_WI.date).min()\n",
    "print pd.to_datetime(I_WI.date).max()"
   ]
  },
  {
   "cell_type": "code",
   "execution_count": 404,
   "metadata": {
    "collapsed": false
   },
   "outputs": [
    {
     "name": "stdout",
     "output_type": "stream",
     "text": [
      "<class 'pandas.core.frame.DataFrame'>\n",
      "Int64Index: 18984 entries, 0 to 18983\n",
      "Data columns (total 9 columns):\n",
      "_id            18984 non-null object\n",
      "business_id    18984 non-null object\n",
      "date           18984 non-null object\n",
      "review_id      18984 non-null object\n",
      "stars          18984 non-null int64\n",
      "text           18984 non-null object\n",
      "type           18984 non-null object\n",
      "user_id        18984 non-null object\n",
      "votes          18984 non-null object\n",
      "dtypes: int64(1), object(8)\n",
      "memory usage: 1.4+ MB\n",
      "None\n",
      "(94353, 15)\n",
      "(16775, 15)\n",
      "CPU times: user 48.2 s, sys: 2.28 s, total: 50.5 s\n",
      "Wall time: 1min 13s\n"
     ]
    }
   ],
   "source": [
    "%%time\n",
    "df_WI = lib.get_features_WI(WI, '2011-06-30', 'madison', ['n_critical', 'n_violations'])"
   ]
  },
  {
   "cell_type": "code",
   "execution_count": 269,
   "metadata": {
    "collapsed": true
   },
   "outputs": [],
   "source": [
    "save_to_pickle(df_WI, '../data/mad/madison_yelp_features.pkl')"
   ]
  },
  {
   "cell_type": "markdown",
   "metadata": {},
   "source": [
    "# Charlotte, NC"
   ]
  },
  {
   "cell_type": "code",
   "execution_count": 354,
   "metadata": {
    "collapsed": false
   },
   "outputs": [],
   "source": [
    "import features_charlotte as lib"
   ]
  },
  {
   "cell_type": "code",
   "execution_count": 581,
   "metadata": {
    "collapsed": false
   },
   "outputs": [
    {
     "data": {
      "text/plain": [
       "<module 'features_phoenix' from 'features_phoenix.py'>"
      ]
     },
     "execution_count": 581,
     "metadata": {},
     "output_type": "execute_result"
    }
   ],
   "source": [
    "reload(lib)"
   ]
  },
  {
   "cell_type": "code",
   "execution_count": 346,
   "metadata": {
    "collapsed": false
   },
   "outputs": [
    {
     "data": {
      "text/plain": [
       "array(['address', 'addressy_', u'attributes', 'avg', 'avg_2', 'avg_3',\n",
       "       'avg_w', 'avg_w_2', 'avg_w_3', u'business_id', u'categories',\n",
       "       'city', u'cityy_', 'complex', 'county', u'full_address',\n",
       "       'fuzz_partial_ratio', 'fuzz_partial_ratio_2',\n",
       "       'fuzz_partial_ratio_3', 'fuzz_ratio', 'fuzz_ratio_2',\n",
       "       'fuzz_ratio_3', 'fuzz_token_set_ratio', 'fuzz_token_set_ratio_2',\n",
       "       'fuzz_token_set_ratio_3', 'fuzz_token_sort_ratio',\n",
       "       'fuzz_token_sort_ratio_2', 'fuzz_token_sort_ratio_3', u'hours',\n",
       "       'id_', 'inspections', u'latitude', u'longitude', 'max', 'max_2',\n",
       "       'max_3', 'name', 'name2_h', 'name2_y', 'name_', 'name_y_',\n",
       "       u'namey_', u'neighborhoods', 'num', 'numy_', u'open',\n",
       "       u'review_count', u'stars', 'state', u'statey_', 'street',\n",
       "       'streety_', 'suite', 'suitey_', 'type', u'typey_'], dtype=object)"
      ]
     },
     "execution_count": 346,
     "metadata": {},
     "output_type": "execute_result"
    }
   ],
   "source": [
    "NC.columns.values"
   ]
  },
  {
   "cell_type": "code",
   "execution_count": 382,
   "metadata": {
    "collapsed": false
   },
   "outputs": [],
   "source": [
    "I_NC = lib.get_NC_inspections(NC, drop_flag=False)"
   ]
  },
  {
   "cell_type": "code",
   "execution_count": 383,
   "metadata": {
    "collapsed": false
   },
   "outputs": [
    {
     "data": {
      "text/html": [
       "<div>\n",
       "<table border=\"1\" class=\"dataframe\">\n",
       "  <thead>\n",
       "    <tr style=\"text-align: right;\">\n",
       "      <th></th>\n",
       "      <th>date</th>\n",
       "      <th>score</th>\n",
       "      <th>grade</th>\n",
       "      <th>inspector</th>\n",
       "      <th>id_</th>\n",
       "      <th>inspec_id</th>\n",
       "    </tr>\n",
       "  </thead>\n",
       "  <tbody>\n",
       "    <tr>\n",
       "      <th>0</th>\n",
       "      <td>3/3/2015</td>\n",
       "      <td>97</td>\n",
       "      <td>A</td>\n",
       "      <td>2219</td>\n",
       "      <td>161416</td>\n",
       "      <td>161416_0</td>\n",
       "    </tr>\n",
       "    <tr>\n",
       "      <th>1</th>\n",
       "      <td>12/5/2014</td>\n",
       "      <td>96</td>\n",
       "      <td>A</td>\n",
       "      <td>2219</td>\n",
       "      <td>161416</td>\n",
       "      <td>161416_1</td>\n",
       "    </tr>\n",
       "    <tr>\n",
       "      <th>2</th>\n",
       "      <td>9/24/2015</td>\n",
       "      <td>97</td>\n",
       "      <td>A</td>\n",
       "      <td>2427</td>\n",
       "      <td>127669</td>\n",
       "      <td>127669_0</td>\n",
       "    </tr>\n",
       "    <tr>\n",
       "      <th>3</th>\n",
       "      <td>5/26/2015</td>\n",
       "      <td>97.50</td>\n",
       "      <td>A</td>\n",
       "      <td>2447</td>\n",
       "      <td>127669</td>\n",
       "      <td>127669_1</td>\n",
       "    </tr>\n",
       "    <tr>\n",
       "      <th>4</th>\n",
       "      <td>1/15/2015</td>\n",
       "      <td>97</td>\n",
       "      <td>A</td>\n",
       "      <td>2447</td>\n",
       "      <td>127669</td>\n",
       "      <td>127669_2</td>\n",
       "    </tr>\n",
       "  </tbody>\n",
       "</table>\n",
       "</div>"
      ],
      "text/plain": [
       "        date  score grade inspector     id_ inspec_id\n",
       "0   3/3/2015     97     A      2219  161416  161416_0\n",
       "1  12/5/2014     96     A      2219  161416  161416_1\n",
       "2  9/24/2015     97     A      2427  127669  127669_0\n",
       "3  5/26/2015  97.50     A      2447  127669  127669_1\n",
       "4  1/15/2015     97     A      2447  127669  127669_2"
      ]
     },
     "execution_count": 383,
     "metadata": {},
     "output_type": "execute_result"
    }
   ],
   "source": [
    "I_NC.head()"
   ]
  },
  {
   "cell_type": "code",
   "execution_count": 386,
   "metadata": {
    "collapsed": false
   },
   "outputs": [
    {
     "name": "stdout",
     "output_type": "stream",
     "text": [
      "2013-06-24 00:00:00\n",
      "2015-10-21 00:00:00\n"
     ]
    }
   ],
   "source": [
    "print pd.to_datetime(I_NC.date).min()\n",
    "print pd.to_datetime(I_NC.date).max()"
   ]
  },
  {
   "cell_type": "code",
   "execution_count": 387,
   "metadata": {
    "collapsed": false
   },
   "outputs": [
    {
     "name": "stdout",
     "output_type": "stream",
     "text": [
      "<class 'pandas.core.frame.DataFrame'>\n",
      "Int64Index: 29898 entries, 0 to 29897\n",
      "Data columns (total 9 columns):\n",
      "_id            29898 non-null object\n",
      "business_id    29898 non-null object\n",
      "date           29898 non-null object\n",
      "review_id      29898 non-null object\n",
      "stars          29898 non-null int64\n",
      "text           29898 non-null object\n",
      "type           29898 non-null object\n",
      "user_id        29898 non-null object\n",
      "votes          29898 non-null object\n",
      "dtypes: int64(1), object(8)\n",
      "memory usage: 2.3+ MB\n",
      "None\n"
     ]
    }
   ],
   "source": [
    "R_NC = lib.state_yelp_reviews(NC, '2012-11-30', 'charlotte')"
   ]
  },
  {
   "cell_type": "code",
   "execution_count": 391,
   "metadata": {
    "collapsed": false
   },
   "outputs": [
    {
     "name": "stdout",
     "output_type": "stream",
     "text": [
      "(175773, 15)\n",
      "(130504, 15)\n"
     ]
    }
   ],
   "source": [
    "y, x = lib.merge_inspec_dates(I_NC, NC, R_NC, ['score','grade'])"
   ]
  },
  {
   "cell_type": "code",
   "execution_count": 399,
   "metadata": {
    "collapsed": false
   },
   "outputs": [
    {
     "name": "stdout",
     "output_type": "stream",
     "text": [
      "<class 'pandas.core.frame.DataFrame'>\n",
      "Int64Index: 41485 entries, 0 to 41484\n",
      "Data columns (total 9 columns):\n",
      "_id            41485 non-null object\n",
      "business_id    41485 non-null object\n",
      "date           41485 non-null object\n",
      "review_id      41485 non-null object\n",
      "stars          41485 non-null int64\n",
      "text           41485 non-null object\n",
      "type           41485 non-null object\n",
      "user_id        41485 non-null object\n",
      "votes          41485 non-null object\n",
      "dtypes: int64(1), object(8)\n",
      "memory usage: 3.2+ MB\n",
      "None\n",
      "(241574, 15)\n",
      "(196930, 15)\n",
      "CPU times: user 57.9 s, sys: 2.71 s, total: 1min\n",
      "Wall time: 1min 23s\n"
     ]
    }
   ],
   "source": [
    "%%time\n",
    "df_NC = lib.get_features_NC(NC, '2011-06-30', 'charlotte', ['score','grade'])"
   ]
  },
  {
   "cell_type": "code",
   "execution_count": 406,
   "metadata": {
    "collapsed": true
   },
   "outputs": [],
   "source": [
    "save_to_pickle(df_NC, '../data/char/charlotte_yelp_features.pkl')"
   ]
  },
  {
   "cell_type": "markdown",
   "metadata": {},
   "source": [
    "# Phoenix, AZ"
   ]
  },
  {
   "cell_type": "code",
   "execution_count": 4,
   "metadata": {
    "collapsed": true
   },
   "outputs": [],
   "source": [
    "import features_phoenix as lib"
   ]
  },
  {
   "cell_type": "code",
   "execution_count": 680,
   "metadata": {
    "collapsed": false
   },
   "outputs": [
    {
     "data": {
      "text/plain": [
       "<module 'features_phoenix' from 'features_phoenix.pyc'>"
      ]
     },
     "execution_count": 680,
     "metadata": {},
     "output_type": "execute_result"
    }
   ],
   "source": [
    "reload(lib)"
   ]
  },
  {
   "cell_type": "code",
   "execution_count": 5,
   "metadata": {
    "collapsed": false
   },
   "outputs": [
    {
     "name": "stdout",
     "output_type": "stream",
     "text": [
      "<class 'pandas.core.frame.DataFrame'>\n",
      "Int64Index: 150758 entries, 0 to 150757\n",
      "Data columns (total 9 columns):\n",
      "_id            150758 non-null object\n",
      "business_id    150758 non-null object\n",
      "date           150758 non-null object\n",
      "review_id      150758 non-null object\n",
      "stars          150758 non-null int64\n",
      "text           150758 non-null object\n",
      "type           150758 non-null object\n",
      "user_id        150758 non-null object\n",
      "votes          150758 non-null object\n",
      "dtypes: int64(1), object(8)\n",
      "memory usage: 11.5+ MB\n",
      "None\n",
      "(2108930, 22)\n",
      "(149358, 22)\n",
      "<class 'pandas.core.frame.DataFrame'>\n",
      "MultiIndex: 23938 entries, (3312868, Q90fNAiXiTHFoqgCDf63sg, FD-03700) to (3743047, NUkwod-8wWjQ-3ghMoh8bQ, FD-41028)\n",
      "Data columns (total 6 columns):\n",
      "rev_ct         23938 non-null int64\n",
      "neg_ct         23938 non-null int64\n",
      "stars_avg      23938 non-null float64\n",
      "rev_len_avg    23938 non-null float64\n",
      "stars_var      23938 non-null float64\n",
      "text           23938 non-null object\n",
      "dtypes: float64(3), int64(2), object(1)\n",
      "memory usage: 1.5+ MB\n",
      "None\n",
      "<class 'pandas.core.frame.DataFrame'>\n",
      "MultiIndex: 23938 entries, (3312868, Q90fNAiXiTHFoqgCDf63sg, FD-03700) to (3743047, NUkwod-8wWjQ-3ghMoh8bQ, FD-41028)\n",
      "Data columns (total 6 columns):\n",
      "rev_ct         23938 non-null int64\n",
      "neg_ct         23938 non-null int64\n",
      "stars_avg      23938 non-null float64\n",
      "rev_len_avg    23938 non-null float64\n",
      "stars_var      23938 non-null float64\n",
      "text           23938 non-null object\n",
      "dtypes: float64(3), int64(2), object(1)\n",
      "memory usage: 1.5+ MB\n",
      "None\n",
      "CPU times: user 9min 23s, sys: 39.2 s, total: 10min 2s\n",
      "Wall time: 11min 14s\n"
     ]
    }
   ],
   "source": [
    "%%time\n",
    "target_list = ['n_priority', 'grade', 'n_violations','v_core','sum_core',\n",
    "               'v_foundation','sum_foundation','v_priority','sum_priority']\n",
    "\n",
    "\n",
    "df_AZ = lib.get_features_AZ(AZ, '2012-04-01', 'phoenix', target_list)"
   ]
  },
  {
   "cell_type": "code",
   "execution_count": 10,
   "metadata": {
    "collapsed": false
   },
   "outputs": [
    {
     "data": {
      "text/plain": [
       "array([ u'The fish tacos are excellent. Light and priced just right. Although we had passed by many times before we attempted to dine at 1103 for the first time last night.  I say attempted because the hour long experience ended with neither my husband or I eating more than four bites of food each.  First, our server was really slow and seemed to vanish into thin air quite often.  So much so that I frequently had to flag down another sever, Roger, to find our server.  I will say that Roger was the only positive about our experience because he was very nice and professional.\\n\\nWe asked our server how the calamari was to which she replied that the sauce that comes with it was very good because it combined a sweet and spicy taste so we ordered the calamari to start.  However, our server neglected to tell us that calamari is drowned in the sauce rather than the sauce coming on the side to dip which would have been useful information.  In addition the calamari came out fairly cold but we couldn\\'t find our server to tell her that so I had to approach the Host to have him take the calamari back and order another starter.  Our server also didn\\'t know about the entrees on the menu which is frustrating.\\n\\nMy husband ordered the Pasta Rustica which had penne pasta, red sauce and chicken.  I wanted the Seafood pasta and asked the server what vegetables came in the dish because the menu simply stated assorted vegetables and there are certain veggies I don\\'t like.  She stated there was tomato and asparagus which I like both so I ordered that.  Our entrees arrived just a few moments after the Host had taken the calamari back so we cancelled the order for the second starter.  When I looked at my entree I noted that there where muscles in the shell, shrimp, lobster, tomato and asparagus which I expected however there was also quite a lot of julienned vegetables that the server apparently did not know were also included in the \"assorted vegetables\".  This assortment really included zucchini, yellow squash, red onion, bell peppers, etc.  Also, the server neglected to bring another dish to put the muscle shells on so I once again had to flag down Roger to find her.  Then I noticed that three of the shrimp on my plate didn\\'t have the tail shell on them but one did which was strange.\\n\\nMy husband\\'s entree was inedible as the chicken was completely overcooked to the point where it was hard on the ends and he had to spit it out. I tried to pick around the bell peppers and onions in my dish but due to the amount of thinly julienned vegetables I couldn\\'t and I hate those two items in my food.  At this point we asked to see the manager.  The manager was interesting to say the least because as we were explaining the issues with the service and the food he just stood there essentially blank faced and then proceeded to tell us that well yes the shrimp was supposed to come with the tail shell on it.  Huh?? After all that this is what he takes out of it, really?!  Well he took our entrees and then, wait for it, yes he brought back a bill that had the food we didn\\'t eat removed however it of course still included my drink.  One would think that after this type of experience the management could comp a drink!  Oh, and to make it all better as he is handing us the bill the manager goes on to explain that he understands how important it is that servers know the menu because they have had a few issues with people having allergies to certain things in the food \"but that was really the customers fault more than the servers.\"  \\n\\nThe only reason I am giving this place even one star is because apparently they have a good bartender as my chocolate martini was pretty good.  I know we will never go back and as far as I\\'m concerned this place needs a serious Hell\\'s Kitchen intervention! Cute outdoor patio area for drinks if you can get over passersby who occasionally request money and interrupt conversation. Large servings. Decent prices. Nothing too exciting. The s\\'more desert was a total disappointment. Pretty good little bar with some good beer selections and a decent selection of snacks. As far as the restaurant itself, its so so.  Not exactly sure what identity they are trying to go for food-wise but its nothing to rave about. Well, what can I say about 1130?  Its a great break-up spot, great place to wait one hour for a simple pasta dish, and a great place to get service that will strangely remind you of that girl in HS that, no matter what you did, you couldn\\'t get her attention.\\n\\nSeriously though, I would not recommend this place!  The restaurant itself has a nice ambiance and is inviting.  However, almost immediately you notice that the waiters don\\'t really seem interested or are not too friendly (mind blowing for a job that is all about hospitality).  A friend of mine didn\\'t want a sauce on her pasta and the waiter didn\\'t acknowledge her when she double checked the order.  I flagged him down after he abruptly left so I could make sure the order was correct and his answer was \"Yeah... I heard her\" to which my response was \"A reply of receipt would be nice!\"  \\n\\nThe kitchen was also poor on delivery time.  The restaurant was more than 3/4 empty and it took a little over an hour to get our food to the table (3 people).  Upon delivery, it was obvious that the food had been left on the plate warmer too long or was cooked to the standards of a college cafeteria.  The pasta was hardened on the outside and the chicken was WAY overcooked (Pasta Rustica.)  Additionally, it was evident that the pasta was not drained thoroughly and/or the sauce had something funky going on because there was a nice pool of water on the bottom of the plate.  \\n\\nForget getting a hold of your original waiter.  We had to ask two other waiters for service because ours was somewhere in la-la land.  \\n\\nOverall, this place lacks on service and food quality.  I have re-visited restaurants that lack in service but serve great food.  This place has neither and will leave you wanting for WAY more. Par\\n\\nNice location and interior. Wait staff was nice.  Food was average and my iced tea tasted a bit funny.  Prices are okay, though there are no true signature dishes to draw one into an experience.  Standard kids menu, as well.\\n\\nLooked at the other restaurants in the Arizona Center and it seems all score as average.  Maybe one of them will step up as the jewel of the area.  \\n\\nIt\\'s good to see downtown Phoenix is starting to pick up a personality and vibrancy.  Hope it continues... I went to 1130 last night to celebrate my cousins bday and the ambience was nice. This place is located in downtown Phoenix  but the location is hard to spot if you\\'re driving around. I had to take a star off because it closes at 10 and on a Friday night! I could understand if we were in the suburbs but this is in city, downtown near clubs and the stadiums. However, the staff was still patient with us even though we ordered late and took our time. There is a 10% discount off your bill if you check in. The manager didn\\'t seem too happy when I told him about the discount, but he did give the entire party the discount, which was cool. For dinner I ordered a sirloin steak, but I\\'ve had better. It was very tough.  Overall it wasn\\'t a bad place. I would go back again, but it would be better if they closed a little later. Amazing happy hour. The happy hour menu has an amazing selection of fun and interesting foods. The calamari and wings are just two of my favorite. --Surprisingly, not what you would expect and very, very good. Oh and the drink specials are Great too.',\n",
       "       u'Great Basil Gimlet!  Nice intimate atmosphere and great patio!  A number of good food choices and just a great local hangout.  Get away from the standard stuff and give local a try. The staff is amazing. A few of them have been there for a while and already know what you want and how. Attention for details is just a plus and they do not neglect that. Breakfast, lunch or dinner! Excellent experience here! First off, the location throws you off a bit; but once you get into 32 Sheas little atmosphere, you\\'ll be surprised how nicely ambient the place really is. I ordered an iced chai latte, which is probably the best one I\\'ve had in Arizona.. Trust me, I\\'ve tried many chai lattes. I also ordered a vegetarian sandwich on ciabatta and that was excellent as well. I came here to study and its a great spot to do that. I\\'ll definitely come back when I\\'m back in the area!! Cool, hip little coffeehouse. The Nutella Mocha is a must. My parents were not sure what to think when we walked in but they ended up loving it. Nice ambiance inside with candles and a relaxing looking outside seating. I also got the hummus and vegetables but ran out of vegetables with over half of the hummus left ha. 32 Shea is a fantastic little place for a quick bite or you can sit outside and people watch for hours.  It is just about the best place in North Phoenix for less expensive food and a cool environment. A friend and I went here the other day, coffee for me and a late lunch for her. I got the caramel macchiato with whole milk. The service was fast and friendly. My drink came out with an adorable heart drawn on the top in foam. The drink was warm and filling without being overly sweet. My friend got a tuna salad sandwich with chips, and she said it tasted very good, with an unexpected but pleasant addition of some crunchy apple in the tuna salad. The place is very small on the inside (maybe 8 tables that can seat 2 people each? I didn\\'t count exactly, but somewhere around there), but there\\'s a lot of seating out on the patio. Even though it\\'s tiny, it\\'s feels cool and comfortable without being over-the-top hipster. The patio was a pleasant seating place. Even though 32 Shea is at a fairly busy intersection, the green shrubs surrounding the patio lent a feeling of privacy and intimacy. There was a cute little dog watering station with signs welcoming pets on the patio area, so it\\'s a good place to go if you\\'re a dog person. I want to come back some time and try the food myself... maybe in the spring when the weather will be perfect for sitting outside. I spent Christmas with family in Phoenix, and after taking a walk with the dog at Dreamy Draw Park, we went looking for a place we could go to lunch without dropping the dog off at home first. We found 32 Shea through Yelp, only 1.5 miles from where we were, and it was just about perfect.\\n\\nIt was not easy to spot for those of use who weren\\'t local, despite the fact that it\\'s right out there by the street. Once we found it, though, we knew we\\'d picked a good spot. The enclosed patio was lovely, with a cute little fire hydrant water tap and bowls set up for dogs.\\n\\nWe had glasses of wine and a table that got a little sun. For a northerner, eating outside in December is quite the novelty, and I was going to get as much sun as I could in the process. The sandwiches and salads hit the spot.\\n\\nMy one \"if only\" concerns the lunchtime menu options. There was veg stuff, but it looked like asking for it without cheese would make it uninteresting. There were hummusy things on the dinner menu but not on the lunch. I ended up getting the tuna sandwich without cheese and figuring I\\'d pretend it didn\\'t probably have mayo. I suppose I could also have asked if substituting hummus for cheese on the veg sandwich, but I may never know now. This is a nice small place to grab some breakfast on the patio.  Their coffee is great and I usually get their breakfast burrito.  The breakfast burrito is on the small side but definitely plenty enough to get you going.  It\\'s served with a fresh cilantro sauce.  The patio is very dog friendly which I love if your pup is a friendly one.  Leave the grumpy ones at home!  Nothing worse then trying to enjoy your meal and a dog fight breaks out right next to you. Great little place tucked away on a corner parking lot. Very small inside but the fenced patio looks spacious. It is full of wonderful plants that shield eaters from the parking lot traffic and view of the strip mall. \\nI went there for happy hour and tried their house Merlot and Cab wines as well as the tomato & fresh garlic bruschetta on french bread. Absolutely amazing! Their menu is avant garde and eclectic, with a nice selection of wine and beers. \\nA must visit to experience all that this little place has to offer.',\n",
       "       u'Lovely place with a friendly, easy going and prompt staff.   My friend lives in the area and assumed it\\'s just a coffee shop so the \"is she serious?\" look she had as she walked up was priceless.  The moscow mule I had was perfect and the bruschetta was very tasty.    Will definitely return for more, am very curious to try the nutella mocha. Such a cute little place! Their food is very good and fresh. They offer happy hour almost all day long and the outside is pet friendly. I def would recommend their bruschetta! Only con is that it\\'s small, hopefully they will expand! This place is so small that it\\'s really easy to miss despite being literally right next to the road.  It\\'s very small inside so be prepared to play footsies with your neighbors.  \\n\\nUpon walking in, there\\'s a distinct feeling that you\\'re supposed to know what to do buf if it\\'s your first time, you just stand there feeling awkward and hope that someone helps you.  Eventually someone did and we were seated for lunch.  The food was good.  \\n\\nIt\\'s not a bad place but I wasn\\'t overly impressed. I\\'ve been in about four times and I don\\'t know why I bother coming back . The food Is okay but pretty slow coming out of the kitchen. The staff has an attitude And are not very responsive to their customers at all. I wouldn\\'t go again and I don\\'t recommend it Nice, laid back place. Nutella mocha is pretty good, perfectly sweet without being too much. Place is a bit small and cramped inside, it\\'s also really dark... not a good place to come and do some reading/studying at night. Good service and nice wait staff. Hot Chocolate Nutela... Yeah you have to have some. The food was great. I come to Phoenix to visit a few times a year and this is my favorite stop for morning coffee. Their service is relatively quick and the quality if the drinks is great. It\\'s the perfect stop after a long morning hike in the summer heat. \\n\\nDefinitely give the lavender latte a try! This review is based solely on my visit there yesterday morning for ice coffee. Worst ice coffee ever. The coffee was WAY to old or something because it was to bitter to drink.  3.00 plus a 1.00 tip wasted. What an awesome spot in an unexpected place.\\n\\nGreat food, great service and fair prices.\\n\\nI had the special I\\'d the day (Wednesday is burger and shake).\\n\\nThe burger was good although I would rather have fries instead I\\'d sweet potatoes but oh well.\\n\\nThe coffee is pretty good too and they have home made syrups.\\n\\nCheers\\n\\nFun fact. There\\'s a comfy chair I\\'m the bathroom wtf? Fast, friendly, and delicious! Whether you\\'re in the mood for a quick sandwich or salad at lunch, or a nice seasonal dinner menu with speciality cocktails, 32 Shea has a little bit of everything. This place is a great little cafe right in an area which needs life brought back into it. I always feel better buying coffee and food here as I know the money stays here. What better way to improve the neighborhood. Owners passion really is evident when you see her working her butt off all while keeping a smile. Josh and Jeff best in the BIZ! Friends who live nearby took me to breakfast here on Sunday, I now daydream about the pumpkin spice latte on my drive to work everyday and wish I lived closer. Great food and drinks and good service.  If another locations ever opens Gainey Center could use it. :) I love 32 Shea. It has great coffee, great people, and the foo is delicious. My favorite part is that I can get almond milk for my latte which you can\\'t find at the chains. Thank you 32 Shea. I love this place for its unique atmosphere in a pretty run - down strip mall. I love the variety of coffee drinks, alcoholic beverages, and awesome bruschetta. My complaint is the service: once you order, the wait staff rarely returns to check on you. I am GRINNING and SIGHING with each sip I\\'m taking of my Iced Decaf Vanilla Latte with almond milk. This replaces my interest in any other valley coffee shop. And now that I\\'ve found this place I am contemplating moving closer than my current city which is 30 min away!!! \"Let\\'s have coffee!\" Amanda B. said.\\nSo I got there early. I hooked myself up to super fast wi-fi. I cursed myself for having stuffed myself already as the menu looked delicious. After hugs were shared I watched enviously as Amanda returned to the table with wine. At lunch time.\\n\\nApparently Happy Hour is a twelve hour thing.\\nTWELVE HOURS.\\n\\nDid you hear me?\\n(Dine in only. This is stipulated on the menu. Who tries to take HH to go? Apparently SOME PEOPLE. 32 Shea does have a drive thru.)\\n\\nSo from 6AM to 6PM folks can enjoy the following:\\n$4 bottled craft beer\\n$5 wine, mimosa, bloody mary\\n$6 martinis, cocktails\\n\\nAND then (!) they have a 2-hr munchie hour\\n4pm-6pm (again, dine in only kids)\\n$3 bruschetta\\n$5 munchie menu (which they put on the chalk board)\\n\\nSee here\\'s the thing. If you\\'re a writer, this place is dangerous. You\\'d never get a damn thing done. You\\'d show up bright and early for breakfast (which is served until noon), enjoy coffee, move onto a smoothie and then lunch. (The green smoothie is *excellent*.) At some point a beve would make sense, right? And then, well, it\\'s drinking time?\\n\\nThis is an adorable cozy space. You will fall in love with it. Oops! I got all sorts of excited and left something out. You place your order up front at the cashier and food is brought to you. Tables are cleared for you. \\n\\nI took a menu to keep in my car. YES, I did that. This place isn\\'t in my neck of the woods. However, I cannot wait to grab food the next opportunity I\\'m up here again!\\n\\nUPDATE: While you\\'re here be sure to try the New Mexican burrito. The green salsa is to die for. (I\\'m hoping they start selling this to go soon.) Garlic, jalape\\xf1os, cilantro, tomatoes, onion, and some other heaven. I can\\'t remember what else Rebecca, the super cool owner, described with zest. She\\'s currently sporting purple short hair. All the employes rock. There\\'s a punky and fun vibe going on here. Good times :) THE best Lox & Bagel for only $7.50!\\nThis cute little joint does salmon right. They cure their own salmon and serve it with a good amount of cream cheese, a toasted bagel, slivered red onion, a carrot and daikon mixture and capers (they need to add a few more capers to each order, i only had 4 on each half and I really like those little buggers). \\nThey have happy hour all day so you can accompany your breakfast with a $5 mimosa.\\nThere is no table service, so walk in and order at the register, then your food is delivered to your table and if you\\'re lucky the chef himself will come out and chat about his food.\\nThe service here is never warm and fuzzy, but they get the job done and I always leave happy. I work out at Youfit which is right behind 32 Shea. I never noticed it! What a gem! There is a drive through window, bar and seating.  The decor is very calming and inviting.  This is quaint little place to get away and just relax, read or meet someone for coffee, tea or cocktails.  My test is the regular coffee. It was perfect! I\\'ll be back. Good place to get a coffee or tea.   Assorted. Angels and muffins.   I tried the nuttella strawberry muffin and it was very good.  Enjoy the place.  Very friendly and affordable I really want there to be a day where I can put 5 stars on here!! I love this place. The ambience, the food, the coffee (their decaf is the best local I\\'ve had!). But sometimes, the service is... okay. I\\'m a stickler about my stamp cards (and I\\'m honest) so I was really dismayed when I asked if I can get stamped for 2 drinks I bought last weekend that I forgot to get stamps for. I guess people lie about that stuff because they said NO. SUPER bummed about that! LOL. I\\'m a regular. Why would I lie about that? \\nThe 2nd thing... I get really uncomfortable when the employees are getting reprimanded in front of everyone, by the manager. I don\\'t think it\\'s professional, and if they need to be spoken to about anything, it should be done in the back, so none of the customers hear it. I\\'ve also stopped coming for dinner because nearly everything they make has PORK in it (which is a HUGE bummer when you don\\'t eat pigs!) The chef is otherwise amazing! I\\'ve sent them a message on FB to see if they use local, organic grown ingredients, but I\\'ve never gotten an answer on that either :( Other than those things, I love coming here, I really do! Someone would really have to f*ck things up for me to stop :) Came here last Saturday for lunch with my mom and dad.  I\\'m pretty sure this used to be one of those photo huts when I was growing up.  The place is tiny inside.  Cute, but a bit noisy.  If it was cooler outside, it would have been great to sit on the patio.  \\n\\nThe sandwiches were good.  I had the turkey which I thought was a bit bland, but you could tell it was made with good ingredients.  My dad had a BLT that he said was excellent, and my mom had the roast beef sandwich with the horseradish cream sauce.  I wish I had gotten that!!!!  It was delicious!  Next time I go back, I will have that for sure.\\n\\nTheir coffees looked nice, and I would like to try them as well.\\n\\nI will be going back for that sandwich.  It\\'s a very cute little place.  Nice addition to 32nd Street!  Good to see a little gem in the old neighborhood. I always get the special-which it is!  Healthy and delicious house salad, too. Fantastic smoothies and coffee. Why are the staff so happy all the time?  Because they eat there! What a great place. Nothing else to say, you\\'ve got to check it yourself to understand. Trust me, you should!! Awesome drinks food and especially awesome lady in the morning never forgets to remind me about the punch card.  And they have a drive through. Service was terrible for just sitting down and getting coffee at night, it took longer to get the check than it took to drink the coffee. No gripes with the coffee itself, just crumby service and patio music. I live a mere mile from 32 Shea, and pass it at least twice a day, every day. I remember when the building was a little coffee shop. Never had a reason to stop in until my gal-friend, who lives on the west side(!), suggested we meet there for dinner. Now... I hang my head in shame. I should have been the one saying \"Oh, you have to try 32 Shea. It\\'s amazing!\" Well, I am now a fan and we plan on going monthly. This will give me the opportunity to try EVERYTHING. \\n\\nThis visit I had the Roast Beef Sliders. I can\\'t express to you how melt-in-your-mouth moist the beef was, and the wee buns were incredibly soft (I\\'m sure it\\'s an artisan bread and not just a \"bun\"). And the horseradish spread was delish! We didn\\'t partake in any leaded beverages, but they have a pretty nice selection.\\n\\nI think the most amazing part of this experience is... you forget you are seated just yards from 32 St. Not an overwhelmingly busy stretch of road, but it does have its fair share of traffic. No matter to me! The strategically placed trees, music and staff divert distract and engage successfully!\\n\\nThe only reason i took off a star is its size, especially indoors. Very \"quaint.\" The outdoor patio is a great location, though, when the weather is kind. \\n\\nOverall, we really enjoyed ourselves and look forward to returning. Terrible service. Just stood at the bar for 10 mins, 2-3 servers and baristas standing right there, and weren\\'t greeted or asked if we wanted to place and order. Wake up. Staff is unprofessional and disorganized when the place is busy. I like small and cozy spots but this place gives a new meaning to the word. It\\'s extremely cramped. Despite all of that the food is good and the drinks are great. Just be prepared for long waits on the weekend and a frustrating staff. Just had a latte it\\'s above average in quality\\nExpress is on the lighter side of roasts\\nMilk is just shot into the cup or poured quickly. Still a lot better then the local chains around This area solid They have a good New Mexico breakfast burrito... I love their verde salsa! BUT.... It takes AWHILE for a simple burrito. Not to mention that I came 1 min after breakfast ended and they wouldn\\'t make it. Ok no big deal there is a reason for a time constraint but then the other two things I wanted weren\\'t ready yet. Then another time a server forgot an entire sandwich and I had to go back. Decent prices but an extremely ditzy and not accommodating staff makes for a 3 star review. 32 Shea is not the place for large parties.  Went with a group of 10 people.  Was very excited based on the menu.  The location is not the best, but once you are inside, you can\\'t even tell you are in the middle of an old strip shopping center on 32nd street.  It was very nice on the patio and had a great ambience.  When we arrived, the hostess was rude and kept walking by us with a scowl on her face.  Took quite a while for them to get a table together and even then it was too small.  Luckily, most people were sharing food so we had enough room.  The waitress was impatient and forgot to bring one drink (which we later had to have removed from the bill).  I ordered a tuna salad with house made blue cheese dressing.  It was very good.  One of our group ordered a delicious coffee drink and another ordered the moscow mule and said it was great.  One person went to the bar for a margarita and it literally took 20 minutes.  She did like the drink and said it was the strongest she ever had.  When it came time to pay, the waitress said she could not do separate checks and even asked the owner, who also said no, not for big groups.  Would have been nice to know when we sat down.   I asked if there was an ATM and she said no.  I asked if there was one in the shopping center nearby and she said she had no idea.  Instead of giving us any options she simply walked away.  About 10 minutes later, we learned from the owner that while they would not do separate checks, they would allow multiple credit cards.  Again, just tell us and there is no problem.  I really want to try some of their signature cocktails, so I may go back.',\n",
       "       ...,\n",
       "       u'Yummmmmm, I love this place, I will have to say though if you are looking for a typical Americanized Chinese restaurant this is not the place for you. While they do have an \"American menu\" they also have a huge traditional Chinese menu (you might need to ask for it) We are regulars here and while one of my favorite dishes here is their spicy mongolian beef, my fiance John and I also love the fish with black bean sauce, salted fish fried rice, tangerine beef, wonton soup, chicken corn chowder and their peking duck as well. They also have a lunch buffet during the week for $5.75 however we have never tried that as we know what we like to order when we stop in. Overall I LOVE LOVE LOVE this place when we craving good Chinese food! = = = = = =  WEEKDAY LUNCH BUFFET!  = = = = = =\\n\\nAfter having taken over two years to get back around to this mid-sized restaurant which offers a weekday Lunch Buffet from 11:30 to 2, Mike C. & I finally dropped back in today.  It\\'s a somewhat stylish place in a Fry\\'s Food shopping center, & offers a comfortable atmosphere with both booths and tables available.  The serving selection is still dinky for a Chinese Buffet, only 20 main items, but just wait \\'til you taste how good the food is here!\\n\\nI started with a bowl of their absolutely tops Hot & Sour Soup, which came with pork morsels in it & REAL Chinese soup spoons to eat it with!  After that, it was on to just one more great dish after another.  Rather than try to impress with a zillion different offerings, they just serve up these few, & make every one of them really right!  By the time it was over, I was just as full as leaving a Buffet with 150 selections, & saying that yes, factoring for the tiny price of $5.75 this wonderful place really is \"AS GOOD AS IT GETS\"!     :-))\\n\\nPS:  The name of this restaurant is \"Hong Kong\", in case Yelp hasn\\'t corrected the header by the time you read this. = = = = = =  WEEKDAY LUNCH BUFFET!  = = = = = =\\n\\n\\nAfter having taken over two years to get back around to this mid-sized restaurant which offers a weekday Lunch Buffet from 11:30 to 2, Mike C. & I finally dropped back in today.  It\\'s a somewhat stylish place in a Fry\\'s Food shopping center, & offers a comfortable atmosphere with both booths and tables available.  The serving selection is still dinky for a Chinese Buffet, only 20 main items, but just wait \\'til you taste how good the food is here!\\n\\nI started with a bowl of their absolutely tops Hot & Sour Soup, which came with pork morsels in it & REAL Chinese soup spoons to eat it with!  After that, it was on to just one more great dish after another.  Rather than try to impress with a zillion different offerings, they just serve up these few, & make every one of them really right!  By the time it was over, I was just as full as leaving a Buffet with 150 selections, & saying that yes, factoring for the tiny price of $5.75 this wonderful place really is \"AS GOOD AS IT GETS\"!     :-)) Oh, before you read...I didn\\'t come for the buffet. Why on EARTH would you want to eat food that\\'s been sitting under heat lamps all day? The integrity of the food is going to be compromised.  Stop expecting perfection at a buffet folks; ain\\'t gonna happen. \\n\\nBack to the review:  Hong Kong Asian Diner is a little unassuming place serves nice homey Chinese Cuisine. I usually think it\\'s a good sign when I am the only white person in an \"ethnic\" food restaurant...and both times I have eaten here, that\\'s been the case.\\n\\nThey have 2 menus (like a lot of good Chinese spots do) one for traditional eaters...and one for \"Everyone else\".  I asked if I could take a look at both and was questioned \"Ohh, you LIKE Chinese Food?\" Well, yeah! That\\'s why I\\'m here.\\n\\nAnyway, the ladies here are super sweet, funny and attentive. Their food is also really lovely.  \\n\\nI had the Buddha\\'s feast (from the traditional menu) and the Orange Chicken (yup...the everyone else menu) and I loved both! The vegetables were crisp, tasty and weren\\'t overwhelmed by the light sauce...and the Orange Chicken...drooling...sooo good! They slice it into these strips and flash fry it. NO heavy breading, and the sauce was super sticky, sweet, and tangy.\\n\\nWashed it all down with an effervescent and cheap (nice, right?) Tsing Tao while being chatted up a few times, since I was dining alone.\\n\\nI really liked these ladies, and I tell ya --- Customer Service really does go along way.',\n",
       "       u'Went here for lunch today to see what could be so special about a place that just serves chicken fingers and we didn\\'t get off to a good start.\\n\\nI placed my order at 11:18 am (time on my receipt), and it was a mostly empty restaurant. The lunch rush had not started yet. I placed my order for a \"Box Combo\" and lemonade and stood by the counter thinking they would call my name. About 10 minutes into my wait I noticed they were bringing the orders to the tables so I went and sat down. I finished my lemonade while I waited and notice there was a charge for a refill so I got some tea instead. At 11:39 my order was brought to me.\\n\\nThe food was pretty good but how the heck does it take 21 minutes to cook chicken fingers and fries when that is all you do?\\n\\nBy the time I left it was very busy and I wondered if those people were waiting longer than I had to when the place wasn\\'t busy? I\\'ll give them another try and see if they are any faster next time. Great surprise! Crinkle french fries are really great. Coleslaw is very tasty. Chicken tasted very fresh, nice and crispy. Secret sauce is ranch and BBQ sauce I suspect. Tastes great with the chicken. Employees are very friendly and efficient. Will return. Simple menu + tender chicken = Good\\n\\nDropped in with the work team to try out Raising Cane\\'s in Avondale, at the 10 and 101.  It\\'s basically a Five Guys but with chicken strips.  Menu is simple and straightforward.  The four meal options are a quick picker\\'s heaven.  Staff was nice and snappy with the service.  And the amount of food you get for the money is an excellent deal.\\n\\nMy team loved their meals.  That said, for me it\\'s chicken strips, bread, slaw, good wavy fries, and a soda.  Par. I\\'m sad to give just 2 stars on my first visit. I was hopeful for this new place. I went through the drive thru. What\\'s up with the mic system? It was so hard to hear the employee.  And who puts the first window just a few feet from the place to order? No wonder lines here get long! \\n\\nI ordered the Caniac to share with my son. I paid for the Caniac. I got home and saw they did not give me the Caniac. Packed my son back up in the car and drove back with now cold, untouched food. I chose to go inside to tell them about the order mix-up. I wasn\\'t mad. They are new and it happens. Walking in we passed many employees out front on a break cussing and yelling. Inside employees were messing around. \\n\\nI gave my food back and explained issue. The cashier took it and told cook they messed up on the order. Another random guy (maybe an employee who was off) yelled \"Yea fix it!\". The manager was called and she was confused because she didn\\'t understand why she was needed. I never called her over.  She just said \"do we owe you money? \" I got my food back. The container felt warm and I opened it to check it over. \\n\\nAll is well so back to the car to load in my kid. Cold food 10 minutes later at home. The cook just added some chicken to the box of food I returned. \\n\\nNot impressed and will not return. The chicken and sauce lacked flavor. The staff was mediocre at best. Let\\'s hope this place turns around quickly!\\n\\nChick-fil-a for life now! This isn\\'t my sort of restaurant for a full meal since I don\\'t do deep-fried stuff, but I was happy to sample my husband\\'s foods. \\n\\nWe didn\\'t go inside. We made an attempt to do the drive-through at 5:30PM on a Friday and the line was some 10 cars long, so we made a return attempt about 9PM and sped right through. Food was ready very quickly.\\n\\nThe chicken is crispy and hot, with high quality meat. The mayo-based sauce didn\\'t interest either of us. It really needed a different sauce to add some oomph.\\n\\nThe fries were nothing extraordinary: warm, but not hot and fresh. I was reminded of frozen fries I could bake up in my oven at home.\\n\\nThe big winner here? The Texas toast. I\\'m a bread snob--I bake all my own bread--and THIS was the good stuff. If I had to eat at this place, I\\'d make my whole meal this bread. The cut is about an inch in width. The bread is super soft yet solid in texture, and is toasted just enough to make it crispy. Perfection in bread, people.\\n\\nMy husband wasn\\'t very happy with his drink. The cup was solid ice. He had about two slurps of Sprite and that was it. I love Raising Canes.\\n\\nThe sauce is to die for, the chicken is always fall apart tender. These guys do one thing and they do it well. you won\\'t get a better chicken strip basket anywhere else. Yes all of the food is deep fried but treat yourself sometime and check this place out. I dunno what happened but I got baby chicken fingers it seems, in both boxes! Running low on chicken guys or what? - Very limited menu but in a good way\\n- food quality is not what you would expect at a fast food   restaurant, it was very good\\n- the employees are nice but a little too excited for your average customer, they take customer service very serious! This place does one thing good and that is chicken strips!  I do not think they\\'ll mind me saying this.  Prices are very reasonable.  The strips are amazing for fast food!  I\\'ve been to their other locations and this store on their second or third day.  Raising Cain\\'s has some impressive quality standards in-place.  Every location I go to I am always served juicy chicken strips and the staff are trained well to assure that you will have excellent customer service.  I\\'m going on a limb here and am declaring these chicken strips the best fast food has to offer. Delicious!  You can have anything you want here, as long as it\\'s chicken fingers.  Delicious, delicious, chicken fingers...mmmm. Food was good and their dipping sauce was pretty good too.\\nIt freaked me and my wife out when they started yelling in the kitchen but i guess its part of the show. Who can resist a southern style joint with that friendly feel, tasty chicken, and sweet tea?!  Raising Cane\\'s is always hopping...think In \\'n Out on it\\'s busy afternoons.  Every time, you are warmly greeted by almost everyone who works there and they address you by name (after getting it from you at the counter).  \\n\\nTheir famous sauce definitely makes it.  I\\'ve been a couple times now and only one time did I get dry chicken.  The other visits were made of juicy chicken strips!  You get a lot of food even if you only order their 3-piece, so be cautious of The Box with chicken, coleslaw, fries, and toast.  \\n\\nTry out their sweet tea or order yourself a lemonade (you have to ask when you order since the lemonade isn\\'t out for you to get yourself). This was my first visit to this location. The food was still tasty, but the customer service was lacking. The person taking orders seemed less than enthusiastic to be there. At one point, I saw a young girl drop her cup of ice on the ground and was passed by many workers. After a few minutes of cleaning her own mess, someone finally helped her. Lastly, at the other locations I\\'ve been to, managers generally come out to greet and visit. The person I assumed to be the manager never interacted with anyone, even the workers. Marginally decent chicken strips for marginally decent prices. The chicken was relatively moist but a little tough, the Cane\\'s sauce was definitely not boss in my book (very little flavor other than sweet) and the fries were lukewarm and soggy. As others have mentioned, the drive-thru is engineered poorly with a payment window right as you turn the corner, leading to long lines. If there were other sauce options and better fries it\\'d be a place re-visiting. Wow ia that drive thru packed after 5 p.m.!  It was way faster for me to just get off of my car and order inside. I got my order extremely fast. I even got out sooner than some of the cars that were at the the drive thru. \\n\\n It was my husnand and my first time trying out this restaurant. We wanted to try it after my brother raved of it being the best. I got the 6 piece chicken fingers, it comes with: fries, Cole slaw, a piece of toast,  and cane sauce.  I thought it was a little in the pricey side. I didn\\'t really enjoy the chicken with their sauce. I ate mine with the Louisiana hot sauce they have at the restaurant. If my husband or I are ever in the mood for \"chicken fingers\" we\\'ll just stick to KFC not worth the drive from Buckeye. This is my third time here, first time reviewing. We always go through the drive thru. I have never had an issue with my order or customer service. I\\'m usually not a fan of chicken tenders, these are the best and even with the drive home they are crisp and warn. I don\\'t know what they put in the sauce but it\\'s the best. I could go on and on about foods that are the best here, cole slaw, sweet tea and lemonade. This is one of the tastier fast food picks. This is a must try All I have been hearing is how great this place is, best chicken fingers in town. Well after hearing all of the hype, Wife and I decided to try this franchise out. \\nNO BIG DEAL!!\\nChicken was OK, not much flavor. Thinking they are counting on you trying their Cane Sauce for the flavor? Speaking of sauce, they have ketchup, honey mustard, and cane sauce. Now their Cane Sauce is like a thousand island with a little kick. They do not offer is mustard, and BBQ Sauce? Nothing here really stood out for me, it really wasn\\'t that big of a deal. I would rather go to Chick-fil-a anytime! I do need to mentioned that their service was really good, the gals were very courteous, always making sure everything was fine! Overall, I am glad we at least tried it, not saying I wouldn\\'t come here again. But there is better chicken out there. Great service every time I come here!  Not a lot on the menu but that makes it easy to decide.  The chicken, special sauce, and Texas toast are amazing!  Not the greatest fries but everything else makes up for it.  Hoping one day they put one in North West Peoria! went through the drive thru, service was good. ckn was good and soft, very yummy esp. there cane sauce. the fries were mediocre and some were over cooked. not a coleslaw fan. but the toast was good. overall a decent meal for 9.07 that i split with my son. better places out there. I love this place. Everything is cooked to perfection and the cane sauce is so amazing! I definitely recommend this place to anyone that has need been here. Only downside to it is that the drive-thru isn\\'t very fast. Highly suggest just going inside! I first found this place while in Las Vegas, and it quickly became a staple during my trips.  To choose to eat fast food in vegas over the million other options should speak for itself.  Imagine my excitement when one opened up near my house!  Very simple menu, but great food doesn\\'t need to be complicated.  Pass on the ketchup, I would drink the sauce alone if I wasn\\'t worried about dying.  Dip everything you own in it. This place is absolutely fantastic! Super quick and easy menu, and the staff is courteous beyond belief!\\nI\\'ve come here well over 5 times now, and each time, the food was piping hot, the chicken tender and juicy, fries are nice and crispy. \\nI always swap the coleslaw for extra canes sauce, because who doesn\\'t love some extra sauce to dip!\\nAs busy as this place is, I never see it dirty.\\nThe staff is always friendly with you, and even asks for photo ID if you are paying with a debit card, which is always a plus from me.\\n\\nIf you love their sauce, they do sell it to you in their large 42oz drink cups.\\n\\nOverall, this is the best chicken place in the valley, hands down. Don\\'t really understand the appeal of this place. Chicken was fine, but certainly nothing worth raving about. And with nothing else on the menu other than the strips or sandwiches made with strips, there just really isn\\'t much to say here.\\n\\nTheir signature Cane\\'s sauce? Meh. Would\\'ve loved some BBQ sauce. Anything to add a little spice and flavor to some relatively bland chicken. \\n\\nI don\\'t really understand why people would bother packing this place out when Chick Fil A is across the street. Unless it\\'s Sunday, of course.',\n",
       "       u'I have to admit the TB is a guilty junk food kinda thing when you are vegetarian.  Pretty much anything on the menu can be made vegetarian which is pretty great when you are in a hurry.  This location seems to be about the same as the rest. I\\'m not sure I can bring myself to give them 4 stars, but the food is what you would expect from the TB nothing life changing, but consistent.  The staff at this location are younger people as are most fast food places who always seem pretty cheerful.  I usually go through the drive-thru and they are always very polite and pretty quick.  Not lightening speed or anything, but I have never driven by because there were a few people in line ahead of me.\\n\\nSo basically they have very nice staff running the drive-thru so if you want some TB then this is a good one. I normally regard Fast food as well..... fast food! Generally the food is consistent between restaurant locations unless something is pretty off. I also don\\'t normally review fast food restaurants for this reason but this location is the exception tonight. \\nFirst of all I will start with why. In the past five mos or so I have noticed that some of the TB locations have not been as customer service oriented nor as friendly. Again, I have actually and sadly come to expect this from fast food locations. \\nTonight the crew working at this location was very pleasant and outgoing! They were patient, fast and courteous. Additionally THEY asked me if I needed any condiments.( If your asking why that is such a big deal, its because most of the locations now do not ask you if you need condiments. I expect fast food orders that have food which is generally paired with condiments to have condiments provided automatically.\\n When they don\\'t just put them in there or I have to remember to ask i generally end up pulling around the side and having to go into the location to go get them. Sorta defeats the purpose of drive through. I inquired about this at one location and they said it was to save money and it was the customers responsibility to ask \" its policy\". \\nI am huge on customer service so you can imagine how this went over! I haven\\'t been back to the other location in years even though I am near it at least three times per week. \\nSo when this location asked they scored a huge smile from me. Additionally I got home and found that they had given me a little extra! Yay for the times when I go to a location that doesn\\'t provide them, it will save me at least one return trip. Last but not least the order was accurate. \\nCrew on duty tonight really had their stuff together. Be careful if you are vegetarian and order from here.  The last two times they didn\\'t follow my order and I got a chicken burrito instead of a veggie one.\\nVery disappointing.  If you order the normal stuff and are flexible about what they actually give you then the staff is pretty nice and it\\'s not that bad. It was a guilty thing for me anyway so I\\'m going to go elsewhere. Quick update, the Drive-Thru guy is \"Brad\" I know, I know,4 stars for a Taco Bell location is absurd because it is fast food. However, this particular location has the BEST customer service I\\'ve ever experienced at a fast food joint. I\\'ve come here about 10 times and I leave smiling every single time. \\n\\nWhen you pull up to the drive-thru menu, you\\'re met with a very pleasant \"Hello! How are you today?\" The guy running the drive thru is truly an inspiration to fast food service. My meal is always on point, and never sloppy. Of course it is only a Taco Bell, so it is not gourmet cuisine, but who can afford to have bistro food every meal? When eating fast food, make sure you get the best experience you can and I recommend this location for just that. \\n\\nI will try to get the name of the specific guy of the drive-thru and I\\'ll post it later!'], dtype=object)"
      ]
     },
     "execution_count": 10,
     "metadata": {},
     "output_type": "execute_result"
    }
   ],
   "source": [
    "df_AZ[df_AZ.text.apply(lambda x: len(x.split())) > 700].text.values"
   ]
  },
  {
   "cell_type": "code",
   "execution_count": 6,
   "metadata": {
    "collapsed": false
   },
   "outputs": [],
   "source": [
    "save_to_pickle(df_AZ, '../data/phx/phoenix_yelp_features.pkl')"
   ]
  },
  {
   "cell_type": "code",
   "execution_count": 516,
   "metadata": {
    "collapsed": false
   },
   "outputs": [],
   "source": [
    "I_AZ = lib.get_AZ_inspections(AZ)"
   ]
  },
  {
   "cell_type": "code",
   "execution_count": 557,
   "metadata": {
    "collapsed": false
   },
   "outputs": [
    {
     "name": "stdout",
     "output_type": "stream",
     "text": [
      "2012-10-23 00:00:00\n",
      "2015-10-27 00:00:00\n"
     ]
    }
   ],
   "source": [
    "print pd.to_datetime(I_AZ.date).min()\n",
    "print pd.to_datetime(I_AZ.date).max()"
   ]
  },
  {
   "cell_type": "code",
   "execution_count": 556,
   "metadata": {
    "collapsed": false,
    "scrolled": true
   },
   "outputs": [
    {
     "data": {
      "text/html": [
       "<div>\n",
       "<table border=\"1\" class=\"dataframe\">\n",
       "  <thead>\n",
       "    <tr style=\"text-align: right;\">\n",
       "      <th></th>\n",
       "      <th>comments</th>\n",
       "      <th>cutting_edge</th>\n",
       "      <th>date</th>\n",
       "      <th>grade</th>\n",
       "      <th>inspec_id</th>\n",
       "      <th>link</th>\n",
       "      <th>n_priority</th>\n",
       "      <th>permit_id</th>\n",
       "      <th>purpose</th>\n",
       "      <th>has_v</th>\n",
       "      <th>id_</th>\n",
       "    </tr>\n",
       "  </thead>\n",
       "  <tbody>\n",
       "    <tr>\n",
       "      <th>2000</th>\n",
       "      <td>This establishment is not participating in the...</td>\n",
       "      <td></td>\n",
       "      <td>07/30/2015</td>\n",
       "      <td>Not Participating</td>\n",
       "      <td>3755626</td>\n",
       "      <td>/EnvSvc/OnlineApplication/EnvironmentalHealth/...</td>\n",
       "      <td>0</td>\n",
       "      <td>FD-00235</td>\n",
       "      <td>Routine Inspection</td>\n",
       "      <td>True</td>\n",
       "      <td>FD-00235</td>\n",
       "    </tr>\n",
       "    <tr>\n",
       "      <th>2001</th>\n",
       "      <td>This establishment is not participating in the...</td>\n",
       "      <td></td>\n",
       "      <td>04/29/2015</td>\n",
       "      <td>Not Participating</td>\n",
       "      <td>3716286</td>\n",
       "      <td>/EnvSvc/OnlineApplication/EnvironmentalHealth/...</td>\n",
       "      <td>1</td>\n",
       "      <td>FD-00235</td>\n",
       "      <td>Routine Inspection</td>\n",
       "      <td>True</td>\n",
       "      <td>FD-00235</td>\n",
       "    </tr>\n",
       "    <tr>\n",
       "      <th>2002</th>\n",
       "      <td>This establishment is not participating in the...</td>\n",
       "      <td></td>\n",
       "      <td>01/29/2015</td>\n",
       "      <td>Not Participating</td>\n",
       "      <td>3675671</td>\n",
       "      <td>/EnvSvc/OnlineApplication/EnvironmentalHealth/...</td>\n",
       "      <td>1</td>\n",
       "      <td>FD-00235</td>\n",
       "      <td>Routine Inspection</td>\n",
       "      <td>True</td>\n",
       "      <td>FD-00235</td>\n",
       "    </tr>\n",
       "    <tr>\n",
       "      <th>2003</th>\n",
       "      <td>This establishment received an B Grade and had...</td>\n",
       "      <td></td>\n",
       "      <td>10/13/2014</td>\n",
       "      <td>B</td>\n",
       "      <td>3633122</td>\n",
       "      <td>/EnvSvc/OnlineApplication/EnvironmentalHealth/...</td>\n",
       "      <td>NA</td>\n",
       "      <td>FD-00235</td>\n",
       "      <td>Routine Inspection</td>\n",
       "      <td>True</td>\n",
       "      <td>FD-00235</td>\n",
       "    </tr>\n",
       "    <tr>\n",
       "      <th>2004</th>\n",
       "      <td>This establishment is not participating in the...</td>\n",
       "      <td></td>\n",
       "      <td>07/23/2014</td>\n",
       "      <td>Not Participating</td>\n",
       "      <td>3598800</td>\n",
       "      <td>/EnvSvc/OnlineApplication/EnvironmentalHealth/...</td>\n",
       "      <td>NA</td>\n",
       "      <td>FD-00235</td>\n",
       "      <td>Routine Inspection</td>\n",
       "      <td>True</td>\n",
       "      <td>FD-00235</td>\n",
       "    </tr>\n",
       "  </tbody>\n",
       "</table>\n",
       "</div>"
      ],
      "text/plain": [
       "                                               comments cutting_edge  \\\n",
       "2000  This establishment is not participating in the...                \n",
       "2001  This establishment is not participating in the...                \n",
       "2002  This establishment is not participating in the...                \n",
       "2003  This establishment received an B Grade and had...                \n",
       "2004  This establishment is not participating in the...                \n",
       "\n",
       "            date              grade inspec_id  \\\n",
       "2000  07/30/2015  Not Participating   3755626   \n",
       "2001  04/29/2015  Not Participating   3716286   \n",
       "2002  01/29/2015  Not Participating   3675671   \n",
       "2003  10/13/2014                  B   3633122   \n",
       "2004  07/23/2014  Not Participating   3598800   \n",
       "\n",
       "                                                   link n_priority permit_id  \\\n",
       "2000  /EnvSvc/OnlineApplication/EnvironmentalHealth/...          0  FD-00235   \n",
       "2001  /EnvSvc/OnlineApplication/EnvironmentalHealth/...          1  FD-00235   \n",
       "2002  /EnvSvc/OnlineApplication/EnvironmentalHealth/...          1  FD-00235   \n",
       "2003  /EnvSvc/OnlineApplication/EnvironmentalHealth/...         NA  FD-00235   \n",
       "2004  /EnvSvc/OnlineApplication/EnvironmentalHealth/...         NA  FD-00235   \n",
       "\n",
       "                 purpose has_v       id_  \n",
       "2000  Routine Inspection  True  FD-00235  \n",
       "2001  Routine Inspection  True  FD-00235  \n",
       "2002  Routine Inspection  True  FD-00235  \n",
       "2003  Routine Inspection  True  FD-00235  \n",
       "2004  Routine Inspection  True  FD-00235  "
      ]
     },
     "execution_count": 556,
     "metadata": {},
     "output_type": "execute_result"
    }
   ],
   "source": [
    "I_AZ.head()"
   ]
  },
  {
   "cell_type": "code",
   "execution_count": 590,
   "metadata": {
    "collapsed": false
   },
   "outputs": [],
   "source": [
    "V_AZ, I_AZ = lib.get_AZ_violations(I_AZ)"
   ]
  },
  {
   "cell_type": "code",
   "execution_count": 587,
   "metadata": {
    "collapsed": false
   },
   "outputs": [],
   "source": [
    "I_AZ['test'] = lib.v_count(I_AZ, V_AZ, 'n_core')"
   ]
  },
  {
   "cell_type": "code",
   "execution_count": 591,
   "metadata": {
    "collapsed": false
   },
   "outputs": [
    {
     "data": {
      "text/html": [
       "<div>\n",
       "<table border=\"1\" class=\"dataframe\">\n",
       "  <thead>\n",
       "    <tr style=\"text-align: right;\">\n",
       "      <th></th>\n",
       "      <th>has_v</th>\n",
       "      <th>n_violations</th>\n",
       "      <th>v_core</th>\n",
       "      <th>sum_core</th>\n",
       "      <th>v_foundation</th>\n",
       "      <th>sum_foundation</th>\n",
       "      <th>v_priority</th>\n",
       "      <th>sum_priority</th>\n",
       "      <th>test</th>\n",
       "    </tr>\n",
       "  </thead>\n",
       "  <tbody>\n",
       "    <tr>\n",
       "      <th>count</th>\n",
       "      <td>44502</td>\n",
       "      <td>24926.000000</td>\n",
       "      <td>44502.00000</td>\n",
       "      <td>44502.000000</td>\n",
       "      <td>44502.000000</td>\n",
       "      <td>44502.000000</td>\n",
       "      <td>44502.000000</td>\n",
       "      <td>44502.000000</td>\n",
       "      <td>44502.00000</td>\n",
       "    </tr>\n",
       "    <tr>\n",
       "      <th>mean</th>\n",
       "      <td>0.56011</td>\n",
       "      <td>2.436652</td>\n",
       "      <td>0.55811</td>\n",
       "      <td>0.575839</td>\n",
       "      <td>0.349939</td>\n",
       "      <td>0.361062</td>\n",
       "      <td>0.473170</td>\n",
       "      <td>0.479192</td>\n",
       "      <td>0.55811</td>\n",
       "    </tr>\n",
       "    <tr>\n",
       "      <th>std</th>\n",
       "      <td>0.496379</td>\n",
       "      <td>1.657970</td>\n",
       "      <td>0.92443</td>\n",
       "      <td>0.972505</td>\n",
       "      <td>0.695587</td>\n",
       "      <td>0.727933</td>\n",
       "      <td>0.821465</td>\n",
       "      <td>0.840352</td>\n",
       "      <td>0.92443</td>\n",
       "    </tr>\n",
       "    <tr>\n",
       "      <th>min</th>\n",
       "      <td>False</td>\n",
       "      <td>1.000000</td>\n",
       "      <td>0.00000</td>\n",
       "      <td>0.000000</td>\n",
       "      <td>0.000000</td>\n",
       "      <td>0.000000</td>\n",
       "      <td>0.000000</td>\n",
       "      <td>0.000000</td>\n",
       "      <td>0.00000</td>\n",
       "    </tr>\n",
       "    <tr>\n",
       "      <th>25%</th>\n",
       "      <td>0</td>\n",
       "      <td>1.000000</td>\n",
       "      <td>0.00000</td>\n",
       "      <td>0.000000</td>\n",
       "      <td>0.000000</td>\n",
       "      <td>0.000000</td>\n",
       "      <td>0.000000</td>\n",
       "      <td>0.000000</td>\n",
       "      <td>0.00000</td>\n",
       "    </tr>\n",
       "    <tr>\n",
       "      <th>50%</th>\n",
       "      <td>1</td>\n",
       "      <td>2.000000</td>\n",
       "      <td>0.00000</td>\n",
       "      <td>0.000000</td>\n",
       "      <td>0.000000</td>\n",
       "      <td>0.000000</td>\n",
       "      <td>0.000000</td>\n",
       "      <td>0.000000</td>\n",
       "      <td>0.00000</td>\n",
       "    </tr>\n",
       "    <tr>\n",
       "      <th>75%</th>\n",
       "      <td>1</td>\n",
       "      <td>3.000000</td>\n",
       "      <td>1.00000</td>\n",
       "      <td>1.000000</td>\n",
       "      <td>1.000000</td>\n",
       "      <td>1.000000</td>\n",
       "      <td>1.000000</td>\n",
       "      <td>1.000000</td>\n",
       "      <td>1.00000</td>\n",
       "    </tr>\n",
       "    <tr>\n",
       "      <th>max</th>\n",
       "      <td>True</td>\n",
       "      <td>16.000000</td>\n",
       "      <td>10.00000</td>\n",
       "      <td>12.000000</td>\n",
       "      <td>8.000000</td>\n",
       "      <td>8.000000</td>\n",
       "      <td>8.000000</td>\n",
       "      <td>10.000000</td>\n",
       "      <td>10.00000</td>\n",
       "    </tr>\n",
       "  </tbody>\n",
       "</table>\n",
       "</div>"
      ],
      "text/plain": [
       "          has_v  n_violations       v_core      sum_core  v_foundation  \\\n",
       "count     44502  24926.000000  44502.00000  44502.000000  44502.000000   \n",
       "mean    0.56011      2.436652      0.55811      0.575839      0.349939   \n",
       "std    0.496379      1.657970      0.92443      0.972505      0.695587   \n",
       "min       False      1.000000      0.00000      0.000000      0.000000   \n",
       "25%           0      1.000000      0.00000      0.000000      0.000000   \n",
       "50%           1      2.000000      0.00000      0.000000      0.000000   \n",
       "75%           1      3.000000      1.00000      1.000000      1.000000   \n",
       "max        True     16.000000     10.00000     12.000000      8.000000   \n",
       "\n",
       "       sum_foundation    v_priority  sum_priority         test  \n",
       "count    44502.000000  44502.000000  44502.000000  44502.00000  \n",
       "mean         0.361062      0.473170      0.479192      0.55811  \n",
       "std          0.727933      0.821465      0.840352      0.92443  \n",
       "min          0.000000      0.000000      0.000000      0.00000  \n",
       "25%          0.000000      0.000000      0.000000      0.00000  \n",
       "50%          0.000000      0.000000      0.000000      0.00000  \n",
       "75%          1.000000      1.000000      1.000000      1.00000  \n",
       "max          8.000000      8.000000     10.000000     10.00000  "
      ]
     },
     "execution_count": 591,
     "metadata": {},
     "output_type": "execute_result"
    }
   ],
   "source": [
    "I_AZ.describe()"
   ]
  },
  {
   "cell_type": "code",
   "execution_count": null,
   "metadata": {
    "collapsed": true
   },
   "outputs": [],
   "source": [
    "temp = pd.Series(0, index=[1,2,3,4,5])\n",
    "print temp\n"
   ]
  },
  {
   "cell_type": "code",
   "execution_count": 596,
   "metadata": {
    "collapsed": false
   },
   "outputs": [
    {
     "data": {
      "text/html": [
       "<div>\n",
       "<table border=\"1\" class=\"dataframe\">\n",
       "  <thead>\n",
       "    <tr style=\"text-align: right;\">\n",
       "      <th>v_priority</th>\n",
       "      <th>0</th>\n",
       "      <th>1</th>\n",
       "      <th>2</th>\n",
       "      <th>3</th>\n",
       "      <th>4</th>\n",
       "      <th>5</th>\n",
       "      <th>6</th>\n",
       "      <th>7</th>\n",
       "      <th>8</th>\n",
       "    </tr>\n",
       "    <tr>\n",
       "      <th>n_priority</th>\n",
       "      <th></th>\n",
       "      <th></th>\n",
       "      <th></th>\n",
       "      <th></th>\n",
       "      <th></th>\n",
       "      <th></th>\n",
       "      <th></th>\n",
       "      <th></th>\n",
       "      <th></th>\n",
       "    </tr>\n",
       "  </thead>\n",
       "  <tbody>\n",
       "    <tr>\n",
       "      <th>0</th>\n",
       "      <td>8718</td>\n",
       "      <td>99</td>\n",
       "      <td>22</td>\n",
       "      <td>10</td>\n",
       "      <td>1</td>\n",
       "      <td>NaN</td>\n",
       "      <td>NaN</td>\n",
       "      <td>NaN</td>\n",
       "      <td>NaN</td>\n",
       "    </tr>\n",
       "    <tr>\n",
       "      <th>1</th>\n",
       "      <td>2</td>\n",
       "      <td>2723</td>\n",
       "      <td>7</td>\n",
       "      <td>NaN</td>\n",
       "      <td>NaN</td>\n",
       "      <td>NaN</td>\n",
       "      <td>NaN</td>\n",
       "      <td>NaN</td>\n",
       "      <td>NaN</td>\n",
       "    </tr>\n",
       "    <tr>\n",
       "      <th>2</th>\n",
       "      <td>NaN</td>\n",
       "      <td>17</td>\n",
       "      <td>923</td>\n",
       "      <td>4</td>\n",
       "      <td>NaN</td>\n",
       "      <td>NaN</td>\n",
       "      <td>NaN</td>\n",
       "      <td>NaN</td>\n",
       "      <td>NaN</td>\n",
       "    </tr>\n",
       "    <tr>\n",
       "      <th>3</th>\n",
       "      <td>NaN</td>\n",
       "      <td>NaN</td>\n",
       "      <td>22</td>\n",
       "      <td>245</td>\n",
       "      <td>1</td>\n",
       "      <td>NaN</td>\n",
       "      <td>NaN</td>\n",
       "      <td>NaN</td>\n",
       "      <td>NaN</td>\n",
       "    </tr>\n",
       "    <tr>\n",
       "      <th>4</th>\n",
       "      <td>NaN</td>\n",
       "      <td>NaN</td>\n",
       "      <td>1</td>\n",
       "      <td>13</td>\n",
       "      <td>82</td>\n",
       "      <td>1</td>\n",
       "      <td>NaN</td>\n",
       "      <td>NaN</td>\n",
       "      <td>NaN</td>\n",
       "    </tr>\n",
       "    <tr>\n",
       "      <th>5</th>\n",
       "      <td>NaN</td>\n",
       "      <td>NaN</td>\n",
       "      <td>NaN</td>\n",
       "      <td>1</td>\n",
       "      <td>6</td>\n",
       "      <td>20</td>\n",
       "      <td>NaN</td>\n",
       "      <td>NaN</td>\n",
       "      <td>NaN</td>\n",
       "    </tr>\n",
       "    <tr>\n",
       "      <th>6</th>\n",
       "      <td>NaN</td>\n",
       "      <td>NaN</td>\n",
       "      <td>NaN</td>\n",
       "      <td>NaN</td>\n",
       "      <td>NaN</td>\n",
       "      <td>5</td>\n",
       "      <td>4</td>\n",
       "      <td>NaN</td>\n",
       "      <td>NaN</td>\n",
       "    </tr>\n",
       "    <tr>\n",
       "      <th>7</th>\n",
       "      <td>NaN</td>\n",
       "      <td>NaN</td>\n",
       "      <td>NaN</td>\n",
       "      <td>NaN</td>\n",
       "      <td>NaN</td>\n",
       "      <td>NaN</td>\n",
       "      <td>NaN</td>\n",
       "      <td>1</td>\n",
       "      <td>NaN</td>\n",
       "    </tr>\n",
       "    <tr>\n",
       "      <th>NA</th>\n",
       "      <td>21473</td>\n",
       "      <td>6704</td>\n",
       "      <td>2359</td>\n",
       "      <td>756</td>\n",
       "      <td>199</td>\n",
       "      <td>62</td>\n",
       "      <td>16</td>\n",
       "      <td>4</td>\n",
       "      <td>1</td>\n",
       "    </tr>\n",
       "  </tbody>\n",
       "</table>\n",
       "</div>"
      ],
      "text/plain": [
       "v_priority      0     1     2    3    4   5   6   7   8\n",
       "n_priority                                             \n",
       "0            8718    99    22   10    1 NaN NaN NaN NaN\n",
       "1               2  2723     7  NaN  NaN NaN NaN NaN NaN\n",
       "2             NaN    17   923    4  NaN NaN NaN NaN NaN\n",
       "3             NaN   NaN    22  245    1 NaN NaN NaN NaN\n",
       "4             NaN   NaN     1   13   82   1 NaN NaN NaN\n",
       "5             NaN   NaN   NaN    1    6  20 NaN NaN NaN\n",
       "6             NaN   NaN   NaN  NaN  NaN   5   4 NaN NaN\n",
       "7             NaN   NaN   NaN  NaN  NaN NaN NaN   1 NaN\n",
       "NA          21473  6704  2359  756  199  62  16   4   1"
      ]
     },
     "execution_count": 596,
     "metadata": {},
     "output_type": "execute_result"
    }
   ],
   "source": [
    "I_AZ.pivot_table(values='inspec_id',columns='v_priority',index='n_priority', aggfunc='count')"
   ]
  },
  {
   "cell_type": "code",
   "execution_count": 500,
   "metadata": {
    "collapsed": false
   },
   "outputs": [
    {
     "data": {
      "text/html": [
       "<div>\n",
       "<table border=\"1\" class=\"dataframe\">\n",
       "  <thead>\n",
       "    <tr>\n",
       "      <th></th>\n",
       "      <th colspan=\"4\" halign=\"left\">n_priority</th>\n",
       "    </tr>\n",
       "    <tr>\n",
       "      <th></th>\n",
       "      <th>count</th>\n",
       "      <th>unique</th>\n",
       "      <th>top</th>\n",
       "      <th>freq</th>\n",
       "    </tr>\n",
       "    <tr>\n",
       "      <th>grade</th>\n",
       "      <th></th>\n",
       "      <th></th>\n",
       "      <th></th>\n",
       "      <th></th>\n",
       "    </tr>\n",
       "  </thead>\n",
       "  <tbody>\n",
       "    <tr>\n",
       "      <th></th>\n",
       "      <td>31820</td>\n",
       "      <td>4</td>\n",
       "      <td>NA</td>\n",
       "      <td>21844</td>\n",
       "    </tr>\n",
       "    <tr>\n",
       "      <th>A</th>\n",
       "      <td>63980</td>\n",
       "      <td>5</td>\n",
       "      <td>NA</td>\n",
       "      <td>42494</td>\n",
       "    </tr>\n",
       "    <tr>\n",
       "      <th>B</th>\n",
       "      <td>16874</td>\n",
       "      <td>4</td>\n",
       "      <td>NA</td>\n",
       "      <td>12225</td>\n",
       "    </tr>\n",
       "    <tr>\n",
       "      <th>C</th>\n",
       "      <td>1957</td>\n",
       "      <td>6</td>\n",
       "      <td>NA</td>\n",
       "      <td>1446</td>\n",
       "    </tr>\n",
       "    <tr>\n",
       "      <th>D</th>\n",
       "      <td>529</td>\n",
       "      <td>8</td>\n",
       "      <td>NA</td>\n",
       "      <td>392</td>\n",
       "    </tr>\n",
       "    <tr>\n",
       "      <th>Not Participating</th>\n",
       "      <td>56655</td>\n",
       "      <td>9</td>\n",
       "      <td>NA</td>\n",
       "      <td>39485</td>\n",
       "    </tr>\n",
       "    <tr>\n",
       "      <th>Re-Inspection</th>\n",
       "      <td>128</td>\n",
       "      <td>4</td>\n",
       "      <td>NA</td>\n",
       "      <td>93</td>\n",
       "    </tr>\n",
       "    <tr>\n",
       "      <th>Training</th>\n",
       "      <td>2</td>\n",
       "      <td>1</td>\n",
       "      <td>NA</td>\n",
       "      <td>2</td>\n",
       "    </tr>\n",
       "  </tbody>\n",
       "</table>\n",
       "</div>"
      ],
      "text/plain": [
       "                  n_priority                  \n",
       "                       count unique top   freq\n",
       "grade                                         \n",
       "                       31820      4  NA  21844\n",
       "A                      63980      5  NA  42494\n",
       "B                      16874      4  NA  12225\n",
       "C                       1957      6  NA   1446\n",
       "D                        529      8  NA    392\n",
       "Not Participating      56655      9  NA  39485\n",
       "Re-Inspection            128      4  NA     93\n",
       "Training                   2      1  NA      2"
      ]
     },
     "execution_count": 500,
     "metadata": {},
     "output_type": "execute_result"
    }
   ],
   "source": [
    "I_AZ.groupby('grade')[['n_priority']].describe().unstack(-1)"
   ]
  },
  {
   "cell_type": "code",
   "execution_count": 501,
   "metadata": {
    "collapsed": false
   },
   "outputs": [
    {
     "data": {
      "text/plain": [
       "NA    117981\n",
       "0      43148\n",
       "1       7762\n",
       "2       2181\n",
       "3        623\n",
       "4        179\n",
       "5         51\n",
       "6         18\n",
       "7          2\n",
       "Name: n_priority, dtype: int64"
      ]
     },
     "execution_count": 501,
     "metadata": {},
     "output_type": "execute_result"
    }
   ],
   "source": [
    "I_AZ.n_priority.value_counts()"
   ]
  },
  {
   "cell_type": "markdown",
   "metadata": {},
   "source": [
    "# Las Vegas, NV"
   ]
  },
  {
   "cell_type": "code",
   "execution_count": 481,
   "metadata": {
    "collapsed": true
   },
   "outputs": [],
   "source": [
    "import features_vegas as lib"
   ]
  },
  {
   "cell_type": "code",
   "execution_count": 486,
   "metadata": {
    "collapsed": false
   },
   "outputs": [
    {
     "data": {
      "text/plain": [
       "<module 'features_vegas' from 'features_vegas.py'>"
      ]
     },
     "execution_count": 486,
     "metadata": {},
     "output_type": "execute_result"
    }
   ],
   "source": [
    "reload(lib)"
   ]
  },
  {
   "cell_type": "code",
   "execution_count": 487,
   "metadata": {
    "collapsed": false
   },
   "outputs": [
    {
     "name": "stdout",
     "output_type": "stream",
     "text": [
      "<class 'pandas.core.frame.DataFrame'>\n",
      "Int64Index: 43606 entries, 0 to 43605\n",
      "Data columns (total 9 columns):\n",
      "_id            43606 non-null object\n",
      "business_id    43606 non-null object\n",
      "date           43606 non-null object\n",
      "review_id      43606 non-null object\n",
      "stars          43606 non-null int64\n",
      "text           43606 non-null object\n",
      "type           43606 non-null object\n",
      "user_id        43606 non-null object\n",
      "votes          43606 non-null object\n",
      "dtypes: int64(1), object(8)\n",
      "memory usage: 3.3+ MB\n",
      "None\n",
      "(735767, 18)\n",
      "(218969, 18)\n",
      "CPU times: user 16.3 s, sys: 3.26 s, total: 19.6 s\n",
      "Wall time: 42.6 s\n"
     ]
    }
   ],
   "source": [
    "%%time\n",
    "df_NV = lib.get_features_NV(NV, '1989-07-01', 'vegas', ['result','type_id','demerits','grade', 'n_violations'])"
   ]
  },
  {
   "cell_type": "code",
   "execution_count": 488,
   "metadata": {
    "collapsed": true
   },
   "outputs": [],
   "source": [
    "save_to_pickle(df_NV, '../data/vegas/vegas_yelp_features.pkl')"
   ]
  },
  {
   "cell_type": "code",
   "execution_count": 479,
   "metadata": {
    "collapsed": false
   },
   "outputs": [],
   "source": [
    "I_NV = lib.get_NV_inspections(NV)"
   ]
  },
  {
   "cell_type": "code",
   "execution_count": 459,
   "metadata": {
    "collapsed": false
   },
   "outputs": [
    {
     "data": {
      "text/html": [
       "<div>\n",
       "<table border=\"1\" class=\"dataframe\">\n",
       "  <thead>\n",
       "    <tr style=\"text-align: right;\">\n",
       "      <th></th>\n",
       "      <th>type_id</th>\n",
       "      <th>demerits</th>\n",
       "      <th>n_viol</th>\n",
       "    </tr>\n",
       "  </thead>\n",
       "  <tbody>\n",
       "    <tr>\n",
       "      <th>count</th>\n",
       "      <td>14209.000000</td>\n",
       "      <td>14209.000000</td>\n",
       "      <td>14209.000000</td>\n",
       "    </tr>\n",
       "    <tr>\n",
       "      <th>mean</th>\n",
       "      <td>901.558449</td>\n",
       "      <td>8.297769</td>\n",
       "      <td>3.179041</td>\n",
       "    </tr>\n",
       "    <tr>\n",
       "      <th>std</th>\n",
       "      <td>64.559116</td>\n",
       "      <td>12.761000</td>\n",
       "      <td>3.049568</td>\n",
       "    </tr>\n",
       "    <tr>\n",
       "      <th>min</th>\n",
       "      <td>604.000000</td>\n",
       "      <td>-1.000000</td>\n",
       "      <td>0.000000</td>\n",
       "    </tr>\n",
       "    <tr>\n",
       "      <th>25%</th>\n",
       "      <td>916.000000</td>\n",
       "      <td>2.000000</td>\n",
       "      <td>1.000000</td>\n",
       "    </tr>\n",
       "    <tr>\n",
       "      <th>50%</th>\n",
       "      <td>916.000000</td>\n",
       "      <td>6.000000</td>\n",
       "      <td>3.000000</td>\n",
       "    </tr>\n",
       "    <tr>\n",
       "      <th>75%</th>\n",
       "      <td>916.000000</td>\n",
       "      <td>9.000000</td>\n",
       "      <td>4.000000</td>\n",
       "    </tr>\n",
       "    <tr>\n",
       "      <th>max</th>\n",
       "      <td>929.000000</td>\n",
       "      <td>100.000000</td>\n",
       "      <td>40.000000</td>\n",
       "    </tr>\n",
       "  </tbody>\n",
       "</table>\n",
       "</div>"
      ],
      "text/plain": [
       "            type_id      demerits        n_viol\n",
       "count  14209.000000  14209.000000  14209.000000\n",
       "mean     901.558449      8.297769      3.179041\n",
       "std       64.559116     12.761000      3.049568\n",
       "min      604.000000     -1.000000      0.000000\n",
       "25%      916.000000      2.000000      1.000000\n",
       "50%      916.000000      6.000000      3.000000\n",
       "75%      916.000000      9.000000      4.000000\n",
       "max      929.000000    100.000000     40.000000"
      ]
     },
     "execution_count": 459,
     "metadata": {},
     "output_type": "execute_result"
    }
   ],
   "source": [
    "I_NV.describe()"
   ]
  },
  {
   "cell_type": "code",
   "execution_count": 467,
   "metadata": {
    "collapsed": false
   },
   "outputs": [
    {
     "name": "stdout",
     "output_type": "stream",
     "text": [
      "1989-07-14 00:00:00\n",
      "2015-10-21 00:00:00\n"
     ]
    },
    {
     "data": {
      "text/plain": [
       "<matplotlib.axes._subplots.AxesSubplot at 0x13a567890>"
      ]
     },
     "execution_count": 467,
     "metadata": {},
     "output_type": "execute_result"
    },
    {
     "data": {
      "image/png": "[encoded data removed]",
      "text/plain": [
       "<matplotlib.figure.Figure at 0x13243d3d0>"
      ]
     },
     "metadata": {},
     "output_type": "display_data"
    }
   ],
   "source": [
    "print pd.to_datetime(I_NV.date).min()\n",
    "print pd.to_datetime(I_NV.date).max()\n",
    "pd.to_datetime(I_NV.date).apply(lambda x: x.year).hist()"
   ]
  },
  {
   "cell_type": "code",
   "execution_count": 470,
   "metadata": {
    "collapsed": false
   },
   "outputs": [
    {
     "data": {
      "text/html": [
       "<div>\n",
       "<table border=\"1\" class=\"dataframe\">\n",
       "  <thead>\n",
       "    <tr style=\"text-align: right;\">\n",
       "      <th>grade</th>\n",
       "      <th></th>\n",
       "      <th>A</th>\n",
       "      <th>B</th>\n",
       "      <th>C</th>\n",
       "      <th>N</th>\n",
       "      <th>O</th>\n",
       "      <th>X</th>\n",
       "    </tr>\n",
       "    <tr>\n",
       "      <th>result</th>\n",
       "      <th></th>\n",
       "      <th></th>\n",
       "      <th></th>\n",
       "      <th></th>\n",
       "      <th></th>\n",
       "      <th></th>\n",
       "      <th></th>\n",
       "    </tr>\n",
       "  </thead>\n",
       "  <tbody>\n",
       "    <tr>\n",
       "      <th>Approved</th>\n",
       "      <td>NaN</td>\n",
       "      <td>NaN</td>\n",
       "      <td>NaN</td>\n",
       "      <td>NaN</td>\n",
       "      <td>NaN</td>\n",
       "      <td>475</td>\n",
       "      <td>NaN</td>\n",
       "    </tr>\n",
       "    <tr>\n",
       "      <th>Approved - Follow Up: Operations</th>\n",
       "      <td>325</td>\n",
       "      <td>1</td>\n",
       "      <td>NaN</td>\n",
       "      <td>NaN</td>\n",
       "      <td>NaN</td>\n",
       "      <td>19</td>\n",
       "      <td>NaN</td>\n",
       "    </tr>\n",
       "    <tr>\n",
       "      <th>Approved - Follow Up: Plan Review</th>\n",
       "      <td>289</td>\n",
       "      <td>NaN</td>\n",
       "      <td>NaN</td>\n",
       "      <td>NaN</td>\n",
       "      <td>NaN</td>\n",
       "      <td>2</td>\n",
       "      <td>NaN</td>\n",
       "    </tr>\n",
       "    <tr>\n",
       "      <th>B Downgrade</th>\n",
       "      <td>NaN</td>\n",
       "      <td>NaN</td>\n",
       "      <td>1343</td>\n",
       "      <td>NaN</td>\n",
       "      <td>NaN</td>\n",
       "      <td>NaN</td>\n",
       "      <td>NaN</td>\n",
       "    </tr>\n",
       "    <tr>\n",
       "      <th>C Downgrade</th>\n",
       "      <td>NaN</td>\n",
       "      <td>NaN</td>\n",
       "      <td>NaN</td>\n",
       "      <td>562</td>\n",
       "      <td>NaN</td>\n",
       "      <td>NaN</td>\n",
       "      <td>NaN</td>\n",
       "    </tr>\n",
       "    <tr>\n",
       "      <th>Closed with Fees</th>\n",
       "      <td>NaN</td>\n",
       "      <td>NaN</td>\n",
       "      <td>NaN</td>\n",
       "      <td>NaN</td>\n",
       "      <td>NaN</td>\n",
       "      <td>NaN</td>\n",
       "      <td>110</td>\n",
       "    </tr>\n",
       "    <tr>\n",
       "      <th>Closed without Fees</th>\n",
       "      <td>NaN</td>\n",
       "      <td>NaN</td>\n",
       "      <td>NaN</td>\n",
       "      <td>NaN</td>\n",
       "      <td>NaN</td>\n",
       "      <td>NaN</td>\n",
       "      <td>6</td>\n",
       "    </tr>\n",
       "    <tr>\n",
       "      <th>Complaint Invalid/Unsubstantiated</th>\n",
       "      <td>89</td>\n",
       "      <td>258</td>\n",
       "      <td>5</td>\n",
       "      <td>1</td>\n",
       "      <td>NaN</td>\n",
       "      <td>NaN</td>\n",
       "      <td>NaN</td>\n",
       "    </tr>\n",
       "    <tr>\n",
       "      <th>Compliance Schedule</th>\n",
       "      <td>NaN</td>\n",
       "      <td>1</td>\n",
       "      <td>NaN</td>\n",
       "      <td>NaN</td>\n",
       "      <td>NaN</td>\n",
       "      <td>NaN</td>\n",
       "      <td>NaN</td>\n",
       "    </tr>\n",
       "    <tr>\n",
       "      <th>Compliant</th>\n",
       "      <td>115</td>\n",
       "      <td>9372</td>\n",
       "      <td>20</td>\n",
       "      <td>12</td>\n",
       "      <td>NaN</td>\n",
       "      <td>NaN</td>\n",
       "      <td>NaN</td>\n",
       "    </tr>\n",
       "    <tr>\n",
       "      <th>Follow Up Required</th>\n",
       "      <td>3</td>\n",
       "      <td>1</td>\n",
       "      <td>NaN</td>\n",
       "      <td>NaN</td>\n",
       "      <td>NaN</td>\n",
       "      <td>NaN</td>\n",
       "      <td>NaN</td>\n",
       "    </tr>\n",
       "    <tr>\n",
       "      <th>Management Closed</th>\n",
       "      <td>4</td>\n",
       "      <td>NaN</td>\n",
       "      <td>NaN</td>\n",
       "      <td>NaN</td>\n",
       "      <td>NaN</td>\n",
       "      <td>NaN</td>\n",
       "      <td>1</td>\n",
       "    </tr>\n",
       "    <tr>\n",
       "      <th>No Access</th>\n",
       "      <td>7</td>\n",
       "      <td>NaN</td>\n",
       "      <td>NaN</td>\n",
       "      <td>NaN</td>\n",
       "      <td>NaN</td>\n",
       "      <td>NaN</td>\n",
       "      <td>NaN</td>\n",
       "    </tr>\n",
       "    <tr>\n",
       "      <th>No Further Action</th>\n",
       "      <td>33</td>\n",
       "      <td>NaN</td>\n",
       "      <td>NaN</td>\n",
       "      <td>NaN</td>\n",
       "      <td>NaN</td>\n",
       "      <td>NaN</td>\n",
       "      <td>NaN</td>\n",
       "    </tr>\n",
       "    <tr>\n",
       "      <th>Not Approved</th>\n",
       "      <td>NaN</td>\n",
       "      <td>NaN</td>\n",
       "      <td>NaN</td>\n",
       "      <td>NaN</td>\n",
       "      <td>7</td>\n",
       "      <td>NaN</td>\n",
       "      <td>NaN</td>\n",
       "    </tr>\n",
       "    <tr>\n",
       "      <th>PR Project Cancelled</th>\n",
       "      <td>1</td>\n",
       "      <td>NaN</td>\n",
       "      <td>NaN</td>\n",
       "      <td>NaN</td>\n",
       "      <td>NaN</td>\n",
       "      <td>NaN</td>\n",
       "      <td>NaN</td>\n",
       "    </tr>\n",
       "    <tr>\n",
       "      <th>Unspecified</th>\n",
       "      <td>697</td>\n",
       "      <td>447</td>\n",
       "      <td>3</td>\n",
       "      <td>NaN</td>\n",
       "      <td>NaN</td>\n",
       "      <td>NaN</td>\n",
       "      <td>NaN</td>\n",
       "    </tr>\n",
       "  </tbody>\n",
       "</table>\n",
       "</div>"
      ],
      "text/plain": [
       "grade                                      A     B    C   N    O    X\n",
       "result                                                               \n",
       "Approved                           NaN   NaN   NaN  NaN NaN  475  NaN\n",
       "Approved - Follow Up: Operations   325     1   NaN  NaN NaN   19  NaN\n",
       "Approved - Follow Up: Plan Review  289   NaN   NaN  NaN NaN    2  NaN\n",
       "B Downgrade                        NaN   NaN  1343  NaN NaN  NaN  NaN\n",
       "C Downgrade                        NaN   NaN   NaN  562 NaN  NaN  NaN\n",
       "Closed with Fees                   NaN   NaN   NaN  NaN NaN  NaN  110\n",
       "Closed without Fees                NaN   NaN   NaN  NaN NaN  NaN    6\n",
       "Complaint Invalid/Unsubstantiated   89   258     5    1 NaN  NaN  NaN\n",
       "Compliance Schedule                NaN     1   NaN  NaN NaN  NaN  NaN\n",
       "Compliant                          115  9372    20   12 NaN  NaN  NaN\n",
       "Follow Up Required                   3     1   NaN  NaN NaN  NaN  NaN\n",
       "Management Closed                    4   NaN   NaN  NaN NaN  NaN    1\n",
       "No Access                            7   NaN   NaN  NaN NaN  NaN  NaN\n",
       "No Further Action                   33   NaN   NaN  NaN NaN  NaN  NaN\n",
       "Not Approved                       NaN   NaN   NaN  NaN   7  NaN  NaN\n",
       "PR Project Cancelled                 1   NaN   NaN  NaN NaN  NaN  NaN\n",
       "Unspecified                        697   447     3  NaN NaN  NaN  NaN"
      ]
     },
     "execution_count": 470,
     "metadata": {},
     "output_type": "execute_result"
    }
   ],
   "source": [
    "I_NV.pivot_table(values='serial_number',index='result',columns='grade',aggfunc='count')"
   ]
  },
  {
   "cell_type": "code",
   "execution_count": 469,
   "metadata": {
    "collapsed": false
   },
   "outputs": [
    {
     "data": {
      "text/html": [
       "<div>\n",
       "<table border=\"1\" class=\"dataframe\">\n",
       "  <thead>\n",
       "    <tr style=\"text-align: right;\">\n",
       "      <th>type_id</th>\n",
       "      <th>604</th>\n",
       "      <th>661</th>\n",
       "      <th>910</th>\n",
       "      <th>914</th>\n",
       "      <th>916</th>\n",
       "      <th>918</th>\n",
       "      <th>928</th>\n",
       "      <th>929</th>\n",
       "    </tr>\n",
       "    <tr>\n",
       "      <th>grade</th>\n",
       "      <th></th>\n",
       "      <th></th>\n",
       "      <th></th>\n",
       "      <th></th>\n",
       "      <th></th>\n",
       "      <th></th>\n",
       "      <th></th>\n",
       "      <th></th>\n",
       "    </tr>\n",
       "  </thead>\n",
       "  <tbody>\n",
       "    <tr>\n",
       "      <th></th>\n",
       "      <td>96</td>\n",
       "      <td>322</td>\n",
       "      <td>432</td>\n",
       "      <td>18</td>\n",
       "      <td>114</td>\n",
       "      <td>43</td>\n",
       "      <td>105</td>\n",
       "      <td>433</td>\n",
       "    </tr>\n",
       "    <tr>\n",
       "      <th>A</th>\n",
       "      <td>259</td>\n",
       "      <td>NaN</td>\n",
       "      <td>NaN</td>\n",
       "      <td>906</td>\n",
       "      <td>8879</td>\n",
       "      <td>NaN</td>\n",
       "      <td>NaN</td>\n",
       "      <td>36</td>\n",
       "    </tr>\n",
       "    <tr>\n",
       "      <th>B</th>\n",
       "      <td>36</td>\n",
       "      <td>NaN</td>\n",
       "      <td>NaN</td>\n",
       "      <td>NaN</td>\n",
       "      <td>1335</td>\n",
       "      <td>NaN</td>\n",
       "      <td>NaN</td>\n",
       "      <td>NaN</td>\n",
       "    </tr>\n",
       "    <tr>\n",
       "      <th>C</th>\n",
       "      <td>18</td>\n",
       "      <td>NaN</td>\n",
       "      <td>NaN</td>\n",
       "      <td>28</td>\n",
       "      <td>529</td>\n",
       "      <td>NaN</td>\n",
       "      <td>NaN</td>\n",
       "      <td>NaN</td>\n",
       "    </tr>\n",
       "    <tr>\n",
       "      <th>N</th>\n",
       "      <td>NaN</td>\n",
       "      <td>3</td>\n",
       "      <td>1</td>\n",
       "      <td>NaN</td>\n",
       "      <td>NaN</td>\n",
       "      <td>NaN</td>\n",
       "      <td>NaN</td>\n",
       "      <td>3</td>\n",
       "    </tr>\n",
       "    <tr>\n",
       "      <th>O</th>\n",
       "      <td>NaN</td>\n",
       "      <td>9</td>\n",
       "      <td>2</td>\n",
       "      <td>2</td>\n",
       "      <td>10</td>\n",
       "      <td>3</td>\n",
       "      <td>14</td>\n",
       "      <td>456</td>\n",
       "    </tr>\n",
       "    <tr>\n",
       "      <th>X</th>\n",
       "      <td>4</td>\n",
       "      <td>1</td>\n",
       "      <td>NaN</td>\n",
       "      <td>13</td>\n",
       "      <td>95</td>\n",
       "      <td>1</td>\n",
       "      <td>NaN</td>\n",
       "      <td>3</td>\n",
       "    </tr>\n",
       "  </tbody>\n",
       "</table>\n",
       "</div>"
      ],
      "text/plain": [
       "type_id  604  661  910  914   916  918  928  929\n",
       "grade                                           \n",
       "          96  322  432   18   114   43  105  433\n",
       "A        259  NaN  NaN  906  8879  NaN  NaN   36\n",
       "B         36  NaN  NaN  NaN  1335  NaN  NaN  NaN\n",
       "C         18  NaN  NaN   28   529  NaN  NaN  NaN\n",
       "N        NaN    3    1  NaN   NaN  NaN  NaN    3\n",
       "O        NaN    9    2    2    10    3   14  456\n",
       "X          4    1  NaN   13    95    1  NaN    3"
      ]
     },
     "execution_count": 469,
     "metadata": {},
     "output_type": "execute_result"
    }
   ],
   "source": [
    "I_NV.pivot_table(values='serial_number',index='grade',columns='type_id',aggfunc='count')"
   ]
  },
  {
   "cell_type": "code",
   "execution_count": 458,
   "metadata": {
    "collapsed": false
   },
   "outputs": [
    {
     "data": {
      "text/html": [
       "<div>\n",
       "<table border=\"1\" class=\"dataframe\">\n",
       "  <thead>\n",
       "    <tr>\n",
       "      <th></th>\n",
       "      <th colspan=\"8\" halign=\"left\">demerits</th>\n",
       "    </tr>\n",
       "    <tr>\n",
       "      <th></th>\n",
       "      <th>count</th>\n",
       "      <th>mean</th>\n",
       "      <th>std</th>\n",
       "      <th>min</th>\n",
       "      <th>25%</th>\n",
       "      <th>50%</th>\n",
       "      <th>75%</th>\n",
       "      <th>max</th>\n",
       "    </tr>\n",
       "    <tr>\n",
       "      <th>grade</th>\n",
       "      <th></th>\n",
       "      <th></th>\n",
       "      <th></th>\n",
       "      <th></th>\n",
       "      <th></th>\n",
       "      <th></th>\n",
       "      <th></th>\n",
       "      <th></th>\n",
       "    </tr>\n",
       "  </thead>\n",
       "  <tbody>\n",
       "    <tr>\n",
       "      <th>O</th>\n",
       "      <td>496</td>\n",
       "      <td>3.485887</td>\n",
       "      <td>5.301401</td>\n",
       "      <td>0</td>\n",
       "      <td>1</td>\n",
       "      <td>3</td>\n",
       "      <td>5.0</td>\n",
       "      <td>100</td>\n",
       "    </tr>\n",
       "    <tr>\n",
       "      <th>A</th>\n",
       "      <td>10080</td>\n",
       "      <td>5.382837</td>\n",
       "      <td>3.697292</td>\n",
       "      <td>-1</td>\n",
       "      <td>3</td>\n",
       "      <td>6</td>\n",
       "      <td>8.0</td>\n",
       "      <td>100</td>\n",
       "    </tr>\n",
       "    <tr>\n",
       "      <th></th>\n",
       "      <td>1563</td>\n",
       "      <td>11.098528</td>\n",
       "      <td>30.955886</td>\n",
       "      <td>-1</td>\n",
       "      <td>-1</td>\n",
       "      <td>0</td>\n",
       "      <td>0.0</td>\n",
       "      <td>100</td>\n",
       "    </tr>\n",
       "    <tr>\n",
       "      <th>B</th>\n",
       "      <td>1371</td>\n",
       "      <td>16.908096</td>\n",
       "      <td>3.277040</td>\n",
       "      <td>0</td>\n",
       "      <td>15</td>\n",
       "      <td>18</td>\n",
       "      <td>19.0</td>\n",
       "      <td>23</td>\n",
       "    </tr>\n",
       "    <tr>\n",
       "      <th>C</th>\n",
       "      <td>575</td>\n",
       "      <td>29.674783</td>\n",
       "      <td>7.442250</td>\n",
       "      <td>0</td>\n",
       "      <td>26</td>\n",
       "      <td>30</td>\n",
       "      <td>35.0</td>\n",
       "      <td>55</td>\n",
       "    </tr>\n",
       "    <tr>\n",
       "      <th>N</th>\n",
       "      <td>7</td>\n",
       "      <td>30.428571</td>\n",
       "      <td>42.832453</td>\n",
       "      <td>0</td>\n",
       "      <td>0</td>\n",
       "      <td>0</td>\n",
       "      <td>56.5</td>\n",
       "      <td>100</td>\n",
       "    </tr>\n",
       "    <tr>\n",
       "      <th>X</th>\n",
       "      <td>117</td>\n",
       "      <td>35.136752</td>\n",
       "      <td>19.946872</td>\n",
       "      <td>0</td>\n",
       "      <td>19</td>\n",
       "      <td>34</td>\n",
       "      <td>50.0</td>\n",
       "      <td>100</td>\n",
       "    </tr>\n",
       "  </tbody>\n",
       "</table>\n",
       "</div>"
      ],
      "text/plain": [
       "      demerits                                             \n",
       "         count       mean        std min 25% 50%   75%  max\n",
       "grade                                                      \n",
       "O          496   3.485887   5.301401   0   1   3   5.0  100\n",
       "A        10080   5.382837   3.697292  -1   3   6   8.0  100\n",
       "          1563  11.098528  30.955886  -1  -1   0   0.0  100\n",
       "B         1371  16.908096   3.277040   0  15  18  19.0   23\n",
       "C          575  29.674783   7.442250   0  26  30  35.0   55\n",
       "N            7  30.428571  42.832453   0   0   0  56.5  100\n",
       "X          117  35.136752  19.946872   0  19  34  50.0  100"
      ]
     },
     "execution_count": 458,
     "metadata": {},
     "output_type": "execute_result"
    }
   ],
   "source": [
    "I_NV.groupby('grade').describe()[['demerits']].unstack(-1).sort_values(('demerits','mean'))"
   ]
  },
  {
   "cell_type": "code",
   "execution_count": 457,
   "metadata": {
    "collapsed": false
   },
   "outputs": [
    {
     "data": {
      "text/html": [
       "<div>\n",
       "<table border=\"1\" class=\"dataframe\">\n",
       "  <thead>\n",
       "    <tr>\n",
       "      <th></th>\n",
       "      <th colspan=\"8\" halign=\"left\">n_viol</th>\n",
       "    </tr>\n",
       "    <tr>\n",
       "      <th></th>\n",
       "      <th>count</th>\n",
       "      <th>mean</th>\n",
       "      <th>std</th>\n",
       "      <th>min</th>\n",
       "      <th>25%</th>\n",
       "      <th>50%</th>\n",
       "      <th>75%</th>\n",
       "      <th>max</th>\n",
       "    </tr>\n",
       "    <tr>\n",
       "      <th>grade</th>\n",
       "      <th></th>\n",
       "      <th></th>\n",
       "      <th></th>\n",
       "      <th></th>\n",
       "      <th></th>\n",
       "      <th></th>\n",
       "      <th></th>\n",
       "      <th></th>\n",
       "    </tr>\n",
       "  </thead>\n",
       "  <tbody>\n",
       "    <tr>\n",
       "      <th></th>\n",
       "      <td>1563</td>\n",
       "      <td>0.511836</td>\n",
       "      <td>1.249976</td>\n",
       "      <td>0</td>\n",
       "      <td>0</td>\n",
       "      <td>0</td>\n",
       "      <td>0</td>\n",
       "      <td>10</td>\n",
       "    </tr>\n",
       "    <tr>\n",
       "      <th>O</th>\n",
       "      <td>496</td>\n",
       "      <td>2.024194</td>\n",
       "      <td>1.854130</td>\n",
       "      <td>0</td>\n",
       "      <td>0</td>\n",
       "      <td>2</td>\n",
       "      <td>3</td>\n",
       "      <td>10</td>\n",
       "    </tr>\n",
       "    <tr>\n",
       "      <th>N</th>\n",
       "      <td>7</td>\n",
       "      <td>2.142857</td>\n",
       "      <td>3.760699</td>\n",
       "      <td>0</td>\n",
       "      <td>0</td>\n",
       "      <td>0</td>\n",
       "      <td>3</td>\n",
       "      <td>9</td>\n",
       "    </tr>\n",
       "    <tr>\n",
       "      <th>A</th>\n",
       "      <td>10080</td>\n",
       "      <td>2.671429</td>\n",
       "      <td>1.825065</td>\n",
       "      <td>0</td>\n",
       "      <td>1</td>\n",
       "      <td>3</td>\n",
       "      <td>4</td>\n",
       "      <td>40</td>\n",
       "    </tr>\n",
       "    <tr>\n",
       "      <th>B</th>\n",
       "      <td>1371</td>\n",
       "      <td>6.485777</td>\n",
       "      <td>2.451347</td>\n",
       "      <td>0</td>\n",
       "      <td>5</td>\n",
       "      <td>7</td>\n",
       "      <td>8</td>\n",
       "      <td>14</td>\n",
       "    </tr>\n",
       "    <tr>\n",
       "      <th>C</th>\n",
       "      <td>575</td>\n",
       "      <td>10.634783</td>\n",
       "      <td>4.079631</td>\n",
       "      <td>0</td>\n",
       "      <td>9</td>\n",
       "      <td>11</td>\n",
       "      <td>13</td>\n",
       "      <td>23</td>\n",
       "    </tr>\n",
       "    <tr>\n",
       "      <th>X</th>\n",
       "      <td>117</td>\n",
       "      <td>12.111111</td>\n",
       "      <td>7.115764</td>\n",
       "      <td>0</td>\n",
       "      <td>7</td>\n",
       "      <td>12</td>\n",
       "      <td>18</td>\n",
       "      <td>25</td>\n",
       "    </tr>\n",
       "  </tbody>\n",
       "</table>\n",
       "</div>"
      ],
      "text/plain": [
       "      n_viol                                         \n",
       "       count       mean       std min 25% 50% 75% max\n",
       "grade                                                \n",
       "        1563   0.511836  1.249976   0   0   0   0  10\n",
       "O        496   2.024194  1.854130   0   0   2   3  10\n",
       "N          7   2.142857  3.760699   0   0   0   3   9\n",
       "A      10080   2.671429  1.825065   0   1   3   4  40\n",
       "B       1371   6.485777  2.451347   0   5   7   8  14\n",
       "C        575  10.634783  4.079631   0   9  11  13  23\n",
       "X        117  12.111111  7.115764   0   7  12  18  25"
      ]
     },
     "execution_count": 457,
     "metadata": {},
     "output_type": "execute_result"
    }
   ],
   "source": [
    "I_NV.groupby('grade').describe()[['n_viol']].unstack(-1).sort_values(('n_viol','mean'))"
   ]
  },
  {
   "cell_type": "code",
   "execution_count": 433,
   "metadata": {
    "collapsed": true
   },
   "outputs": [
    {
     "data": {
      "text/html": [
       "<div>\n",
       "<table border=\"1\" class=\"dataframe\">\n",
       "  <thead>\n",
       "    <tr>\n",
       "      <th></th>\n",
       "      <th colspan=\"8\" halign=\"left\">demerits</th>\n",
       "    </tr>\n",
       "    <tr>\n",
       "      <th></th>\n",
       "      <th>count</th>\n",
       "      <th>mean</th>\n",
       "      <th>std</th>\n",
       "      <th>min</th>\n",
       "      <th>25%</th>\n",
       "      <th>50%</th>\n",
       "      <th>75%</th>\n",
       "      <th>max</th>\n",
       "    </tr>\n",
       "    <tr>\n",
       "      <th>violations</th>\n",
       "      <th></th>\n",
       "      <th></th>\n",
       "      <th></th>\n",
       "      <th></th>\n",
       "      <th></th>\n",
       "      <th></th>\n",
       "      <th></th>\n",
       "      <th></th>\n",
       "    </tr>\n",
       "  </thead>\n",
       "  <tbody>\n",
       "    <tr>\n",
       "      <th>14</th>\n",
       "      <td>2477</td>\n",
       "      <td>4.022204</td>\n",
       "      <td>0.307275</td>\n",
       "      <td>1</td>\n",
       "      <td>4</td>\n",
       "      <td>4</td>\n",
       "      <td>4.00</td>\n",
       "      <td>10</td>\n",
       "    </tr>\n",
       "    <tr>\n",
       "      <th>2930</th>\n",
       "      <td>2380</td>\n",
       "      <td>1.279832</td>\n",
       "      <td>11.161500</td>\n",
       "      <td>-1</td>\n",
       "      <td>0</td>\n",
       "      <td>0</td>\n",
       "      <td>0.00</td>\n",
       "      <td>100</td>\n",
       "    </tr>\n",
       "    <tr>\n",
       "      <th>36</th>\n",
       "      <td>2354</td>\n",
       "      <td>1.400595</td>\n",
       "      <td>1.311176</td>\n",
       "      <td>-1</td>\n",
       "      <td>1</td>\n",
       "      <td>1</td>\n",
       "      <td>1.00</td>\n",
       "      <td>10</td>\n",
       "    </tr>\n",
       "    <tr>\n",
       "      <th>37</th>\n",
       "      <td>2118</td>\n",
       "      <td>0.999056</td>\n",
       "      <td>0.173869</td>\n",
       "      <td>-1</td>\n",
       "      <td>1</td>\n",
       "      <td>1</td>\n",
       "      <td>1.00</td>\n",
       "      <td>4</td>\n",
       "    </tr>\n",
       "    <tr>\n",
       "      <th>31</th>\n",
       "      <td>1903</td>\n",
       "      <td>1.118760</td>\n",
       "      <td>0.760195</td>\n",
       "      <td>-1</td>\n",
       "      <td>1</td>\n",
       "      <td>1</td>\n",
       "      <td>1.00</td>\n",
       "      <td>12</td>\n",
       "    </tr>\n",
       "    <tr>\n",
       "      <th>13</th>\n",
       "      <td>1534</td>\n",
       "      <td>3.017601</td>\n",
       "      <td>0.311264</td>\n",
       "      <td>2</td>\n",
       "      <td>3</td>\n",
       "      <td>3</td>\n",
       "      <td>3.00</td>\n",
       "      <td>9</td>\n",
       "    </tr>\n",
       "    <tr>\n",
       "      <th>2955</th>\n",
       "      <td>1445</td>\n",
       "      <td>3.337716</td>\n",
       "      <td>5.532277</td>\n",
       "      <td>-1</td>\n",
       "      <td>3</td>\n",
       "      <td>3</td>\n",
       "      <td>3.00</td>\n",
       "      <td>97</td>\n",
       "    </tr>\n",
       "    <tr>\n",
       "      <th>27</th>\n",
       "      <td>1372</td>\n",
       "      <td>1.000000</td>\n",
       "      <td>0.000000</td>\n",
       "      <td>1</td>\n",
       "      <td>1</td>\n",
       "      <td>1</td>\n",
       "      <td>1.00</td>\n",
       "      <td>1</td>\n",
       "    </tr>\n",
       "    <tr>\n",
       "      <th>35</th>\n",
       "      <td>1290</td>\n",
       "      <td>1.196124</td>\n",
       "      <td>0.920156</td>\n",
       "      <td>-1</td>\n",
       "      <td>1</td>\n",
       "      <td>1</td>\n",
       "      <td>1.00</td>\n",
       "      <td>10</td>\n",
       "    </tr>\n",
       "    <tr>\n",
       "      <th>233</th>\n",
       "      <td>1159</td>\n",
       "      <td>7.417601</td>\n",
       "      <td>24.142136</td>\n",
       "      <td>-1</td>\n",
       "      <td>1</td>\n",
       "      <td>1</td>\n",
       "      <td>1.00</td>\n",
       "      <td>99</td>\n",
       "    </tr>\n",
       "    <tr>\n",
       "      <th>2928</th>\n",
       "      <td>1156</td>\n",
       "      <td>0.801903</td>\n",
       "      <td>8.798349</td>\n",
       "      <td>-1</td>\n",
       "      <td>0</td>\n",
       "      <td>0</td>\n",
       "      <td>0.00</td>\n",
       "      <td>100</td>\n",
       "    </tr>\n",
       "    <tr>\n",
       "      <th>30</th>\n",
       "      <td>1133</td>\n",
       "      <td>1.462489</td>\n",
       "      <td>1.602685</td>\n",
       "      <td>-1</td>\n",
       "      <td>1</td>\n",
       "      <td>1</td>\n",
       "      <td>1.00</td>\n",
       "      <td>10</td>\n",
       "    </tr>\n",
       "    <tr>\n",
       "      <th>215</th>\n",
       "      <td>1113</td>\n",
       "      <td>3.544474</td>\n",
       "      <td>6.896332</td>\n",
       "      <td>-1</td>\n",
       "      <td>3</td>\n",
       "      <td>3</td>\n",
       "      <td>3.00</td>\n",
       "      <td>97</td>\n",
       "    </tr>\n",
       "    <tr>\n",
       "      <th>28</th>\n",
       "      <td>842</td>\n",
       "      <td>1.059382</td>\n",
       "      <td>0.719220</td>\n",
       "      <td>-1</td>\n",
       "      <td>1</td>\n",
       "      <td>1</td>\n",
       "      <td>1.00</td>\n",
       "      <td>12</td>\n",
       "    </tr>\n",
       "    <tr>\n",
       "      <th>4</th>\n",
       "      <td>792</td>\n",
       "      <td>4.003788</td>\n",
       "      <td>0.957365</td>\n",
       "      <td>-1</td>\n",
       "      <td>4</td>\n",
       "      <td>4</td>\n",
       "      <td>4.00</td>\n",
       "      <td>27</td>\n",
       "    </tr>\n",
       "    <tr>\n",
       "      <th>211</th>\n",
       "      <td>737</td>\n",
       "      <td>3.436906</td>\n",
       "      <td>6.079782</td>\n",
       "      <td>3</td>\n",
       "      <td>3</td>\n",
       "      <td>3</td>\n",
       "      <td>3.00</td>\n",
       "      <td>97</td>\n",
       "    </tr>\n",
       "    <tr>\n",
       "      <th>114</th>\n",
       "      <td>733</td>\n",
       "      <td>3.989086</td>\n",
       "      <td>0.208798</td>\n",
       "      <td>0</td>\n",
       "      <td>4</td>\n",
       "      <td>4</td>\n",
       "      <td>4.00</td>\n",
       "      <td>4</td>\n",
       "    </tr>\n",
       "    <tr>\n",
       "      <th>40</th>\n",
       "      <td>676</td>\n",
       "      <td>3.933432</td>\n",
       "      <td>2.157504</td>\n",
       "      <td>1</td>\n",
       "      <td>2</td>\n",
       "      <td>4</td>\n",
       "      <td>6.00</td>\n",
       "      <td>10</td>\n",
       "    </tr>\n",
       "    <tr>\n",
       "      <th>230</th>\n",
       "      <td>550</td>\n",
       "      <td>4.052727</td>\n",
       "      <td>16.566446</td>\n",
       "      <td>-1</td>\n",
       "      <td>1</td>\n",
       "      <td>1</td>\n",
       "      <td>1.00</td>\n",
       "      <td>99</td>\n",
       "    </tr>\n",
       "    <tr>\n",
       "      <th>212</th>\n",
       "      <td>543</td>\n",
       "      <td>3.882136</td>\n",
       "      <td>10.942188</td>\n",
       "      <td>3</td>\n",
       "      <td>3</td>\n",
       "      <td>3</td>\n",
       "      <td>3.00</td>\n",
       "      <td>200</td>\n",
       "    </tr>\n",
       "    <tr>\n",
       "      <th>64</th>\n",
       "      <td>540</td>\n",
       "      <td>5.633333</td>\n",
       "      <td>1.280219</td>\n",
       "      <td>0</td>\n",
       "      <td>6</td>\n",
       "      <td>6</td>\n",
       "      <td>6.00</td>\n",
       "      <td>13</td>\n",
       "    </tr>\n",
       "    <tr>\n",
       "      <th>38</th>\n",
       "      <td>518</td>\n",
       "      <td>4.413127</td>\n",
       "      <td>2.636447</td>\n",
       "      <td>-1</td>\n",
       "      <td>1</td>\n",
       "      <td>4</td>\n",
       "      <td>6.00</td>\n",
       "      <td>12</td>\n",
       "    </tr>\n",
       "    <tr>\n",
       "      <th>10</th>\n",
       "      <td>516</td>\n",
       "      <td>5.180233</td>\n",
       "      <td>3.467530</td>\n",
       "      <td>2</td>\n",
       "      <td>3</td>\n",
       "      <td>3</td>\n",
       "      <td>7.00</td>\n",
       "      <td>40</td>\n",
       "    </tr>\n",
       "    <tr>\n",
       "      <th>214</th>\n",
       "      <td>507</td>\n",
       "      <td>5.783037</td>\n",
       "      <td>15.943709</td>\n",
       "      <td>1</td>\n",
       "      <td>3</td>\n",
       "      <td>3</td>\n",
       "      <td>3.00</td>\n",
       "      <td>97</td>\n",
       "    </tr>\n",
       "    <tr>\n",
       "      <th>112</th>\n",
       "      <td>502</td>\n",
       "      <td>4.000000</td>\n",
       "      <td>0.000000</td>\n",
       "      <td>4</td>\n",
       "      <td>4</td>\n",
       "      <td>4</td>\n",
       "      <td>4.00</td>\n",
       "      <td>4</td>\n",
       "    </tr>\n",
       "    <tr>\n",
       "      <th>25</th>\n",
       "      <td>488</td>\n",
       "      <td>1.204918</td>\n",
       "      <td>1.077594</td>\n",
       "      <td>1</td>\n",
       "      <td>1</td>\n",
       "      <td>1</td>\n",
       "      <td>1.00</td>\n",
       "      <td>10</td>\n",
       "    </tr>\n",
       "    <tr>\n",
       "      <th>8</th>\n",
       "      <td>455</td>\n",
       "      <td>5.712088</td>\n",
       "      <td>2.147267</td>\n",
       "      <td>3</td>\n",
       "      <td>4</td>\n",
       "      <td>6</td>\n",
       "      <td>6.00</td>\n",
       "      <td>20</td>\n",
       "    </tr>\n",
       "    <tr>\n",
       "      <th>2909</th>\n",
       "      <td>450</td>\n",
       "      <td>3.011111</td>\n",
       "      <td>0.235702</td>\n",
       "      <td>3</td>\n",
       "      <td>3</td>\n",
       "      <td>3</td>\n",
       "      <td>3.00</td>\n",
       "      <td>8</td>\n",
       "    </tr>\n",
       "    <tr>\n",
       "      <th>19</th>\n",
       "      <td>447</td>\n",
       "      <td>1.049217</td>\n",
       "      <td>0.431176</td>\n",
       "      <td>1</td>\n",
       "      <td>1</td>\n",
       "      <td>1</td>\n",
       "      <td>1.00</td>\n",
       "      <td>6</td>\n",
       "    </tr>\n",
       "    <tr>\n",
       "      <th>218</th>\n",
       "      <td>374</td>\n",
       "      <td>3.350267</td>\n",
       "      <td>5.073485</td>\n",
       "      <td>3</td>\n",
       "      <td>3</td>\n",
       "      <td>3</td>\n",
       "      <td>3.00</td>\n",
       "      <td>97</td>\n",
       "    </tr>\n",
       "    <tr>\n",
       "      <th>...</th>\n",
       "      <td>...</td>\n",
       "      <td>...</td>\n",
       "      <td>...</td>\n",
       "      <td>...</td>\n",
       "      <td>...</td>\n",
       "      <td>...</td>\n",
       "      <td>...</td>\n",
       "      <td>...</td>\n",
       "    </tr>\n",
       "    <tr>\n",
       "      <th>9</th>\n",
       "      <td>88</td>\n",
       "      <td>2.977273</td>\n",
       "      <td>2.228227</td>\n",
       "      <td>2</td>\n",
       "      <td>2</td>\n",
       "      <td>2</td>\n",
       "      <td>3.25</td>\n",
       "      <td>16</td>\n",
       "    </tr>\n",
       "    <tr>\n",
       "      <th>231</th>\n",
       "      <td>88</td>\n",
       "      <td>1.022727</td>\n",
       "      <td>0.149887</td>\n",
       "      <td>1</td>\n",
       "      <td>1</td>\n",
       "      <td>1</td>\n",
       "      <td>1.00</td>\n",
       "      <td>2</td>\n",
       "    </tr>\n",
       "    <tr>\n",
       "      <th>21</th>\n",
       "      <td>83</td>\n",
       "      <td>1.096386</td>\n",
       "      <td>0.484251</td>\n",
       "      <td>1</td>\n",
       "      <td>1</td>\n",
       "      <td>1</td>\n",
       "      <td>1.00</td>\n",
       "      <td>4</td>\n",
       "    </tr>\n",
       "    <tr>\n",
       "      <th>15</th>\n",
       "      <td>79</td>\n",
       "      <td>6.000000</td>\n",
       "      <td>0.000000</td>\n",
       "      <td>6</td>\n",
       "      <td>6</td>\n",
       "      <td>6</td>\n",
       "      <td>6.00</td>\n",
       "      <td>6</td>\n",
       "    </tr>\n",
       "    <tr>\n",
       "      <th>2908</th>\n",
       "      <td>69</td>\n",
       "      <td>3.000000</td>\n",
       "      <td>0.000000</td>\n",
       "      <td>3</td>\n",
       "      <td>3</td>\n",
       "      <td>3</td>\n",
       "      <td>3.00</td>\n",
       "      <td>3</td>\n",
       "    </tr>\n",
       "    <tr>\n",
       "      <th>223</th>\n",
       "      <td>67</td>\n",
       "      <td>8.611940</td>\n",
       "      <td>22.439788</td>\n",
       "      <td>3</td>\n",
       "      <td>3</td>\n",
       "      <td>3</td>\n",
       "      <td>3.00</td>\n",
       "      <td>97</td>\n",
       "    </tr>\n",
       "    <tr>\n",
       "      <th>226</th>\n",
       "      <td>62</td>\n",
       "      <td>8.903226</td>\n",
       "      <td>26.902197</td>\n",
       "      <td>1</td>\n",
       "      <td>1</td>\n",
       "      <td>1</td>\n",
       "      <td>1.00</td>\n",
       "      <td>99</td>\n",
       "    </tr>\n",
       "    <tr>\n",
       "      <th>29</th>\n",
       "      <td>45</td>\n",
       "      <td>2.000000</td>\n",
       "      <td>1.552125</td>\n",
       "      <td>1</td>\n",
       "      <td>1</td>\n",
       "      <td>2</td>\n",
       "      <td>2.00</td>\n",
       "      <td>8</td>\n",
       "    </tr>\n",
       "    <tr>\n",
       "      <th>1</th>\n",
       "      <td>35</td>\n",
       "      <td>6.000000</td>\n",
       "      <td>0.000000</td>\n",
       "      <td>6</td>\n",
       "      <td>6</td>\n",
       "      <td>6</td>\n",
       "      <td>6.00</td>\n",
       "      <td>6</td>\n",
       "    </tr>\n",
       "    <tr>\n",
       "      <th>7</th>\n",
       "      <td>26</td>\n",
       "      <td>2.000000</td>\n",
       "      <td>0.000000</td>\n",
       "      <td>2</td>\n",
       "      <td>2</td>\n",
       "      <td>2</td>\n",
       "      <td>2.00</td>\n",
       "      <td>2</td>\n",
       "    </tr>\n",
       "    <tr>\n",
       "      <th>210</th>\n",
       "      <td>26</td>\n",
       "      <td>5.000000</td>\n",
       "      <td>0.000000</td>\n",
       "      <td>5</td>\n",
       "      <td>5</td>\n",
       "      <td>5</td>\n",
       "      <td>5.00</td>\n",
       "      <td>5</td>\n",
       "    </tr>\n",
       "    <tr>\n",
       "      <th>220</th>\n",
       "      <td>24</td>\n",
       "      <td>6.916667</td>\n",
       "      <td>19.187670</td>\n",
       "      <td>3</td>\n",
       "      <td>3</td>\n",
       "      <td>3</td>\n",
       "      <td>3.00</td>\n",
       "      <td>97</td>\n",
       "    </tr>\n",
       "    <tr>\n",
       "      <th>205</th>\n",
       "      <td>22</td>\n",
       "      <td>9.090909</td>\n",
       "      <td>19.188064</td>\n",
       "      <td>5</td>\n",
       "      <td>5</td>\n",
       "      <td>5</td>\n",
       "      <td>5.00</td>\n",
       "      <td>95</td>\n",
       "    </tr>\n",
       "    <tr>\n",
       "      <th>39</th>\n",
       "      <td>21</td>\n",
       "      <td>5.619048</td>\n",
       "      <td>2.355338</td>\n",
       "      <td>1</td>\n",
       "      <td>4</td>\n",
       "      <td>6</td>\n",
       "      <td>6.00</td>\n",
       "      <td>10</td>\n",
       "    </tr>\n",
       "    <tr>\n",
       "      <th>17</th>\n",
       "      <td>21</td>\n",
       "      <td>2.142857</td>\n",
       "      <td>0.478091</td>\n",
       "      <td>2</td>\n",
       "      <td>2</td>\n",
       "      <td>2</td>\n",
       "      <td>2.00</td>\n",
       "      <td>4</td>\n",
       "    </tr>\n",
       "    <tr>\n",
       "      <th>201</th>\n",
       "      <td>21</td>\n",
       "      <td>9.333333</td>\n",
       "      <td>19.629909</td>\n",
       "      <td>5</td>\n",
       "      <td>5</td>\n",
       "      <td>5</td>\n",
       "      <td>5.00</td>\n",
       "      <td>95</td>\n",
       "    </tr>\n",
       "    <tr>\n",
       "      <th>203</th>\n",
       "      <td>20</td>\n",
       "      <td>5.150000</td>\n",
       "      <td>0.670820</td>\n",
       "      <td>5</td>\n",
       "      <td>5</td>\n",
       "      <td>5</td>\n",
       "      <td>5.00</td>\n",
       "      <td>8</td>\n",
       "    </tr>\n",
       "    <tr>\n",
       "      <th>2907</th>\n",
       "      <td>18</td>\n",
       "      <td>8.222222</td>\n",
       "      <td>22.156012</td>\n",
       "      <td>3</td>\n",
       "      <td>3</td>\n",
       "      <td>3</td>\n",
       "      <td>3.00</td>\n",
       "      <td>97</td>\n",
       "    </tr>\n",
       "    <tr>\n",
       "      <th>61</th>\n",
       "      <td>18</td>\n",
       "      <td>6.000000</td>\n",
       "      <td>0.000000</td>\n",
       "      <td>6</td>\n",
       "      <td>6</td>\n",
       "      <td>6</td>\n",
       "      <td>6.00</td>\n",
       "      <td>6</td>\n",
       "    </tr>\n",
       "    <tr>\n",
       "      <th>2925</th>\n",
       "      <td>17</td>\n",
       "      <td>0.000000</td>\n",
       "      <td>0.000000</td>\n",
       "      <td>0</td>\n",
       "      <td>0</td>\n",
       "      <td>0</td>\n",
       "      <td>0.00</td>\n",
       "      <td>0</td>\n",
       "    </tr>\n",
       "    <tr>\n",
       "      <th>207</th>\n",
       "      <td>14</td>\n",
       "      <td>5.000000</td>\n",
       "      <td>0.000000</td>\n",
       "      <td>5</td>\n",
       "      <td>5</td>\n",
       "      <td>5</td>\n",
       "      <td>5.00</td>\n",
       "      <td>5</td>\n",
       "    </tr>\n",
       "    <tr>\n",
       "      <th>26</th>\n",
       "      <td>14</td>\n",
       "      <td>3.000000</td>\n",
       "      <td>0.000000</td>\n",
       "      <td>3</td>\n",
       "      <td>3</td>\n",
       "      <td>3</td>\n",
       "      <td>3.00</td>\n",
       "      <td>3</td>\n",
       "    </tr>\n",
       "    <tr>\n",
       "      <th>234</th>\n",
       "      <td>12</td>\n",
       "      <td>1.000000</td>\n",
       "      <td>0.000000</td>\n",
       "      <td>1</td>\n",
       "      <td>1</td>\n",
       "      <td>1</td>\n",
       "      <td>1.00</td>\n",
       "      <td>1</td>\n",
       "    </tr>\n",
       "    <tr>\n",
       "      <th>224</th>\n",
       "      <td>9</td>\n",
       "      <td>1.333333</td>\n",
       "      <td>1.000000</td>\n",
       "      <td>1</td>\n",
       "      <td>1</td>\n",
       "      <td>1</td>\n",
       "      <td>1.00</td>\n",
       "      <td>4</td>\n",
       "    </tr>\n",
       "    <tr>\n",
       "      <th>221</th>\n",
       "      <td>8</td>\n",
       "      <td>3.000000</td>\n",
       "      <td>0.000000</td>\n",
       "      <td>3</td>\n",
       "      <td>3</td>\n",
       "      <td>3</td>\n",
       "      <td>3.00</td>\n",
       "      <td>3</td>\n",
       "    </tr>\n",
       "    <tr>\n",
       "      <th>3</th>\n",
       "      <td>5</td>\n",
       "      <td>2.800000</td>\n",
       "      <td>1.303840</td>\n",
       "      <td>2</td>\n",
       "      <td>2</td>\n",
       "      <td>2</td>\n",
       "      <td>3.00</td>\n",
       "      <td>5</td>\n",
       "    </tr>\n",
       "    <tr>\n",
       "      <th>302</th>\n",
       "      <td>4</td>\n",
       "      <td>0.000000</td>\n",
       "      <td>0.000000</td>\n",
       "      <td>0</td>\n",
       "      <td>0</td>\n",
       "      <td>0</td>\n",
       "      <td>0.00</td>\n",
       "      <td>0</td>\n",
       "    </tr>\n",
       "    <tr>\n",
       "      <th>62</th>\n",
       "      <td>2</td>\n",
       "      <td>6.000000</td>\n",
       "      <td>0.000000</td>\n",
       "      <td>6</td>\n",
       "      <td>6</td>\n",
       "      <td>6</td>\n",
       "      <td>6.00</td>\n",
       "      <td>6</td>\n",
       "    </tr>\n",
       "    <tr>\n",
       "      <th>219</th>\n",
       "      <td>2</td>\n",
       "      <td>3.000000</td>\n",
       "      <td>0.000000</td>\n",
       "      <td>3</td>\n",
       "      <td>3</td>\n",
       "      <td>3</td>\n",
       "      <td>3.00</td>\n",
       "      <td>3</td>\n",
       "    </tr>\n",
       "    <tr>\n",
       "      <th>306</th>\n",
       "      <td>1</td>\n",
       "      <td>0.000000</td>\n",
       "      <td>NaN</td>\n",
       "      <td>0</td>\n",
       "      <td>0</td>\n",
       "      <td>0</td>\n",
       "      <td>0.00</td>\n",
       "      <td>0</td>\n",
       "    </tr>\n",
       "  </tbody>\n",
       "</table>\n",
       "<p>97 rows × 8 columns</p>\n",
       "</div>"
      ],
      "text/plain": [
       "           demerits                                            \n",
       "              count      mean        std min 25% 50%   75%  max\n",
       "violations                                                     \n",
       "14             2477  4.022204   0.307275   1   4   4  4.00   10\n",
       "2930           2380  1.279832  11.161500  -1   0   0  0.00  100\n",
       "36             2354  1.400595   1.311176  -1   1   1  1.00   10\n",
       "37             2118  0.999056   0.173869  -1   1   1  1.00    4\n",
       "31             1903  1.118760   0.760195  -1   1   1  1.00   12\n",
       "13             1534  3.017601   0.311264   2   3   3  3.00    9\n",
       "2955           1445  3.337716   5.532277  -1   3   3  3.00   97\n",
       "27             1372  1.000000   0.000000   1   1   1  1.00    1\n",
       "35             1290  1.196124   0.920156  -1   1   1  1.00   10\n",
       "233            1159  7.417601  24.142136  -1   1   1  1.00   99\n",
       "2928           1156  0.801903   8.798349  -1   0   0  0.00  100\n",
       "30             1133  1.462489   1.602685  -1   1   1  1.00   10\n",
       "215            1113  3.544474   6.896332  -1   3   3  3.00   97\n",
       "28              842  1.059382   0.719220  -1   1   1  1.00   12\n",
       "4               792  4.003788   0.957365  -1   4   4  4.00   27\n",
       "211             737  3.436906   6.079782   3   3   3  3.00   97\n",
       "114             733  3.989086   0.208798   0   4   4  4.00    4\n",
       "40              676  3.933432   2.157504   1   2   4  6.00   10\n",
       "230             550  4.052727  16.566446  -1   1   1  1.00   99\n",
       "212             543  3.882136  10.942188   3   3   3  3.00  200\n",
       "64              540  5.633333   1.280219   0   6   6  6.00   13\n",
       "38              518  4.413127   2.636447  -1   1   4  6.00   12\n",
       "10              516  5.180233   3.467530   2   3   3  7.00   40\n",
       "214             507  5.783037  15.943709   1   3   3  3.00   97\n",
       "112             502  4.000000   0.000000   4   4   4  4.00    4\n",
       "25              488  1.204918   1.077594   1   1   1  1.00   10\n",
       "8               455  5.712088   2.147267   3   4   6  6.00   20\n",
       "2909            450  3.011111   0.235702   3   3   3  3.00    8\n",
       "19              447  1.049217   0.431176   1   1   1  1.00    6\n",
       "218             374  3.350267   5.073485   3   3   3  3.00   97\n",
       "...             ...       ...        ...  ..  ..  ..   ...  ...\n",
       "9                88  2.977273   2.228227   2   2   2  3.25   16\n",
       "231              88  1.022727   0.149887   1   1   1  1.00    2\n",
       "21               83  1.096386   0.484251   1   1   1  1.00    4\n",
       "15               79  6.000000   0.000000   6   6   6  6.00    6\n",
       "2908             69  3.000000   0.000000   3   3   3  3.00    3\n",
       "223              67  8.611940  22.439788   3   3   3  3.00   97\n",
       "226              62  8.903226  26.902197   1   1   1  1.00   99\n",
       "29               45  2.000000   1.552125   1   1   2  2.00    8\n",
       "1                35  6.000000   0.000000   6   6   6  6.00    6\n",
       "7                26  2.000000   0.000000   2   2   2  2.00    2\n",
       "210              26  5.000000   0.000000   5   5   5  5.00    5\n",
       "220              24  6.916667  19.187670   3   3   3  3.00   97\n",
       "205              22  9.090909  19.188064   5   5   5  5.00   95\n",
       "39               21  5.619048   2.355338   1   4   6  6.00   10\n",
       "17               21  2.142857   0.478091   2   2   2  2.00    4\n",
       "201              21  9.333333  19.629909   5   5   5  5.00   95\n",
       "203              20  5.150000   0.670820   5   5   5  5.00    8\n",
       "2907             18  8.222222  22.156012   3   3   3  3.00   97\n",
       "61               18  6.000000   0.000000   6   6   6  6.00    6\n",
       "2925             17  0.000000   0.000000   0   0   0  0.00    0\n",
       "207              14  5.000000   0.000000   5   5   5  5.00    5\n",
       "26               14  3.000000   0.000000   3   3   3  3.00    3\n",
       "234              12  1.000000   0.000000   1   1   1  1.00    1\n",
       "224               9  1.333333   1.000000   1   1   1  1.00    4\n",
       "221               8  3.000000   0.000000   3   3   3  3.00    3\n",
       "3                 5  2.800000   1.303840   2   2   2  3.00    5\n",
       "302               4  0.000000   0.000000   0   0   0  0.00    0\n",
       "62                2  6.000000   0.000000   6   6   6  6.00    6\n",
       "219               2  3.000000   0.000000   3   3   3  3.00    3\n",
       "306               1  0.000000        NaN   0   0   0  0.00    0\n",
       "\n",
       "[97 rows x 8 columns]"
      ]
     },
     "execution_count": 433,
     "metadata": {},
     "output_type": "execute_result"
    }
   ],
   "source": [
    "I_NV[I_NV.n_viol==1].groupby('violations').describe()\\\n",
    "    [['demerits']].unstack(-1).sort_values(('demerits','count'), ascending=False)"
   ]
  },
  {
   "cell_type": "markdown",
   "metadata": {},
   "source": [
    "# Model, Create X, y:"
   ]
  },
  {
   "cell_type": "code",
   "execution_count": 285,
   "metadata": {
    "collapsed": true
   },
   "outputs": [],
   "source": [
    "from sklearn.cross_validation import train_test_split\n",
    "from sklearn.linear_model import LinearRegression\n",
    "import statsmodels.api as sm\n",
    "from sklearn.ensemble import RandomForestRegressor\n",
    "from sklearn.metrics import f1_score"
   ]
  },
  {
   "cell_type": "code",
   "execution_count": null,
   "metadata": {
    "collapsed": true
   },
   "outputs": [],
   "source": []
  },
  {
   "cell_type": "code",
   "execution_count": 278,
   "metadata": {
    "collapsed": false
   },
   "outputs": [],
   "source": [
    "df_train, df_test = train_test_split(df_WI)\n",
    "\n",
    "X_train = df_train[['rev_ct','neg_ct','stars_avg','rev_len_avg','stars_var']].values\n",
    "y_train = df_train[['n_violations','n_critical']].values\n",
    "X_test = df_test[['rev_ct','neg_ct','stars_avg','rev_len_avg','stars_var']].values\n",
    "y_test = df_test[['n_violations','n_critical']].values"
   ]
  },
  {
   "cell_type": "code",
   "execution_count": 276,
   "metadata": {
    "collapsed": false
   },
   "outputs": [
    {
     "data": {
      "text/plain": [
       "LinearRegression(copy_X=True, fit_intercept=True, n_jobs=1, normalize=False)"
      ]
     },
     "execution_count": 276,
     "metadata": {},
     "output_type": "execute_result"
    }
   ],
   "source": [
    "model_ols = LinearRegression()\n",
    "model_ols.fit(X_train, y_train)"
   ]
  },
  {
   "cell_type": "code",
   "execution_count": 297,
   "metadata": {
    "collapsed": false
   },
   "outputs": [
    {
     "name": "stdout",
     "output_type": "stream",
     "text": [
      "                            OLS Regression Results                            \n",
      "==============================================================================\n",
      "Dep. Variable:                      y   R-squared:                       0.011\n",
      "Model:                            OLS   Adj. R-squared:                  0.009\n",
      "Method:                 Least Squares   F-statistic:                     5.739\n",
      "Date:                Wed, 11 Nov 2015   Prob (F-statistic):           0.000667\n",
      "Time:                        13:10:02   Log-Likelihood:                -3164.3\n",
      "No. Observations:                1485   AIC:                             6337.\n",
      "Df Residuals:                    1481   BIC:                             6358.\n",
      "Df Model:                           3                                         \n",
      "Covariance Type:            nonrobust                                         \n",
      "==============================================================================\n",
      "                 coef    std err          t      P>|t|      [95.0% Conf. Int.]\n",
      "------------------------------------------------------------------------------\n",
      "const          1.8800      0.248      7.585      0.000         1.394     2.366\n",
      "x1            -0.0276      0.057     -0.481      0.631        -0.140     0.085\n",
      "x2             0.0006      0.000      3.717      0.000         0.000     0.001\n",
      "x3             0.0695      0.045      1.557      0.120        -0.018     0.157\n",
      "==============================================================================\n",
      "Omnibus:                      255.966   Durbin-Watson:                   2.036\n",
      "Prob(Omnibus):                  0.000   Jarque-Bera (JB):              432.926\n",
      "Skew:                           1.105   Prob(JB):                     9.80e-95\n",
      "Kurtosis:                       4.453   Cond. No.                     3.26e+03\n",
      "==============================================================================\n",
      "\n",
      "Warnings:\n",
      "[1] Standard Errors assume that the covariance matrix of the errors is correctly specified.\n",
      "[2] The condition number is large, 3.26e+03. This might indicate that there are\n",
      "strong multicollinearity or other numerical problems.\n"
     ]
    }
   ],
   "source": [
    "model_ols_sm = sm.OLS(y_train[:,1], sm.add_constant(X_train[:,[2,3,4]]) )\n",
    "res = model_ols_sm.fit()\n",
    "print res.summary()"
   ]
  },
  {
   "cell_type": "code",
   "execution_count": 283,
   "metadata": {
    "collapsed": false
   },
   "outputs": [
    {
     "data": {
      "text/html": [
       "<div>\n",
       "<table border=\"1\" class=\"dataframe\">\n",
       "  <thead>\n",
       "    <tr style=\"text-align: right;\">\n",
       "      <th></th>\n",
       "      <th>n_violations</th>\n",
       "      <th>n_critical</th>\n",
       "      <th>rev_ct</th>\n",
       "      <th>neg_ct</th>\n",
       "      <th>stars_avg</th>\n",
       "      <th>rev_len_avg</th>\n",
       "      <th>stars_var</th>\n",
       "    </tr>\n",
       "  </thead>\n",
       "  <tbody>\n",
       "    <tr>\n",
       "      <th>count</th>\n",
       "      <td>1485.000000</td>\n",
       "      <td>1485.000000</td>\n",
       "      <td>1485.000000</td>\n",
       "      <td>1485.000000</td>\n",
       "      <td>1485.000000</td>\n",
       "      <td>1485.000000</td>\n",
       "      <td>1485.000000</td>\n",
       "    </tr>\n",
       "    <tr>\n",
       "      <th>mean</th>\n",
       "      <td>4.282155</td>\n",
       "      <td>2.220202</td>\n",
       "      <td>8.716498</td>\n",
       "      <td>8.716498</td>\n",
       "      <td>3.502187</td>\n",
       "      <td>597.791884</td>\n",
       "      <td>1.111015</td>\n",
       "    </tr>\n",
       "    <tr>\n",
       "      <th>std</th>\n",
       "      <td>3.546835</td>\n",
       "      <td>2.050408</td>\n",
       "      <td>12.690321</td>\n",
       "      <td>12.690321</td>\n",
       "      <td>0.939607</td>\n",
       "      <td>328.411301</td>\n",
       "      <td>1.203548</td>\n",
       "    </tr>\n",
       "    <tr>\n",
       "      <th>min</th>\n",
       "      <td>0.000000</td>\n",
       "      <td>0.000000</td>\n",
       "      <td>1.000000</td>\n",
       "      <td>1.000000</td>\n",
       "      <td>1.000000</td>\n",
       "      <td>36.000000</td>\n",
       "      <td>0.000000</td>\n",
       "    </tr>\n",
       "    <tr>\n",
       "      <th>25%</th>\n",
       "      <td>2.000000</td>\n",
       "      <td>1.000000</td>\n",
       "      <td>2.000000</td>\n",
       "      <td>2.000000</td>\n",
       "      <td>3.000000</td>\n",
       "      <td>391.000000</td>\n",
       "      <td>0.000000</td>\n",
       "    </tr>\n",
       "    <tr>\n",
       "      <th>50%</th>\n",
       "      <td>4.000000</td>\n",
       "      <td>2.000000</td>\n",
       "      <td>4.000000</td>\n",
       "      <td>4.000000</td>\n",
       "      <td>3.666667</td>\n",
       "      <td>564.750000</td>\n",
       "      <td>0.894737</td>\n",
       "    </tr>\n",
       "    <tr>\n",
       "      <th>75%</th>\n",
       "      <td>6.000000</td>\n",
       "      <td>3.000000</td>\n",
       "      <td>10.000000</td>\n",
       "      <td>10.000000</td>\n",
       "      <td>4.100000</td>\n",
       "      <td>740.812500</td>\n",
       "      <td>1.655556</td>\n",
       "    </tr>\n",
       "    <tr>\n",
       "      <th>max</th>\n",
       "      <td>22.000000</td>\n",
       "      <td>13.000000</td>\n",
       "      <td>134.000000</td>\n",
       "      <td>134.000000</td>\n",
       "      <td>5.000000</td>\n",
       "      <td>4236.000000</td>\n",
       "      <td>8.000000</td>\n",
       "    </tr>\n",
       "  </tbody>\n",
       "</table>\n",
       "</div>"
      ],
      "text/plain": [
       "       n_violations   n_critical       rev_ct       neg_ct    stars_avg  \\\n",
       "count   1485.000000  1485.000000  1485.000000  1485.000000  1485.000000   \n",
       "mean       4.282155     2.220202     8.716498     8.716498     3.502187   \n",
       "std        3.546835     2.050408    12.690321    12.690321     0.939607   \n",
       "min        0.000000     0.000000     1.000000     1.000000     1.000000   \n",
       "25%        2.000000     1.000000     2.000000     2.000000     3.000000   \n",
       "50%        4.000000     2.000000     4.000000     4.000000     3.666667   \n",
       "75%        6.000000     3.000000    10.000000    10.000000     4.100000   \n",
       "max       22.000000    13.000000   134.000000   134.000000     5.000000   \n",
       "\n",
       "       rev_len_avg    stars_var  \n",
       "count  1485.000000  1485.000000  \n",
       "mean    597.791884     1.111015  \n",
       "std     328.411301     1.203548  \n",
       "min      36.000000     0.000000  \n",
       "25%     391.000000     0.000000  \n",
       "50%     564.750000     0.894737  \n",
       "75%     740.812500     1.655556  \n",
       "max    4236.000000     8.000000  "
      ]
     },
     "execution_count": 283,
     "metadata": {},
     "output_type": "execute_result"
    }
   ],
   "source": [
    "df_train.describe()"
   ]
  },
  {
   "cell_type": "code",
   "execution_count": 284,
   "metadata": {
    "collapsed": false
   },
   "outputs": [
    {
     "data": {
      "text/html": [
       "<div>\n",
       "<table border=\"1\" class=\"dataframe\">\n",
       "  <thead>\n",
       "    <tr style=\"text-align: right;\">\n",
       "      <th></th>\n",
       "      <th>n_violations</th>\n",
       "      <th>n_critical</th>\n",
       "      <th>rev_ct</th>\n",
       "      <th>neg_ct</th>\n",
       "      <th>stars_avg</th>\n",
       "      <th>rev_len_avg</th>\n",
       "      <th>stars_var</th>\n",
       "    </tr>\n",
       "  </thead>\n",
       "  <tbody>\n",
       "    <tr>\n",
       "      <th>count</th>\n",
       "      <td>495.000000</td>\n",
       "      <td>495.000000</td>\n",
       "      <td>495.000000</td>\n",
       "      <td>495.000000</td>\n",
       "      <td>495.000000</td>\n",
       "      <td>495.000000</td>\n",
       "      <td>495.000000</td>\n",
       "    </tr>\n",
       "    <tr>\n",
       "      <th>mean</th>\n",
       "      <td>4.454545</td>\n",
       "      <td>2.430303</td>\n",
       "      <td>7.739394</td>\n",
       "      <td>7.739394</td>\n",
       "      <td>3.491642</td>\n",
       "      <td>631.490225</td>\n",
       "      <td>1.044846</td>\n",
       "    </tr>\n",
       "    <tr>\n",
       "      <th>std</th>\n",
       "      <td>4.076378</td>\n",
       "      <td>2.432633</td>\n",
       "      <td>9.661412</td>\n",
       "      <td>9.661412</td>\n",
       "      <td>0.949514</td>\n",
       "      <td>384.902831</td>\n",
       "      <td>1.123696</td>\n",
       "    </tr>\n",
       "    <tr>\n",
       "      <th>min</th>\n",
       "      <td>0.000000</td>\n",
       "      <td>0.000000</td>\n",
       "      <td>1.000000</td>\n",
       "      <td>1.000000</td>\n",
       "      <td>1.000000</td>\n",
       "      <td>38.000000</td>\n",
       "      <td>0.000000</td>\n",
       "    </tr>\n",
       "    <tr>\n",
       "      <th>25%</th>\n",
       "      <td>2.000000</td>\n",
       "      <td>1.000000</td>\n",
       "      <td>2.000000</td>\n",
       "      <td>2.000000</td>\n",
       "      <td>3.000000</td>\n",
       "      <td>390.250000</td>\n",
       "      <td>0.000000</td>\n",
       "    </tr>\n",
       "    <tr>\n",
       "      <th>50%</th>\n",
       "      <td>3.000000</td>\n",
       "      <td>2.000000</td>\n",
       "      <td>4.000000</td>\n",
       "      <td>4.000000</td>\n",
       "      <td>3.666667</td>\n",
       "      <td>575.250000</td>\n",
       "      <td>0.787879</td>\n",
       "    </tr>\n",
       "    <tr>\n",
       "      <th>75%</th>\n",
       "      <td>6.000000</td>\n",
       "      <td>4.000000</td>\n",
       "      <td>10.000000</td>\n",
       "      <td>10.000000</td>\n",
       "      <td>4.088008</td>\n",
       "      <td>784.083333</td>\n",
       "      <td>1.600000</td>\n",
       "    </tr>\n",
       "    <tr>\n",
       "      <th>max</th>\n",
       "      <td>37.000000</td>\n",
       "      <td>17.000000</td>\n",
       "      <td>65.000000</td>\n",
       "      <td>65.000000</td>\n",
       "      <td>5.000000</td>\n",
       "      <td>4242.000000</td>\n",
       "      <td>8.000000</td>\n",
       "    </tr>\n",
       "  </tbody>\n",
       "</table>\n",
       "</div>"
      ],
      "text/plain": [
       "       n_violations  n_critical      rev_ct      neg_ct   stars_avg  \\\n",
       "count    495.000000  495.000000  495.000000  495.000000  495.000000   \n",
       "mean       4.454545    2.430303    7.739394    7.739394    3.491642   \n",
       "std        4.076378    2.432633    9.661412    9.661412    0.949514   \n",
       "min        0.000000    0.000000    1.000000    1.000000    1.000000   \n",
       "25%        2.000000    1.000000    2.000000    2.000000    3.000000   \n",
       "50%        3.000000    2.000000    4.000000    4.000000    3.666667   \n",
       "75%        6.000000    4.000000   10.000000   10.000000    4.088008   \n",
       "max       37.000000   17.000000   65.000000   65.000000    5.000000   \n",
       "\n",
       "       rev_len_avg   stars_var  \n",
       "count   495.000000  495.000000  \n",
       "mean    631.490225    1.044846  \n",
       "std     384.902831    1.123696  \n",
       "min      38.000000    0.000000  \n",
       "25%     390.250000    0.000000  \n",
       "50%     575.250000    0.787879  \n",
       "75%     784.083333    1.600000  \n",
       "max    4242.000000    8.000000  "
      ]
     },
     "execution_count": 284,
     "metadata": {},
     "output_type": "execute_result"
    }
   ],
   "source": [
    "df_test.describe()"
   ]
  },
  {
   "cell_type": "code",
   "execution_count": 344,
   "metadata": {
    "collapsed": false
   },
   "outputs": [],
   "source": [
    "model_rf = RandomForestRegressor()\n",
    "model_rf.fit(X_train, y_train[:,1])\n",
    "y_pred = model_rf.predict(X_test)\n",
    "#f1_score(y_test[:,1]+0.001, y_pred+0.001)"
   ]
  },
  {
   "cell_type": "code",
   "execution_count": 298,
   "metadata": {
    "collapsed": false
   },
   "outputs": [
    {
     "data": {
      "text/html": [
       "<div>\n",
       "<table border=\"1\" class=\"dataframe\">\n",
       "  <thead>\n",
       "    <tr style=\"text-align: right;\">\n",
       "      <th></th>\n",
       "      <th>n_violations</th>\n",
       "      <th>n_critical</th>\n",
       "    </tr>\n",
       "  </thead>\n",
       "  <tbody>\n",
       "    <tr>\n",
       "      <th>count</th>\n",
       "      <td>2831.000000</td>\n",
       "      <td>2831.000000</td>\n",
       "    </tr>\n",
       "    <tr>\n",
       "      <th>mean</th>\n",
       "      <td>4.467326</td>\n",
       "      <td>2.374779</td>\n",
       "    </tr>\n",
       "    <tr>\n",
       "      <th>std</th>\n",
       "      <td>3.862419</td>\n",
       "      <td>2.280301</td>\n",
       "    </tr>\n",
       "    <tr>\n",
       "      <th>min</th>\n",
       "      <td>0.000000</td>\n",
       "      <td>0.000000</td>\n",
       "    </tr>\n",
       "    <tr>\n",
       "      <th>25%</th>\n",
       "      <td>1.000000</td>\n",
       "      <td>1.000000</td>\n",
       "    </tr>\n",
       "    <tr>\n",
       "      <th>50%</th>\n",
       "      <td>4.000000</td>\n",
       "      <td>2.000000</td>\n",
       "    </tr>\n",
       "    <tr>\n",
       "      <th>75%</th>\n",
       "      <td>6.000000</td>\n",
       "      <td>4.000000</td>\n",
       "    </tr>\n",
       "    <tr>\n",
       "      <th>max</th>\n",
       "      <td>37.000000</td>\n",
       "      <td>17.000000</td>\n",
       "    </tr>\n",
       "  </tbody>\n",
       "</table>\n",
       "</div>"
      ],
      "text/plain": [
       "       n_violations   n_critical\n",
       "count   2831.000000  2831.000000\n",
       "mean       4.467326     2.374779\n",
       "std        3.862419     2.280301\n",
       "min        0.000000     0.000000\n",
       "25%        1.000000     1.000000\n",
       "50%        4.000000     2.000000\n",
       "75%        6.000000     4.000000\n",
       "max       37.000000    17.000000"
      ]
     },
     "execution_count": 298,
     "metadata": {},
     "output_type": "execute_result"
    }
   ],
   "source": [
    "I_WI.describe()"
   ]
  },
  {
   "cell_type": "code",
   "execution_count": 313,
   "metadata": {
    "collapsed": true
   },
   "outputs": [],
   "source": [
    "temp = I_WI.copy()\n",
    "temp['n_core'] = - temp.n_critical + temp.n_violations\n",
    "temp['grade'] = 0\n",
    "temp.loc[temp.n_critical>= 1,'grade'] +=1\n",
    "temp.loc[temp.n_critical>= 2,'grade'] +=1\n",
    "temp.loc[temp.n_critical>= 3,'grade'] +=1\n",
    "temp.loc[temp.n_core>=4,'grade'] +=1\n",
    "temp['target'] = temp.grade >= 3"
   ]
  },
  {
   "cell_type": "code",
   "execution_count": 322,
   "metadata": {
    "collapsed": false
   },
   "outputs": [
    {
     "data": {
      "text/html": [
       "<div>\n",
       "<table border=\"1\" class=\"dataframe\">\n",
       "  <thead>\n",
       "    <tr style=\"text-align: right;\">\n",
       "      <th></th>\n",
       "      <th>n_violations</th>\n",
       "      <th>n_critical</th>\n",
       "      <th>n_core</th>\n",
       "      <th>grade</th>\n",
       "      <th>target</th>\n",
       "    </tr>\n",
       "  </thead>\n",
       "  <tbody>\n",
       "    <tr>\n",
       "      <th>count</th>\n",
       "      <td>636.000000</td>\n",
       "      <td>636.000000</td>\n",
       "      <td>636.000000</td>\n",
       "      <td>636.000000</td>\n",
       "      <td>636</td>\n",
       "    </tr>\n",
       "    <tr>\n",
       "      <th>mean</th>\n",
       "      <td>7.127358</td>\n",
       "      <td>3.753145</td>\n",
       "      <td>4.061321</td>\n",
       "      <td>2.886792</td>\n",
       "      <td>0.718553</td>\n",
       "    </tr>\n",
       "    <tr>\n",
       "      <th>std</th>\n",
       "      <td>4.149696</td>\n",
       "      <td>2.361850</td>\n",
       "      <td>2.710902</td>\n",
       "      <td>1.064716</td>\n",
       "      <td>0.450059</td>\n",
       "    </tr>\n",
       "    <tr>\n",
       "      <th>min</th>\n",
       "      <td>0.000000</td>\n",
       "      <td>0.000000</td>\n",
       "      <td>0.000000</td>\n",
       "      <td>0.000000</td>\n",
       "      <td>False</td>\n",
       "    </tr>\n",
       "    <tr>\n",
       "      <th>25%</th>\n",
       "      <td>4.000000</td>\n",
       "      <td>2.000000</td>\n",
       "      <td>2.000000</td>\n",
       "      <td>2.000000</td>\n",
       "      <td>0</td>\n",
       "    </tr>\n",
       "    <tr>\n",
       "      <th>50%</th>\n",
       "      <td>6.000000</td>\n",
       "      <td>3.000000</td>\n",
       "      <td>4.000000</td>\n",
       "      <td>3.000000</td>\n",
       "      <td>1</td>\n",
       "    </tr>\n",
       "    <tr>\n",
       "      <th>75%</th>\n",
       "      <td>9.000000</td>\n",
       "      <td>5.000000</td>\n",
       "      <td>6.000000</td>\n",
       "      <td>4.000000</td>\n",
       "      <td>1</td>\n",
       "    </tr>\n",
       "    <tr>\n",
       "      <th>max</th>\n",
       "      <td>37.000000</td>\n",
       "      <td>17.000000</td>\n",
       "      <td>20.000000</td>\n",
       "      <td>4.000000</td>\n",
       "      <td>True</td>\n",
       "    </tr>\n",
       "  </tbody>\n",
       "</table>\n",
       "</div>"
      ],
      "text/plain": [
       "       n_violations  n_critical      n_core       grade    target\n",
       "count    636.000000  636.000000  636.000000  636.000000       636\n",
       "mean       7.127358    3.753145    4.061321    2.886792  0.718553\n",
       "std        4.149696    2.361850    2.710902    1.064716  0.450059\n",
       "min        0.000000    0.000000    0.000000    0.000000     False\n",
       "25%        4.000000    2.000000    2.000000    2.000000         0\n",
       "50%        6.000000    3.000000    4.000000    3.000000         1\n",
       "75%        9.000000    5.000000    6.000000    4.000000         1\n",
       "max       37.000000   17.000000   20.000000    4.000000      True"
      ]
     },
     "execution_count": 322,
     "metadata": {},
     "output_type": "execute_result"
    }
   ],
   "source": [
    "temp.groupby('id_').max().describe()"
   ]
  },
  {
   "cell_type": "markdown",
   "metadata": {},
   "source": [
    "# Charlotte, NC -- Classification:"
   ]
  },
  {
   "cell_type": "code",
   "execution_count": 605,
   "metadata": {
    "collapsed": true
   },
   "outputs": [],
   "source": [
    "df_NC = open_pickle('../data/char/charlotte_yelp_features.pkl')"
   ]
  },
  {
   "cell_type": "code",
   "execution_count": 278,
   "metadata": {
    "collapsed": false
   },
   "outputs": [],
   "source": [
    "df_train, df_test = train_test_split(df_NC)\n",
    "target_list = []\n",
    "\n",
    "X_train = df_train[['rev_ct','neg_ct','stars_avg','rev_len_avg','stars_var']].values\n",
    "y_train = df_train[['n_violations','n_critical']].values\n",
    "X_test = df_test[['rev_ct','neg_ct','stars_avg','rev_len_avg','stars_var']].values\n",
    "y_test = df_test[['n_violations','n_critical']].values"
   ]
  },
  {
   "cell_type": "code",
   "execution_count": 606,
   "metadata": {
    "collapsed": false
   },
   "outputs": [
    {
     "name": "stdout",
     "output_type": "stream",
     "text": [
      "<class 'pandas.core.frame.DataFrame'>\n",
      "Int64Index: 284 entries, 0 to 6742\n",
      "Data columns (total 12 columns):\n",
      "business_id    284 non-null object\n",
      "id_            284 non-null int64\n",
      "date           284 non-null object\n",
      "inspec_id      284 non-null object\n",
      "score          284 non-null object\n",
      "grade          284 non-null object\n",
      "date_start     284 non-null datetime64[ns]\n",
      "rev_ct         284 non-null int64\n",
      "neg_ct         284 non-null int64\n",
      "stars_avg      284 non-null float64\n",
      "rev_len_avg    284 non-null float64\n",
      "stars_var      284 non-null float64\n",
      "dtypes: datetime64[ns](1), float64(3), int64(3), object(5)\n",
      "memory usage: 28.8+ KB\n"
     ]
    }
   ],
   "source": [
    "df_NC.info()"
   ]
  },
  {
   "cell_type": "markdown",
   "metadata": {},
   "source": [
    "# Phoenix, AZ -- Classification:"
   ]
  },
  {
   "cell_type": "code",
   "execution_count": 33,
   "metadata": {
    "collapsed": false
   },
   "outputs": [],
   "source": [
    "from sklearn.cross_validation import train_test_split\n",
    "from sklearn.linear_model import LogisticRegression\n",
    "from sklearn.ensemble import RandomForestClassifier\n",
    "from sklearn.svm import SVC\n",
    "from sklearn.svm import LinearSVC, LinearSVR\n",
    "from sklearn.metrics import f1_score, accuracy_score, precision_score, recall_score,\\\n",
    "                            confusion_matrix, classification_report, mean_squared_error"
   ]
  },
  {
   "cell_type": "code",
   "execution_count": 102,
   "metadata": {
    "collapsed": true
   },
   "outputs": [],
   "source": [
    "import features_phoenix as lib_features"
   ]
  },
  {
   "cell_type": "code",
   "execution_count": 104,
   "metadata": {
    "collapsed": false
   },
   "outputs": [
    {
     "data": {
      "text/plain": [
       "<module 'features_phoenix' from 'features_phoenix.py'>"
      ]
     },
     "execution_count": 104,
     "metadata": {},
     "output_type": "execute_result"
    }
   ],
   "source": [
    "reload(lib_features)"
   ]
  },
  {
   "cell_type": "code",
   "execution_count": 80,
   "metadata": {
    "collapsed": true
   },
   "outputs": [],
   "source": [
    "df_AZ = open_pickle('../data/phx/phoenix_yelp_features.pkl')"
   ]
  },
  {
   "cell_type": "code",
   "execution_count": 105,
   "metadata": {
    "collapsed": false
   },
   "outputs": [
    {
     "name": "stdout",
     "output_type": "stream",
     "text": [
      "<class 'pandas.core.frame.DataFrame'>\n",
      "Int64Index: 150758 entries, 0 to 150757\n",
      "Data columns (total 9 columns):\n",
      "_id            150758 non-null object\n",
      "business_id    150758 non-null object\n",
      "date           150758 non-null object\n",
      "review_id      150758 non-null object\n",
      "stars          150758 non-null int64\n",
      "text           150758 non-null object\n",
      "type           150758 non-null object\n",
      "user_id        150758 non-null object\n",
      "votes          150758 non-null object\n",
      "dtypes: int64(1), object(8)\n",
      "memory usage: 11.5+ MB\n",
      "None\n",
      "(1584295, 23)\n",
      "(147591, 23)\n",
      "<class 'pandas.core.frame.DataFrame'>\n",
      "MultiIndex: 21431 entries, (3312868, Q90fNAiXiTHFoqgCDf63sg, FD-03700) to (3789376, h8vo2cBL9mE7Ar0qc0oD0A, FD-35413)\n",
      "Data columns (total 6 columns):\n",
      "rev_ct         21431 non-null int64\n",
      "neg_ct         21431 non-null int64\n",
      "stars_avg      21431 non-null float64\n",
      "rev_len_avg    21431 non-null float64\n",
      "stars_var      21431 non-null float64\n",
      "text           21431 non-null object\n",
      "dtypes: float64(3), int64(2), object(1)\n",
      "memory usage: 1.3+ MB\n",
      "None\n",
      "<class 'pandas.core.frame.DataFrame'>\n",
      "MultiIndex: 21431 entries, (3312868, Q90fNAiXiTHFoqgCDf63sg, FD-03700) to (3789376, h8vo2cBL9mE7Ar0qc0oD0A, FD-35413)\n",
      "Data columns (total 6 columns):\n",
      "rev_ct         21431 non-null int64\n",
      "neg_ct         21431 non-null int64\n",
      "stars_avg      21431 non-null float64\n",
      "rev_len_avg    21431 non-null float64\n",
      "stars_var      21431 non-null float64\n",
      "text           21431 non-null object\n",
      "dtypes: float64(3), int64(2), object(1)\n",
      "memory usage: 1.3+ MB\n",
      "None\n"
     ]
    }
   ],
   "source": [
    "df_AZ_routine = lib_features.get_features_AZ(AZ, '2012-04-01', 'phoenix', \n",
    "                                ['n_priority', 'grade', 'purpose','n_violations',\n",
    "                                 'v_core','sum_core','v_foundation','sum_foundation',\n",
    "                                 'v_priority','sum_priority'],\n",
    "                                routine=True)"
   ]
  },
  {
   "cell_type": "code",
   "execution_count": 81,
   "metadata": {
    "collapsed": true
   },
   "outputs": [
    {
     "name": "stdout",
     "output_type": "stream",
     "text": [
      "<class 'pandas.core.frame.DataFrame'>\n",
      "Int64Index: 23938 entries, 2 to 45192\n",
      "Data columns (total 21 columns):\n",
      "business_id       23938 non-null object\n",
      "id_               23938 non-null object\n",
      "date              23938 non-null object\n",
      "inspec_id         23938 non-null object\n",
      "n_priority        23938 non-null object\n",
      "grade             23938 non-null object\n",
      "purpose           23938 non-null object\n",
      "n_violations      15262 non-null float64\n",
      "v_core            23938 non-null int64\n",
      "sum_core          23938 non-null int64\n",
      "v_foundation      23938 non-null int64\n",
      "sum_foundation    23938 non-null int64\n",
      "v_priority        23938 non-null int64\n",
      "sum_priority      23938 non-null int64\n",
      "date_start        23938 non-null datetime64[ns]\n",
      "rev_ct            23938 non-null int64\n",
      "neg_ct            23938 non-null int64\n",
      "stars_avg         23938 non-null float64\n",
      "rev_len_avg       23938 non-null float64\n",
      "stars_var         23938 non-null float64\n",
      "text              23938 non-null object\n",
      "dtypes: datetime64[ns](1), float64(4), int64(8), object(8)\n",
      "memory usage: 4.0+ MB\n"
     ]
    }
   ],
   "source": [
    "df_AZ.info()"
   ]
  },
  {
   "cell_type": "code",
   "execution_count": 20,
   "metadata": {
    "collapsed": true
   },
   "outputs": [],
   "source": [
    "def create_target(df, col, t):\n",
    "    target = (df[col] >= t).astype(int)\n",
    "    return target.values\n",
    "\n",
    "def create_model_inputs(df, col, t):\n",
    "    X = df[['rev_ct','neg_ct','stars_avg','rev_len_avg','stars_var']].values\n",
    "    y = create_target(df, 'sum_priority', t)\n",
    "    return X, y\n",
    "\n",
    "def print_metrics(y_true, y_pred):\n",
    "    print '%.4f   : Accuracy' % accuracy_score(y_true, y_pred)\n",
    "    print '%.4f   : Precision' % precision_score(y_true, y_pred)\n",
    "    print '%.4f   : Recall' % recall_score(y_true, y_pred)\n",
    "    print '%.4f   : f1_score' % f1_score(y_true, y_pred)\n",
    "    print '%.4f   : MSE' % mean_squared_error(y_true, y_pred)\n",
    "    print '%s   : Confusion matrix' % confusion_matrix(y_true, y_pred)\n",
    "    \n",
    "def save_metrics(y_true, y_pred):\n",
    "    d = {'accuracy': accuracy_score(y_true, y_pred),\n",
    "         'precision': precision_score(y_true, y_pred), \n",
    "         'recall': recall_score(y_true, y_pred),\n",
    "         'f1': f1_score(y_true, y_pred),\n",
    "         'mse': mean_squared_error(y_true, y_pred)}\n",
    "    CM = confusion_matrix(y_true, y_pred)\n",
    "    d.update({'TN': CM[0,0],\n",
    "              'FP': CM[0,1],\n",
    "              'FN': CM[1,0],\n",
    "              'TP': CM[1,1],\n",
    "             })\n",
    "    return d\n",
    "\n",
    "def train_rf(df_train, df_test, col, t, tfs=None):\n",
    "    X_train, y_train = create_model_inputs(df_train, col, t)\n",
    "    X_test, y_test = create_model_inputs(df_test, col, t)\n",
    "    if tfs is not None:\n",
    "        X_train = tfs[0]\n",
    "        X_test = tfs[1]\n",
    "    model_rf = RandomForestClassifier(oob_score=True,\n",
    "                                      random_state = 981, \n",
    "                                      class_weight='balanced')\n",
    "    model_rf.fit(X_train, y_train)\n",
    "    y_pred = model_rf.predict(X_test)\n",
    "    d = save_metrics(y_test, y_pred)\n",
    "    d.update({'oob':model_rf.oob_score_})\n",
    "    return {t: d}\n",
    "\n",
    "def rf_model(df_train, df_test, col, val_range, tfs=None):\n",
    "    d = {}\n",
    "    for t in val_range:\n",
    "        d.update(train_rf(df_train, df_test, col, t, tfs))\n",
    "    return pd.DataFrame.from_records(d).T\n",
    "\n",
    "def train_log(df_train, df_test, col, t, tfs = None):\n",
    "    X_train, y_train = create_model_inputs(df_train, col, t)\n",
    "    X_test, y_test = create_model_inputs(df_test, col, t)\n",
    "    if tfs is not None:\n",
    "        X_train = tfs[0]\n",
    "        X_test = tfs[1]\n",
    "    model_log = LogisticRegression()\n",
    "    model_log.fit(X_train, y_train)\n",
    "    y_pred = model_log.predict(X_test)\n",
    "    d = save_metrics(y_test, y_pred)\n",
    "    return {t: d}\n",
    "\n",
    "def log_model(df_train, df_test, col, val_range, tfs=None):\n",
    "    d = {}\n",
    "    for t in val_range:\n",
    "        d.update(train_log(df_train, df_test, col, t, tfs))\n",
    "    return pd.DataFrame.from_records(d).T\n",
    "\n",
    "def train_svc(df_train, df_test, col, t, tfs=None, multiclass=False):\n",
    "    X_train, y_train = create_model_inputs(df_train, col, t)\n",
    "    X_test, y_test = create_model_inputs(df_test, col, t)\n",
    "    if tfs is not None:\n",
    "        X_train = tfs[0]\n",
    "        X_test = tfs[1]\n",
    "    if multiclass:\n",
    "        y_train = df_train[col].values\n",
    "        y_test = df_test[col].values\n",
    "    model_svc = LinearSVC(C=0.19, random_state = 981, class_weight='balanced')\n",
    "    model_svc.fit(X_train, y_train)\n",
    "    y_pred = model_svc.predict(X_test)\n",
    "    d = save_metrics(y_test, y_pred)\n",
    "    return {t: d}\n",
    "\n",
    "def svc_model(df_train, df_test, col, val_range, tfs=None, multiclass=False):\n",
    "    d = {}\n",
    "    for t in val_range:\n",
    "        d.update(train_svc(df_train, df_test, col, t, tfs, multiclass))\n",
    "    return pd.DataFrame.from_records(d).T"
   ]
  },
  {
   "cell_type": "code",
   "execution_count": 9,
   "metadata": {
    "collapsed": false
   },
   "outputs": [],
   "source": [
    "df_train, df_test = train_test_split(df_AZ, train_size=0.6, random_state = 981)\n",
    "\n",
    "# target_list = ['n_priority', 'grade', 'n_violations','v_core','sum_core',\n",
    "#                'v_foundation','sum_foundation','v_priority','sum_priority']\n",
    "\n",
    "# X_train, y_train = create_model_inputs(df_train, 'sum_priority', 2)\n",
    "# X_test, y_test = create_model_inputs(df_test, 'sum_priority', 2)"
   ]
  },
  {
   "cell_type": "code",
   "execution_count": 10,
   "metadata": {
    "collapsed": false
   },
   "outputs": [
    {
     "name": "stdout",
     "output_type": "stream",
     "text": [
      "(14362, 20)\n",
      "(9576, 20)\n"
     ]
    }
   ],
   "source": [
    "print df_train.shape\n",
    "print df_test.shape"
   ]
  },
  {
   "cell_type": "code",
   "execution_count": 625,
   "metadata": {
    "collapsed": false
   },
   "outputs": [
    {
     "name": "stdout",
     "output_type": "stream",
     "text": [
      "1.0000   : OOB Score\n",
      "0.8351   : Accuracy\n",
      "0.1238   : Precision\n",
      "0.0462   : Recall\n",
      "0.0673   : f1_score\n",
      "[[15879   807]\n",
      " [ 2351   114]]   : Accuracy\n"
     ]
    }
   ],
   "source": [
    "model_rf = RandomForestClassifier(oob_score=True)\n",
    "model_rf.fit(X_train, y_train)\n",
    "y_pred = model_rf.predict(X_test)\n",
    "print '%.4f   : OOB Score' % model_rf.oob_score\n",
    "print_metrics(y_test, y_pred)"
   ]
  },
  {
   "cell_type": "code",
   "execution_count": 628,
   "metadata": {
    "collapsed": false
   },
   "outputs": [
    {
     "data": {
      "text/plain": [
       "{2: {'FN': 2351,\n",
       "  'FP': 807,\n",
       "  'TN': 15879,\n",
       "  'TP': 114,\n",
       "  'accuracy': 0.83509999477834052,\n",
       "  'f1': 0.067336089781453043,\n",
       "  'precision': 0.12377850162866449,\n",
       "  'recall': 0.046247464503042596}}"
      ]
     },
     "execution_count": 628,
     "metadata": {},
     "output_type": "execute_result"
    }
   ],
   "source": [
    "save_metrics(y_test, y_pred, 2)"
   ]
  },
  {
   "cell_type": "code",
   "execution_count": 648,
   "metadata": {
    "collapsed": false
   },
   "outputs": [
    {
     "data": {
      "text/plain": [
       "{2: {'FN': 1220,\n",
       "  'FP': 467,\n",
       "  'TN': 7816,\n",
       "  'TP': 73,\n",
       "  'accuracy': 0.82383040935672514,\n",
       "  'f1': 0.079650845608292414,\n",
       "  'oob': 0.82216961425985235,\n",
       "  'precision': 0.13518518518518519,\n",
       "  'recall': 0.056457849961330242}}"
      ]
     },
     "execution_count": 648,
     "metadata": {},
     "output_type": "execute_result"
    }
   ],
   "source": [
    "train_rf(df_train, df_test, 'sum_priority', 2)"
   ]
  },
  {
   "cell_type": "code",
   "execution_count": 652,
   "metadata": {
    "collapsed": false
   },
   "outputs": [
    {
     "data": {
      "text/html": [
       "<div>\n",
       "<table border=\"1\" class=\"dataframe\">\n",
       "  <thead>\n",
       "    <tr style=\"text-align: right;\">\n",
       "      <th></th>\n",
       "      <th>FN</th>\n",
       "      <th>FP</th>\n",
       "      <th>TN</th>\n",
       "      <th>TP</th>\n",
       "      <th>accuracy</th>\n",
       "      <th>f1</th>\n",
       "      <th>oob</th>\n",
       "      <th>precision</th>\n",
       "      <th>recall</th>\n",
       "    </tr>\n",
       "  </thead>\n",
       "  <tbody>\n",
       "    <tr>\n",
       "      <th>1</th>\n",
       "      <td>2429</td>\n",
       "      <td>1730</td>\n",
       "      <td>4314</td>\n",
       "      <td>1103</td>\n",
       "      <td>0.565685</td>\n",
       "      <td>0.346583</td>\n",
       "      <td>0.561482</td>\n",
       "      <td>0.38934</td>\n",
       "      <td>0.312288</td>\n",
       "    </tr>\n",
       "    <tr>\n",
       "      <th>2</th>\n",
       "      <td>1215</td>\n",
       "      <td>439</td>\n",
       "      <td>7844</td>\n",
       "      <td>78</td>\n",
       "      <td>0.827277</td>\n",
       "      <td>0.086188</td>\n",
       "      <td>0.824815</td>\n",
       "      <td>0.15087</td>\n",
       "      <td>0.060325</td>\n",
       "    </tr>\n",
       "    <tr>\n",
       "      <th>3</th>\n",
       "      <td>398</td>\n",
       "      <td>93</td>\n",
       "      <td>9080</td>\n",
       "      <td>5</td>\n",
       "      <td>0.948726</td>\n",
       "      <td>0.019960</td>\n",
       "      <td>0.945620</td>\n",
       "      <td>0.05102</td>\n",
       "      <td>0.012407</td>\n",
       "    </tr>\n",
       "    <tr>\n",
       "      <th>4</th>\n",
       "      <td>127</td>\n",
       "      <td>18</td>\n",
       "      <td>9429</td>\n",
       "      <td>2</td>\n",
       "      <td>0.984858</td>\n",
       "      <td>0.026846</td>\n",
       "      <td>0.983637</td>\n",
       "      <td>0.10000</td>\n",
       "      <td>0.015504</td>\n",
       "    </tr>\n",
       "    <tr>\n",
       "      <th>5</th>\n",
       "      <td>42</td>\n",
       "      <td>4</td>\n",
       "      <td>9530</td>\n",
       "      <td>0</td>\n",
       "      <td>0.995196</td>\n",
       "      <td>0.000000</td>\n",
       "      <td>0.995753</td>\n",
       "      <td>0.00000</td>\n",
       "      <td>0.000000</td>\n",
       "    </tr>\n",
       "    <tr>\n",
       "      <th>6</th>\n",
       "      <td>15</td>\n",
       "      <td>1</td>\n",
       "      <td>9560</td>\n",
       "      <td>0</td>\n",
       "      <td>0.998329</td>\n",
       "      <td>0.000000</td>\n",
       "      <td>0.998747</td>\n",
       "      <td>0.00000</td>\n",
       "      <td>0.000000</td>\n",
       "    </tr>\n",
       "  </tbody>\n",
       "</table>\n",
       "</div>"
      ],
      "text/plain": [
       "     FN    FP    TN    TP  accuracy        f1       oob  precision    recall\n",
       "1  2429  1730  4314  1103  0.565685  0.346583  0.561482    0.38934  0.312288\n",
       "2  1215   439  7844    78  0.827277  0.086188  0.824815    0.15087  0.060325\n",
       "3   398    93  9080     5  0.948726  0.019960  0.945620    0.05102  0.012407\n",
       "4   127    18  9429     2  0.984858  0.026846  0.983637    0.10000  0.015504\n",
       "5    42     4  9530     0  0.995196  0.000000  0.995753    0.00000  0.000000\n",
       "6    15     1  9560     0  0.998329  0.000000  0.998747    0.00000  0.000000"
      ]
     },
     "execution_count": 652,
     "metadata": {},
     "output_type": "execute_result"
    }
   ],
   "source": [
    "rf_model(df_train, df_test, 'sum_priority', xrange(1, 7))"
   ]
  },
  {
   "cell_type": "code",
   "execution_count": 15,
   "metadata": {
    "collapsed": false
   },
   "outputs": [
    {
     "data": {
      "text/html": [
       "<div>\n",
       "<table border=\"1\" class=\"dataframe\">\n",
       "  <thead>\n",
       "    <tr style=\"text-align: right;\">\n",
       "      <th></th>\n",
       "      <th>FN</th>\n",
       "      <th>FP</th>\n",
       "      <th>TN</th>\n",
       "      <th>TP</th>\n",
       "      <th>accuracy</th>\n",
       "      <th>f1</th>\n",
       "      <th>mse</th>\n",
       "      <th>oob</th>\n",
       "      <th>precision</th>\n",
       "      <th>recall</th>\n",
       "    </tr>\n",
       "    <tr>\n",
       "      <th>sum_priority</th>\n",
       "      <th></th>\n",
       "      <th></th>\n",
       "      <th></th>\n",
       "      <th></th>\n",
       "      <th></th>\n",
       "      <th></th>\n",
       "      <th></th>\n",
       "      <th></th>\n",
       "      <th></th>\n",
       "      <th></th>\n",
       "    </tr>\n",
       "  </thead>\n",
       "  <tbody>\n",
       "    <tr>\n",
       "      <th>1</th>\n",
       "      <td>2376</td>\n",
       "      <td>1793</td>\n",
       "      <td>4231</td>\n",
       "      <td>1176</td>\n",
       "      <td>0.564641</td>\n",
       "      <td>0.360681</td>\n",
       "      <td>0.435359</td>\n",
       "      <td>0.560089</td>\n",
       "      <td>0.396093</td>\n",
       "      <td>0.331081</td>\n",
       "    </tr>\n",
       "    <tr>\n",
       "      <th>2</th>\n",
       "      <td>1184</td>\n",
       "      <td>624</td>\n",
       "      <td>7681</td>\n",
       "      <td>87</td>\n",
       "      <td>0.811195</td>\n",
       "      <td>0.087790</td>\n",
       "      <td>0.188805</td>\n",
       "      <td>0.817087</td>\n",
       "      <td>0.122363</td>\n",
       "      <td>0.068450</td>\n",
       "    </tr>\n",
       "    <tr>\n",
       "      <th>3</th>\n",
       "      <td>395</td>\n",
       "      <td>151</td>\n",
       "      <td>9023</td>\n",
       "      <td>7</td>\n",
       "      <td>0.942982</td>\n",
       "      <td>0.025000</td>\n",
       "      <td>0.057018</td>\n",
       "      <td>0.942348</td>\n",
       "      <td>0.044304</td>\n",
       "      <td>0.017413</td>\n",
       "    </tr>\n",
       "    <tr>\n",
       "      <th>4</th>\n",
       "      <td>125</td>\n",
       "      <td>34</td>\n",
       "      <td>9416</td>\n",
       "      <td>1</td>\n",
       "      <td>0.983396</td>\n",
       "      <td>0.012422</td>\n",
       "      <td>0.016604</td>\n",
       "      <td>0.983289</td>\n",
       "      <td>0.028571</td>\n",
       "      <td>0.007937</td>\n",
       "    </tr>\n",
       "    <tr>\n",
       "      <th>5</th>\n",
       "      <td>36</td>\n",
       "      <td>4</td>\n",
       "      <td>9536</td>\n",
       "      <td>0</td>\n",
       "      <td>0.995823</td>\n",
       "      <td>0.000000</td>\n",
       "      <td>0.004177</td>\n",
       "      <td>0.995474</td>\n",
       "      <td>0.000000</td>\n",
       "      <td>0.000000</td>\n",
       "    </tr>\n",
       "    <tr>\n",
       "      <th>6</th>\n",
       "      <td>15</td>\n",
       "      <td>0</td>\n",
       "      <td>9561</td>\n",
       "      <td>0</td>\n",
       "      <td>0.998434</td>\n",
       "      <td>0.000000</td>\n",
       "      <td>0.001566</td>\n",
       "      <td>0.998538</td>\n",
       "      <td>0.000000</td>\n",
       "      <td>0.000000</td>\n",
       "    </tr>\n",
       "  </tbody>\n",
       "</table>\n",
       "</div>"
      ],
      "text/plain": [
       "                FN    FP    TN    TP  accuracy        f1       mse       oob  \\\n",
       "sum_priority                                                                   \n",
       "1             2376  1793  4231  1176  0.564641  0.360681  0.435359  0.560089   \n",
       "2             1184   624  7681    87  0.811195  0.087790  0.188805  0.817087   \n",
       "3              395   151  9023     7  0.942982  0.025000  0.057018  0.942348   \n",
       "4              125    34  9416     1  0.983396  0.012422  0.016604  0.983289   \n",
       "5               36     4  9536     0  0.995823  0.000000  0.004177  0.995474   \n",
       "6               15     0  9561     0  0.998434  0.000000  0.001566  0.998538   \n",
       "\n",
       "              precision    recall  \n",
       "sum_priority                       \n",
       "1              0.396093  0.331081  \n",
       "2              0.122363  0.068450  \n",
       "3              0.044304  0.017413  \n",
       "4              0.028571  0.007937  \n",
       "5              0.000000  0.000000  \n",
       "6              0.000000  0.000000  "
      ]
     },
     "metadata": {},
     "output_type": "display_data"
    }
   ],
   "source": [
    "cols = ['sum_priority']\n",
    "\n",
    "for col in cols:\n",
    "    temp = rf_model(df_train, df_test, col, xrange(1,7))\n",
    "    temp.index.name=col\n",
    "    display(temp)"
   ]
  },
  {
   "cell_type": "code",
   "execution_count": 17,
   "metadata": {
    "collapsed": false
   },
   "outputs": [
    {
     "data": {
      "text/html": [
       "<div>\n",
       "<table border=\"1\" class=\"dataframe\">\n",
       "  <thead>\n",
       "    <tr style=\"text-align: right;\">\n",
       "      <th></th>\n",
       "      <th>FN</th>\n",
       "      <th>FP</th>\n",
       "      <th>TN</th>\n",
       "      <th>TP</th>\n",
       "      <th>accuracy</th>\n",
       "      <th>f1</th>\n",
       "      <th>mse</th>\n",
       "      <th>precision</th>\n",
       "      <th>recall</th>\n",
       "    </tr>\n",
       "    <tr>\n",
       "      <th>sum_priority</th>\n",
       "      <th></th>\n",
       "      <th></th>\n",
       "      <th></th>\n",
       "      <th></th>\n",
       "      <th></th>\n",
       "      <th></th>\n",
       "      <th></th>\n",
       "      <th></th>\n",
       "      <th></th>\n",
       "    </tr>\n",
       "  </thead>\n",
       "  <tbody>\n",
       "    <tr>\n",
       "      <th>1</th>\n",
       "      <td>3516</td>\n",
       "      <td>50</td>\n",
       "      <td>5974</td>\n",
       "      <td>36</td>\n",
       "      <td>0.627611</td>\n",
       "      <td>0.019791</td>\n",
       "      <td>0.372389</td>\n",
       "      <td>0.418605</td>\n",
       "      <td>0.010135</td>\n",
       "    </tr>\n",
       "    <tr>\n",
       "      <th>2</th>\n",
       "      <td>1271</td>\n",
       "      <td>0</td>\n",
       "      <td>8305</td>\n",
       "      <td>0</td>\n",
       "      <td>0.867272</td>\n",
       "      <td>0.000000</td>\n",
       "      <td>0.132728</td>\n",
       "      <td>0.000000</td>\n",
       "      <td>0.000000</td>\n",
       "    </tr>\n",
       "    <tr>\n",
       "      <th>3</th>\n",
       "      <td>402</td>\n",
       "      <td>0</td>\n",
       "      <td>9174</td>\n",
       "      <td>0</td>\n",
       "      <td>0.958020</td>\n",
       "      <td>0.000000</td>\n",
       "      <td>0.041980</td>\n",
       "      <td>0.000000</td>\n",
       "      <td>0.000000</td>\n",
       "    </tr>\n",
       "    <tr>\n",
       "      <th>4</th>\n",
       "      <td>126</td>\n",
       "      <td>0</td>\n",
       "      <td>9450</td>\n",
       "      <td>0</td>\n",
       "      <td>0.986842</td>\n",
       "      <td>0.000000</td>\n",
       "      <td>0.013158</td>\n",
       "      <td>0.000000</td>\n",
       "      <td>0.000000</td>\n",
       "    </tr>\n",
       "    <tr>\n",
       "      <th>5</th>\n",
       "      <td>36</td>\n",
       "      <td>0</td>\n",
       "      <td>9540</td>\n",
       "      <td>0</td>\n",
       "      <td>0.996241</td>\n",
       "      <td>0.000000</td>\n",
       "      <td>0.003759</td>\n",
       "      <td>0.000000</td>\n",
       "      <td>0.000000</td>\n",
       "    </tr>\n",
       "    <tr>\n",
       "      <th>6</th>\n",
       "      <td>15</td>\n",
       "      <td>0</td>\n",
       "      <td>9561</td>\n",
       "      <td>0</td>\n",
       "      <td>0.998434</td>\n",
       "      <td>0.000000</td>\n",
       "      <td>0.001566</td>\n",
       "      <td>0.000000</td>\n",
       "      <td>0.000000</td>\n",
       "    </tr>\n",
       "  </tbody>\n",
       "</table>\n",
       "</div>"
      ],
      "text/plain": [
       "                FN  FP    TN  TP  accuracy        f1       mse  precision  \\\n",
       "sum_priority                                                                \n",
       "1             3516  50  5974  36  0.627611  0.019791  0.372389   0.418605   \n",
       "2             1271   0  8305   0  0.867272  0.000000  0.132728   0.000000   \n",
       "3              402   0  9174   0  0.958020  0.000000  0.041980   0.000000   \n",
       "4              126   0  9450   0  0.986842  0.000000  0.013158   0.000000   \n",
       "5               36   0  9540   0  0.996241  0.000000  0.003759   0.000000   \n",
       "6               15   0  9561   0  0.998434  0.000000  0.001566   0.000000   \n",
       "\n",
       "                recall  \n",
       "sum_priority            \n",
       "1             0.010135  \n",
       "2             0.000000  \n",
       "3             0.000000  \n",
       "4             0.000000  \n",
       "5             0.000000  \n",
       "6             0.000000  "
      ]
     },
     "metadata": {},
     "output_type": "display_data"
    }
   ],
   "source": [
    "cols = ['sum_priority']\n",
    "\n",
    "for col in cols:\n",
    "    temp = log_model(df_train, df_test, col, xrange(1,7))\n",
    "    temp.index.name=col\n",
    "    display(temp)"
   ]
  },
  {
   "cell_type": "code",
   "execution_count": 18,
   "metadata": {
    "collapsed": false
   },
   "outputs": [
    {
     "data": {
      "text/html": [
       "<div>\n",
       "<table border=\"1\" class=\"dataframe\">\n",
       "  <thead>\n",
       "    <tr style=\"text-align: right;\">\n",
       "      <th></th>\n",
       "      <th>FN</th>\n",
       "      <th>FP</th>\n",
       "      <th>TN</th>\n",
       "      <th>TP</th>\n",
       "      <th>accuracy</th>\n",
       "      <th>f1</th>\n",
       "      <th>mse</th>\n",
       "      <th>precision</th>\n",
       "      <th>recall</th>\n",
       "    </tr>\n",
       "    <tr>\n",
       "      <th>sum_priority</th>\n",
       "      <th></th>\n",
       "      <th></th>\n",
       "      <th></th>\n",
       "      <th></th>\n",
       "      <th></th>\n",
       "      <th></th>\n",
       "      <th></th>\n",
       "      <th></th>\n",
       "      <th></th>\n",
       "    </tr>\n",
       "  </thead>\n",
       "  <tbody>\n",
       "    <tr>\n",
       "      <th>1</th>\n",
       "      <td>146</td>\n",
       "      <td>5715</td>\n",
       "      <td>309</td>\n",
       "      <td>3406</td>\n",
       "      <td>0.387949</td>\n",
       "      <td>0.537521</td>\n",
       "      <td>0.612051</td>\n",
       "      <td>0.373424</td>\n",
       "      <td>0.958896</td>\n",
       "    </tr>\n",
       "    <tr>\n",
       "      <th>2</th>\n",
       "      <td>1271</td>\n",
       "      <td>0</td>\n",
       "      <td>8305</td>\n",
       "      <td>0</td>\n",
       "      <td>0.867272</td>\n",
       "      <td>0.000000</td>\n",
       "      <td>0.132728</td>\n",
       "      <td>0.000000</td>\n",
       "      <td>0.000000</td>\n",
       "    </tr>\n",
       "    <tr>\n",
       "      <th>3</th>\n",
       "      <td>402</td>\n",
       "      <td>0</td>\n",
       "      <td>9174</td>\n",
       "      <td>0</td>\n",
       "      <td>0.958020</td>\n",
       "      <td>0.000000</td>\n",
       "      <td>0.041980</td>\n",
       "      <td>0.000000</td>\n",
       "      <td>0.000000</td>\n",
       "    </tr>\n",
       "    <tr>\n",
       "      <th>4</th>\n",
       "      <td>126</td>\n",
       "      <td>0</td>\n",
       "      <td>9450</td>\n",
       "      <td>0</td>\n",
       "      <td>0.986842</td>\n",
       "      <td>0.000000</td>\n",
       "      <td>0.013158</td>\n",
       "      <td>0.000000</td>\n",
       "      <td>0.000000</td>\n",
       "    </tr>\n",
       "    <tr>\n",
       "      <th>5</th>\n",
       "      <td>36</td>\n",
       "      <td>0</td>\n",
       "      <td>9540</td>\n",
       "      <td>0</td>\n",
       "      <td>0.996241</td>\n",
       "      <td>0.000000</td>\n",
       "      <td>0.003759</td>\n",
       "      <td>0.000000</td>\n",
       "      <td>0.000000</td>\n",
       "    </tr>\n",
       "    <tr>\n",
       "      <th>6</th>\n",
       "      <td>14</td>\n",
       "      <td>192</td>\n",
       "      <td>9369</td>\n",
       "      <td>1</td>\n",
       "      <td>0.978488</td>\n",
       "      <td>0.009615</td>\n",
       "      <td>0.021512</td>\n",
       "      <td>0.005181</td>\n",
       "      <td>0.066667</td>\n",
       "    </tr>\n",
       "  </tbody>\n",
       "</table>\n",
       "</div>"
      ],
      "text/plain": [
       "                FN    FP    TN    TP  accuracy        f1       mse  precision  \\\n",
       "sum_priority                                                                    \n",
       "1              146  5715   309  3406  0.387949  0.537521  0.612051   0.373424   \n",
       "2             1271     0  8305     0  0.867272  0.000000  0.132728   0.000000   \n",
       "3              402     0  9174     0  0.958020  0.000000  0.041980   0.000000   \n",
       "4              126     0  9450     0  0.986842  0.000000  0.013158   0.000000   \n",
       "5               36     0  9540     0  0.996241  0.000000  0.003759   0.000000   \n",
       "6               14   192  9369     1  0.978488  0.009615  0.021512   0.005181   \n",
       "\n",
       "                recall  \n",
       "sum_priority            \n",
       "1             0.958896  \n",
       "2             0.000000  \n",
       "3             0.000000  \n",
       "4             0.000000  \n",
       "5             0.000000  \n",
       "6             0.066667  "
      ]
     },
     "metadata": {},
     "output_type": "display_data"
    }
   ],
   "source": [
    "cols = ['sum_priority']\n",
    "\n",
    "for col in cols:\n",
    "    temp = svc_model(df_train, df_test, col, xrange(1,7))\n",
    "    temp.index.name=col\n",
    "    display(temp)"
   ]
  },
  {
   "cell_type": "code",
   "execution_count": null,
   "metadata": {
    "collapsed": true
   },
   "outputs": [],
   "source": []
  },
  {
   "cell_type": "code",
   "execution_count": 11,
   "metadata": {
    "collapsed": false
   },
   "outputs": [],
   "source": [
    "import yelp_tfidf as lib_tfidf"
   ]
  },
  {
   "cell_type": "code",
   "execution_count": 30,
   "metadata": {
    "collapsed": false
   },
   "outputs": [
    {
     "data": {
      "text/plain": [
       "<module 'yelp_tfidf' from 'yelp_tfidf.py'>"
      ]
     },
     "execution_count": 30,
     "metadata": {},
     "output_type": "execute_result"
    }
   ],
   "source": [
    "reload(lib_tfidf)"
   ]
  },
  {
   "cell_type": "code",
   "execution_count": 12,
   "metadata": {
    "collapsed": false
   },
   "outputs": [
    {
     "name": "stdout",
     "output_type": "stream",
     "text": [
      "CPU times: user 10min 12s, sys: 12.4 s, total: 10min 24s\n",
      "Wall time: 10min 58s\n"
     ]
    }
   ],
   "source": [
    "%%time\n",
    "tfs, tfidf = lib_tfidf.yelp_tfidf(df_AZ)"
   ]
  },
  {
   "cell_type": "code",
   "execution_count": 109,
   "metadata": {
    "collapsed": false
   },
   "outputs": [
    {
     "name": "stdout",
     "output_type": "stream",
     "text": [
      "CPU times: user 8min 56s, sys: 10.5 s, total: 9min 7s\n",
      "Wall time: 9min 15s\n"
     ]
    }
   ],
   "source": [
    "%%time\n",
    "tfs_r, tfidf_r = lib_tfidf.yelp_tfidf(df_AZ_routine)"
   ]
  },
  {
   "cell_type": "code",
   "execution_count": 82,
   "metadata": {
    "collapsed": true
   },
   "outputs": [],
   "source": [
    "df_train, df_test, tfs_train, tfs_test = train_test_split(df_AZ, tfs, train_size=0.6, random_state=981)"
   ]
  },
  {
   "cell_type": "code",
   "execution_count": 14,
   "metadata": {
    "collapsed": false
   },
   "outputs": [
    {
     "name": "stderr",
     "output_type": "stream",
     "text": [
      "/Users/tracy/anaconda/lib/python2.7/site-packages/sklearn/ensemble/forest.py:403: UserWarning: Some inputs do not have OOB scores. This probably means too few trees were used to compute any reliable oob estimates.\n",
      "  warn(\"Some inputs do not have OOB scores. \"\n",
      "/Users/tracy/anaconda/lib/python2.7/site-packages/sklearn/metrics/classification.py:1074: UndefinedMetricWarning: Precision is ill-defined and being set to 0.0 due to no predicted samples.\n",
      "  'precision', 'predicted', average, warn_for)\n",
      "/Users/tracy/anaconda/lib/python2.7/site-packages/sklearn/metrics/classification.py:1074: UndefinedMetricWarning: F-score is ill-defined and being set to 0.0 due to no predicted samples.\n",
      "  'precision', 'predicted', average, warn_for)\n"
     ]
    },
    {
     "data": {
      "text/html": [
       "<div>\n",
       "<table border=\"1\" class=\"dataframe\">\n",
       "  <thead>\n",
       "    <tr style=\"text-align: right;\">\n",
       "      <th></th>\n",
       "      <th>FN</th>\n",
       "      <th>FP</th>\n",
       "      <th>TN</th>\n",
       "      <th>TP</th>\n",
       "      <th>accuracy</th>\n",
       "      <th>f1</th>\n",
       "      <th>mse</th>\n",
       "      <th>oob</th>\n",
       "      <th>precision</th>\n",
       "      <th>recall</th>\n",
       "    </tr>\n",
       "    <tr>\n",
       "      <th>sum_priority</th>\n",
       "      <th></th>\n",
       "      <th></th>\n",
       "      <th></th>\n",
       "      <th></th>\n",
       "      <th></th>\n",
       "      <th></th>\n",
       "      <th></th>\n",
       "      <th></th>\n",
       "      <th></th>\n",
       "      <th></th>\n",
       "    </tr>\n",
       "  </thead>\n",
       "  <tbody>\n",
       "    <tr>\n",
       "      <th>1</th>\n",
       "      <td>2879</td>\n",
       "      <td>817</td>\n",
       "      <td>5207</td>\n",
       "      <td>673</td>\n",
       "      <td>0.614035</td>\n",
       "      <td>0.266958</td>\n",
       "      <td>0.385965</td>\n",
       "      <td>0.586478</td>\n",
       "      <td>0.451678</td>\n",
       "      <td>0.189471</td>\n",
       "    </tr>\n",
       "    <tr>\n",
       "      <th>2</th>\n",
       "      <td>1252</td>\n",
       "      <td>36</td>\n",
       "      <td>8269</td>\n",
       "      <td>19</td>\n",
       "      <td>0.865497</td>\n",
       "      <td>0.028658</td>\n",
       "      <td>0.134503</td>\n",
       "      <td>0.852458</td>\n",
       "      <td>0.345455</td>\n",
       "      <td>0.014949</td>\n",
       "    </tr>\n",
       "    <tr>\n",
       "      <th>3</th>\n",
       "      <td>400</td>\n",
       "      <td>10</td>\n",
       "      <td>9164</td>\n",
       "      <td>2</td>\n",
       "      <td>0.957185</td>\n",
       "      <td>0.009662</td>\n",
       "      <td>0.042815</td>\n",
       "      <td>0.954533</td>\n",
       "      <td>0.166667</td>\n",
       "      <td>0.004975</td>\n",
       "    </tr>\n",
       "    <tr>\n",
       "      <th>4</th>\n",
       "      <td>125</td>\n",
       "      <td>3</td>\n",
       "      <td>9447</td>\n",
       "      <td>1</td>\n",
       "      <td>0.986633</td>\n",
       "      <td>0.015385</td>\n",
       "      <td>0.013367</td>\n",
       "      <td>0.986423</td>\n",
       "      <td>0.250000</td>\n",
       "      <td>0.007937</td>\n",
       "    </tr>\n",
       "    <tr>\n",
       "      <th>5</th>\n",
       "      <td>36</td>\n",
       "      <td>0</td>\n",
       "      <td>9540</td>\n",
       "      <td>0</td>\n",
       "      <td>0.996241</td>\n",
       "      <td>0.000000</td>\n",
       "      <td>0.003759</td>\n",
       "      <td>0.996031</td>\n",
       "      <td>0.000000</td>\n",
       "      <td>0.000000</td>\n",
       "    </tr>\n",
       "    <tr>\n",
       "      <th>6</th>\n",
       "      <td>15</td>\n",
       "      <td>0</td>\n",
       "      <td>9561</td>\n",
       "      <td>0</td>\n",
       "      <td>0.998434</td>\n",
       "      <td>0.000000</td>\n",
       "      <td>0.001566</td>\n",
       "      <td>0.998886</td>\n",
       "      <td>0.000000</td>\n",
       "      <td>0.000000</td>\n",
       "    </tr>\n",
       "  </tbody>\n",
       "</table>\n",
       "</div>"
      ],
      "text/plain": [
       "                FN   FP    TN   TP  accuracy        f1       mse       oob  \\\n",
       "sum_priority                                                                 \n",
       "1             2879  817  5207  673  0.614035  0.266958  0.385965  0.586478   \n",
       "2             1252   36  8269   19  0.865497  0.028658  0.134503  0.852458   \n",
       "3              400   10  9164    2  0.957185  0.009662  0.042815  0.954533   \n",
       "4              125    3  9447    1  0.986633  0.015385  0.013367  0.986423   \n",
       "5               36    0  9540    0  0.996241  0.000000  0.003759  0.996031   \n",
       "6               15    0  9561    0  0.998434  0.000000  0.001566  0.998886   \n",
       "\n",
       "              precision    recall  \n",
       "sum_priority                       \n",
       "1              0.451678  0.189471  \n",
       "2              0.345455  0.014949  \n",
       "3              0.166667  0.004975  \n",
       "4              0.250000  0.007937  \n",
       "5              0.000000  0.000000  \n",
       "6              0.000000  0.000000  "
      ]
     },
     "metadata": {},
     "output_type": "display_data"
    }
   ],
   "source": [
    "cols = ['sum_priority']\n",
    "\n",
    "for col in cols:\n",
    "    temp = rf_model(df_train, df_test, col, xrange(1,7), [tfs_train.todense(), tfs_test.todense()])\n",
    "    temp.index.name=col\n",
    "    display(temp)"
   ]
  },
  {
   "cell_type": "code",
   "execution_count": 19,
   "metadata": {
    "collapsed": false
   },
   "outputs": [
    {
     "data": {
      "text/html": [
       "<div>\n",
       "<table border=\"1\" class=\"dataframe\">\n",
       "  <thead>\n",
       "    <tr style=\"text-align: right;\">\n",
       "      <th></th>\n",
       "      <th>FN</th>\n",
       "      <th>FP</th>\n",
       "      <th>TN</th>\n",
       "      <th>TP</th>\n",
       "      <th>accuracy</th>\n",
       "      <th>f1</th>\n",
       "      <th>mse</th>\n",
       "      <th>precision</th>\n",
       "      <th>recall</th>\n",
       "    </tr>\n",
       "    <tr>\n",
       "      <th>sum_priority</th>\n",
       "      <th></th>\n",
       "      <th></th>\n",
       "      <th></th>\n",
       "      <th></th>\n",
       "      <th></th>\n",
       "      <th></th>\n",
       "      <th></th>\n",
       "      <th></th>\n",
       "      <th></th>\n",
       "    </tr>\n",
       "  </thead>\n",
       "  <tbody>\n",
       "    <tr>\n",
       "      <th>1</th>\n",
       "      <td>1688</td>\n",
       "      <td>2404</td>\n",
       "      <td>3620</td>\n",
       "      <td>1864</td>\n",
       "      <td>0.572682</td>\n",
       "      <td>0.476726</td>\n",
       "      <td>0.427318</td>\n",
       "      <td>0.436739</td>\n",
       "      <td>0.524775</td>\n",
       "    </tr>\n",
       "    <tr>\n",
       "      <th>2</th>\n",
       "      <td>764</td>\n",
       "      <td>2173</td>\n",
       "      <td>6132</td>\n",
       "      <td>507</td>\n",
       "      <td>0.693296</td>\n",
       "      <td>0.256644</td>\n",
       "      <td>0.306704</td>\n",
       "      <td>0.189179</td>\n",
       "      <td>0.398899</td>\n",
       "    </tr>\n",
       "    <tr>\n",
       "      <th>3</th>\n",
       "      <td>299</td>\n",
       "      <td>1186</td>\n",
       "      <td>7988</td>\n",
       "      <td>103</td>\n",
       "      <td>0.844925</td>\n",
       "      <td>0.121821</td>\n",
       "      <td>0.155075</td>\n",
       "      <td>0.079907</td>\n",
       "      <td>0.256219</td>\n",
       "    </tr>\n",
       "    <tr>\n",
       "      <th>4</th>\n",
       "      <td>106</td>\n",
       "      <td>317</td>\n",
       "      <td>9133</td>\n",
       "      <td>20</td>\n",
       "      <td>0.955827</td>\n",
       "      <td>0.086393</td>\n",
       "      <td>0.044173</td>\n",
       "      <td>0.059347</td>\n",
       "      <td>0.158730</td>\n",
       "    </tr>\n",
       "    <tr>\n",
       "      <th>5</th>\n",
       "      <td>31</td>\n",
       "      <td>45</td>\n",
       "      <td>9495</td>\n",
       "      <td>5</td>\n",
       "      <td>0.992063</td>\n",
       "      <td>0.116279</td>\n",
       "      <td>0.007937</td>\n",
       "      <td>0.100000</td>\n",
       "      <td>0.138889</td>\n",
       "    </tr>\n",
       "    <tr>\n",
       "      <th>6</th>\n",
       "      <td>13</td>\n",
       "      <td>10</td>\n",
       "      <td>9551</td>\n",
       "      <td>2</td>\n",
       "      <td>0.997598</td>\n",
       "      <td>0.148148</td>\n",
       "      <td>0.002402</td>\n",
       "      <td>0.166667</td>\n",
       "      <td>0.133333</td>\n",
       "    </tr>\n",
       "  </tbody>\n",
       "</table>\n",
       "</div>"
      ],
      "text/plain": [
       "                FN    FP    TN    TP  accuracy        f1       mse  precision  \\\n",
       "sum_priority                                                                    \n",
       "1             1688  2404  3620  1864  0.572682  0.476726  0.427318   0.436739   \n",
       "2              764  2173  6132   507  0.693296  0.256644  0.306704   0.189179   \n",
       "3              299  1186  7988   103  0.844925  0.121821  0.155075   0.079907   \n",
       "4              106   317  9133    20  0.955827  0.086393  0.044173   0.059347   \n",
       "5               31    45  9495     5  0.992063  0.116279  0.007937   0.100000   \n",
       "6               13    10  9551     2  0.997598  0.148148  0.002402   0.166667   \n",
       "\n",
       "                recall  \n",
       "sum_priority            \n",
       "1             0.524775  \n",
       "2             0.398899  \n",
       "3             0.256219  \n",
       "4             0.158730  \n",
       "5             0.138889  \n",
       "6             0.133333  "
      ]
     },
     "metadata": {},
     "output_type": "display_data"
    }
   ],
   "source": [
    "cols = ['sum_priority']\n",
    "\n",
    "for col in cols:\n",
    "    temp = svc_model(df_train, df_test, col, xrange(1,7), [tfs_train.todense(), tfs_test.todense()])\n",
    "    temp.index.name=col\n",
    "    display(temp)"
   ]
  },
  {
   "cell_type": "code",
   "execution_count": 21,
   "metadata": {
    "collapsed": false
   },
   "outputs": [
    {
     "name": "stderr",
     "output_type": "stream",
     "text": [
      "/Users/tracy/anaconda/lib/python2.7/site-packages/sklearn/metrics/classification.py:1203: DeprecationWarning: The default `weighted` averaging is deprecated, and from version 0.18, use of precision, recall or F-score with multiclass or multilabel data or pos_label=None will result in an exception. Please set an explicit value for `average`, one of (None, 'micro', 'macro', 'weighted', 'samples'). In cross validation use, for instance, scoring=\"f1_weighted\" instead of scoring=\"f1\".\n",
      "  sample_weight=sample_weight)\n",
      "/Users/tracy/anaconda/lib/python2.7/site-packages/sklearn/metrics/classification.py:1074: UndefinedMetricWarning: Precision is ill-defined and being set to 0.0 in labels with no predicted samples.\n",
      "  'precision', 'predicted', average, warn_for)\n",
      "/Users/tracy/anaconda/lib/python2.7/site-packages/sklearn/metrics/classification.py:1304: DeprecationWarning: The default `weighted` averaging is deprecated, and from version 0.18, use of precision, recall or F-score with multiclass or multilabel data or pos_label=None will result in an exception. Please set an explicit value for `average`, one of (None, 'micro', 'macro', 'weighted', 'samples'). In cross validation use, for instance, scoring=\"f1_weighted\" instead of scoring=\"f1\".\n",
      "  sample_weight=sample_weight)\n",
      "/Users/tracy/anaconda/lib/python2.7/site-packages/sklearn/metrics/classification.py:1076: UndefinedMetricWarning: Recall is ill-defined and being set to 0.0 in labels with no true samples.\n",
      "  'recall', 'true', average, warn_for)\n",
      "/Users/tracy/anaconda/lib/python2.7/site-packages/sklearn/metrics/classification.py:756: DeprecationWarning: The default `weighted` averaging is deprecated, and from version 0.18, use of precision, recall or F-score with multiclass or multilabel data or pos_label=None will result in an exception. Please set an explicit value for `average`, one of (None, 'micro', 'macro', 'weighted', 'samples'). In cross validation use, for instance, scoring=\"f1_weighted\" instead of scoring=\"f1\".\n",
      "  sample_weight=sample_weight)\n",
      "/Users/tracy/anaconda/lib/python2.7/site-packages/sklearn/metrics/classification.py:1074: UndefinedMetricWarning: F-score is ill-defined and being set to 0.0 in labels with no predicted samples.\n",
      "  'precision', 'predicted', average, warn_for)\n",
      "/Users/tracy/anaconda/lib/python2.7/site-packages/sklearn/metrics/classification.py:1076: UndefinedMetricWarning: F-score is ill-defined and being set to 0.0 in labels with no true samples.\n",
      "  'recall', 'true', average, warn_for)\n"
     ]
    },
    {
     "data": {
      "text/html": [
       "<div>\n",
       "<table border=\"1\" class=\"dataframe\">\n",
       "  <thead>\n",
       "    <tr style=\"text-align: right;\">\n",
       "      <th></th>\n",
       "      <th>FN</th>\n",
       "      <th>FP</th>\n",
       "      <th>TN</th>\n",
       "      <th>TP</th>\n",
       "      <th>accuracy</th>\n",
       "      <th>f1</th>\n",
       "      <th>mse</th>\n",
       "      <th>precision</th>\n",
       "      <th>recall</th>\n",
       "    </tr>\n",
       "    <tr>\n",
       "      <th>sum_priority</th>\n",
       "      <th></th>\n",
       "      <th></th>\n",
       "      <th></th>\n",
       "      <th></th>\n",
       "      <th></th>\n",
       "      <th></th>\n",
       "      <th></th>\n",
       "      <th></th>\n",
       "      <th></th>\n",
       "    </tr>\n",
       "  </thead>\n",
       "  <tbody>\n",
       "    <tr>\n",
       "      <th>1</th>\n",
       "      <td>1519</td>\n",
       "      <td>617</td>\n",
       "      <td>4449</td>\n",
       "      <td>308</td>\n",
       "      <td>0.511174</td>\n",
       "      <td>0.49773</td>\n",
       "      <td>1.930556</td>\n",
       "      <td>0.49993</td>\n",
       "      <td>0.511174</td>\n",
       "    </tr>\n",
       "  </tbody>\n",
       "</table>\n",
       "</div>"
      ],
      "text/plain": [
       "                FN   FP    TN   TP  accuracy       f1       mse  precision  \\\n",
       "sum_priority                                                                 \n",
       "1             1519  617  4449  308  0.511174  0.49773  1.930556    0.49993   \n",
       "\n",
       "                recall  \n",
       "sum_priority            \n",
       "1             0.511174  "
      ]
     },
     "metadata": {},
     "output_type": "display_data"
    }
   ],
   "source": [
    "cols = ['sum_priority']\n",
    "\n",
    "temp = svc_model(df_train, df_test, col, [1], [tfs_train.todense(), tfs_test.todense()], True)\n",
    "temp.index.name=col\n",
    "display(temp)"
   ]
  },
  {
   "cell_type": "code",
   "execution_count": 22,
   "metadata": {
    "collapsed": false
   },
   "outputs": [
    {
     "data": {
      "text/plain": [
       "9576"
      ]
     },
     "execution_count": 22,
     "metadata": {},
     "output_type": "execute_result"
    }
   ],
   "source": [
    "1688+2404+3620+1864"
   ]
  },
  {
   "cell_type": "code",
   "execution_count": 23,
   "metadata": {
    "collapsed": false
   },
   "outputs": [
    {
     "data": {
      "text/plain": [
       "6893"
      ]
     },
     "execution_count": 23,
     "metadata": {},
     "output_type": "execute_result"
    }
   ],
   "source": [
    "1519+617+4449+308"
   ]
  },
  {
   "cell_type": "code",
   "execution_count": 25,
   "metadata": {
    "collapsed": false
   },
   "outputs": [
    {
     "name": "stdout",
     "output_type": "stream",
     "text": [
      "[[4449  617  373  364  177   42    1    1    0    0]\n",
      " [1519  308  171  180   83   17    3    0    0    0]\n",
      " [ 503  123   98   88   47   10    0    0    0    0]\n",
      " [ 150   43   26   30   18    9    0    0    0    0]\n",
      " [  41   15   11   12    8    2    0    1    0    0]\n",
      " [   8    2    4    1    3    2    0    0    0    1]\n",
      " [   4    1    1    1    3    0    0    0    0    0]\n",
      " [   2    0    0    1    0    0    0    0    0    0]\n",
      " [   0    0    0    2    0    0    0    0    0    0]\n",
      " [   0    0    0    0    0    0    0    0    0    0]]\n"
     ]
    }
   ],
   "source": [
    "col = 'sum_priority'\n",
    "X_train = tfs_train.todense()\n",
    "X_test = tfs_test.todense()\n",
    "y_train = df_train[col].values\n",
    "y_test = df_test[col].values\n",
    "model_svc = LinearSVC(C=0.19, random_state = 981, class_weight='balanced')\n",
    "model_svc.fit(X_train, y_train)\n",
    "y_pred = model_svc.predict(X_test)\n",
    "print confusion_matrix(y_test, y_pred)"
   ]
  },
  {
   "cell_type": "code",
   "execution_count": 45,
   "metadata": {
    "collapsed": false
   },
   "outputs": [
    {
     "name": "stdout",
     "output_type": "stream",
     "text": [
      "[[ 249 2873  369    2    0]\n",
      " [ 104 1604  255    1    0]\n",
      " [  83 1273  257    7    0]\n",
      " [  20  794  223    3    0]\n",
      " [  15  470  164    6    0]\n",
      " [   2  265  102    3    0]\n",
      " [   2  134   42    1    0]\n",
      " [   3   65   43    0    0]\n",
      " [   1   42   20    2    0]\n",
      " [   0   18   18    0    0]\n",
      " [   1   10    6    0    0]\n",
      " [   0    7    3    2    0]\n",
      " [   0    2    3    0    0]\n",
      " [   0    1    0    0    0]\n",
      " [   0    0    2    0    0]\n",
      " [   0    0    0    1    0]\n",
      " [   0    0    3    0    0]]\n"
     ]
    }
   ],
   "source": [
    "# col = ['sum_core','sum_foundation','sum_priority']\n",
    "# X_train = tfs_train.todense()\n",
    "# X_test = tfs_test.todense()\n",
    "# y_train = df_train[col].sum(axis=1).values\n",
    "# y_test = df_test[col].sum(axis=1).values\n",
    "# model_svr = LinearSVR(C=0.19, random_state = 981)\n",
    "# model_svr.fit(X_train, y_train)\n",
    "# y_pred = model_svr.predict(X_test)\n",
    "print confusion_matrix(y_test, np.round(y_pred))[:,:5]"
   ]
  },
  {
   "cell_type": "code",
   "execution_count": 46,
   "metadata": {
    "collapsed": false
   },
   "outputs": [
    {
     "data": {
      "text/plain": [
       "array([ 0.,  1.,  2.,  3.])"
      ]
     },
     "execution_count": 46,
     "metadata": {},
     "output_type": "execute_result"
    }
   ],
   "source": [
    "np.unique(np.round(y_pred))"
   ]
  },
  {
   "cell_type": "code",
   "execution_count": 47,
   "metadata": {
    "collapsed": false
   },
   "outputs": [
    {
     "data": {
      "text/plain": [
       "array([ 0,  1,  2,  3,  4,  5,  6,  7,  8,  9, 10, 11, 12, 13, 14, 15, 16])"
      ]
     },
     "execution_count": 47,
     "metadata": {},
     "output_type": "execute_result"
    }
   ],
   "source": [
    "np.unique(y_test)"
   ]
  },
  {
   "cell_type": "code",
   "execution_count": 37,
   "metadata": {
    "collapsed": false
   },
   "outputs": [
    {
     "data": {
      "text/plain": [
       "(array([   73.,   435.,  1820.,  3321.,  2448.,  1035.,   306.,   112.,\n",
       "           21.,     5.]),\n",
       " array([-0.15366649,  0.17918584,  0.51203816,  0.84489049,  1.17774282,\n",
       "         1.51059514,  1.84344747,  2.1762998 ,  2.50915213,  2.84200445,\n",
       "         3.17485678]),\n",
       " <a list of 10 Patch objects>)"
      ]
     },
     "execution_count": 37,
     "metadata": {},
     "output_type": "execute_result"
    },
    {
     "data": {
      "image/png": "[encoded data removed]",
      "text/plain": [
       "<matplotlib.figure.Figure at 0x10ebed750>"
      ]
     },
     "metadata": {},
     "output_type": "display_data"
    }
   ],
   "source": [
    "plt.hist(y_pred)"
   ]
  },
  {
   "cell_type": "code",
   "execution_count": 40,
   "metadata": {
    "collapsed": false
   },
   "outputs": [
    {
     "data": {
      "text/plain": [
       "(array([  5.45700000e+03,   2.66000000e+03,   6.55000000e+02,\n",
       "          5.51000000e+02,   1.11000000e+02,   1.01000000e+02,\n",
       "          2.90000000e+01,   5.00000000e+00,   3.00000000e+00,\n",
       "          4.00000000e+00]),\n",
       " array([  0. ,   1.6,   3.2,   4.8,   6.4,   8. ,   9.6,  11.2,  12.8,\n",
       "         14.4,  16. ]),\n",
       " <a list of 10 Patch objects>)"
      ]
     },
     "execution_count": 40,
     "metadata": {},
     "output_type": "execute_result"
    },
    {
     "data": {
      "image/png": "[encoded data removed]",
      "text/plain": [
       "<matplotlib.figure.Figure at 0x10ebed0d0>"
      ]
     },
     "metadata": {},
     "output_type": "display_data"
    }
   ],
   "source": [
    "plt.hist(y_test)"
   ]
  },
  {
   "cell_type": "code",
   "execution_count": 48,
   "metadata": {
    "collapsed": false
   },
   "outputs": [
    {
     "data": {
      "text/plain": [
       "Not Participating    6160\n",
       "A                    4542\n",
       "B                    1899\n",
       "                     1433\n",
       "C                     244\n",
       "D                      79\n",
       "Re-Inspection           5\n",
       "Name: grade, dtype: int64"
      ]
     },
     "execution_count": 48,
     "metadata": {},
     "output_type": "execute_result"
    }
   ],
   "source": [
    "df_train.grade.value_counts()"
   ]
  },
  {
   "cell_type": "code",
   "execution_count": 49,
   "metadata": {
    "collapsed": false
   },
   "outputs": [
    {
     "data": {
      "text/plain": [
       "6764"
      ]
     },
     "execution_count": 49,
     "metadata": {},
     "output_type": "execute_result"
    }
   ],
   "source": [
    "4542+1899+244+79"
   ]
  },
  {
   "cell_type": "code",
   "execution_count": 54,
   "metadata": {
    "collapsed": false
   },
   "outputs": [
    {
     "data": {
      "text/html": [
       "<div>\n",
       "<table border=\"1\" class=\"dataframe\">\n",
       "  <thead>\n",
       "    <tr style=\"text-align: right;\">\n",
       "      <th>sum_priority</th>\n",
       "      <th>0</th>\n",
       "      <th>1</th>\n",
       "      <th>2</th>\n",
       "      <th>3</th>\n",
       "      <th>4</th>\n",
       "      <th>5</th>\n",
       "      <th>6</th>\n",
       "      <th>7</th>\n",
       "      <th>10</th>\n",
       "    </tr>\n",
       "    <tr>\n",
       "      <th>grade</th>\n",
       "      <th></th>\n",
       "      <th></th>\n",
       "      <th></th>\n",
       "      <th></th>\n",
       "      <th></th>\n",
       "      <th></th>\n",
       "      <th></th>\n",
       "      <th></th>\n",
       "      <th></th>\n",
       "    </tr>\n",
       "  </thead>\n",
       "  <tbody>\n",
       "    <tr>\n",
       "      <th></th>\n",
       "      <td>1409</td>\n",
       "      <td>21</td>\n",
       "      <td>3</td>\n",
       "      <td>NaN</td>\n",
       "      <td>NaN</td>\n",
       "      <td>NaN</td>\n",
       "      <td>NaN</td>\n",
       "      <td>NaN</td>\n",
       "      <td>NaN</td>\n",
       "    </tr>\n",
       "    <tr>\n",
       "      <th>A</th>\n",
       "      <td>4500</td>\n",
       "      <td>38</td>\n",
       "      <td>4</td>\n",
       "      <td>NaN</td>\n",
       "      <td>NaN</td>\n",
       "      <td>NaN</td>\n",
       "      <td>NaN</td>\n",
       "      <td>NaN</td>\n",
       "      <td>NaN</td>\n",
       "    </tr>\n",
       "    <tr>\n",
       "      <th>B</th>\n",
       "      <td>539</td>\n",
       "      <td>1325</td>\n",
       "      <td>35</td>\n",
       "      <td>NaN</td>\n",
       "      <td>NaN</td>\n",
       "      <td>NaN</td>\n",
       "      <td>NaN</td>\n",
       "      <td>NaN</td>\n",
       "      <td>NaN</td>\n",
       "    </tr>\n",
       "    <tr>\n",
       "      <th>C</th>\n",
       "      <td>10</td>\n",
       "      <td>33</td>\n",
       "      <td>196</td>\n",
       "      <td>5</td>\n",
       "      <td>NaN</td>\n",
       "      <td>NaN</td>\n",
       "      <td>NaN</td>\n",
       "      <td>NaN</td>\n",
       "      <td>NaN</td>\n",
       "    </tr>\n",
       "    <tr>\n",
       "      <th>D</th>\n",
       "      <td>5</td>\n",
       "      <td>5</td>\n",
       "      <td>7</td>\n",
       "      <td>42</td>\n",
       "      <td>15</td>\n",
       "      <td>3</td>\n",
       "      <td>2</td>\n",
       "      <td>NaN</td>\n",
       "      <td>NaN</td>\n",
       "    </tr>\n",
       "    <tr>\n",
       "      <th>Not Participating</th>\n",
       "      <td>2606</td>\n",
       "      <td>2053</td>\n",
       "      <td>989</td>\n",
       "      <td>354</td>\n",
       "      <td>109</td>\n",
       "      <td>35</td>\n",
       "      <td>9</td>\n",
       "      <td>3</td>\n",
       "      <td>2</td>\n",
       "    </tr>\n",
       "    <tr>\n",
       "      <th>Re-Inspection</th>\n",
       "      <td>3</td>\n",
       "      <td>2</td>\n",
       "      <td>NaN</td>\n",
       "      <td>NaN</td>\n",
       "      <td>NaN</td>\n",
       "      <td>NaN</td>\n",
       "      <td>NaN</td>\n",
       "      <td>NaN</td>\n",
       "      <td>NaN</td>\n",
       "    </tr>\n",
       "  </tbody>\n",
       "</table>\n",
       "</div>"
      ],
      "text/plain": [
       "sum_priority         0     1    2    3    4   5   6   7   10\n",
       "grade                                                       \n",
       "                   1409    21    3  NaN  NaN NaN NaN NaN NaN\n",
       "A                  4500    38    4  NaN  NaN NaN NaN NaN NaN\n",
       "B                   539  1325   35  NaN  NaN NaN NaN NaN NaN\n",
       "C                    10    33  196    5  NaN NaN NaN NaN NaN\n",
       "D                     5     5    7   42   15   3   2 NaN NaN\n",
       "Not Participating  2606  2053  989  354  109  35   9   3   2\n",
       "Re-Inspection         3     2  NaN  NaN  NaN NaN NaN NaN NaN"
      ]
     },
     "execution_count": 54,
     "metadata": {},
     "output_type": "execute_result"
    }
   ],
   "source": [
    "df_train.pivot_table(index='grade',columns='sum_priority', aggfunc='count', values='id_')"
   ]
  },
  {
   "cell_type": "code",
   "execution_count": 60,
   "metadata": {
    "collapsed": false
   },
   "outputs": [
    {
     "data": {
      "text/html": [
       "<div>\n",
       "<table border=\"1\" class=\"dataframe\">\n",
       "  <thead>\n",
       "    <tr style=\"text-align: right;\">\n",
       "      <th>sum_priority</th>\n",
       "      <th>0</th>\n",
       "      <th>1</th>\n",
       "      <th>2</th>\n",
       "      <th>3</th>\n",
       "      <th>4</th>\n",
       "      <th>5</th>\n",
       "      <th>6</th>\n",
       "      <th>7</th>\n",
       "      <th>10</th>\n",
       "    </tr>\n",
       "    <tr>\n",
       "      <th>n_priority</th>\n",
       "      <th></th>\n",
       "      <th></th>\n",
       "      <th></th>\n",
       "      <th></th>\n",
       "      <th></th>\n",
       "      <th></th>\n",
       "      <th></th>\n",
       "      <th></th>\n",
       "      <th></th>\n",
       "    </tr>\n",
       "  </thead>\n",
       "  <tbody>\n",
       "    <tr>\n",
       "      <th>0</th>\n",
       "      <td>1118</td>\n",
       "      <td>47</td>\n",
       "      <td>10</td>\n",
       "      <td>3</td>\n",
       "      <td>1</td>\n",
       "      <td>NaN</td>\n",
       "      <td>NaN</td>\n",
       "      <td>NaN</td>\n",
       "      <td>NaN</td>\n",
       "    </tr>\n",
       "    <tr>\n",
       "      <th>1</th>\n",
       "      <td>NaN</td>\n",
       "      <td>354</td>\n",
       "      <td>1</td>\n",
       "      <td>NaN</td>\n",
       "      <td>NaN</td>\n",
       "      <td>NaN</td>\n",
       "      <td>NaN</td>\n",
       "      <td>NaN</td>\n",
       "      <td>NaN</td>\n",
       "    </tr>\n",
       "    <tr>\n",
       "      <th>2</th>\n",
       "      <td>NaN</td>\n",
       "      <td>NaN</td>\n",
       "      <td>124</td>\n",
       "      <td>1</td>\n",
       "      <td>NaN</td>\n",
       "      <td>NaN</td>\n",
       "      <td>NaN</td>\n",
       "      <td>NaN</td>\n",
       "      <td>NaN</td>\n",
       "    </tr>\n",
       "    <tr>\n",
       "      <th>3</th>\n",
       "      <td>NaN</td>\n",
       "      <td>NaN</td>\n",
       "      <td>NaN</td>\n",
       "      <td>31</td>\n",
       "      <td>NaN</td>\n",
       "      <td>NaN</td>\n",
       "      <td>NaN</td>\n",
       "      <td>NaN</td>\n",
       "      <td>NaN</td>\n",
       "    </tr>\n",
       "    <tr>\n",
       "      <th>4</th>\n",
       "      <td>NaN</td>\n",
       "      <td>NaN</td>\n",
       "      <td>NaN</td>\n",
       "      <td>NaN</td>\n",
       "      <td>10</td>\n",
       "      <td>NaN</td>\n",
       "      <td>NaN</td>\n",
       "      <td>NaN</td>\n",
       "      <td>NaN</td>\n",
       "    </tr>\n",
       "    <tr>\n",
       "      <th>5</th>\n",
       "      <td>NaN</td>\n",
       "      <td>NaN</td>\n",
       "      <td>NaN</td>\n",
       "      <td>NaN</td>\n",
       "      <td>NaN</td>\n",
       "      <td>4</td>\n",
       "      <td>NaN</td>\n",
       "      <td>NaN</td>\n",
       "      <td>NaN</td>\n",
       "    </tr>\n",
       "    <tr>\n",
       "      <th>6</th>\n",
       "      <td>NaN</td>\n",
       "      <td>NaN</td>\n",
       "      <td>NaN</td>\n",
       "      <td>NaN</td>\n",
       "      <td>NaN</td>\n",
       "      <td>NaN</td>\n",
       "      <td>1</td>\n",
       "      <td>NaN</td>\n",
       "      <td>NaN</td>\n",
       "    </tr>\n",
       "    <tr>\n",
       "      <th>NA</th>\n",
       "      <td>7954</td>\n",
       "      <td>3076</td>\n",
       "      <td>1099</td>\n",
       "      <td>366</td>\n",
       "      <td>113</td>\n",
       "      <td>34</td>\n",
       "      <td>10</td>\n",
       "      <td>3</td>\n",
       "      <td>2</td>\n",
       "    </tr>\n",
       "  </tbody>\n",
       "</table>\n",
       "</div>"
      ],
      "text/plain": [
       "sum_priority    0     1     2    3    4   5   6   7   10\n",
       "n_priority                                              \n",
       "0             1118    47    10    3    1 NaN NaN NaN NaN\n",
       "1              NaN   354     1  NaN  NaN NaN NaN NaN NaN\n",
       "2              NaN   NaN   124    1  NaN NaN NaN NaN NaN\n",
       "3              NaN   NaN   NaN   31  NaN NaN NaN NaN NaN\n",
       "4              NaN   NaN   NaN  NaN   10 NaN NaN NaN NaN\n",
       "5              NaN   NaN   NaN  NaN  NaN   4 NaN NaN NaN\n",
       "6              NaN   NaN   NaN  NaN  NaN NaN   1 NaN NaN\n",
       "NA            7954  3076  1099  366  113  34  10   3   2"
      ]
     },
     "execution_count": 60,
     "metadata": {},
     "output_type": "execute_result"
    }
   ],
   "source": [
    "df_train.pivot_table(index='n_priority',columns='sum_priority', aggfunc='count', values='id_')"
   ]
  },
  {
   "cell_type": "code",
   "execution_count": 58,
   "metadata": {
    "collapsed": false
   },
   "outputs": [
    {
     "data": {
      "text/html": [
       "<div>\n",
       "<table border=\"1\" class=\"dataframe\">\n",
       "  <thead>\n",
       "    <tr style=\"text-align: right;\">\n",
       "      <th></th>\n",
       "      <th>grade</th>\n",
       "      <th></th>\n",
       "      <th>A</th>\n",
       "      <th>B</th>\n",
       "      <th>C</th>\n",
       "      <th>D</th>\n",
       "      <th>Not Participating</th>\n",
       "      <th>Re-Inspection</th>\n",
       "    </tr>\n",
       "    <tr>\n",
       "      <th>n_priority</th>\n",
       "      <th>sum_priority</th>\n",
       "      <th></th>\n",
       "      <th></th>\n",
       "      <th></th>\n",
       "      <th></th>\n",
       "      <th></th>\n",
       "      <th></th>\n",
       "      <th></th>\n",
       "    </tr>\n",
       "  </thead>\n",
       "  <tbody>\n",
       "    <tr>\n",
       "      <th rowspan=\"5\" valign=\"top\">0</th>\n",
       "      <th>0</th>\n",
       "      <td>82</td>\n",
       "      <td>648</td>\n",
       "      <td>63</td>\n",
       "      <td>NaN</td>\n",
       "      <td>NaN</td>\n",
       "      <td>325</td>\n",
       "      <td>NaN</td>\n",
       "    </tr>\n",
       "    <tr>\n",
       "      <th>1</th>\n",
       "      <td>NaN</td>\n",
       "      <td>NaN</td>\n",
       "      <td>15</td>\n",
       "      <td>NaN</td>\n",
       "      <td>NaN</td>\n",
       "      <td>32</td>\n",
       "      <td>NaN</td>\n",
       "    </tr>\n",
       "    <tr>\n",
       "      <th>2</th>\n",
       "      <td>NaN</td>\n",
       "      <td>1</td>\n",
       "      <td>NaN</td>\n",
       "      <td>2</td>\n",
       "      <td>NaN</td>\n",
       "      <td>7</td>\n",
       "      <td>NaN</td>\n",
       "    </tr>\n",
       "    <tr>\n",
       "      <th>3</th>\n",
       "      <td>NaN</td>\n",
       "      <td>NaN</td>\n",
       "      <td>NaN</td>\n",
       "      <td>NaN</td>\n",
       "      <td>NaN</td>\n",
       "      <td>3</td>\n",
       "      <td>NaN</td>\n",
       "    </tr>\n",
       "    <tr>\n",
       "      <th>4</th>\n",
       "      <td>NaN</td>\n",
       "      <td>NaN</td>\n",
       "      <td>NaN</td>\n",
       "      <td>NaN</td>\n",
       "      <td>NaN</td>\n",
       "      <td>1</td>\n",
       "      <td>NaN</td>\n",
       "    </tr>\n",
       "    <tr>\n",
       "      <th rowspan=\"2\" valign=\"top\">1</th>\n",
       "      <th>1</th>\n",
       "      <td>NaN</td>\n",
       "      <td>5</td>\n",
       "      <td>120</td>\n",
       "      <td>3</td>\n",
       "      <td>NaN</td>\n",
       "      <td>226</td>\n",
       "      <td>NaN</td>\n",
       "    </tr>\n",
       "    <tr>\n",
       "      <th>2</th>\n",
       "      <td>NaN</td>\n",
       "      <td>NaN</td>\n",
       "      <td>NaN</td>\n",
       "      <td>NaN</td>\n",
       "      <td>NaN</td>\n",
       "      <td>1</td>\n",
       "      <td>NaN</td>\n",
       "    </tr>\n",
       "    <tr>\n",
       "      <th rowspan=\"2\" valign=\"top\">2</th>\n",
       "      <th>2</th>\n",
       "      <td>NaN</td>\n",
       "      <td>NaN</td>\n",
       "      <td>1</td>\n",
       "      <td>16</td>\n",
       "      <td>NaN</td>\n",
       "      <td>107</td>\n",
       "      <td>NaN</td>\n",
       "    </tr>\n",
       "    <tr>\n",
       "      <th>3</th>\n",
       "      <td>NaN</td>\n",
       "      <td>NaN</td>\n",
       "      <td>NaN</td>\n",
       "      <td>NaN</td>\n",
       "      <td>NaN</td>\n",
       "      <td>1</td>\n",
       "      <td>NaN</td>\n",
       "    </tr>\n",
       "    <tr>\n",
       "      <th>3</th>\n",
       "      <th>3</th>\n",
       "      <td>NaN</td>\n",
       "      <td>NaN</td>\n",
       "      <td>NaN</td>\n",
       "      <td>1</td>\n",
       "      <td>3</td>\n",
       "      <td>27</td>\n",
       "      <td>NaN</td>\n",
       "    </tr>\n",
       "    <tr>\n",
       "      <th>4</th>\n",
       "      <th>4</th>\n",
       "      <td>NaN</td>\n",
       "      <td>NaN</td>\n",
       "      <td>NaN</td>\n",
       "      <td>NaN</td>\n",
       "      <td>1</td>\n",
       "      <td>9</td>\n",
       "      <td>NaN</td>\n",
       "    </tr>\n",
       "    <tr>\n",
       "      <th>5</th>\n",
       "      <th>5</th>\n",
       "      <td>NaN</td>\n",
       "      <td>NaN</td>\n",
       "      <td>NaN</td>\n",
       "      <td>NaN</td>\n",
       "      <td>1</td>\n",
       "      <td>3</td>\n",
       "      <td>NaN</td>\n",
       "    </tr>\n",
       "    <tr>\n",
       "      <th>6</th>\n",
       "      <th>6</th>\n",
       "      <td>NaN</td>\n",
       "      <td>NaN</td>\n",
       "      <td>NaN</td>\n",
       "      <td>NaN</td>\n",
       "      <td>NaN</td>\n",
       "      <td>1</td>\n",
       "      <td>NaN</td>\n",
       "    </tr>\n",
       "    <tr>\n",
       "      <th rowspan=\"9\" valign=\"top\">NA</th>\n",
       "      <th>0</th>\n",
       "      <td>1327</td>\n",
       "      <td>3852</td>\n",
       "      <td>476</td>\n",
       "      <td>10</td>\n",
       "      <td>5</td>\n",
       "      <td>2281</td>\n",
       "      <td>3</td>\n",
       "    </tr>\n",
       "    <tr>\n",
       "      <th>1</th>\n",
       "      <td>21</td>\n",
       "      <td>33</td>\n",
       "      <td>1190</td>\n",
       "      <td>30</td>\n",
       "      <td>5</td>\n",
       "      <td>1795</td>\n",
       "      <td>2</td>\n",
       "    </tr>\n",
       "    <tr>\n",
       "      <th>2</th>\n",
       "      <td>3</td>\n",
       "      <td>3</td>\n",
       "      <td>34</td>\n",
       "      <td>178</td>\n",
       "      <td>7</td>\n",
       "      <td>874</td>\n",
       "      <td>NaN</td>\n",
       "    </tr>\n",
       "    <tr>\n",
       "      <th>3</th>\n",
       "      <td>NaN</td>\n",
       "      <td>NaN</td>\n",
       "      <td>NaN</td>\n",
       "      <td>4</td>\n",
       "      <td>39</td>\n",
       "      <td>323</td>\n",
       "      <td>NaN</td>\n",
       "    </tr>\n",
       "    <tr>\n",
       "      <th>4</th>\n",
       "      <td>NaN</td>\n",
       "      <td>NaN</td>\n",
       "      <td>NaN</td>\n",
       "      <td>NaN</td>\n",
       "      <td>14</td>\n",
       "      <td>99</td>\n",
       "      <td>NaN</td>\n",
       "    </tr>\n",
       "    <tr>\n",
       "      <th>5</th>\n",
       "      <td>NaN</td>\n",
       "      <td>NaN</td>\n",
       "      <td>NaN</td>\n",
       "      <td>NaN</td>\n",
       "      <td>2</td>\n",
       "      <td>32</td>\n",
       "      <td>NaN</td>\n",
       "    </tr>\n",
       "    <tr>\n",
       "      <th>6</th>\n",
       "      <td>NaN</td>\n",
       "      <td>NaN</td>\n",
       "      <td>NaN</td>\n",
       "      <td>NaN</td>\n",
       "      <td>2</td>\n",
       "      <td>8</td>\n",
       "      <td>NaN</td>\n",
       "    </tr>\n",
       "    <tr>\n",
       "      <th>7</th>\n",
       "      <td>NaN</td>\n",
       "      <td>NaN</td>\n",
       "      <td>NaN</td>\n",
       "      <td>NaN</td>\n",
       "      <td>NaN</td>\n",
       "      <td>3</td>\n",
       "      <td>NaN</td>\n",
       "    </tr>\n",
       "    <tr>\n",
       "      <th>10</th>\n",
       "      <td>NaN</td>\n",
       "      <td>NaN</td>\n",
       "      <td>NaN</td>\n",
       "      <td>NaN</td>\n",
       "      <td>NaN</td>\n",
       "      <td>2</td>\n",
       "      <td>NaN</td>\n",
       "    </tr>\n",
       "  </tbody>\n",
       "</table>\n",
       "</div>"
      ],
      "text/plain": [
       "grade                             A     B    C   D  Not Participating  \\\n",
       "n_priority sum_priority                                                 \n",
       "0          0               82   648    63  NaN NaN                325   \n",
       "           1              NaN   NaN    15  NaN NaN                 32   \n",
       "           2              NaN     1   NaN    2 NaN                  7   \n",
       "           3              NaN   NaN   NaN  NaN NaN                  3   \n",
       "           4              NaN   NaN   NaN  NaN NaN                  1   \n",
       "1          1              NaN     5   120    3 NaN                226   \n",
       "           2              NaN   NaN   NaN  NaN NaN                  1   \n",
       "2          2              NaN   NaN     1   16 NaN                107   \n",
       "           3              NaN   NaN   NaN  NaN NaN                  1   \n",
       "3          3              NaN   NaN   NaN    1   3                 27   \n",
       "4          4              NaN   NaN   NaN  NaN   1                  9   \n",
       "5          5              NaN   NaN   NaN  NaN   1                  3   \n",
       "6          6              NaN   NaN   NaN  NaN NaN                  1   \n",
       "NA         0             1327  3852   476   10   5               2281   \n",
       "           1               21    33  1190   30   5               1795   \n",
       "           2                3     3    34  178   7                874   \n",
       "           3              NaN   NaN   NaN    4  39                323   \n",
       "           4              NaN   NaN   NaN  NaN  14                 99   \n",
       "           5              NaN   NaN   NaN  NaN   2                 32   \n",
       "           6              NaN   NaN   NaN  NaN   2                  8   \n",
       "           7              NaN   NaN   NaN  NaN NaN                  3   \n",
       "           10             NaN   NaN   NaN  NaN NaN                  2   \n",
       "\n",
       "grade                    Re-Inspection  \n",
       "n_priority sum_priority                 \n",
       "0          0                       NaN  \n",
       "           1                       NaN  \n",
       "           2                       NaN  \n",
       "           3                       NaN  \n",
       "           4                       NaN  \n",
       "1          1                       NaN  \n",
       "           2                       NaN  \n",
       "2          2                       NaN  \n",
       "           3                       NaN  \n",
       "3          3                       NaN  \n",
       "4          4                       NaN  \n",
       "5          5                       NaN  \n",
       "6          6                       NaN  \n",
       "NA         0                         3  \n",
       "           1                         2  \n",
       "           2                       NaN  \n",
       "           3                       NaN  \n",
       "           4                       NaN  \n",
       "           5                       NaN  \n",
       "           6                       NaN  \n",
       "           7                       NaN  \n",
       "           10                      NaN  "
      ]
     },
     "execution_count": 58,
     "metadata": {},
     "output_type": "execute_result"
    }
   ],
   "source": [
    "df_train.pivot_table(index=['n_priority','sum_priority'],columns='grade', aggfunc='count', values='id_')"
   ]
  },
  {
   "cell_type": "code",
   "execution_count": 61,
   "metadata": {
    "collapsed": false
   },
   "outputs": [
    {
     "data": {
      "text/plain": [
       "Index([   u'business_id',            u'id_',           u'date',\n",
       "            u'inspec_id',     u'n_priority',          u'grade',\n",
       "         u'n_violations',         u'v_core',       u'sum_core',\n",
       "         u'v_foundation', u'sum_foundation',     u'v_priority',\n",
       "         u'sum_priority',     u'date_start',         u'rev_ct',\n",
       "               u'neg_ct',      u'stars_avg',    u'rev_len_avg',\n",
       "            u'stars_var',           u'text'],\n",
       "      dtype='object')"
      ]
     },
     "execution_count": 61,
     "metadata": {},
     "output_type": "execute_result"
    }
   ],
   "source": [
    "df_train.columns"
   ]
  },
  {
   "cell_type": "code",
   "execution_count": 68,
   "metadata": {
    "collapsed": false
   },
   "outputs": [
    {
     "data": {
      "text/html": [
       "<div>\n",
       "<table border=\"1\" class=\"dataframe\">\n",
       "  <thead>\n",
       "    <tr style=\"text-align: right;\">\n",
       "      <th>date</th>\n",
       "      <th>2012</th>\n",
       "      <th>2013</th>\n",
       "      <th>2014</th>\n",
       "      <th>2015</th>\n",
       "    </tr>\n",
       "    <tr>\n",
       "      <th>n_priority</th>\n",
       "      <th></th>\n",
       "      <th></th>\n",
       "      <th></th>\n",
       "      <th></th>\n",
       "    </tr>\n",
       "  </thead>\n",
       "  <tbody>\n",
       "    <tr>\n",
       "      <th>0</th>\n",
       "      <td>NaN</td>\n",
       "      <td>NaN</td>\n",
       "      <td>NaN</td>\n",
       "      <td>1179</td>\n",
       "    </tr>\n",
       "    <tr>\n",
       "      <th>1</th>\n",
       "      <td>NaN</td>\n",
       "      <td>NaN</td>\n",
       "      <td>NaN</td>\n",
       "      <td>355</td>\n",
       "    </tr>\n",
       "    <tr>\n",
       "      <th>2</th>\n",
       "      <td>NaN</td>\n",
       "      <td>NaN</td>\n",
       "      <td>NaN</td>\n",
       "      <td>125</td>\n",
       "    </tr>\n",
       "    <tr>\n",
       "      <th>3</th>\n",
       "      <td>NaN</td>\n",
       "      <td>NaN</td>\n",
       "      <td>NaN</td>\n",
       "      <td>31</td>\n",
       "    </tr>\n",
       "    <tr>\n",
       "      <th>4</th>\n",
       "      <td>NaN</td>\n",
       "      <td>NaN</td>\n",
       "      <td>NaN</td>\n",
       "      <td>10</td>\n",
       "    </tr>\n",
       "    <tr>\n",
       "      <th>5</th>\n",
       "      <td>NaN</td>\n",
       "      <td>NaN</td>\n",
       "      <td>NaN</td>\n",
       "      <td>4</td>\n",
       "    </tr>\n",
       "    <tr>\n",
       "      <th>6</th>\n",
       "      <td>NaN</td>\n",
       "      <td>NaN</td>\n",
       "      <td>NaN</td>\n",
       "      <td>1</td>\n",
       "    </tr>\n",
       "    <tr>\n",
       "      <th>NA</th>\n",
       "      <td>1001</td>\n",
       "      <td>5120</td>\n",
       "      <td>6530</td>\n",
       "      <td>6</td>\n",
       "    </tr>\n",
       "  </tbody>\n",
       "</table>\n",
       "</div>"
      ],
      "text/plain": [
       "date        2012  2013  2014  2015\n",
       "n_priority                        \n",
       "0            NaN   NaN   NaN  1179\n",
       "1            NaN   NaN   NaN   355\n",
       "2            NaN   NaN   NaN   125\n",
       "3            NaN   NaN   NaN    31\n",
       "4            NaN   NaN   NaN    10\n",
       "5            NaN   NaN   NaN     4\n",
       "6            NaN   NaN   NaN     1\n",
       "NA          1001  5120  6530     6"
      ]
     },
     "execution_count": 68,
     "metadata": {},
     "output_type": "execute_result"
    }
   ],
   "source": [
    "df_train.pivot_table(index='n_priority',columns=pd.to_datetime(df_train.date).apply(lambda x: x.year), aggfunc='count', values='id_')\n"
   ]
  },
  {
   "cell_type": "code",
   "execution_count": 83,
   "metadata": {
    "collapsed": false
   },
   "outputs": [
    {
     "data": {
      "text/html": [
       "<div>\n",
       "<table border=\"1\" class=\"dataframe\">\n",
       "  <thead>\n",
       "    <tr style=\"text-align: right;\">\n",
       "      <th>date</th>\n",
       "      <th>2012</th>\n",
       "      <th>2013</th>\n",
       "      <th>2014</th>\n",
       "      <th>2015</th>\n",
       "    </tr>\n",
       "    <tr>\n",
       "      <th>grade</th>\n",
       "      <th></th>\n",
       "      <th></th>\n",
       "      <th></th>\n",
       "      <th></th>\n",
       "    </tr>\n",
       "  </thead>\n",
       "  <tbody>\n",
       "    <tr>\n",
       "      <th></th>\n",
       "      <td>81</td>\n",
       "      <td>567</td>\n",
       "      <td>700</td>\n",
       "      <td>85</td>\n",
       "    </tr>\n",
       "    <tr>\n",
       "      <th>A</th>\n",
       "      <td>338</td>\n",
       "      <td>1488</td>\n",
       "      <td>2061</td>\n",
       "      <td>655</td>\n",
       "    </tr>\n",
       "    <tr>\n",
       "      <th>B</th>\n",
       "      <td>172</td>\n",
       "      <td>744</td>\n",
       "      <td>784</td>\n",
       "      <td>199</td>\n",
       "    </tr>\n",
       "    <tr>\n",
       "      <th>C</th>\n",
       "      <td>18</td>\n",
       "      <td>101</td>\n",
       "      <td>103</td>\n",
       "      <td>22</td>\n",
       "    </tr>\n",
       "    <tr>\n",
       "      <th>D</th>\n",
       "      <td>6</td>\n",
       "      <td>40</td>\n",
       "      <td>28</td>\n",
       "      <td>5</td>\n",
       "    </tr>\n",
       "    <tr>\n",
       "      <th>Not Participating</th>\n",
       "      <td>386</td>\n",
       "      <td>2179</td>\n",
       "      <td>2850</td>\n",
       "      <td>745</td>\n",
       "    </tr>\n",
       "    <tr>\n",
       "      <th>Re-Inspection</th>\n",
       "      <td>NaN</td>\n",
       "      <td>1</td>\n",
       "      <td>4</td>\n",
       "      <td>NaN</td>\n",
       "    </tr>\n",
       "  </tbody>\n",
       "</table>\n",
       "</div>"
      ],
      "text/plain": [
       "date               2012  2013  2014  2015\n",
       "grade                                    \n",
       "                     81   567   700    85\n",
       "A                   338  1488  2061   655\n",
       "B                   172   744   784   199\n",
       "C                    18   101   103    22\n",
       "D                     6    40    28     5\n",
       "Not Participating   386  2179  2850   745\n",
       "Re-Inspection       NaN     1     4   NaN"
      ]
     },
     "execution_count": 83,
     "metadata": {},
     "output_type": "execute_result"
    }
   ],
   "source": [
    "df_train.pivot_table(index='grade',columns=pd.to_datetime(df_train.date).apply(lambda x: x.year), aggfunc='count', values='id_')\n",
    "\n"
   ]
  },
  {
   "cell_type": "code",
   "execution_count": 73,
   "metadata": {
    "collapsed": false
   },
   "outputs": [
    {
     "data": {
      "text/plain": [
       "Index([   u'business_id',            u'id_',           u'date',\n",
       "            u'inspec_id',     u'n_priority',          u'grade',\n",
       "         u'n_violations',         u'v_core',       u'sum_core',\n",
       "         u'v_foundation', u'sum_foundation',     u'v_priority',\n",
       "         u'sum_priority',     u'date_start',         u'rev_ct',\n",
       "               u'neg_ct',      u'stars_avg',    u'rev_len_avg',\n",
       "            u'stars_var',           u'text'],\n",
       "      dtype='object')"
      ]
     },
     "execution_count": 73,
     "metadata": {},
     "output_type": "execute_result"
    }
   ],
   "source": [
    "df_AZ.columns"
   ]
  },
  {
   "cell_type": "code",
   "execution_count": 74,
   "metadata": {
    "collapsed": true
   },
   "outputs": [],
   "source": [
    "I = open_pickle('../data/phx/phoenix_I_full.pkl')"
   ]
  },
  {
   "cell_type": "code",
   "execution_count": 76,
   "metadata": {
    "collapsed": false
   },
   "outputs": [
    {
     "data": {
      "text/html": [
       "<div>\n",
       "<table border=\"1\" class=\"dataframe\">\n",
       "  <thead>\n",
       "    <tr style=\"text-align: right;\">\n",
       "      <th>date</th>\n",
       "      <th>2012</th>\n",
       "      <th>2013</th>\n",
       "      <th>2014</th>\n",
       "      <th>2015</th>\n",
       "    </tr>\n",
       "    <tr>\n",
       "      <th>grade</th>\n",
       "      <th></th>\n",
       "      <th></th>\n",
       "      <th></th>\n",
       "      <th></th>\n",
       "    </tr>\n",
       "  </thead>\n",
       "  <tbody>\n",
       "    <tr>\n",
       "      <th></th>\n",
       "      <td>1452</td>\n",
       "      <td>9177</td>\n",
       "      <td>11194</td>\n",
       "      <td>9997</td>\n",
       "    </tr>\n",
       "    <tr>\n",
       "      <th>A</th>\n",
       "      <td>3759</td>\n",
       "      <td>17527</td>\n",
       "      <td>21181</td>\n",
       "      <td>21513</td>\n",
       "    </tr>\n",
       "    <tr>\n",
       "      <th>B</th>\n",
       "      <td>1120</td>\n",
       "      <td>5651</td>\n",
       "      <td>5449</td>\n",
       "      <td>4654</td>\n",
       "    </tr>\n",
       "    <tr>\n",
       "      <th>C</th>\n",
       "      <td>123</td>\n",
       "      <td>712</td>\n",
       "      <td>611</td>\n",
       "      <td>511</td>\n",
       "    </tr>\n",
       "    <tr>\n",
       "      <th>D</th>\n",
       "      <td>37</td>\n",
       "      <td>215</td>\n",
       "      <td>140</td>\n",
       "      <td>137</td>\n",
       "    </tr>\n",
       "    <tr>\n",
       "      <th>Not Participating</th>\n",
       "      <td>3465</td>\n",
       "      <td>17246</td>\n",
       "      <td>18740</td>\n",
       "      <td>17204</td>\n",
       "    </tr>\n",
       "    <tr>\n",
       "      <th>Re-Inspection</th>\n",
       "      <td>6</td>\n",
       "      <td>43</td>\n",
       "      <td>44</td>\n",
       "      <td>35</td>\n",
       "    </tr>\n",
       "    <tr>\n",
       "      <th>Training</th>\n",
       "      <td>NaN</td>\n",
       "      <td>1</td>\n",
       "      <td>1</td>\n",
       "      <td>NaN</td>\n",
       "    </tr>\n",
       "  </tbody>\n",
       "</table>\n",
       "</div>"
      ],
      "text/plain": [
       "date               2012   2013   2014   2015\n",
       "grade                                       \n",
       "                   1452   9177  11194   9997\n",
       "A                  3759  17527  21181  21513\n",
       "B                  1120   5651   5449   4654\n",
       "C                   123    712    611    511\n",
       "D                    37    215    140    137\n",
       "Not Participating  3465  17246  18740  17204\n",
       "Re-Inspection         6     43     44     35\n",
       "Training            NaN      1      1    NaN"
      ]
     },
     "execution_count": 76,
     "metadata": {},
     "output_type": "execute_result"
    }
   ],
   "source": [
    "I.pivot_table(index='grade',columns=pd.to_datetime(I.date).apply(lambda x: x.year), aggfunc='count', values='date')\n",
    "\n"
   ]
  },
  {
   "cell_type": "code",
   "execution_count": 85,
   "metadata": {
    "collapsed": false
   },
   "outputs": [
    {
     "data": {
      "text/html": [
       "<div>\n",
       "<table border=\"1\" class=\"dataframe\">\n",
       "  <thead>\n",
       "    <tr style=\"text-align: right;\">\n",
       "      <th>sum_priority</th>\n",
       "      <th>0</th>\n",
       "      <th>1</th>\n",
       "      <th>2</th>\n",
       "      <th>3</th>\n",
       "      <th>4</th>\n",
       "      <th>5</th>\n",
       "      <th>6</th>\n",
       "      <th>7</th>\n",
       "      <th>10</th>\n",
       "    </tr>\n",
       "    <tr>\n",
       "      <th>purpose</th>\n",
       "      <th></th>\n",
       "      <th></th>\n",
       "      <th></th>\n",
       "      <th></th>\n",
       "      <th></th>\n",
       "      <th></th>\n",
       "      <th></th>\n",
       "      <th></th>\n",
       "      <th></th>\n",
       "    </tr>\n",
       "  </thead>\n",
       "  <tbody>\n",
       "    <tr>\n",
       "      <th>Advisory</th>\n",
       "      <td>325</td>\n",
       "      <td>1</td>\n",
       "      <td>NaN</td>\n",
       "      <td>NaN</td>\n",
       "      <td>NaN</td>\n",
       "      <td>NaN</td>\n",
       "      <td>NaN</td>\n",
       "      <td>NaN</td>\n",
       "      <td>NaN</td>\n",
       "    </tr>\n",
       "    <tr>\n",
       "      <th>Close Out</th>\n",
       "      <td>2</td>\n",
       "      <td>NaN</td>\n",
       "      <td>NaN</td>\n",
       "      <td>NaN</td>\n",
       "      <td>NaN</td>\n",
       "      <td>NaN</td>\n",
       "      <td>NaN</td>\n",
       "      <td>NaN</td>\n",
       "      <td>NaN</td>\n",
       "    </tr>\n",
       "    <tr>\n",
       "      <th>Complaint Inspection</th>\n",
       "      <td>168</td>\n",
       "      <td>117</td>\n",
       "      <td>48</td>\n",
       "      <td>14</td>\n",
       "      <td>9</td>\n",
       "      <td>2</td>\n",
       "      <td>1</td>\n",
       "      <td>2</td>\n",
       "      <td>NaN</td>\n",
       "    </tr>\n",
       "    <tr>\n",
       "      <th>Complaint Response</th>\n",
       "      <td>140</td>\n",
       "      <td>2</td>\n",
       "      <td>NaN</td>\n",
       "      <td>NaN</td>\n",
       "      <td>NaN</td>\n",
       "      <td>NaN</td>\n",
       "      <td>NaN</td>\n",
       "      <td>NaN</td>\n",
       "      <td>NaN</td>\n",
       "    </tr>\n",
       "    <tr>\n",
       "      <th>Construction</th>\n",
       "      <td>22</td>\n",
       "      <td>NaN</td>\n",
       "      <td>NaN</td>\n",
       "      <td>NaN</td>\n",
       "      <td>NaN</td>\n",
       "      <td>NaN</td>\n",
       "      <td>NaN</td>\n",
       "      <td>NaN</td>\n",
       "      <td>NaN</td>\n",
       "    </tr>\n",
       "    <tr>\n",
       "      <th>ERI EPI Investigation</th>\n",
       "      <td>8</td>\n",
       "      <td>NaN</td>\n",
       "      <td>NaN</td>\n",
       "      <td>NaN</td>\n",
       "      <td>NaN</td>\n",
       "      <td>NaN</td>\n",
       "      <td>NaN</td>\n",
       "      <td>NaN</td>\n",
       "      <td>NaN</td>\n",
       "    </tr>\n",
       "    <tr>\n",
       "      <th>ERI FBI Investigation</th>\n",
       "      <td>9</td>\n",
       "      <td>NaN</td>\n",
       "      <td>NaN</td>\n",
       "      <td>NaN</td>\n",
       "      <td>NaN</td>\n",
       "      <td>NaN</td>\n",
       "      <td>NaN</td>\n",
       "      <td>NaN</td>\n",
       "      <td>NaN</td>\n",
       "    </tr>\n",
       "    <tr>\n",
       "      <th>Equipment</th>\n",
       "      <td>1</td>\n",
       "      <td>NaN</td>\n",
       "      <td>NaN</td>\n",
       "      <td>NaN</td>\n",
       "      <td>NaN</td>\n",
       "      <td>NaN</td>\n",
       "      <td>NaN</td>\n",
       "      <td>NaN</td>\n",
       "      <td>NaN</td>\n",
       "    </tr>\n",
       "    <tr>\n",
       "      <th>Final Construction</th>\n",
       "      <td>7</td>\n",
       "      <td>NaN</td>\n",
       "      <td>NaN</td>\n",
       "      <td>NaN</td>\n",
       "      <td>NaN</td>\n",
       "      <td>NaN</td>\n",
       "      <td>NaN</td>\n",
       "      <td>NaN</td>\n",
       "      <td>NaN</td>\n",
       "    </tr>\n",
       "    <tr>\n",
       "      <th>Immediate Suspension</th>\n",
       "      <td>14</td>\n",
       "      <td>6</td>\n",
       "      <td>1</td>\n",
       "      <td>NaN</td>\n",
       "      <td>NaN</td>\n",
       "      <td>NaN</td>\n",
       "      <td>NaN</td>\n",
       "      <td>NaN</td>\n",
       "      <td>NaN</td>\n",
       "    </tr>\n",
       "    <tr>\n",
       "      <th>Ineffective Visit</th>\n",
       "      <td>119</td>\n",
       "      <td>NaN</td>\n",
       "      <td>NaN</td>\n",
       "      <td>NaN</td>\n",
       "      <td>NaN</td>\n",
       "      <td>NaN</td>\n",
       "      <td>NaN</td>\n",
       "      <td>NaN</td>\n",
       "      <td>NaN</td>\n",
       "    </tr>\n",
       "    <tr>\n",
       "      <th>OC Inspection</th>\n",
       "      <td>229</td>\n",
       "      <td>NaN</td>\n",
       "      <td>NaN</td>\n",
       "      <td>NaN</td>\n",
       "      <td>NaN</td>\n",
       "      <td>NaN</td>\n",
       "      <td>NaN</td>\n",
       "      <td>NaN</td>\n",
       "      <td>NaN</td>\n",
       "    </tr>\n",
       "    <tr>\n",
       "      <th>OC Re-Inspection</th>\n",
       "      <td>111</td>\n",
       "      <td>NaN</td>\n",
       "      <td>NaN</td>\n",
       "      <td>NaN</td>\n",
       "      <td>NaN</td>\n",
       "      <td>NaN</td>\n",
       "      <td>NaN</td>\n",
       "      <td>NaN</td>\n",
       "      <td>NaN</td>\n",
       "    </tr>\n",
       "    <tr>\n",
       "      <th>Plumbing</th>\n",
       "      <td>6</td>\n",
       "      <td>NaN</td>\n",
       "      <td>NaN</td>\n",
       "      <td>NaN</td>\n",
       "      <td>NaN</td>\n",
       "      <td>NaN</td>\n",
       "      <td>NaN</td>\n",
       "      <td>NaN</td>\n",
       "      <td>NaN</td>\n",
       "    </tr>\n",
       "    <tr>\n",
       "      <th>Re-Inspection</th>\n",
       "      <td>380</td>\n",
       "      <td>13</td>\n",
       "      <td>1</td>\n",
       "      <td>NaN</td>\n",
       "      <td>NaN</td>\n",
       "      <td>NaN</td>\n",
       "      <td>NaN</td>\n",
       "      <td>NaN</td>\n",
       "      <td>NaN</td>\n",
       "    </tr>\n",
       "    <tr>\n",
       "      <th>Risk Control Plan</th>\n",
       "      <td>9</td>\n",
       "      <td>NaN</td>\n",
       "      <td>NaN</td>\n",
       "      <td>NaN</td>\n",
       "      <td>NaN</td>\n",
       "      <td>NaN</td>\n",
       "      <td>NaN</td>\n",
       "      <td>NaN</td>\n",
       "      <td>NaN</td>\n",
       "    </tr>\n",
       "    <tr>\n",
       "      <th>Routine Inspection</th>\n",
       "      <td>7310</td>\n",
       "      <td>3315</td>\n",
       "      <td>1179</td>\n",
       "      <td>387</td>\n",
       "      <td>115</td>\n",
       "      <td>36</td>\n",
       "      <td>10</td>\n",
       "      <td>1</td>\n",
       "      <td>2</td>\n",
       "    </tr>\n",
       "    <tr>\n",
       "      <th>Special Event</th>\n",
       "      <td>14</td>\n",
       "      <td>2</td>\n",
       "      <td>1</td>\n",
       "      <td>NaN</td>\n",
       "      <td>NaN</td>\n",
       "      <td>NaN</td>\n",
       "      <td>NaN</td>\n",
       "      <td>NaN</td>\n",
       "      <td>NaN</td>\n",
       "    </tr>\n",
       "    <tr>\n",
       "      <th>Special Survey</th>\n",
       "      <td>5</td>\n",
       "      <td>NaN</td>\n",
       "      <td>NaN</td>\n",
       "      <td>NaN</td>\n",
       "      <td>NaN</td>\n",
       "      <td>NaN</td>\n",
       "      <td>NaN</td>\n",
       "      <td>NaN</td>\n",
       "      <td>NaN</td>\n",
       "    </tr>\n",
       "    <tr>\n",
       "      <th>Verification Visit</th>\n",
       "      <td>193</td>\n",
       "      <td>21</td>\n",
       "      <td>4</td>\n",
       "      <td>NaN</td>\n",
       "      <td>NaN</td>\n",
       "      <td>NaN</td>\n",
       "      <td>NaN</td>\n",
       "      <td>NaN</td>\n",
       "      <td>NaN</td>\n",
       "    </tr>\n",
       "  </tbody>\n",
       "</table>\n",
       "</div>"
      ],
      "text/plain": [
       "sum_priority             0     1     2    3    4   5   6   7   10\n",
       "purpose                                                          \n",
       "Advisory                325     1   NaN  NaN  NaN NaN NaN NaN NaN\n",
       "Close Out                 2   NaN   NaN  NaN  NaN NaN NaN NaN NaN\n",
       "Complaint Inspection    168   117    48   14    9   2   1   2 NaN\n",
       "Complaint Response      140     2   NaN  NaN  NaN NaN NaN NaN NaN\n",
       "Construction             22   NaN   NaN  NaN  NaN NaN NaN NaN NaN\n",
       "ERI EPI Investigation     8   NaN   NaN  NaN  NaN NaN NaN NaN NaN\n",
       "ERI FBI Investigation     9   NaN   NaN  NaN  NaN NaN NaN NaN NaN\n",
       "Equipment                 1   NaN   NaN  NaN  NaN NaN NaN NaN NaN\n",
       "Final Construction        7   NaN   NaN  NaN  NaN NaN NaN NaN NaN\n",
       "Immediate Suspension     14     6     1  NaN  NaN NaN NaN NaN NaN\n",
       "Ineffective Visit       119   NaN   NaN  NaN  NaN NaN NaN NaN NaN\n",
       "OC Inspection           229   NaN   NaN  NaN  NaN NaN NaN NaN NaN\n",
       "OC Re-Inspection        111   NaN   NaN  NaN  NaN NaN NaN NaN NaN\n",
       "Plumbing                  6   NaN   NaN  NaN  NaN NaN NaN NaN NaN\n",
       "Re-Inspection           380    13     1  NaN  NaN NaN NaN NaN NaN\n",
       "Risk Control Plan         9   NaN   NaN  NaN  NaN NaN NaN NaN NaN\n",
       "Routine Inspection     7310  3315  1179  387  115  36  10   1   2\n",
       "Special Event            14     2     1  NaN  NaN NaN NaN NaN NaN\n",
       "Special Survey            5   NaN   NaN  NaN  NaN NaN NaN NaN NaN\n",
       "Verification Visit      193    21     4  NaN  NaN NaN NaN NaN NaN"
      ]
     },
     "execution_count": 85,
     "metadata": {},
     "output_type": "execute_result"
    }
   ],
   "source": [
    "df_train.pivot_table(index='purpose',columns='sum_priority', aggfunc='count', values='date')\n",
    "\n"
   ]
  },
  {
   "cell_type": "code",
   "execution_count": 96,
   "metadata": {
    "collapsed": false
   },
   "outputs": [],
   "source": [
    "df_train['insp_len'] = (pd.to_datetime(df_train.date) - df_train.date_start).apply(lambda x: x/np.timedelta64(1, 'D'))"
   ]
  },
  {
   "cell_type": "code",
   "execution_count": 100,
   "metadata": {
    "collapsed": false
   },
   "outputs": [
    {
     "data": {
      "text/plain": [
       "<matplotlib.axes._subplots.AxesSubplot at 0x143ca6950>"
      ]
     },
     "execution_count": 100,
     "metadata": {},
     "output_type": "execute_result"
    },
    {
     "data": {
      "image/png": "[encoded data removed]",
      "text/plain": [
       "<matplotlib.figure.Figure at 0x15165b7d0>"
      ]
     },
     "metadata": {},
     "output_type": "display_data"
    }
   ],
   "source": [
    "df_train.query('insp_len <60')['insp_len'].hist()"
   ]
  },
  {
   "cell_type": "code",
   "execution_count": 101,
   "metadata": {
    "collapsed": false
   },
   "outputs": [
    {
     "data": {
      "text/html": [
       "<div>\n",
       "<table border=\"1\" class=\"dataframe\">\n",
       "  <thead>\n",
       "    <tr style=\"text-align: right;\">\n",
       "      <th>sum_priority</th>\n",
       "      <th>0</th>\n",
       "      <th>1</th>\n",
       "      <th>2</th>\n",
       "      <th>3</th>\n",
       "      <th>4</th>\n",
       "      <th>5</th>\n",
       "      <th>6</th>\n",
       "      <th>7</th>\n",
       "    </tr>\n",
       "    <tr>\n",
       "      <th>purpose</th>\n",
       "      <th></th>\n",
       "      <th></th>\n",
       "      <th></th>\n",
       "      <th></th>\n",
       "      <th></th>\n",
       "      <th></th>\n",
       "      <th></th>\n",
       "      <th></th>\n",
       "    </tr>\n",
       "  </thead>\n",
       "  <tbody>\n",
       "    <tr>\n",
       "      <th>Advisory</th>\n",
       "      <td>245</td>\n",
       "      <td>NaN</td>\n",
       "      <td>NaN</td>\n",
       "      <td>NaN</td>\n",
       "      <td>NaN</td>\n",
       "      <td>NaN</td>\n",
       "      <td>NaN</td>\n",
       "      <td>NaN</td>\n",
       "    </tr>\n",
       "    <tr>\n",
       "      <th>Complaint Inspection</th>\n",
       "      <td>42</td>\n",
       "      <td>31</td>\n",
       "      <td>16</td>\n",
       "      <td>3</td>\n",
       "      <td>3</td>\n",
       "      <td>1</td>\n",
       "      <td>NaN</td>\n",
       "      <td>2</td>\n",
       "    </tr>\n",
       "    <tr>\n",
       "      <th>Complaint Response</th>\n",
       "      <td>98</td>\n",
       "      <td>2</td>\n",
       "      <td>NaN</td>\n",
       "      <td>NaN</td>\n",
       "      <td>NaN</td>\n",
       "      <td>NaN</td>\n",
       "      <td>NaN</td>\n",
       "      <td>NaN</td>\n",
       "    </tr>\n",
       "    <tr>\n",
       "      <th>Construction</th>\n",
       "      <td>16</td>\n",
       "      <td>NaN</td>\n",
       "      <td>NaN</td>\n",
       "      <td>NaN</td>\n",
       "      <td>NaN</td>\n",
       "      <td>NaN</td>\n",
       "      <td>NaN</td>\n",
       "      <td>NaN</td>\n",
       "    </tr>\n",
       "    <tr>\n",
       "      <th>ERI EPI Investigation</th>\n",
       "      <td>3</td>\n",
       "      <td>NaN</td>\n",
       "      <td>NaN</td>\n",
       "      <td>NaN</td>\n",
       "      <td>NaN</td>\n",
       "      <td>NaN</td>\n",
       "      <td>NaN</td>\n",
       "      <td>NaN</td>\n",
       "    </tr>\n",
       "    <tr>\n",
       "      <th>ERI FBI Investigation</th>\n",
       "      <td>5</td>\n",
       "      <td>NaN</td>\n",
       "      <td>NaN</td>\n",
       "      <td>NaN</td>\n",
       "      <td>NaN</td>\n",
       "      <td>NaN</td>\n",
       "      <td>NaN</td>\n",
       "      <td>NaN</td>\n",
       "    </tr>\n",
       "    <tr>\n",
       "      <th>Equipment</th>\n",
       "      <td>1</td>\n",
       "      <td>NaN</td>\n",
       "      <td>NaN</td>\n",
       "      <td>NaN</td>\n",
       "      <td>NaN</td>\n",
       "      <td>NaN</td>\n",
       "      <td>NaN</td>\n",
       "      <td>NaN</td>\n",
       "    </tr>\n",
       "    <tr>\n",
       "      <th>Final Construction</th>\n",
       "      <td>7</td>\n",
       "      <td>NaN</td>\n",
       "      <td>NaN</td>\n",
       "      <td>NaN</td>\n",
       "      <td>NaN</td>\n",
       "      <td>NaN</td>\n",
       "      <td>NaN</td>\n",
       "      <td>NaN</td>\n",
       "    </tr>\n",
       "    <tr>\n",
       "      <th>Immediate Suspension</th>\n",
       "      <td>4</td>\n",
       "      <td>1</td>\n",
       "      <td>NaN</td>\n",
       "      <td>NaN</td>\n",
       "      <td>NaN</td>\n",
       "      <td>NaN</td>\n",
       "      <td>NaN</td>\n",
       "      <td>NaN</td>\n",
       "    </tr>\n",
       "    <tr>\n",
       "      <th>Ineffective Visit</th>\n",
       "      <td>18</td>\n",
       "      <td>NaN</td>\n",
       "      <td>NaN</td>\n",
       "      <td>NaN</td>\n",
       "      <td>NaN</td>\n",
       "      <td>NaN</td>\n",
       "      <td>NaN</td>\n",
       "      <td>NaN</td>\n",
       "    </tr>\n",
       "    <tr>\n",
       "      <th>OC Re-Inspection</th>\n",
       "      <td>95</td>\n",
       "      <td>NaN</td>\n",
       "      <td>NaN</td>\n",
       "      <td>NaN</td>\n",
       "      <td>NaN</td>\n",
       "      <td>NaN</td>\n",
       "      <td>NaN</td>\n",
       "      <td>NaN</td>\n",
       "    </tr>\n",
       "    <tr>\n",
       "      <th>Plumbing</th>\n",
       "      <td>1</td>\n",
       "      <td>NaN</td>\n",
       "      <td>NaN</td>\n",
       "      <td>NaN</td>\n",
       "      <td>NaN</td>\n",
       "      <td>NaN</td>\n",
       "      <td>NaN</td>\n",
       "      <td>NaN</td>\n",
       "    </tr>\n",
       "    <tr>\n",
       "      <th>Re-Inspection</th>\n",
       "      <td>366</td>\n",
       "      <td>13</td>\n",
       "      <td>1</td>\n",
       "      <td>NaN</td>\n",
       "      <td>NaN</td>\n",
       "      <td>NaN</td>\n",
       "      <td>NaN</td>\n",
       "      <td>NaN</td>\n",
       "    </tr>\n",
       "    <tr>\n",
       "      <th>Risk Control Plan</th>\n",
       "      <td>7</td>\n",
       "      <td>NaN</td>\n",
       "      <td>NaN</td>\n",
       "      <td>NaN</td>\n",
       "      <td>NaN</td>\n",
       "      <td>NaN</td>\n",
       "      <td>NaN</td>\n",
       "      <td>NaN</td>\n",
       "    </tr>\n",
       "    <tr>\n",
       "      <th>Routine Inspection</th>\n",
       "      <td>409</td>\n",
       "      <td>230</td>\n",
       "      <td>102</td>\n",
       "      <td>39</td>\n",
       "      <td>8</td>\n",
       "      <td>6</td>\n",
       "      <td>1</td>\n",
       "      <td>NaN</td>\n",
       "    </tr>\n",
       "    <tr>\n",
       "      <th>Special Event</th>\n",
       "      <td>10</td>\n",
       "      <td>2</td>\n",
       "      <td>1</td>\n",
       "      <td>NaN</td>\n",
       "      <td>NaN</td>\n",
       "      <td>NaN</td>\n",
       "      <td>NaN</td>\n",
       "      <td>NaN</td>\n",
       "    </tr>\n",
       "    <tr>\n",
       "      <th>Special Survey</th>\n",
       "      <td>1</td>\n",
       "      <td>NaN</td>\n",
       "      <td>NaN</td>\n",
       "      <td>NaN</td>\n",
       "      <td>NaN</td>\n",
       "      <td>NaN</td>\n",
       "      <td>NaN</td>\n",
       "      <td>NaN</td>\n",
       "    </tr>\n",
       "    <tr>\n",
       "      <th>Verification Visit</th>\n",
       "      <td>20</td>\n",
       "      <td>1</td>\n",
       "      <td>NaN</td>\n",
       "      <td>NaN</td>\n",
       "      <td>NaN</td>\n",
       "      <td>NaN</td>\n",
       "      <td>NaN</td>\n",
       "      <td>NaN</td>\n",
       "    </tr>\n",
       "  </tbody>\n",
       "</table>\n",
       "</div>"
      ],
      "text/plain": [
       "sum_priority             0    1    2   3   4   5   6   7\n",
       "purpose                                                 \n",
       "Advisory               245  NaN  NaN NaN NaN NaN NaN NaN\n",
       "Complaint Inspection    42   31   16   3   3   1 NaN   2\n",
       "Complaint Response      98    2  NaN NaN NaN NaN NaN NaN\n",
       "Construction            16  NaN  NaN NaN NaN NaN NaN NaN\n",
       "ERI EPI Investigation    3  NaN  NaN NaN NaN NaN NaN NaN\n",
       "ERI FBI Investigation    5  NaN  NaN NaN NaN NaN NaN NaN\n",
       "Equipment                1  NaN  NaN NaN NaN NaN NaN NaN\n",
       "Final Construction       7  NaN  NaN NaN NaN NaN NaN NaN\n",
       "Immediate Suspension     4    1  NaN NaN NaN NaN NaN NaN\n",
       "Ineffective Visit       18  NaN  NaN NaN NaN NaN NaN NaN\n",
       "OC Re-Inspection        95  NaN  NaN NaN NaN NaN NaN NaN\n",
       "Plumbing                 1  NaN  NaN NaN NaN NaN NaN NaN\n",
       "Re-Inspection          366   13    1 NaN NaN NaN NaN NaN\n",
       "Risk Control Plan        7  NaN  NaN NaN NaN NaN NaN NaN\n",
       "Routine Inspection     409  230  102  39   8   6   1 NaN\n",
       "Special Event           10    2    1 NaN NaN NaN NaN NaN\n",
       "Special Survey           1  NaN  NaN NaN NaN NaN NaN NaN\n",
       "Verification Visit      20    1  NaN NaN NaN NaN NaN NaN"
      ]
     },
     "execution_count": 101,
     "metadata": {},
     "output_type": "execute_result"
    }
   ],
   "source": [
    "df_train.query('insp_len <60').pivot_table(index='purpose',columns='sum_priority', aggfunc='count', values='date')"
   ]
  },
  {
   "cell_type": "code",
   "execution_count": 108,
   "metadata": {
    "collapsed": false
   },
   "outputs": [
    {
     "data": {
      "text/plain": [
       "<matplotlib.axes._subplots.AxesSubplot at 0x1475dc290>"
      ]
     },
     "execution_count": 108,
     "metadata": {},
     "output_type": "execute_result"
    },
    {
     "data": {
      "image/png": "[encoded data removed]",
      "text/plain": [
       "<matplotlib.figure.Figure at 0x15bbd44d0>"
      ]
     },
     "metadata": {},
     "output_type": "display_data"
    }
   ],
   "source": [
    "df_AZ_routine['insp_len'] = (pd.to_datetime(df_AZ_routine.date) - df_AZ_routine.date_start)\\\n",
    "                        .apply(lambda x: x/np.timedelta64(1, 'D'))\n",
    "df_AZ_routine.query('insp_len <60')['insp_len'].hist()\n",
    "#df_AZ_routine['insp_len'].hist()"
   ]
  },
  {
   "cell_type": "code",
   "execution_count": 1,
   "metadata": {
    "collapsed": true
   },
   "outputs": [],
   "source": [
    "vocabulary = ['A','B','C','D','E','F','G','H','I','J','K','L','M','N','O','P','Q','R','S','T','U','V','W','X','Y','Z']\n",
    "A = ['E','P','V','Z']"
   ]
  },
  {
   "cell_type": "code",
   "execution_count": 7,
   "metadata": {
    "collapsed": false
   },
   "outputs": [
    {
     "name": "stdout",
     "output_type": "stream",
     "text": [
      "CPU times: user 32 µs, sys: 21 µs, total: 53 µs\n",
      "Wall time: 58.9 µs\n"
     ]
    },
    {
     "data": {
      "text/plain": [
       "[4, 15, 21, 25]"
      ]
     },
     "execution_count": 7,
     "metadata": {},
     "output_type": "execute_result"
    }
   ],
   "source": [
    "%%time \n",
    "[i for i, w in enumerate(vocabulary) if w in A]"
   ]
  },
  {
   "cell_type": "code",
   "execution_count": 8,
   "metadata": {
    "collapsed": false
   },
   "outputs": [
    {
     "name": "stdout",
     "output_type": "stream",
     "text": [
      "CPU times: user 17 µs, sys: 1 µs, total: 18 µs\n",
      "Wall time: 22.9 µs\n"
     ]
    },
    {
     "data": {
      "text/plain": [
       "[4, 15, 21, 25]"
      ]
     },
     "execution_count": 8,
     "metadata": {},
     "output_type": "execute_result"
    }
   ],
   "source": [
    "%%time \n",
    "[vocabulary.index(w) for w in A]"
   ]
  },
  {
   "cell_type": "code",
   "execution_count": 9,
   "metadata": {
    "collapsed": true
   },
   "outputs": [],
   "source": [
    "import numpy as np"
   ]
  },
  {
   "cell_type": "code",
   "execution_count": 14,
   "metadata": {
    "collapsed": false
   },
   "outputs": [
    {
     "name": "stdout",
     "output_type": "stream",
     "text": [
      "[[ 0  1  2  3  4]\n",
      " [ 5  6  7  8  9]\n",
      " [10 11 12 13 14]\n",
      " [15 16 17 18 19]\n",
      " [20 21 22 23 24]]\n",
      "[50 55 60 65 70]\n",
      "[ 10  35  60  85 110]\n"
     ]
    }
   ],
   "source": [
    "test = np.arange(25).reshape((5,5))\n",
    "print test\n",
    "print test.sum(axis=0)\n",
    "print test.sum(axis=1)"
   ]
  },
  {
   "cell_type": "code",
   "execution_count": 16,
   "metadata": {
    "collapsed": false
   },
   "outputs": [
    {
     "data": {
      "text/plain": [
       "array([ 4,  9, 14, 19, 24])"
      ]
     },
     "execution_count": 16,
     "metadata": {},
     "output_type": "execute_result"
    }
   ],
   "source": [
    "np.max(test, axis=1)"
   ]
  },
  {
   "cell_type": "code",
   "execution_count": 17,
   "metadata": {
    "collapsed": true
   },
   "outputs": [],
   "source": [
    "import yelp_tfidf as lib_tf"
   ]
  },
  {
   "cell_type": "code",
   "execution_count": 28,
   "metadata": {
    "collapsed": true
   },
   "outputs": [],
   "source": [
    "tf = np.random.choice([0,1],(1000,50000))\n",
    "a = np.random.choice([0,1],(1000,7))"
   ]
  },
  {
   "cell_type": "code",
   "execution_count": 30,
   "metadata": {
    "collapsed": false
   },
   "outputs": [
    {
     "name": "stdout",
     "output_type": "stream",
     "text": [
      "CPU times: user 59.9 s, sys: 1.17 s, total: 1min 1s\n",
      "Wall time: 1min 8s\n"
     ]
    }
   ],
   "source": [
    "%%time\n",
    "x = lib_tf.chi_square(tf, a)"
   ]
  },
  {
   "cell_type": "code",
   "execution_count": 29,
   "metadata": {
    "collapsed": false
   },
   "outputs": [
    {
     "name": "stdout",
     "output_type": "stream",
     "text": [
      "CPU times: user 19 s, sys: 1.51 s, total: 20.5 s\n",
      "Wall time: 21.7 s\n"
     ]
    }
   ],
   "source": [
    "%%time\n",
    "x2 = lib_tf.chi_square2(tf, a)"
   ]
  },
  {
   "cell_type": "code",
   "execution_count": 31,
   "metadata": {
    "collapsed": false
   },
   "outputs": [
    {
     "data": {
      "text/plain": [
       "3"
      ]
     },
     "execution_count": 31,
     "metadata": {},
     "output_type": "execute_result"
    }
   ],
   "source": [
    "68/21"
   ]
  },
  {
   "cell_type": "code",
   "execution_count": 32,
   "metadata": {
    "collapsed": false
   },
   "outputs": [
    {
     "data": {
      "text/plain": [
       "array([[267, 246, 230, ..., 234, 251, 250],\n",
       "       [262, 246, 226, ..., 243, 256, 259],\n",
       "       [269, 239, 214, ..., 257, 246, 248],\n",
       "       ..., \n",
       "       [272, 243, 224, ..., 259, 267, 276],\n",
       "       [268, 242, 232, ..., 231, 245, 250],\n",
       "       [289, 253, 233, ..., 252, 270, 256]])"
      ]
     },
     "execution_count": 32,
     "metadata": {},
     "output_type": "execute_result"
    }
   ],
   "source": [
    "tf.T.dot(a)"
   ]
  },
  {
   "cell_type": "code",
   "execution_count": null,
   "metadata": {
    "collapsed": true
   },
   "outputs": [],
   "source": []
  }
 ],
 "metadata": {
  "kernelspec": {
   "display_name": "Python 2",
   "language": "python",
   "name": "python2"
  },
  "language_info": {
   "codemirror_mode": {
    "name": "ipython",
    "version": 2
   },
   "file_extension": ".py",
   "mimetype": "text/x-python",
   "name": "python",
   "nbconvert_exporter": "python",
   "pygments_lexer": "ipython2",
   "version": "2.7.10"
  }
 },
 "nbformat": 4,
 "nbformat_minor": 0
}
