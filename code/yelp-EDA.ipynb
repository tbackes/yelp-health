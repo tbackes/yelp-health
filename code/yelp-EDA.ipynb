{
 "cells": [
  {
   "cell_type": "code",
   "execution_count": 68,
   "metadata": {
    "collapsed": false
   },
   "outputs": [],
   "source": [
    "import pandas as pd\n",
    "import numpy as np\n",
    "import matplotlib.pyplot as plt\n",
    "import json\n",
    "import pickle\n",
    "import re\n",
    "import string\n",
    "from fuzzywuzzy import fuzz\n",
    "from merge_charlotte import parse_address, fuzz_comparisons, append_fuzz_scores\n",
    "import merge_charlotte as lib\n",
    "\n",
    "%matplotlib inline\n",
    "pd.options.mode.chained_assignment = None  # default='warn'"
   ]
  },
  {
   "cell_type": "code",
   "execution_count": 2,
   "metadata": {
    "collapsed": true
   },
   "outputs": [],
   "source": [
    "fname_business = '../data/yelp/yelp_dataset_challenge_academic_dataset/yelp_academic_dataset_business.json'"
   ]
  },
  {
   "cell_type": "code",
   "execution_count": 3,
   "metadata": {
    "collapsed": true
   },
   "outputs": [],
   "source": [
    "with open(fname_business) as f:\n",
    "    B = pd.DataFrame(json.loads(line) for line in f)"
   ]
  },
  {
   "cell_type": "code",
   "execution_count": 4,
   "metadata": {
    "collapsed": true
   },
   "outputs": [
    {
     "data": {
      "text/html": [
       "<div>\n",
       "<table border=\"1\" class=\"dataframe\">\n",
       "  <thead>\n",
       "    <tr style=\"text-align: right;\">\n",
       "      <th></th>\n",
       "      <th>latitude</th>\n",
       "      <th>longitude</th>\n",
       "      <th>open</th>\n",
       "      <th>review_count</th>\n",
       "      <th>stars</th>\n",
       "    </tr>\n",
       "  </thead>\n",
       "  <tbody>\n",
       "    <tr>\n",
       "      <th>count</th>\n",
       "      <td>61184.000000</td>\n",
       "      <td>61184.000000</td>\n",
       "      <td>61184</td>\n",
       "      <td>61184.000000</td>\n",
       "      <td>61184.000000</td>\n",
       "    </tr>\n",
       "    <tr>\n",
       "      <th>mean</th>\n",
       "      <td>37.326077</td>\n",
       "      <td>-97.491803</td>\n",
       "      <td>0.878089</td>\n",
       "      <td>28.272506</td>\n",
       "      <td>3.673305</td>\n",
       "    </tr>\n",
       "    <tr>\n",
       "      <th>std</th>\n",
       "      <td>5.741085</td>\n",
       "      <td>29.624473</td>\n",
       "      <td>0.327186</td>\n",
       "      <td>88.652050</td>\n",
       "      <td>0.891207</td>\n",
       "    </tr>\n",
       "    <tr>\n",
       "      <th>min</th>\n",
       "      <td>32.871923</td>\n",
       "      <td>-115.386550</td>\n",
       "      <td>False</td>\n",
       "      <td>3.000000</td>\n",
       "      <td>1.000000</td>\n",
       "    </tr>\n",
       "    <tr>\n",
       "      <th>25%</th>\n",
       "      <td>33.509601</td>\n",
       "      <td>-115.052224</td>\n",
       "      <td>1</td>\n",
       "      <td>4.000000</td>\n",
       "      <td>3.000000</td>\n",
       "    </tr>\n",
       "    <tr>\n",
       "      <th>50%</th>\n",
       "      <td>35.994636</td>\n",
       "      <td>-111.932944</td>\n",
       "      <td>1</td>\n",
       "      <td>8.000000</td>\n",
       "      <td>3.500000</td>\n",
       "    </tr>\n",
       "    <tr>\n",
       "      <th>75%</th>\n",
       "      <td>36.240430</td>\n",
       "      <td>-80.863329</td>\n",
       "      <td>1</td>\n",
       "      <td>21.000000</td>\n",
       "      <td>4.500000</td>\n",
       "    </tr>\n",
       "    <tr>\n",
       "      <th>max</th>\n",
       "      <td>56.036545</td>\n",
       "      <td>8.549249</td>\n",
       "      <td>True</td>\n",
       "      <td>4578.000000</td>\n",
       "      <td>5.000000</td>\n",
       "    </tr>\n",
       "  </tbody>\n",
       "</table>\n",
       "</div>"
      ],
      "text/plain": [
       "           latitude     longitude      open  review_count         stars\n",
       "count  61184.000000  61184.000000     61184  61184.000000  61184.000000\n",
       "mean      37.326077    -97.491803  0.878089     28.272506      3.673305\n",
       "std        5.741085     29.624473  0.327186     88.652050      0.891207\n",
       "min       32.871923   -115.386550     False      3.000000      1.000000\n",
       "25%       33.509601   -115.052224         1      4.000000      3.000000\n",
       "50%       35.994636   -111.932944         1      8.000000      3.500000\n",
       "75%       36.240430    -80.863329         1     21.000000      4.500000\n",
       "max       56.036545      8.549249      True   4578.000000      5.000000"
      ]
     },
     "execution_count": 4,
     "metadata": {},
     "output_type": "execute_result"
    }
   ],
   "source": [
    "B.describe()"
   ]
  },
  {
   "cell_type": "code",
   "execution_count": 5,
   "metadata": {
    "collapsed": true
   },
   "outputs": [
    {
     "name": "stdout",
     "output_type": "stream",
     "text": [
      "<class 'pandas.core.frame.DataFrame'>\n",
      "Int64Index: 61184 entries, 0 to 61183\n",
      "Data columns (total 15 columns):\n",
      "attributes       61184 non-null object\n",
      "business_id      61184 non-null object\n",
      "categories       61184 non-null object\n",
      "city             61184 non-null object\n",
      "full_address     61184 non-null object\n",
      "hours            61184 non-null object\n",
      "latitude         61184 non-null float64\n",
      "longitude        61184 non-null float64\n",
      "name             61184 non-null object\n",
      "neighborhoods    61184 non-null object\n",
      "open             61184 non-null bool\n",
      "review_count     61184 non-null int64\n",
      "stars            61184 non-null float64\n",
      "state            61184 non-null object\n",
      "type             61184 non-null object\n",
      "dtypes: bool(1), float64(3), int64(1), object(10)\n",
      "memory usage: 7.1+ MB\n"
     ]
    }
   ],
   "source": [
    "B.info()"
   ]
  },
  {
   "cell_type": "code",
   "execution_count": 6,
   "metadata": {
    "collapsed": true
   },
   "outputs": [
    {
     "data": {
      "text/html": [
       "<div>\n",
       "<table border=\"1\" class=\"dataframe\">\n",
       "  <thead>\n",
       "    <tr style=\"text-align: right;\">\n",
       "      <th></th>\n",
       "      <th>0</th>\n",
       "      <th>1</th>\n",
       "      <th>2</th>\n",
       "      <th>3</th>\n",
       "      <th>4</th>\n",
       "    </tr>\n",
       "  </thead>\n",
       "  <tbody>\n",
       "    <tr>\n",
       "      <th>attributes</th>\n",
       "      <td>{u'By Appointment Only': True}</td>\n",
       "      <td>{u'Happy Hour': True, u'Accepts Credit Cards':...</td>\n",
       "      <td>{u'Good for Kids': True}</td>\n",
       "      <td>{}</td>\n",
       "      <td>{u'Alcohol': u'full_bar', u'Noise Level': u'av...</td>\n",
       "    </tr>\n",
       "    <tr>\n",
       "      <th>business_id</th>\n",
       "      <td>vcNAWiLM4dR7D2nwwJ7nCA</td>\n",
       "      <td>UsFtqoBl7naz8AVUBZMjQQ</td>\n",
       "      <td>cE27W9VPgO88Qxe4ol6y_g</td>\n",
       "      <td>HZdLhv6COCleJMo7nPl-RA</td>\n",
       "      <td>mVHrayjG3uZ_RLHkLj-AMg</td>\n",
       "    </tr>\n",
       "    <tr>\n",
       "      <th>categories</th>\n",
       "      <td>[Doctors, Health &amp; Medical]</td>\n",
       "      <td>[Nightlife]</td>\n",
       "      <td>[Active Life, Mini Golf, Golf]</td>\n",
       "      <td>[Shopping, Home Services, Internet Service Pro...</td>\n",
       "      <td>[Bars, American (New), Nightlife, Lounges, Res...</td>\n",
       "    </tr>\n",
       "    <tr>\n",
       "      <th>city</th>\n",
       "      <td>Phoenix</td>\n",
       "      <td>Dravosburg</td>\n",
       "      <td>Bethel Park</td>\n",
       "      <td>Pittsburgh</td>\n",
       "      <td>Braddock</td>\n",
       "    </tr>\n",
       "    <tr>\n",
       "      <th>full_address</th>\n",
       "      <td>4840 E Indian School Rd\\nSte 101\\nPhoenix, AZ ...</td>\n",
       "      <td>202 McClure St\\nDravosburg, PA 15034</td>\n",
       "      <td>1530 Hamilton Rd\\nBethel Park, PA 15234</td>\n",
       "      <td>301 S Hills Vlg\\nPittsburgh, PA 15241</td>\n",
       "      <td>414 Hawkins Ave\\nBraddock, PA 15104</td>\n",
       "    </tr>\n",
       "    <tr>\n",
       "      <th>hours</th>\n",
       "      <td>{u'Thursday': {u'close': u'17:00', u'open': u'...</td>\n",
       "      <td>{}</td>\n",
       "      <td>{}</td>\n",
       "      <td>{u'Monday': {u'close': u'21:00', u'open': u'10...</td>\n",
       "      <td>{u'Tuesday': {u'close': u'19:00', u'open': u'1...</td>\n",
       "    </tr>\n",
       "    <tr>\n",
       "      <th>latitude</th>\n",
       "      <td>33.4993</td>\n",
       "      <td>40.3505</td>\n",
       "      <td>40.3569</td>\n",
       "      <td>40.3576</td>\n",
       "      <td>40.4087</td>\n",
       "    </tr>\n",
       "    <tr>\n",
       "      <th>longitude</th>\n",
       "      <td>-111.984</td>\n",
       "      <td>-79.8869</td>\n",
       "      <td>-80.0159</td>\n",
       "      <td>-80.06</td>\n",
       "      <td>-79.8664</td>\n",
       "    </tr>\n",
       "    <tr>\n",
       "      <th>name</th>\n",
       "      <td>Eric Goldberg, MD</td>\n",
       "      <td>Clancy's Pub</td>\n",
       "      <td>Cool Springs Golf Center</td>\n",
       "      <td>Verizon Wireless</td>\n",
       "      <td>Emil's Lounge</td>\n",
       "    </tr>\n",
       "    <tr>\n",
       "      <th>neighborhoods</th>\n",
       "      <td>[]</td>\n",
       "      <td>[]</td>\n",
       "      <td>[]</td>\n",
       "      <td>[]</td>\n",
       "      <td>[]</td>\n",
       "    </tr>\n",
       "    <tr>\n",
       "      <th>open</th>\n",
       "      <td>True</td>\n",
       "      <td>True</td>\n",
       "      <td>False</td>\n",
       "      <td>True</td>\n",
       "      <td>True</td>\n",
       "    </tr>\n",
       "    <tr>\n",
       "      <th>review_count</th>\n",
       "      <td>9</td>\n",
       "      <td>4</td>\n",
       "      <td>5</td>\n",
       "      <td>3</td>\n",
       "      <td>11</td>\n",
       "    </tr>\n",
       "    <tr>\n",
       "      <th>stars</th>\n",
       "      <td>3.5</td>\n",
       "      <td>3.5</td>\n",
       "      <td>2.5</td>\n",
       "      <td>3.5</td>\n",
       "      <td>4.5</td>\n",
       "    </tr>\n",
       "    <tr>\n",
       "      <th>state</th>\n",
       "      <td>AZ</td>\n",
       "      <td>PA</td>\n",
       "      <td>PA</td>\n",
       "      <td>PA</td>\n",
       "      <td>PA</td>\n",
       "    </tr>\n",
       "    <tr>\n",
       "      <th>type</th>\n",
       "      <td>business</td>\n",
       "      <td>business</td>\n",
       "      <td>business</td>\n",
       "      <td>business</td>\n",
       "      <td>business</td>\n",
       "    </tr>\n",
       "  </tbody>\n",
       "</table>\n",
       "</div>"
      ],
      "text/plain": [
       "                                                               0  \\\n",
       "attributes                        {u'By Appointment Only': True}   \n",
       "business_id                               vcNAWiLM4dR7D2nwwJ7nCA   \n",
       "categories                           [Doctors, Health & Medical]   \n",
       "city                                                     Phoenix   \n",
       "full_address   4840 E Indian School Rd\\nSte 101\\nPhoenix, AZ ...   \n",
       "hours          {u'Thursday': {u'close': u'17:00', u'open': u'...   \n",
       "latitude                                                 33.4993   \n",
       "longitude                                               -111.984   \n",
       "name                                           Eric Goldberg, MD   \n",
       "neighborhoods                                                 []   \n",
       "open                                                        True   \n",
       "review_count                                                   9   \n",
       "stars                                                        3.5   \n",
       "state                                                         AZ   \n",
       "type                                                    business   \n",
       "\n",
       "                                                               1  \\\n",
       "attributes     {u'Happy Hour': True, u'Accepts Credit Cards':...   \n",
       "business_id                               UsFtqoBl7naz8AVUBZMjQQ   \n",
       "categories                                           [Nightlife]   \n",
       "city                                                  Dravosburg   \n",
       "full_address                202 McClure St\\nDravosburg, PA 15034   \n",
       "hours                                                         {}   \n",
       "latitude                                                 40.3505   \n",
       "longitude                                               -79.8869   \n",
       "name                                                Clancy's Pub   \n",
       "neighborhoods                                                 []   \n",
       "open                                                        True   \n",
       "review_count                                                   4   \n",
       "stars                                                        3.5   \n",
       "state                                                         PA   \n",
       "type                                                    business   \n",
       "\n",
       "                                                     2  \\\n",
       "attributes                    {u'Good for Kids': True}   \n",
       "business_id                     cE27W9VPgO88Qxe4ol6y_g   \n",
       "categories              [Active Life, Mini Golf, Golf]   \n",
       "city                                       Bethel Park   \n",
       "full_address   1530 Hamilton Rd\\nBethel Park, PA 15234   \n",
       "hours                                               {}   \n",
       "latitude                                       40.3569   \n",
       "longitude                                     -80.0159   \n",
       "name                          Cool Springs Golf Center   \n",
       "neighborhoods                                       []   \n",
       "open                                             False   \n",
       "review_count                                         5   \n",
       "stars                                              2.5   \n",
       "state                                               PA   \n",
       "type                                          business   \n",
       "\n",
       "                                                               3  \\\n",
       "attributes                                                    {}   \n",
       "business_id                               HZdLhv6COCleJMo7nPl-RA   \n",
       "categories     [Shopping, Home Services, Internet Service Pro...   \n",
       "city                                                  Pittsburgh   \n",
       "full_address               301 S Hills Vlg\\nPittsburgh, PA 15241   \n",
       "hours          {u'Monday': {u'close': u'21:00', u'open': u'10...   \n",
       "latitude                                                 40.3576   \n",
       "longitude                                                 -80.06   \n",
       "name                                            Verizon Wireless   \n",
       "neighborhoods                                                 []   \n",
       "open                                                        True   \n",
       "review_count                                                   3   \n",
       "stars                                                        3.5   \n",
       "state                                                         PA   \n",
       "type                                                    business   \n",
       "\n",
       "                                                               4  \n",
       "attributes     {u'Alcohol': u'full_bar', u'Noise Level': u'av...  \n",
       "business_id                               mVHrayjG3uZ_RLHkLj-AMg  \n",
       "categories     [Bars, American (New), Nightlife, Lounges, Res...  \n",
       "city                                                    Braddock  \n",
       "full_address                 414 Hawkins Ave\\nBraddock, PA 15104  \n",
       "hours          {u'Tuesday': {u'close': u'19:00', u'open': u'1...  \n",
       "latitude                                                 40.4087  \n",
       "longitude                                               -79.8664  \n",
       "name                                               Emil's Lounge  \n",
       "neighborhoods                                                 []  \n",
       "open                                                        True  \n",
       "review_count                                                  11  \n",
       "stars                                                        4.5  \n",
       "state                                                         PA  \n",
       "type                                                    business  "
      ]
     },
     "execution_count": 6,
     "metadata": {},
     "output_type": "execute_result"
    }
   ],
   "source": [
    "B.head().T"
   ]
  },
  {
   "cell_type": "code",
   "execution_count": 7,
   "metadata": {
    "collapsed": true
   },
   "outputs": [
    {
     "data": {
      "text/plain": [
       "AZ     25230\n",
       "NV     16485\n",
       "NC      4963\n",
       "QC      3921\n",
       "PA      3041\n",
       "EDH     2971\n",
       "WI      2307\n",
       "BW       934\n",
       "IL       627\n",
       "ON       351\n",
       "SC       189\n",
       "MLN      123\n",
       "RP        13\n",
       "ELN       10\n",
       "FIF        4\n",
       "CA         3\n",
       "SCB        3\n",
       "MN         1\n",
       "MA         1\n",
       "KHL        1\n",
       "XGL        1\n",
       "WA         1\n",
       "NW         1\n",
       "OR         1\n",
       "NTH        1\n",
       "HAM        1\n",
       "Name: state, dtype: int64"
      ]
     },
     "execution_count": 7,
     "metadata": {},
     "output_type": "execute_result"
    }
   ],
   "source": [
    "B.state.value_counts()"
   ]
  },
  {
   "cell_type": "code",
   "execution_count": 8,
   "metadata": {
    "collapsed": true
   },
   "outputs": [],
   "source": [
    "B_keep = B[B.state.isin({'AZ','NV','PA','WI','IL','NC'})]"
   ]
  },
  {
   "cell_type": "code",
   "execution_count": 9,
   "metadata": {
    "collapsed": true
   },
   "outputs": [
    {
     "data": {
      "text/html": [
       "<div>\n",
       "<table border=\"1\" class=\"dataframe\">\n",
       "  <thead>\n",
       "    <tr>\n",
       "      <th></th>\n",
       "      <th colspan=\"8\" halign=\"left\">review_count</th>\n",
       "      <th colspan=\"8\" halign=\"left\">stars</th>\n",
       "    </tr>\n",
       "    <tr>\n",
       "      <th></th>\n",
       "      <th>count</th>\n",
       "      <th>mean</th>\n",
       "      <th>std</th>\n",
       "      <th>min</th>\n",
       "      <th>25%</th>\n",
       "      <th>50%</th>\n",
       "      <th>75%</th>\n",
       "      <th>max</th>\n",
       "      <th>count</th>\n",
       "      <th>mean</th>\n",
       "      <th>std</th>\n",
       "      <th>min</th>\n",
       "      <th>25%</th>\n",
       "      <th>50%</th>\n",
       "      <th>75%</th>\n",
       "      <th>max</th>\n",
       "    </tr>\n",
       "    <tr>\n",
       "      <th>state</th>\n",
       "      <th></th>\n",
       "      <th></th>\n",
       "      <th></th>\n",
       "      <th></th>\n",
       "      <th></th>\n",
       "      <th></th>\n",
       "      <th></th>\n",
       "      <th></th>\n",
       "      <th></th>\n",
       "      <th></th>\n",
       "      <th></th>\n",
       "      <th></th>\n",
       "      <th></th>\n",
       "      <th></th>\n",
       "      <th></th>\n",
       "      <th></th>\n",
       "    </tr>\n",
       "  </thead>\n",
       "  <tbody>\n",
       "    <tr>\n",
       "      <th>AZ</th>\n",
       "      <td>25230</td>\n",
       "      <td>25.238962</td>\n",
       "      <td>55.871449</td>\n",
       "      <td>3</td>\n",
       "      <td>4</td>\n",
       "      <td>8</td>\n",
       "      <td>21</td>\n",
       "      <td>1512</td>\n",
       "      <td>25230</td>\n",
       "      <td>3.684503</td>\n",
       "      <td>0.940502</td>\n",
       "      <td>1</td>\n",
       "      <td>3</td>\n",
       "      <td>4.0</td>\n",
       "      <td>4.5</td>\n",
       "      <td>5</td>\n",
       "    </tr>\n",
       "    <tr>\n",
       "      <th>IL</th>\n",
       "      <td>627</td>\n",
       "      <td>20.987241</td>\n",
       "      <td>33.924552</td>\n",
       "      <td>3</td>\n",
       "      <td>5</td>\n",
       "      <td>9</td>\n",
       "      <td>22</td>\n",
       "      <td>450</td>\n",
       "      <td>627</td>\n",
       "      <td>3.569378</td>\n",
       "      <td>0.897042</td>\n",
       "      <td>1</td>\n",
       "      <td>3</td>\n",
       "      <td>3.5</td>\n",
       "      <td>4.0</td>\n",
       "      <td>5</td>\n",
       "    </tr>\n",
       "    <tr>\n",
       "      <th>NC</th>\n",
       "      <td>4963</td>\n",
       "      <td>20.651823</td>\n",
       "      <td>40.028150</td>\n",
       "      <td>3</td>\n",
       "      <td>4</td>\n",
       "      <td>8</td>\n",
       "      <td>19</td>\n",
       "      <td>983</td>\n",
       "      <td>4963</td>\n",
       "      <td>3.588858</td>\n",
       "      <td>0.844681</td>\n",
       "      <td>1</td>\n",
       "      <td>3</td>\n",
       "      <td>3.5</td>\n",
       "      <td>4.0</td>\n",
       "      <td>5</td>\n",
       "    </tr>\n",
       "    <tr>\n",
       "      <th>NV</th>\n",
       "      <td>16485</td>\n",
       "      <td>45.672066</td>\n",
       "      <td>150.342727</td>\n",
       "      <td>3</td>\n",
       "      <td>5</td>\n",
       "      <td>10</td>\n",
       "      <td>29</td>\n",
       "      <td>4578</td>\n",
       "      <td>16485</td>\n",
       "      <td>3.658477</td>\n",
       "      <td>0.908426</td>\n",
       "      <td>1</td>\n",
       "      <td>3</td>\n",
       "      <td>3.5</td>\n",
       "      <td>4.5</td>\n",
       "      <td>5</td>\n",
       "    </tr>\n",
       "    <tr>\n",
       "      <th>PA</th>\n",
       "      <td>3041</td>\n",
       "      <td>23.810917</td>\n",
       "      <td>43.332042</td>\n",
       "      <td>3</td>\n",
       "      <td>4</td>\n",
       "      <td>9</td>\n",
       "      <td>24</td>\n",
       "      <td>695</td>\n",
       "      <td>3041</td>\n",
       "      <td>3.682999</td>\n",
       "      <td>0.829634</td>\n",
       "      <td>1</td>\n",
       "      <td>3</td>\n",
       "      <td>3.5</td>\n",
       "      <td>4.5</td>\n",
       "      <td>5</td>\n",
       "    </tr>\n",
       "    <tr>\n",
       "      <th>WI</th>\n",
       "      <td>2307</td>\n",
       "      <td>20.669267</td>\n",
       "      <td>37.064819</td>\n",
       "      <td>3</td>\n",
       "      <td>4</td>\n",
       "      <td>8</td>\n",
       "      <td>20</td>\n",
       "      <td>723</td>\n",
       "      <td>2307</td>\n",
       "      <td>3.643693</td>\n",
       "      <td>0.857121</td>\n",
       "      <td>1</td>\n",
       "      <td>3</td>\n",
       "      <td>3.5</td>\n",
       "      <td>4.5</td>\n",
       "      <td>5</td>\n",
       "    </tr>\n",
       "  </tbody>\n",
       "</table>\n",
       "</div>"
      ],
      "text/plain": [
       "      review_count                                               stars  \\\n",
       "             count       mean         std min 25% 50% 75%   max  count   \n",
       "state                                                                    \n",
       "AZ           25230  25.238962   55.871449   3   4   8  21  1512  25230   \n",
       "IL             627  20.987241   33.924552   3   5   9  22   450    627   \n",
       "NC            4963  20.651823   40.028150   3   4   8  19   983   4963   \n",
       "NV           16485  45.672066  150.342727   3   5  10  29  4578  16485   \n",
       "PA            3041  23.810917   43.332042   3   4   9  24   695   3041   \n",
       "WI            2307  20.669267   37.064819   3   4   8  20   723   2307   \n",
       "\n",
       "                                                 \n",
       "           mean       std min 25%  50%  75% max  \n",
       "state                                            \n",
       "AZ     3.684503  0.940502   1   3  4.0  4.5   5  \n",
       "IL     3.569378  0.897042   1   3  3.5  4.0   5  \n",
       "NC     3.588858  0.844681   1   3  3.5  4.0   5  \n",
       "NV     3.658477  0.908426   1   3  3.5  4.5   5  \n",
       "PA     3.682999  0.829634   1   3  3.5  4.5   5  \n",
       "WI     3.643693  0.857121   1   3  3.5  4.5   5  "
      ]
     },
     "execution_count": 9,
     "metadata": {},
     "output_type": "execute_result"
    }
   ],
   "source": [
    "B_keep.groupby('state').describe()[['review_count', 'stars']].unstack(-1)"
   ]
  },
  {
   "cell_type": "code",
   "execution_count": 10,
   "metadata": {
    "collapsed": false
   },
   "outputs": [
    {
     "data": {
      "text/plain": [
       "business    52653\n",
       "Name: type, dtype: int64"
      ]
     },
     "execution_count": 10,
     "metadata": {},
     "output_type": "execute_result"
    }
   ],
   "source": [
    "B_keep['type'].value_counts()"
   ]
  },
  {
   "cell_type": "markdown",
   "metadata": {},
   "source": [
    "# Merge with Health Inspections"
   ]
  },
  {
   "cell_type": "code",
   "execution_count": 4,
   "metadata": {
    "collapsed": true
   },
   "outputs": [],
   "source": [
    "def save_to_pickle(data, fname):\n",
    "    with open(fname, 'wb') as handle:\n",
    "        pickle.dump(data, handle)\n",
    "\n",
    "\n",
    "def open_pickle(f_name):\n",
    "    with open(f_name, 'rb') as f:\n",
    "        data = pickle.load(f)\n",
    "    return data"
   ]
  },
  {
   "cell_type": "markdown",
   "metadata": {},
   "source": [
    "### Phoenix, AZ"
   ]
  },
  {
   "cell_type": "code",
   "execution_count": 626,
   "metadata": {
    "collapsed": true
   },
   "outputs": [],
   "source": [
    "test_AZ = open_pickle('../data/phx/phoenix_yelp_merge.pkl')"
   ]
  },
  {
   "cell_type": "code",
   "execution_count": 627,
   "metadata": {
    "collapsed": true
   },
   "outputs": [
    {
     "name": "stdout",
     "output_type": "stream",
     "text": [
      "<class 'pandas.core.frame.DataFrame'>\n",
      "Index: 3984 entries, (1130 the restaurant, 455, north 3rd st, phoenix, 85004) to (9990, north 90th st, scottsdale, 85258)\n",
      "Data columns (total 43 columns):\n",
      "address                    3984 non-null object\n",
      "addressy_                  3984 non-null object\n",
      "attributes                 3984 non-null object\n",
      "avg_2                      2250 non-null float64\n",
      "avg_w_2                    2250 non-null float64\n",
      "business_id                3984 non-null object\n",
      "categories                 3984 non-null object\n",
      "city_                      3984 non-null object\n",
      "complex                    3984 non-null object\n",
      "complexy_                  3984 non-null object\n",
      "cutting_edge               3984 non-null object\n",
      "full_address               3984 non-null object\n",
      "fuzz_partial_ratio         2250 non-null float64\n",
      "fuzz_partial_ratio_2       2250 non-null float64\n",
      "fuzz_ratio                 2250 non-null float64\n",
      "fuzz_ratio_2               2250 non-null float64\n",
      "fuzz_token_set_ratio       2250 non-null float64\n",
      "fuzz_token_set_ratio_2     2250 non-null float64\n",
      "fuzz_token_sort_ratio      2250 non-null float64\n",
      "fuzz_token_sort_ratio_2    2250 non-null float64\n",
      "has_i                      3984 non-null bool\n",
      "has_v                      3984 non-null bool\n",
      "hours                      3984 non-null object\n",
      "latitude                   3984 non-null float64\n",
      "link                       3984 non-null object\n",
      "longitude                  3984 non-null float64\n",
      "max                        2250 non-null float64\n",
      "max_2                      2250 non-null float64\n",
      "name                       3984 non-null object\n",
      "name2_h                    2250 non-null object\n",
      "name2_y                    2250 non-null object\n",
      "name_                      2250 non-null object\n",
      "name_y_                    2250 non-null object\n",
      "namey_                     3984 non-null object\n",
      "neighborhoods              3984 non-null object\n",
      "open                       3984 non-null bool\n",
      "permit_id                  3984 non-null object\n",
      "review_count               3984 non-null int64\n",
      "stars                      3984 non-null float64\n",
      "state                      3984 non-null object\n",
      "suite                      3984 non-null object\n",
      "suitey_                    3984 non-null object\n",
      "type                       3984 non-null object\n",
      "dtypes: bool(3), float64(15), int64(1), object(24)\n",
      "memory usage: 1.3+ MB\n"
     ]
    }
   ],
   "source": [
    "test_AZ.info()"
   ]
  },
  {
   "cell_type": "markdown",
   "metadata": {},
   "source": [
    "### Charlotte, NC"
   ]
  },
  {
   "cell_type": "code",
   "execution_count": 196,
   "metadata": {
    "collapsed": false
   },
   "outputs": [],
   "source": [
    "def split_address(x):\n",
    "    x = x.lower().replace('\\r','').replace('\\n','')\n",
    "    x = x.replace(' ste-',' ste ')\n",
    "    x = re.sub('[%s]' % re.escape(string.punctuation.replace('&','')), '', x)\n",
    "    abbr = {'road':'rd', 'street':'st', 'avenue':'av', 'ave':'av', 'drive':'dr', 'boulevard':'blvd',\n",
    "            'n':'north', 'e':'east', 's':'south', 'w':'west', 'suite':'ste','bv':'blvd', 'suit':'ste',\n",
    "            'pky':'pkwy', 'parkway':'pkwy',\n",
    "            'first':'1st', 'second':'2nd', 'third':'3rd', 'fourth':'4th', 'fifth':'5th', 'sixth':'6th',\n",
    "            'seventh':'7th', 'eighth':'8th', 'ninth':'9th', 'tenth':'10th'}\n",
    "    for key, value in abbr.iteritems():\n",
    "        x = re.sub(r'\\b(%s)\\b' % key, value, x) \n",
    "    x = x.strip()\n",
    "    \n",
    "    address = {}\n",
    "    n = re.findall(r'^(\\d+\\D?)\\b',x)\n",
    "    s = re.findall(r'\\b(ste\\W?\\D?\\W?\\d*\\W?\\D?)\\Z', x)\n",
    "    if len(n) > 0 and len(s) > 0:\n",
    "        address['num'] = n[0].strip()\n",
    "        address['street'] = re.sub(r'^(\\d+\\D?)\\b | \\b(ste\\W?\\D?\\W?\\d*\\W?\\D?)\\Z', '', x)\n",
    "        address['suite'] = s[-1]\n",
    "        return pd.Series(address)\n",
    "    elif len(n) > 0:\n",
    "        address['num'] = n[0].strip()\n",
    "        address['street'] = re.sub(r'^(\\d+\\D?)\\b', '', x)\n",
    "        address['suite'] = ''\n",
    "        return pd.Series(address)\n",
    "    else:\n",
    "        return pd.Series({'num':'', 'street':x[0], 'suite':''})\n",
    "    \n",
    "def standard_name(x):\n",
    "    rep_list = {'@':' at ', '-':' ', '/':' '}\n",
    "    sub_list = {'grille':'grill', 'ristorante':'restaurant','restaurante':'restaurant',\n",
    "                'italiano':'italian', 'mexicano':'mexican', 'mexicana':'mexican'}\n",
    "    if type(x) == float:\n",
    "        x = str(x)\n",
    "    x = x.lower()\n",
    "    for key, value in rep_list.iteritems():\n",
    "        x = x.replace(key, value)\n",
    "    for key, value in sub_list.iteritems():\n",
    "        x = re.sub(r'\\b(%s)\\b' % key, value, x)\n",
    "    \n",
    "    x = x.strip()\n",
    "    x = re.sub(r'(\\#\\d+)\\Z','',x)\n",
    "    x = re.split(r'\\b(at)\\b', x)[0].strip()\n",
    "    return re.sub('[%s]' % re.escape(string.punctuation), '', x)"
   ]
  },
  {
   "cell_type": "code",
   "execution_count": 274,
   "metadata": {
    "collapsed": true
   },
   "outputs": [],
   "source": [
    "B_NC = B[(B.state=='NC')& (B.categories.apply(lambda x: 'Restaurants' in x))]\n",
    "B_NC['address'] = B_NC.full_address.apply(lambda x: x.replace('\\n',' ')\\\n",
    "                                                     .replace('Ste','Suite')\\\n",
    "                                                     .replace(',','')\\\n",
    "                                                     .replace(' NC ', ' '))"
   ]
  },
  {
   "cell_type": "code",
   "execution_count": 6,
   "metadata": {
    "collapsed": false
   },
   "outputs": [],
   "source": [
    "H = open_pickle('../data/char/char_FULL_04.pkl')"
   ]
  },
  {
   "cell_type": "code",
   "execution_count": 218,
   "metadata": {
    "collapsed": false
   },
   "outputs": [
    {
     "data": {
      "text/html": [
       "<div>\n",
       "<table border=\"1\" class=\"dataframe\">\n",
       "  <thead>\n",
       "    <tr style=\"text-align: right;\">\n",
       "      <th></th>\n",
       "      <th>address</th>\n",
       "      <th>city</th>\n",
       "      <th>county</th>\n",
       "      <th>inspections</th>\n",
       "      <th>name</th>\n",
       "      <th>state</th>\n",
       "      <th>type</th>\n",
       "      <th>zip</th>\n",
       "    </tr>\n",
       "  </thead>\n",
       "  <tbody>\n",
       "    <tr>\n",
       "      <th>122131</th>\n",
       "      <td>1318 W MOREHEAD ST  \\r\\n</td>\n",
       "      <td>CHARLOTTE</td>\n",
       "      <td>Mecklenburg</td>\n",
       "      <td>[[2/26/2015, 90, A, 2398], [10/3/2014, 93, A, ...</td>\n",
       "      <td>OPEN KITCHEN</td>\n",
       "      <td>NC</td>\n",
       "      <td>1 - Restaurant</td>\n",
       "      <td>28208</td>\n",
       "    </tr>\n",
       "  </tbody>\n",
       "</table>\n",
       "</div>"
      ],
      "text/plain": [
       "                         address         city       county  \\\n",
       "122131  1318 W MOREHEAD ST  \\r\\n  CHARLOTTE    Mecklenburg   \n",
       "\n",
       "                                              inspections           name  \\\n",
       "122131  [[2/26/2015, 90, A, 2398], [10/3/2014, 93, A, ...  OPEN KITCHEN    \n",
       "\n",
       "       state            type    zip  \n",
       "122131   NC   1 - Restaurant  28208  "
      ]
     },
     "execution_count": 218,
     "metadata": {},
     "output_type": "execute_result"
    }
   ],
   "source": [
    "NC = pd.DataFrame.from_records(H).T\n",
    "NC.head(1)"
   ]
  },
  {
   "cell_type": "code",
   "execution_count": 219,
   "metadata": {
    "collapsed": false
   },
   "outputs": [
    {
     "data": {
      "text/html": [
       "<div>\n",
       "<table border=\"1\" class=\"dataframe\">\n",
       "  <thead>\n",
       "    <tr style=\"text-align: right;\">\n",
       "      <th></th>\n",
       "      <th>address</th>\n",
       "      <th>city</th>\n",
       "      <th>county</th>\n",
       "      <th>inspections</th>\n",
       "      <th>name</th>\n",
       "      <th>state</th>\n",
       "      <th>type</th>\n",
       "      <th>zip</th>\n",
       "      <th>city_</th>\n",
       "      <th>name_</th>\n",
       "      <th>id_</th>\n",
       "      <th>num</th>\n",
       "      <th>street</th>\n",
       "      <th>suite</th>\n",
       "    </tr>\n",
       "  </thead>\n",
       "  <tbody>\n",
       "    <tr>\n",
       "      <th>122131</th>\n",
       "      <td>1318 W MOREHEAD ST  \\r\\n</td>\n",
       "      <td>CHARLOTTE</td>\n",
       "      <td>Mecklenburg</td>\n",
       "      <td>[[2/26/2015, 90, A, 2398], [10/3/2014, 93, A, ...</td>\n",
       "      <td>OPEN KITCHEN</td>\n",
       "      <td>NC</td>\n",
       "      <td>1 - Restaurant</td>\n",
       "      <td>28208</td>\n",
       "      <td>charlotte</td>\n",
       "      <td>open kitchen</td>\n",
       "      <td>122131</td>\n",
       "      <td>1318</td>\n",
       "      <td>west morehead st</td>\n",
       "      <td></td>\n",
       "    </tr>\n",
       "  </tbody>\n",
       "</table>\n",
       "</div>"
      ],
      "text/plain": [
       "                         address         city       county  \\\n",
       "122131  1318 W MOREHEAD ST  \\r\\n  CHARLOTTE    Mecklenburg   \n",
       "\n",
       "                                              inspections           name  \\\n",
       "122131  [[2/26/2015, 90, A, 2398], [10/3/2014, 93, A, ...  OPEN KITCHEN    \n",
       "\n",
       "       state            type    zip      city_         name_     id_   num  \\\n",
       "122131   NC   1 - Restaurant  28208  charlotte  open kitchen  122131  1318   \n",
       "\n",
       "                  street suite  \n",
       "122131  west morehead st        "
      ]
     },
     "execution_count": 219,
     "metadata": {},
     "output_type": "execute_result"
    }
   ],
   "source": [
    "NC['city_'] = NC.city.apply(lambda x: x.lower().strip())\n",
    "NC['name_'] = NC.name.apply(standard_name)\n",
    "NC['id_'] = NC.index\n",
    "\n",
    "NC = pd.concat([NC, NC.address.apply(split_address)], axis=1)\n",
    "NC.head(1)"
   ]
  },
  {
   "cell_type": "code",
   "execution_count": 220,
   "metadata": {
    "collapsed": false
   },
   "outputs": [],
   "source": [
    "B_address = pd.Series(zip(B_NC.full_address, B_NC.neighborhoods)).apply(lambda x: lib.parse_address(*x))\n",
    "B_address.set_index(B_NC.index, inplace=True)\n",
    "col = B_address.columns.values\n",
    "col[0] = 'city_'\n",
    "B_address.columns = col\n",
    "B_NC = pd.concat([B_NC, B_address], axis=1)\n",
    "B_NC['name_'] = B_NC.name.apply(standard_name)"
   ]
  },
  {
   "cell_type": "code",
   "execution_count": 242,
   "metadata": {
    "collapsed": false
   },
   "outputs": [
    {
     "data": {
      "text/plain": [
       "[u'9630 University City Blvd\\nSte F\\nUniversity City\\nCharlotte, NC 28213']"
      ]
     },
     "execution_count": 242,
     "metadata": {},
     "output_type": "execute_result"
    }
   ],
   "source": [
    "B_NC[B_NC.business_id=='C3QfGqD3qjWUbwBOkEjqSQ'].full_address.tolist()"
   ]
  },
  {
   "cell_type": "code",
   "execution_count": 221,
   "metadata": {
    "collapsed": false
   },
   "outputs": [
    {
     "data": {
      "text/plain": [
       "(469, 27)"
      ]
     },
     "execution_count": 221,
     "metadata": {},
     "output_type": "execute_result"
    }
   ],
   "source": [
    "NC_ind = ['name_','num','street','city_','zip']\n",
    "temp = NC.set_index(NC_ind).join(B_NC.set_index(NC_ind), how='inner', rsuffix = 'y_')\n",
    "temp.shape"
   ]
  },
  {
   "cell_type": "code",
   "execution_count": 222,
   "metadata": {
    "collapsed": true
   },
   "outputs": [],
   "source": [
    "H_x = NC[~NC.id_.isin(temp.id_)]\n",
    "B_x = B_NC[~B_NC.business_id.isin(temp.business_id)]"
   ]
  },
  {
   "cell_type": "code",
   "execution_count": 223,
   "metadata": {
    "collapsed": true
   },
   "outputs": [],
   "source": [
    "NC_ind2 = ['num','street','city_','zip']\n",
    "temp2 = H_x.set_index(NC_ind2).join(B_x.set_index(NC_ind2), how='inner', rsuffix = 'y_')"
   ]
  },
  {
   "cell_type": "code",
   "execution_count": 224,
   "metadata": {
    "collapsed": false
   },
   "outputs": [
    {
     "data": {
      "text/plain": [
       "(1057, 29)"
      ]
     },
     "execution_count": 224,
     "metadata": {},
     "output_type": "execute_result"
    }
   ],
   "source": [
    "temp2.shape"
   ]
  },
  {
   "cell_type": "code",
   "execution_count": null,
   "metadata": {
    "collapsed": true
   },
   "outputs": [],
   "source": [
    "temp2.to_csv('../data/char/merge_dump_01.csv', encoding='utf-8')"
   ]
  },
  {
   "cell_type": "code",
   "execution_count": 225,
   "metadata": {
    "collapsed": false
   },
   "outputs": [],
   "source": [
    "temp_fuzz = lib.append_fuzz_scores(temp2)"
   ]
  },
  {
   "cell_type": "code",
   "execution_count": 226,
   "metadata": {
    "collapsed": true
   },
   "outputs": [],
   "source": [
    "temp_fuzz.to_csv('../data/char/merge_dump_06.csv', encoding='utf-8')"
   ]
  },
  {
   "cell_type": "code",
   "execution_count": 216,
   "metadata": {
    "collapsed": false
   },
   "outputs": [
    {
     "data": {
      "text/plain": [
       "<module 'merge_charlotte' from 'merge_charlotte.py'>"
      ]
     },
     "execution_count": 216,
     "metadata": {},
     "output_type": "execute_result"
    }
   ],
   "source": [
    "reload(lib)"
   ]
  },
  {
   "cell_type": "code",
   "execution_count": 227,
   "metadata": {
    "collapsed": true
   },
   "outputs": [],
   "source": [
    "ind_A = (temp_fuzz['max'] >= 75) & (temp_fuzz.avg_w_2 >= 75)\n",
    "ind_B = (temp_fuzz['max'] >= 60) & (temp_fuzz.avg_w_2 >= 60) & (temp_fuzz.avg_w_3 >= 80)\n",
    "NC_level2 = pd.concat([temp, temp_fuzz[ind_A | ind_B]])"
   ]
  },
  {
   "cell_type": "code",
   "execution_count": 228,
   "metadata": {
    "collapsed": false
   },
   "outputs": [
    {
     "data": {
      "text/plain": [
       "(832, 52)"
      ]
     },
     "execution_count": 228,
     "metadata": {},
     "output_type": "execute_result"
    }
   ],
   "source": [
    "NC_level2.shape"
   ]
  },
  {
   "cell_type": "code",
   "execution_count": 229,
   "metadata": {
    "collapsed": true
   },
   "outputs": [],
   "source": [
    "H_x2 = NC[~NC.id_.isin(NC_level2.id_)]\n",
    "B_x2 = B_NC[~B_NC.business_id.isin(NC_level2.business_id)]"
   ]
  },
  {
   "cell_type": "code",
   "execution_count": 230,
   "metadata": {
    "collapsed": true
   },
   "outputs": [],
   "source": [
    "NC_ind3 = ['city_','zip']\n",
    "temp3 = H_x2.set_index(NC_ind3).join(B_x2.set_index(NC_ind3), how='inner', rsuffix = 'y_')"
   ]
  },
  {
   "cell_type": "code",
   "execution_count": 231,
   "metadata": {
    "collapsed": false
   },
   "outputs": [
    {
     "data": {
      "text/plain": [
       "(91324, 33)"
      ]
     },
     "execution_count": 231,
     "metadata": {},
     "output_type": "execute_result"
    }
   ],
   "source": [
    "temp3.shape"
   ]
  },
  {
   "cell_type": "code",
   "execution_count": 232,
   "metadata": {
    "collapsed": false
   },
   "outputs": [],
   "source": [
    "temp_fuzz3 = lib.append_fuzz_scores(temp3)"
   ]
  },
  {
   "cell_type": "code",
   "execution_count": 233,
   "metadata": {
    "collapsed": false
   },
   "outputs": [],
   "source": [
    "ind_A3 = (temp_fuzz3['max'] >= 75) & (temp_fuzz3.avg_w_2 >= 75)\n",
    "ind_B3 = (temp_fuzz3['max'] >= 60) & (temp_fuzz3.avg_w_2 >= 60) & (temp_fuzz3.avg_w_3 >= 80)\n",
    "temp_fuzz3[ind_A3 | ind_B3].to_csv('../data/char/merge_dump_11.csv', encoding='utf-8')"
   ]
  },
  {
   "cell_type": "code",
   "execution_count": 239,
   "metadata": {
    "collapsed": false,
    "scrolled": true
   },
   "outputs": [
    {
     "data": {
      "text/html": [
       "<div>\n",
       "<table border=\"1\" class=\"dataframe\">\n",
       "  <thead>\n",
       "    <tr style=\"text-align: right;\">\n",
       "      <th></th>\n",
       "      <th></th>\n",
       "      <th>full_address</th>\n",
       "      <th>business_id</th>\n",
       "    </tr>\n",
       "    <tr>\n",
       "      <th>city_</th>\n",
       "      <th>zip</th>\n",
       "      <th></th>\n",
       "      <th></th>\n",
       "    </tr>\n",
       "  </thead>\n",
       "  <tbody>\n",
       "    <tr>\n",
       "      <th rowspan=\"32\" valign=\"top\">charlotte</th>\n",
       "      <th>28213</th>\n",
       "      <td>10235 University City Blvd\\nUniversity City\\nC...</td>\n",
       "      <td>zKlU3yE_5RqNd00LVJE1oQ</td>\n",
       "    </tr>\n",
       "    <tr>\n",
       "      <th>28213</th>\n",
       "      <td>10900 University City Blvd\\nCharlotte, NC 28213</td>\n",
       "      <td>NzUNtIOb7S2H1ymfp1gesA</td>\n",
       "    </tr>\n",
       "    <tr>\n",
       "      <th>28213</th>\n",
       "      <td>9518 University City Blvd\\nUniversity City\\nCh...</td>\n",
       "      <td>Z6GFHuQXqLmlabISj9uI3Q</td>\n",
       "    </tr>\n",
       "    <tr>\n",
       "      <th>28213</th>\n",
       "      <td>8500 University City Blvd\\nUniversity City\\nCh...</td>\n",
       "      <td>EssfLSLRxUou5uoj0LX_Kw</td>\n",
       "    </tr>\n",
       "    <tr>\n",
       "      <th>28213</th>\n",
       "      <td>9510 University City Blvd\\nUniversity City\\nCh...</td>\n",
       "      <td>a_INgnfDhfsLaMG5O5QR8A</td>\n",
       "    </tr>\n",
       "    <tr>\n",
       "      <th>28213</th>\n",
       "      <td>9630 University City Blvd\\nUniversity City\\nCh...</td>\n",
       "      <td>nu0giYqJOGLVsZLUdPwQOw</td>\n",
       "    </tr>\n",
       "    <tr>\n",
       "      <th>28213</th>\n",
       "      <td>8428 University City Blvd\\nUniversity City\\nCh...</td>\n",
       "      <td>LH1cMyzVY6a2GpNAUCvh7g</td>\n",
       "    </tr>\n",
       "    <tr>\n",
       "      <th>28213</th>\n",
       "      <td>8552 University City Blvd\\nUniversity City\\nCh...</td>\n",
       "      <td>Yolbffkso5NzevoEdIBEwA</td>\n",
       "    </tr>\n",
       "    <tr>\n",
       "      <th>28213</th>\n",
       "      <td>10223 University City Blvd\\nUniversity City\\nC...</td>\n",
       "      <td>SNqqdZNsC1w8mL15SHJEWw</td>\n",
       "    </tr>\n",
       "    <tr>\n",
       "      <th>28213</th>\n",
       "      <td>8420 University City Blvd\\nUniversity City\\nCh...</td>\n",
       "      <td>8-gfKVHSaBHHCmab4dUZWg</td>\n",
       "    </tr>\n",
       "    <tr>\n",
       "      <th>28213</th>\n",
       "      <td>9630 University City Blvd\\nSte A\\nUniversity C...</td>\n",
       "      <td>RQ5Fe5XMJokYJaBkP-i4jA</td>\n",
       "    </tr>\n",
       "    <tr>\n",
       "      <th>28213</th>\n",
       "      <td>4517 N Tryon St\\nNorth Charlotte\\nCharlotte, N...</td>\n",
       "      <td>IqPPzSxyiuwTyfEqPU1cHQ</td>\n",
       "    </tr>\n",
       "    <tr>\n",
       "      <th>28213</th>\n",
       "      <td>1101 W Sugar Creek Rd\\nNorth Charlotte\\nCharlo...</td>\n",
       "      <td>pyrFpk2d4TT9PYG72Mrj2A</td>\n",
       "    </tr>\n",
       "    <tr>\n",
       "      <th>28213</th>\n",
       "      <td>6507 N Tryon St\\nCharlotte, NC 28213</td>\n",
       "      <td>rLQ8JSim8Fqq1Qu48GfbmA</td>\n",
       "    </tr>\n",
       "    <tr>\n",
       "      <th>28213</th>\n",
       "      <td>6615 N Tryon St\\nCharlotte, NC 28213</td>\n",
       "      <td>M3kcXy-2-5HPOtru3sR56w</td>\n",
       "    </tr>\n",
       "    <tr>\n",
       "      <th>28213</th>\n",
       "      <td>4801 N Tryon St\\nSte P\\nCharlotte, NC 28213</td>\n",
       "      <td>xpcRPE101dLgXVPTxTzYWw</td>\n",
       "    </tr>\n",
       "    <tr>\n",
       "      <th>28213</th>\n",
       "      <td>8109 University City Blvd\\nUniversity City\\nCh...</td>\n",
       "      <td>Wqzx76XjqUFN8Ow3zX0cZA</td>\n",
       "    </tr>\n",
       "    <tr>\n",
       "      <th>28213</th>\n",
       "      <td>8205 University City Blvd\\nUniversity City\\nCh...</td>\n",
       "      <td>q7fezY9K4kmxupNYQMAX6g</td>\n",
       "    </tr>\n",
       "    <tr>\n",
       "      <th>28213</th>\n",
       "      <td>4520 N Tryon St\\nNoDa\\nCharlotte, NC 28213</td>\n",
       "      <td>_LYz2vdGyXsV-8b-_T47ag</td>\n",
       "    </tr>\n",
       "    <tr>\n",
       "      <th>28213</th>\n",
       "      <td>4520 N Tryon\\nSuite 17\\nNoDa\\nCharlotte, NC 28213</td>\n",
       "      <td>_ULYg16ncUuhWUsACetojw</td>\n",
       "    </tr>\n",
       "    <tr>\n",
       "      <th>28213</th>\n",
       "      <td>8542 University City Blvd\\nUniversity City\\nCh...</td>\n",
       "      <td>tZ1FVdbAna3lUL5LGcAa_Q</td>\n",
       "    </tr>\n",
       "    <tr>\n",
       "      <th>28213</th>\n",
       "      <td>8640 University City Blvd\\nSte A-1\\nUniversity...</td>\n",
       "      <td>nNOPWMUqJVxX7nv8N5E-4g</td>\n",
       "    </tr>\n",
       "    <tr>\n",
       "      <th>28213</th>\n",
       "      <td>10039 University City Blvd\\nUniversity City\\nC...</td>\n",
       "      <td>w9t58m2lBLXfaJ-geQbPVQ</td>\n",
       "    </tr>\n",
       "    <tr>\n",
       "      <th>28213</th>\n",
       "      <td>5210 N Tryon St\\nNoDa\\nCharlotte, NC 28213</td>\n",
       "      <td>ao9QoUXxxXJenr2Q1pYjAQ</td>\n",
       "    </tr>\n",
       "    <tr>\n",
       "      <th>28213</th>\n",
       "      <td>9510 University City Blvd\\nSte 101\\nUniversity...</td>\n",
       "      <td>hP6fpujKsFWD5N__KZA4Iw</td>\n",
       "    </tr>\n",
       "    <tr>\n",
       "      <th>28213</th>\n",
       "      <td>8650 University City Blvd\\nUniversity City\\nCh...</td>\n",
       "      <td>bp8T6-NZFKw3-Ga6ssU28w</td>\n",
       "    </tr>\n",
       "    <tr>\n",
       "      <th>28213</th>\n",
       "      <td>4300 N Tryon St\\nNorth Charlotte\\nCharlotte, N...</td>\n",
       "      <td>9muzkVmjvBftSV5CLhYaJg</td>\n",
       "    </tr>\n",
       "    <tr>\n",
       "      <th>28213</th>\n",
       "      <td>9630 University City Blvd\\nSte F\\nUniversity C...</td>\n",
       "      <td>C3QfGqD3qjWUbwBOkEjqSQ</td>\n",
       "    </tr>\n",
       "    <tr>\n",
       "      <th>28213</th>\n",
       "      <td>8225 University City Blvd\\nUniversity City\\nCh...</td>\n",
       "      <td>cE8IX3c8V47cBou08KsklA</td>\n",
       "    </tr>\n",
       "    <tr>\n",
       "      <th>28213</th>\n",
       "      <td>850 Chancellor Park Dr.\\nUniversity City\\nChar...</td>\n",
       "      <td>pRf3WQ_kOHHf1wsnCs1M-w</td>\n",
       "    </tr>\n",
       "    <tr>\n",
       "      <th>28213</th>\n",
       "      <td>8225 University City Blvd\\nUniversity City\\nCh...</td>\n",
       "      <td>o46H8M7GFOpphAWUO-Zx1Q</td>\n",
       "    </tr>\n",
       "    <tr>\n",
       "      <th>28213</th>\n",
       "      <td>10221 University City Blvd\\nUniversity City\\nC...</td>\n",
       "      <td>RVNKewAqtl-LDFHGWFptfQ</td>\n",
       "    </tr>\n",
       "  </tbody>\n",
       "</table>\n",
       "</div>"
      ],
      "text/plain": [
       "                                                      full_address  \\\n",
       "city_     zip                                                        \n",
       "charlotte 28213  10235 University City Blvd\\nUniversity City\\nC...   \n",
       "          28213    10900 University City Blvd\\nCharlotte, NC 28213   \n",
       "          28213  9518 University City Blvd\\nUniversity City\\nCh...   \n",
       "          28213  8500 University City Blvd\\nUniversity City\\nCh...   \n",
       "          28213  9510 University City Blvd\\nUniversity City\\nCh...   \n",
       "          28213  9630 University City Blvd\\nUniversity City\\nCh...   \n",
       "          28213  8428 University City Blvd\\nUniversity City\\nCh...   \n",
       "          28213  8552 University City Blvd\\nUniversity City\\nCh...   \n",
       "          28213  10223 University City Blvd\\nUniversity City\\nC...   \n",
       "          28213  8420 University City Blvd\\nUniversity City\\nCh...   \n",
       "          28213  9630 University City Blvd\\nSte A\\nUniversity C...   \n",
       "          28213  4517 N Tryon St\\nNorth Charlotte\\nCharlotte, N...   \n",
       "          28213  1101 W Sugar Creek Rd\\nNorth Charlotte\\nCharlo...   \n",
       "          28213               6507 N Tryon St\\nCharlotte, NC 28213   \n",
       "          28213               6615 N Tryon St\\nCharlotte, NC 28213   \n",
       "          28213        4801 N Tryon St\\nSte P\\nCharlotte, NC 28213   \n",
       "          28213  8109 University City Blvd\\nUniversity City\\nCh...   \n",
       "          28213  8205 University City Blvd\\nUniversity City\\nCh...   \n",
       "          28213         4520 N Tryon St\\nNoDa\\nCharlotte, NC 28213   \n",
       "          28213  4520 N Tryon\\nSuite 17\\nNoDa\\nCharlotte, NC 28213   \n",
       "          28213  8542 University City Blvd\\nUniversity City\\nCh...   \n",
       "          28213  8640 University City Blvd\\nSte A-1\\nUniversity...   \n",
       "          28213  10039 University City Blvd\\nUniversity City\\nC...   \n",
       "          28213         5210 N Tryon St\\nNoDa\\nCharlotte, NC 28213   \n",
       "          28213  9510 University City Blvd\\nSte 101\\nUniversity...   \n",
       "          28213  8650 University City Blvd\\nUniversity City\\nCh...   \n",
       "          28213  4300 N Tryon St\\nNorth Charlotte\\nCharlotte, N...   \n",
       "          28213  9630 University City Blvd\\nSte F\\nUniversity C...   \n",
       "          28213  8225 University City Blvd\\nUniversity City\\nCh...   \n",
       "          28213  850 Chancellor Park Dr.\\nUniversity City\\nChar...   \n",
       "          28213  8225 University City Blvd\\nUniversity City\\nCh...   \n",
       "          28213  10221 University City Blvd\\nUniversity City\\nC...   \n",
       "\n",
       "                            business_id  \n",
       "city_     zip                            \n",
       "charlotte 28213  zKlU3yE_5RqNd00LVJE1oQ  \n",
       "          28213  NzUNtIOb7S2H1ymfp1gesA  \n",
       "          28213  Z6GFHuQXqLmlabISj9uI3Q  \n",
       "          28213  EssfLSLRxUou5uoj0LX_Kw  \n",
       "          28213  a_INgnfDhfsLaMG5O5QR8A  \n",
       "          28213  nu0giYqJOGLVsZLUdPwQOw  \n",
       "          28213  LH1cMyzVY6a2GpNAUCvh7g  \n",
       "          28213  Yolbffkso5NzevoEdIBEwA  \n",
       "          28213  SNqqdZNsC1w8mL15SHJEWw  \n",
       "          28213  8-gfKVHSaBHHCmab4dUZWg  \n",
       "          28213  RQ5Fe5XMJokYJaBkP-i4jA  \n",
       "          28213  IqPPzSxyiuwTyfEqPU1cHQ  \n",
       "          28213  pyrFpk2d4TT9PYG72Mrj2A  \n",
       "          28213  rLQ8JSim8Fqq1Qu48GfbmA  \n",
       "          28213  M3kcXy-2-5HPOtru3sR56w  \n",
       "          28213  xpcRPE101dLgXVPTxTzYWw  \n",
       "          28213  Wqzx76XjqUFN8Ow3zX0cZA  \n",
       "          28213  q7fezY9K4kmxupNYQMAX6g  \n",
       "          28213  _LYz2vdGyXsV-8b-_T47ag  \n",
       "          28213  _ULYg16ncUuhWUsACetojw  \n",
       "          28213  tZ1FVdbAna3lUL5LGcAa_Q  \n",
       "          28213  nNOPWMUqJVxX7nv8N5E-4g  \n",
       "          28213  w9t58m2lBLXfaJ-geQbPVQ  \n",
       "          28213  ao9QoUXxxXJenr2Q1pYjAQ  \n",
       "          28213  hP6fpujKsFWD5N__KZA4Iw  \n",
       "          28213  bp8T6-NZFKw3-Ga6ssU28w  \n",
       "          28213  9muzkVmjvBftSV5CLhYaJg  \n",
       "          28213  C3QfGqD3qjWUbwBOkEjqSQ  \n",
       "          28213  cE8IX3c8V47cBou08KsklA  \n",
       "          28213  pRf3WQ_kOHHf1wsnCs1M-w  \n",
       "          28213  o46H8M7GFOpphAWUO-Zx1Q  \n",
       "          28213  RVNKewAqtl-LDFHGWFptfQ  "
      ]
     },
     "execution_count": 239,
     "metadata": {},
     "output_type": "execute_result"
    }
   ],
   "source": [
    "temp_fuzz3.loc[temp_fuzz3.id_==166283,['full_address','business_id']]"
   ]
  },
  {
   "cell_type": "code",
   "execution_count": 282,
   "metadata": {
    "collapsed": false
   },
   "outputs": [
    {
     "data": {
      "text/plain": [
       "<module 'merge_charlotte' from 'merge_charlotte.py'>"
      ]
     },
     "execution_count": 282,
     "metadata": {},
     "output_type": "execute_result"
    }
   ],
   "source": [
    "reload(lib)"
   ]
  },
  {
   "cell_type": "code",
   "execution_count": 283,
   "metadata": {
    "collapsed": false
   },
   "outputs": [
    {
     "name": "stdout",
     "output_type": "stream",
     "text": [
      "University City\n"
     ]
    },
    {
     "data": {
      "text/plain": [
       "city                  charlotte\n",
       "complex                        \n",
       "num                        9630\n",
       "street     university city blvd\n",
       "suite                         f\n",
       "zip                       28213\n",
       "dtype: object"
      ]
     },
     "execution_count": 283,
     "metadata": {},
     "output_type": "execute_result"
    }
   ],
   "source": [
    "a = u'9630 University City Blvd\\nSte F\\nUniversity City\\nCharlotte, NC 28213'\n",
    "lib.parse_address(a,['University City'])"
   ]
  },
  {
   "cell_type": "code",
   "execution_count": 281,
   "metadata": {
    "collapsed": false
   },
   "outputs": [
    {
     "data": {
      "text/plain": [
       "'hey there how are you?'"
      ]
     },
     "execution_count": 281,
     "metadata": {},
     "output_type": "execute_result"
    }
   ],
   "source": [
    "a = 'hey  there how  \\n are  you?'\n",
    "re.sub('\\s+',' ',a)"
   ]
  },
  {
   "cell_type": "code",
   "execution_count": null,
   "metadata": {
    "collapsed": true
   },
   "outputs": [],
   "source": []
  }
 ],
 "metadata": {
  "kernelspec": {
   "display_name": "Python 2",
   "language": "python",
   "name": "python2"
  },
  "language_info": {
   "codemirror_mode": {
    "name": "ipython",
    "version": 2
   },
   "file_extension": ".py",
   "mimetype": "text/x-python",
   "name": "python",
   "nbconvert_exporter": "python",
   "pygments_lexer": "ipython2",
   "version": "2.7.10"
  }
 },
 "nbformat": 4,
 "nbformat_minor": 0
}
