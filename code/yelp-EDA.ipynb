{
 "cells": [
  {
   "cell_type": "code",
   "execution_count": 2,
   "metadata": {
    "collapsed": false
   },
   "outputs": [],
   "source": [
    "import pandas as pd\n",
    "import numpy as np\n",
    "import matplotlib.pyplot as plt\n",
    "import json\n",
    "import pickle\n",
    "import re\n",
    "import string\n",
    "from fuzzywuzzy import fuzz\n",
    "#from merge_charlotte import parse_address, fuzz_comparisons, append_fuzz_scores\n",
    "import merge_charlotte as lib\n",
    "\n",
    "%matplotlib inline\n",
    "pd.options.mode.chained_assignment = None  # default='warn'"
   ]
  },
  {
   "cell_type": "code",
   "execution_count": 3,
   "metadata": {
    "collapsed": true
   },
   "outputs": [],
   "source": [
    "fname_business = '../data/yelp/yelp_dataset_challenge_academic_dataset/yelp_academic_dataset_business.json'"
   ]
  },
  {
   "cell_type": "code",
   "execution_count": 4,
   "metadata": {
    "collapsed": false
   },
   "outputs": [],
   "source": [
    "with open(fname_business) as f:\n",
    "    B = pd.DataFrame(json.loads(line) for line in f)"
   ]
  },
  {
   "cell_type": "code",
   "execution_count": 4,
   "metadata": {
    "collapsed": true
   },
   "outputs": [
    {
     "data": {
      "text/html": [
       "<div>\n",
       "<table border=\"1\" class=\"dataframe\">\n",
       "  <thead>\n",
       "    <tr style=\"text-align: right;\">\n",
       "      <th></th>\n",
       "      <th>latitude</th>\n",
       "      <th>longitude</th>\n",
       "      <th>open</th>\n",
       "      <th>review_count</th>\n",
       "      <th>stars</th>\n",
       "    </tr>\n",
       "  </thead>\n",
       "  <tbody>\n",
       "    <tr>\n",
       "      <th>count</th>\n",
       "      <td>61184.000000</td>\n",
       "      <td>61184.000000</td>\n",
       "      <td>61184</td>\n",
       "      <td>61184.000000</td>\n",
       "      <td>61184.000000</td>\n",
       "    </tr>\n",
       "    <tr>\n",
       "      <th>mean</th>\n",
       "      <td>37.326077</td>\n",
       "      <td>-97.491803</td>\n",
       "      <td>0.878089</td>\n",
       "      <td>28.272506</td>\n",
       "      <td>3.673305</td>\n",
       "    </tr>\n",
       "    <tr>\n",
       "      <th>std</th>\n",
       "      <td>5.741085</td>\n",
       "      <td>29.624473</td>\n",
       "      <td>0.327186</td>\n",
       "      <td>88.652050</td>\n",
       "      <td>0.891207</td>\n",
       "    </tr>\n",
       "    <tr>\n",
       "      <th>min</th>\n",
       "      <td>32.871923</td>\n",
       "      <td>-115.386550</td>\n",
       "      <td>False</td>\n",
       "      <td>3.000000</td>\n",
       "      <td>1.000000</td>\n",
       "    </tr>\n",
       "    <tr>\n",
       "      <th>25%</th>\n",
       "      <td>33.509601</td>\n",
       "      <td>-115.052224</td>\n",
       "      <td>1</td>\n",
       "      <td>4.000000</td>\n",
       "      <td>3.000000</td>\n",
       "    </tr>\n",
       "    <tr>\n",
       "      <th>50%</th>\n",
       "      <td>35.994636</td>\n",
       "      <td>-111.932944</td>\n",
       "      <td>1</td>\n",
       "      <td>8.000000</td>\n",
       "      <td>3.500000</td>\n",
       "    </tr>\n",
       "    <tr>\n",
       "      <th>75%</th>\n",
       "      <td>36.240430</td>\n",
       "      <td>-80.863329</td>\n",
       "      <td>1</td>\n",
       "      <td>21.000000</td>\n",
       "      <td>4.500000</td>\n",
       "    </tr>\n",
       "    <tr>\n",
       "      <th>max</th>\n",
       "      <td>56.036545</td>\n",
       "      <td>8.549249</td>\n",
       "      <td>True</td>\n",
       "      <td>4578.000000</td>\n",
       "      <td>5.000000</td>\n",
       "    </tr>\n",
       "  </tbody>\n",
       "</table>\n",
       "</div>"
      ],
      "text/plain": [
       "           latitude     longitude      open  review_count         stars\n",
       "count  61184.000000  61184.000000     61184  61184.000000  61184.000000\n",
       "mean      37.326077    -97.491803  0.878089     28.272506      3.673305\n",
       "std        5.741085     29.624473  0.327186     88.652050      0.891207\n",
       "min       32.871923   -115.386550     False      3.000000      1.000000\n",
       "25%       33.509601   -115.052224         1      4.000000      3.000000\n",
       "50%       35.994636   -111.932944         1      8.000000      3.500000\n",
       "75%       36.240430    -80.863329         1     21.000000      4.500000\n",
       "max       56.036545      8.549249      True   4578.000000      5.000000"
      ]
     },
     "execution_count": 4,
     "metadata": {},
     "output_type": "execute_result"
    }
   ],
   "source": [
    "B.describe()"
   ]
  },
  {
   "cell_type": "code",
   "execution_count": 5,
   "metadata": {
    "collapsed": true
   },
   "outputs": [
    {
     "name": "stdout",
     "output_type": "stream",
     "text": [
      "<class 'pandas.core.frame.DataFrame'>\n",
      "Int64Index: 61184 entries, 0 to 61183\n",
      "Data columns (total 15 columns):\n",
      "attributes       61184 non-null object\n",
      "business_id      61184 non-null object\n",
      "categories       61184 non-null object\n",
      "city             61184 non-null object\n",
      "full_address     61184 non-null object\n",
      "hours            61184 non-null object\n",
      "latitude         61184 non-null float64\n",
      "longitude        61184 non-null float64\n",
      "name             61184 non-null object\n",
      "neighborhoods    61184 non-null object\n",
      "open             61184 non-null bool\n",
      "review_count     61184 non-null int64\n",
      "stars            61184 non-null float64\n",
      "state            61184 non-null object\n",
      "type             61184 non-null object\n",
      "dtypes: bool(1), float64(3), int64(1), object(10)\n",
      "memory usage: 7.1+ MB\n"
     ]
    }
   ],
   "source": [
    "B.info()"
   ]
  },
  {
   "cell_type": "code",
   "execution_count": 6,
   "metadata": {
    "collapsed": true
   },
   "outputs": [
    {
     "data": {
      "text/html": [
       "<div>\n",
       "<table border=\"1\" class=\"dataframe\">\n",
       "  <thead>\n",
       "    <tr style=\"text-align: right;\">\n",
       "      <th></th>\n",
       "      <th>0</th>\n",
       "      <th>1</th>\n",
       "      <th>2</th>\n",
       "      <th>3</th>\n",
       "      <th>4</th>\n",
       "    </tr>\n",
       "  </thead>\n",
       "  <tbody>\n",
       "    <tr>\n",
       "      <th>attributes</th>\n",
       "      <td>{u'By Appointment Only': True}</td>\n",
       "      <td>{u'Happy Hour': True, u'Accepts Credit Cards':...</td>\n",
       "      <td>{u'Good for Kids': True}</td>\n",
       "      <td>{}</td>\n",
       "      <td>{u'Alcohol': u'full_bar', u'Noise Level': u'av...</td>\n",
       "    </tr>\n",
       "    <tr>\n",
       "      <th>business_id</th>\n",
       "      <td>vcNAWiLM4dR7D2nwwJ7nCA</td>\n",
       "      <td>UsFtqoBl7naz8AVUBZMjQQ</td>\n",
       "      <td>cE27W9VPgO88Qxe4ol6y_g</td>\n",
       "      <td>HZdLhv6COCleJMo7nPl-RA</td>\n",
       "      <td>mVHrayjG3uZ_RLHkLj-AMg</td>\n",
       "    </tr>\n",
       "    <tr>\n",
       "      <th>categories</th>\n",
       "      <td>[Doctors, Health &amp; Medical]</td>\n",
       "      <td>[Nightlife]</td>\n",
       "      <td>[Active Life, Mini Golf, Golf]</td>\n",
       "      <td>[Shopping, Home Services, Internet Service Pro...</td>\n",
       "      <td>[Bars, American (New), Nightlife, Lounges, Res...</td>\n",
       "    </tr>\n",
       "    <tr>\n",
       "      <th>city</th>\n",
       "      <td>Phoenix</td>\n",
       "      <td>Dravosburg</td>\n",
       "      <td>Bethel Park</td>\n",
       "      <td>Pittsburgh</td>\n",
       "      <td>Braddock</td>\n",
       "    </tr>\n",
       "    <tr>\n",
       "      <th>full_address</th>\n",
       "      <td>4840 E Indian School Rd\\nSte 101\\nPhoenix, AZ ...</td>\n",
       "      <td>202 McClure St\\nDravosburg, PA 15034</td>\n",
       "      <td>1530 Hamilton Rd\\nBethel Park, PA 15234</td>\n",
       "      <td>301 S Hills Vlg\\nPittsburgh, PA 15241</td>\n",
       "      <td>414 Hawkins Ave\\nBraddock, PA 15104</td>\n",
       "    </tr>\n",
       "    <tr>\n",
       "      <th>hours</th>\n",
       "      <td>{u'Thursday': {u'close': u'17:00', u'open': u'...</td>\n",
       "      <td>{}</td>\n",
       "      <td>{}</td>\n",
       "      <td>{u'Monday': {u'close': u'21:00', u'open': u'10...</td>\n",
       "      <td>{u'Tuesday': {u'close': u'19:00', u'open': u'1...</td>\n",
       "    </tr>\n",
       "    <tr>\n",
       "      <th>latitude</th>\n",
       "      <td>33.4993</td>\n",
       "      <td>40.3505</td>\n",
       "      <td>40.3569</td>\n",
       "      <td>40.3576</td>\n",
       "      <td>40.4087</td>\n",
       "    </tr>\n",
       "    <tr>\n",
       "      <th>longitude</th>\n",
       "      <td>-111.984</td>\n",
       "      <td>-79.8869</td>\n",
       "      <td>-80.0159</td>\n",
       "      <td>-80.06</td>\n",
       "      <td>-79.8664</td>\n",
       "    </tr>\n",
       "    <tr>\n",
       "      <th>name</th>\n",
       "      <td>Eric Goldberg, MD</td>\n",
       "      <td>Clancy's Pub</td>\n",
       "      <td>Cool Springs Golf Center</td>\n",
       "      <td>Verizon Wireless</td>\n",
       "      <td>Emil's Lounge</td>\n",
       "    </tr>\n",
       "    <tr>\n",
       "      <th>neighborhoods</th>\n",
       "      <td>[]</td>\n",
       "      <td>[]</td>\n",
       "      <td>[]</td>\n",
       "      <td>[]</td>\n",
       "      <td>[]</td>\n",
       "    </tr>\n",
       "    <tr>\n",
       "      <th>open</th>\n",
       "      <td>True</td>\n",
       "      <td>True</td>\n",
       "      <td>False</td>\n",
       "      <td>True</td>\n",
       "      <td>True</td>\n",
       "    </tr>\n",
       "    <tr>\n",
       "      <th>review_count</th>\n",
       "      <td>9</td>\n",
       "      <td>4</td>\n",
       "      <td>5</td>\n",
       "      <td>3</td>\n",
       "      <td>11</td>\n",
       "    </tr>\n",
       "    <tr>\n",
       "      <th>stars</th>\n",
       "      <td>3.5</td>\n",
       "      <td>3.5</td>\n",
       "      <td>2.5</td>\n",
       "      <td>3.5</td>\n",
       "      <td>4.5</td>\n",
       "    </tr>\n",
       "    <tr>\n",
       "      <th>state</th>\n",
       "      <td>AZ</td>\n",
       "      <td>PA</td>\n",
       "      <td>PA</td>\n",
       "      <td>PA</td>\n",
       "      <td>PA</td>\n",
       "    </tr>\n",
       "    <tr>\n",
       "      <th>type</th>\n",
       "      <td>business</td>\n",
       "      <td>business</td>\n",
       "      <td>business</td>\n",
       "      <td>business</td>\n",
       "      <td>business</td>\n",
       "    </tr>\n",
       "  </tbody>\n",
       "</table>\n",
       "</div>"
      ],
      "text/plain": [
       "                                                               0  \\\n",
       "attributes                        {u'By Appointment Only': True}   \n",
       "business_id                               vcNAWiLM4dR7D2nwwJ7nCA   \n",
       "categories                           [Doctors, Health & Medical]   \n",
       "city                                                     Phoenix   \n",
       "full_address   4840 E Indian School Rd\\nSte 101\\nPhoenix, AZ ...   \n",
       "hours          {u'Thursday': {u'close': u'17:00', u'open': u'...   \n",
       "latitude                                                 33.4993   \n",
       "longitude                                               -111.984   \n",
       "name                                           Eric Goldberg, MD   \n",
       "neighborhoods                                                 []   \n",
       "open                                                        True   \n",
       "review_count                                                   9   \n",
       "stars                                                        3.5   \n",
       "state                                                         AZ   \n",
       "type                                                    business   \n",
       "\n",
       "                                                               1  \\\n",
       "attributes     {u'Happy Hour': True, u'Accepts Credit Cards':...   \n",
       "business_id                               UsFtqoBl7naz8AVUBZMjQQ   \n",
       "categories                                           [Nightlife]   \n",
       "city                                                  Dravosburg   \n",
       "full_address                202 McClure St\\nDravosburg, PA 15034   \n",
       "hours                                                         {}   \n",
       "latitude                                                 40.3505   \n",
       "longitude                                               -79.8869   \n",
       "name                                                Clancy's Pub   \n",
       "neighborhoods                                                 []   \n",
       "open                                                        True   \n",
       "review_count                                                   4   \n",
       "stars                                                        3.5   \n",
       "state                                                         PA   \n",
       "type                                                    business   \n",
       "\n",
       "                                                     2  \\\n",
       "attributes                    {u'Good for Kids': True}   \n",
       "business_id                     cE27W9VPgO88Qxe4ol6y_g   \n",
       "categories              [Active Life, Mini Golf, Golf]   \n",
       "city                                       Bethel Park   \n",
       "full_address   1530 Hamilton Rd\\nBethel Park, PA 15234   \n",
       "hours                                               {}   \n",
       "latitude                                       40.3569   \n",
       "longitude                                     -80.0159   \n",
       "name                          Cool Springs Golf Center   \n",
       "neighborhoods                                       []   \n",
       "open                                             False   \n",
       "review_count                                         5   \n",
       "stars                                              2.5   \n",
       "state                                               PA   \n",
       "type                                          business   \n",
       "\n",
       "                                                               3  \\\n",
       "attributes                                                    {}   \n",
       "business_id                               HZdLhv6COCleJMo7nPl-RA   \n",
       "categories     [Shopping, Home Services, Internet Service Pro...   \n",
       "city                                                  Pittsburgh   \n",
       "full_address               301 S Hills Vlg\\nPittsburgh, PA 15241   \n",
       "hours          {u'Monday': {u'close': u'21:00', u'open': u'10...   \n",
       "latitude                                                 40.3576   \n",
       "longitude                                                 -80.06   \n",
       "name                                            Verizon Wireless   \n",
       "neighborhoods                                                 []   \n",
       "open                                                        True   \n",
       "review_count                                                   3   \n",
       "stars                                                        3.5   \n",
       "state                                                         PA   \n",
       "type                                                    business   \n",
       "\n",
       "                                                               4  \n",
       "attributes     {u'Alcohol': u'full_bar', u'Noise Level': u'av...  \n",
       "business_id                               mVHrayjG3uZ_RLHkLj-AMg  \n",
       "categories     [Bars, American (New), Nightlife, Lounges, Res...  \n",
       "city                                                    Braddock  \n",
       "full_address                 414 Hawkins Ave\\nBraddock, PA 15104  \n",
       "hours          {u'Tuesday': {u'close': u'19:00', u'open': u'1...  \n",
       "latitude                                                 40.4087  \n",
       "longitude                                               -79.8664  \n",
       "name                                               Emil's Lounge  \n",
       "neighborhoods                                                 []  \n",
       "open                                                        True  \n",
       "review_count                                                  11  \n",
       "stars                                                        4.5  \n",
       "state                                                         PA  \n",
       "type                                                    business  "
      ]
     },
     "execution_count": 6,
     "metadata": {},
     "output_type": "execute_result"
    }
   ],
   "source": [
    "B.head().T"
   ]
  },
  {
   "cell_type": "code",
   "execution_count": 7,
   "metadata": {
    "collapsed": true
   },
   "outputs": [
    {
     "data": {
      "text/plain": [
       "AZ     25230\n",
       "NV     16485\n",
       "NC      4963\n",
       "QC      3921\n",
       "PA      3041\n",
       "EDH     2971\n",
       "WI      2307\n",
       "BW       934\n",
       "IL       627\n",
       "ON       351\n",
       "SC       189\n",
       "MLN      123\n",
       "RP        13\n",
       "ELN       10\n",
       "FIF        4\n",
       "CA         3\n",
       "SCB        3\n",
       "MN         1\n",
       "MA         1\n",
       "KHL        1\n",
       "XGL        1\n",
       "WA         1\n",
       "NW         1\n",
       "OR         1\n",
       "NTH        1\n",
       "HAM        1\n",
       "Name: state, dtype: int64"
      ]
     },
     "execution_count": 7,
     "metadata": {},
     "output_type": "execute_result"
    }
   ],
   "source": [
    "B.state.value_counts()"
   ]
  },
  {
   "cell_type": "code",
   "execution_count": 8,
   "metadata": {
    "collapsed": true
   },
   "outputs": [],
   "source": [
    "B_keep = B[B.state.isin({'AZ','NV','PA','WI','IL','NC'})]"
   ]
  },
  {
   "cell_type": "code",
   "execution_count": 9,
   "metadata": {
    "collapsed": true
   },
   "outputs": [
    {
     "data": {
      "text/html": [
       "<div>\n",
       "<table border=\"1\" class=\"dataframe\">\n",
       "  <thead>\n",
       "    <tr>\n",
       "      <th></th>\n",
       "      <th colspan=\"8\" halign=\"left\">review_count</th>\n",
       "      <th colspan=\"8\" halign=\"left\">stars</th>\n",
       "    </tr>\n",
       "    <tr>\n",
       "      <th></th>\n",
       "      <th>count</th>\n",
       "      <th>mean</th>\n",
       "      <th>std</th>\n",
       "      <th>min</th>\n",
       "      <th>25%</th>\n",
       "      <th>50%</th>\n",
       "      <th>75%</th>\n",
       "      <th>max</th>\n",
       "      <th>count</th>\n",
       "      <th>mean</th>\n",
       "      <th>std</th>\n",
       "      <th>min</th>\n",
       "      <th>25%</th>\n",
       "      <th>50%</th>\n",
       "      <th>75%</th>\n",
       "      <th>max</th>\n",
       "    </tr>\n",
       "    <tr>\n",
       "      <th>state</th>\n",
       "      <th></th>\n",
       "      <th></th>\n",
       "      <th></th>\n",
       "      <th></th>\n",
       "      <th></th>\n",
       "      <th></th>\n",
       "      <th></th>\n",
       "      <th></th>\n",
       "      <th></th>\n",
       "      <th></th>\n",
       "      <th></th>\n",
       "      <th></th>\n",
       "      <th></th>\n",
       "      <th></th>\n",
       "      <th></th>\n",
       "      <th></th>\n",
       "    </tr>\n",
       "  </thead>\n",
       "  <tbody>\n",
       "    <tr>\n",
       "      <th>AZ</th>\n",
       "      <td>25230</td>\n",
       "      <td>25.238962</td>\n",
       "      <td>55.871449</td>\n",
       "      <td>3</td>\n",
       "      <td>4</td>\n",
       "      <td>8</td>\n",
       "      <td>21</td>\n",
       "      <td>1512</td>\n",
       "      <td>25230</td>\n",
       "      <td>3.684503</td>\n",
       "      <td>0.940502</td>\n",
       "      <td>1</td>\n",
       "      <td>3</td>\n",
       "      <td>4.0</td>\n",
       "      <td>4.5</td>\n",
       "      <td>5</td>\n",
       "    </tr>\n",
       "    <tr>\n",
       "      <th>IL</th>\n",
       "      <td>627</td>\n",
       "      <td>20.987241</td>\n",
       "      <td>33.924552</td>\n",
       "      <td>3</td>\n",
       "      <td>5</td>\n",
       "      <td>9</td>\n",
       "      <td>22</td>\n",
       "      <td>450</td>\n",
       "      <td>627</td>\n",
       "      <td>3.569378</td>\n",
       "      <td>0.897042</td>\n",
       "      <td>1</td>\n",
       "      <td>3</td>\n",
       "      <td>3.5</td>\n",
       "      <td>4.0</td>\n",
       "      <td>5</td>\n",
       "    </tr>\n",
       "    <tr>\n",
       "      <th>NC</th>\n",
       "      <td>4963</td>\n",
       "      <td>20.651823</td>\n",
       "      <td>40.028150</td>\n",
       "      <td>3</td>\n",
       "      <td>4</td>\n",
       "      <td>8</td>\n",
       "      <td>19</td>\n",
       "      <td>983</td>\n",
       "      <td>4963</td>\n",
       "      <td>3.588858</td>\n",
       "      <td>0.844681</td>\n",
       "      <td>1</td>\n",
       "      <td>3</td>\n",
       "      <td>3.5</td>\n",
       "      <td>4.0</td>\n",
       "      <td>5</td>\n",
       "    </tr>\n",
       "    <tr>\n",
       "      <th>NV</th>\n",
       "      <td>16485</td>\n",
       "      <td>45.672066</td>\n",
       "      <td>150.342727</td>\n",
       "      <td>3</td>\n",
       "      <td>5</td>\n",
       "      <td>10</td>\n",
       "      <td>29</td>\n",
       "      <td>4578</td>\n",
       "      <td>16485</td>\n",
       "      <td>3.658477</td>\n",
       "      <td>0.908426</td>\n",
       "      <td>1</td>\n",
       "      <td>3</td>\n",
       "      <td>3.5</td>\n",
       "      <td>4.5</td>\n",
       "      <td>5</td>\n",
       "    </tr>\n",
       "    <tr>\n",
       "      <th>PA</th>\n",
       "      <td>3041</td>\n",
       "      <td>23.810917</td>\n",
       "      <td>43.332042</td>\n",
       "      <td>3</td>\n",
       "      <td>4</td>\n",
       "      <td>9</td>\n",
       "      <td>24</td>\n",
       "      <td>695</td>\n",
       "      <td>3041</td>\n",
       "      <td>3.682999</td>\n",
       "      <td>0.829634</td>\n",
       "      <td>1</td>\n",
       "      <td>3</td>\n",
       "      <td>3.5</td>\n",
       "      <td>4.5</td>\n",
       "      <td>5</td>\n",
       "    </tr>\n",
       "    <tr>\n",
       "      <th>WI</th>\n",
       "      <td>2307</td>\n",
       "      <td>20.669267</td>\n",
       "      <td>37.064819</td>\n",
       "      <td>3</td>\n",
       "      <td>4</td>\n",
       "      <td>8</td>\n",
       "      <td>20</td>\n",
       "      <td>723</td>\n",
       "      <td>2307</td>\n",
       "      <td>3.643693</td>\n",
       "      <td>0.857121</td>\n",
       "      <td>1</td>\n",
       "      <td>3</td>\n",
       "      <td>3.5</td>\n",
       "      <td>4.5</td>\n",
       "      <td>5</td>\n",
       "    </tr>\n",
       "  </tbody>\n",
       "</table>\n",
       "</div>"
      ],
      "text/plain": [
       "      review_count                                               stars  \\\n",
       "             count       mean         std min 25% 50% 75%   max  count   \n",
       "state                                                                    \n",
       "AZ           25230  25.238962   55.871449   3   4   8  21  1512  25230   \n",
       "IL             627  20.987241   33.924552   3   5   9  22   450    627   \n",
       "NC            4963  20.651823   40.028150   3   4   8  19   983   4963   \n",
       "NV           16485  45.672066  150.342727   3   5  10  29  4578  16485   \n",
       "PA            3041  23.810917   43.332042   3   4   9  24   695   3041   \n",
       "WI            2307  20.669267   37.064819   3   4   8  20   723   2307   \n",
       "\n",
       "                                                 \n",
       "           mean       std min 25%  50%  75% max  \n",
       "state                                            \n",
       "AZ     3.684503  0.940502   1   3  4.0  4.5   5  \n",
       "IL     3.569378  0.897042   1   3  3.5  4.0   5  \n",
       "NC     3.588858  0.844681   1   3  3.5  4.0   5  \n",
       "NV     3.658477  0.908426   1   3  3.5  4.5   5  \n",
       "PA     3.682999  0.829634   1   3  3.5  4.5   5  \n",
       "WI     3.643693  0.857121   1   3  3.5  4.5   5  "
      ]
     },
     "execution_count": 9,
     "metadata": {},
     "output_type": "execute_result"
    }
   ],
   "source": [
    "B_keep.groupby('state').describe()[['review_count', 'stars']].unstack(-1)"
   ]
  },
  {
   "cell_type": "code",
   "execution_count": 10,
   "metadata": {
    "collapsed": false
   },
   "outputs": [
    {
     "data": {
      "text/plain": [
       "business    52653\n",
       "Name: type, dtype: int64"
      ]
     },
     "execution_count": 10,
     "metadata": {},
     "output_type": "execute_result"
    }
   ],
   "source": [
    "B_keep['type'].value_counts()"
   ]
  },
  {
   "cell_type": "code",
   "execution_count": 685,
   "metadata": {
    "collapsed": true
   },
   "outputs": [],
   "source": [
    "B_rest = B[(B.state.isin({'AZ','NV','PA','WI','IL','NC'})) & \\\n",
    "           (B.categories.apply(lambda x: 'Restaurants' in x))]\n",
    "save_to_pickle(B_rest, '../data/yelp/yelp_US_restaurants.pkl')"
   ]
  },
  {
   "cell_type": "markdown",
   "metadata": {},
   "source": [
    "# Merge with Health Inspections"
   ]
  },
  {
   "cell_type": "code",
   "execution_count": 2,
   "metadata": {
    "collapsed": true
   },
   "outputs": [],
   "source": [
    "def save_to_pickle(data, fname):\n",
    "    with open(fname, 'wb') as handle:\n",
    "        pickle.dump(data, handle)\n",
    "\n",
    "\n",
    "def open_pickle(f_name):\n",
    "    with open(f_name, 'rb') as f:\n",
    "        data = pickle.load(f)\n",
    "    return data"
   ]
  },
  {
   "cell_type": "markdown",
   "metadata": {},
   "source": [
    "### Phoenix, AZ"
   ]
  },
  {
   "cell_type": "code",
   "execution_count": 626,
   "metadata": {
    "collapsed": true
   },
   "outputs": [],
   "source": [
    "test_AZ = open_pickle('../data/phx/phoenix_yelp_merge.pkl')"
   ]
  },
  {
   "cell_type": "code",
   "execution_count": 627,
   "metadata": {
    "collapsed": true
   },
   "outputs": [
    {
     "name": "stdout",
     "output_type": "stream",
     "text": [
      "<class 'pandas.core.frame.DataFrame'>\n",
      "Index: 3984 entries, (1130 the restaurant, 455, north 3rd st, phoenix, 85004) to (9990, north 90th st, scottsdale, 85258)\n",
      "Data columns (total 43 columns):\n",
      "address                    3984 non-null object\n",
      "addressy_                  3984 non-null object\n",
      "attributes                 3984 non-null object\n",
      "avg_2                      2250 non-null float64\n",
      "avg_w_2                    2250 non-null float64\n",
      "business_id                3984 non-null object\n",
      "categories                 3984 non-null object\n",
      "city_                      3984 non-null object\n",
      "complex                    3984 non-null object\n",
      "complexy_                  3984 non-null object\n",
      "cutting_edge               3984 non-null object\n",
      "full_address               3984 non-null object\n",
      "fuzz_partial_ratio         2250 non-null float64\n",
      "fuzz_partial_ratio_2       2250 non-null float64\n",
      "fuzz_ratio                 2250 non-null float64\n",
      "fuzz_ratio_2               2250 non-null float64\n",
      "fuzz_token_set_ratio       2250 non-null float64\n",
      "fuzz_token_set_ratio_2     2250 non-null float64\n",
      "fuzz_token_sort_ratio      2250 non-null float64\n",
      "fuzz_token_sort_ratio_2    2250 non-null float64\n",
      "has_i                      3984 non-null bool\n",
      "has_v                      3984 non-null bool\n",
      "hours                      3984 non-null object\n",
      "latitude                   3984 non-null float64\n",
      "link                       3984 non-null object\n",
      "longitude                  3984 non-null float64\n",
      "max                        2250 non-null float64\n",
      "max_2                      2250 non-null float64\n",
      "name                       3984 non-null object\n",
      "name2_h                    2250 non-null object\n",
      "name2_y                    2250 non-null object\n",
      "name_                      2250 non-null object\n",
      "name_y_                    2250 non-null object\n",
      "namey_                     3984 non-null object\n",
      "neighborhoods              3984 non-null object\n",
      "open                       3984 non-null bool\n",
      "permit_id                  3984 non-null object\n",
      "review_count               3984 non-null int64\n",
      "stars                      3984 non-null float64\n",
      "state                      3984 non-null object\n",
      "suite                      3984 non-null object\n",
      "suitey_                    3984 non-null object\n",
      "type                       3984 non-null object\n",
      "dtypes: bool(3), float64(15), int64(1), object(24)\n",
      "memory usage: 1.3+ MB\n"
     ]
    }
   ],
   "source": [
    "test_AZ.info()"
   ]
  },
  {
   "cell_type": "markdown",
   "metadata": {},
   "source": [
    "### Madison, WI"
   ]
  },
  {
   "cell_type": "code",
   "execution_count": 535,
   "metadata": {
    "collapsed": true
   },
   "outputs": [],
   "source": [
    "import merge_madison as lib"
   ]
  },
  {
   "cell_type": "code",
   "execution_count": 600,
   "metadata": {
    "collapsed": false
   },
   "outputs": [
    {
     "data": {
      "text/plain": [
       "<module 'merge_madison' from 'merge_madison.py'>"
      ]
     },
     "execution_count": 600,
     "metadata": {},
     "output_type": "execute_result"
    }
   ],
   "source": [
    "reload(lib)"
   ]
  },
  {
   "cell_type": "code",
   "execution_count": 617,
   "metadata": {
    "collapsed": false
   },
   "outputs": [],
   "source": [
    "B_WI = B[(B.state=='WI')& (B.categories.apply(lambda x: 'Restaurants' in x))]\n",
    "B_WI['address'] = B_WI.full_address.apply(lambda x: x.replace('\\n',' ')\\\n",
    "                                                     .replace('Ste','Suite')\\\n",
    "                                                     .replace(',','')\\\n",
    "                                                     .replace(' WI ', ' '))\n",
    "\n",
    "B_address = pd.Series(zip(B_WI.full_address, B_WI.neighborhoods)).apply(lambda x: lib.parse_address(*x))\n",
    "B_address.set_index(B_WI.index, inplace=True)\n",
    "col = B_address.columns.values\n",
    "col[0] = 'city_'\n",
    "B_address.columns = col\n",
    "B_WI = pd.concat([B_WI, B_address], axis=1)\n",
    "B_WI['name_'] = B_WI.name.apply(standard_name)"
   ]
  },
  {
   "cell_type": "code",
   "execution_count": 539,
   "metadata": {
    "collapsed": false,
    "scrolled": true
   },
   "outputs": [
    {
     "data": {
      "text/html": [
       "<div>\n",
       "<table border=\"1\" class=\"dataframe\">\n",
       "  <thead>\n",
       "    <tr style=\"text-align: right;\">\n",
       "      <th></th>\n",
       "      <th>address</th>\n",
       "      <th>inspections</th>\n",
       "      <th>name</th>\n",
       "      <th>type</th>\n",
       "    </tr>\n",
       "  </thead>\n",
       "  <tbody>\n",
       "    <tr>\n",
       "      <th>MainContent_12775-2814</th>\n",
       "      <td>1405 EMIL ST\\nMADISON, WI 53713</td>\n",
       "      <td>{u'MainContent_2462414': {u'date': u'2/13/2014...</td>\n",
       "      <td>Licari's Bar &amp; Grill</td>\n",
       "      <td>Primarily Restaurant</td>\n",
       "    </tr>\n",
       "    <tr>\n",
       "      <th>MainContent_1496-974</th>\n",
       "      <td>119 W MAIN ST\\nMADISON, WI 53703</td>\n",
       "      <td>{u'MainContent_2471561': {u'date': u'3/27/2014...</td>\n",
       "      <td>Paradise Lounge</td>\n",
       "      <td>Primarily Restaurant</td>\n",
       "    </tr>\n",
       "    <tr>\n",
       "      <th>MainContent_1497-981</th>\n",
       "      <td>226 STATE ST\\nMADISON, WI 53703</td>\n",
       "      <td>{u'MainContent_2231550': {u'date': u'1/18/2012...</td>\n",
       "      <td>Nick's Restaurant</td>\n",
       "      <td>Primarily Restaurant</td>\n",
       "    </tr>\n",
       "    <tr>\n",
       "      <th>MainContent_1660-1106</th>\n",
       "      <td>425 N FRANCES ST\\nMADISON, WI 53703</td>\n",
       "      <td>{u'MainContent_2478840': {u'date': u'4/29/2014...</td>\n",
       "      <td>Porta Bella</td>\n",
       "      <td>Primarily Restaurant</td>\n",
       "    </tr>\n",
       "    <tr>\n",
       "      <th>MainContent_19803-4575</th>\n",
       "      <td>1029 S PARK ST\\nMADISON, WI 53715</td>\n",
       "      <td>{u'MainContent_2325667': {u'date': u'11/29/201...</td>\n",
       "      <td>Oriental Shop</td>\n",
       "      <td>Retail Food Establishment</td>\n",
       "    </tr>\n",
       "  </tbody>\n",
       "</table>\n",
       "</div>"
      ],
      "text/plain": [
       "                                                    address  \\\n",
       "MainContent_12775-2814      1405 EMIL ST\\nMADISON, WI 53713   \n",
       "MainContent_1496-974       119 W MAIN ST\\nMADISON, WI 53703   \n",
       "MainContent_1497-981        226 STATE ST\\nMADISON, WI 53703   \n",
       "MainContent_1660-1106   425 N FRANCES ST\\nMADISON, WI 53703   \n",
       "MainContent_19803-4575    1029 S PARK ST\\nMADISON, WI 53715   \n",
       "\n",
       "                                                              inspections  \\\n",
       "MainContent_12775-2814  {u'MainContent_2462414': {u'date': u'2/13/2014...   \n",
       "MainContent_1496-974    {u'MainContent_2471561': {u'date': u'3/27/2014...   \n",
       "MainContent_1497-981    {u'MainContent_2231550': {u'date': u'1/18/2012...   \n",
       "MainContent_1660-1106   {u'MainContent_2478840': {u'date': u'4/29/2014...   \n",
       "MainContent_19803-4575  {u'MainContent_2325667': {u'date': u'11/29/201...   \n",
       "\n",
       "                                        name                       type  \n",
       "MainContent_12775-2814  Licari's Bar & Grill       Primarily Restaurant  \n",
       "MainContent_1496-974         Paradise Lounge       Primarily Restaurant  \n",
       "MainContent_1497-981       Nick's Restaurant       Primarily Restaurant  \n",
       "MainContent_1660-1106            Porta Bella       Primarily Restaurant  \n",
       "MainContent_19803-4575         Oriental Shop  Retail Food Establishment  "
      ]
     },
     "execution_count": 539,
     "metadata": {},
     "output_type": "execute_result"
    }
   ],
   "source": [
    "H = lib.open_pickle('../data/mad/mad_health_FINAL.pkl')\n",
    "H.head()"
   ]
  },
  {
   "cell_type": "code",
   "execution_count": 618,
   "metadata": {
    "collapsed": false
   },
   "outputs": [
    {
     "data": {
      "text/html": [
       "<div>\n",
       "<table border=\"1\" class=\"dataframe\">\n",
       "  <thead>\n",
       "    <tr style=\"text-align: right;\">\n",
       "      <th></th>\n",
       "      <th>MainContent_12775-2814</th>\n",
       "      <th>MainContent_1496-974</th>\n",
       "      <th>MainContent_1497-981</th>\n",
       "      <th>MainContent_1660-1106</th>\n",
       "      <th>MainContent_19803-4575</th>\n",
       "    </tr>\n",
       "  </thead>\n",
       "  <tbody>\n",
       "    <tr>\n",
       "      <th>address</th>\n",
       "      <td>1405 EMIL ST\\nMADISON, WI 53713</td>\n",
       "      <td>119 W MAIN ST\\nMADISON, WI 53703</td>\n",
       "      <td>226 STATE ST\\nMADISON, WI 53703</td>\n",
       "      <td>425 N FRANCES ST\\nMADISON, WI 53703</td>\n",
       "      <td>1029 S PARK ST\\nMADISON, WI 53715</td>\n",
       "    </tr>\n",
       "    <tr>\n",
       "      <th>inspections</th>\n",
       "      <td>{u'MainContent_2462414': {u'date': u'2/13/2014...</td>\n",
       "      <td>{u'MainContent_2471561': {u'date': u'3/27/2014...</td>\n",
       "      <td>{u'MainContent_2231550': {u'date': u'1/18/2012...</td>\n",
       "      <td>{u'MainContent_2478840': {u'date': u'4/29/2014...</td>\n",
       "      <td>{u'MainContent_2325667': {u'date': u'11/29/201...</td>\n",
       "    </tr>\n",
       "    <tr>\n",
       "      <th>name</th>\n",
       "      <td>Licari's Bar &amp; Grill</td>\n",
       "      <td>Paradise Lounge</td>\n",
       "      <td>Nick's Restaurant</td>\n",
       "      <td>Porta Bella</td>\n",
       "      <td>Oriental Shop</td>\n",
       "    </tr>\n",
       "    <tr>\n",
       "      <th>type</th>\n",
       "      <td>Primarily Restaurant</td>\n",
       "      <td>Primarily Restaurant</td>\n",
       "      <td>Primarily Restaurant</td>\n",
       "      <td>Primarily Restaurant</td>\n",
       "      <td>Retail Food Establishment</td>\n",
       "    </tr>\n",
       "    <tr>\n",
       "      <th>name_</th>\n",
       "      <td>licaris bar  grill</td>\n",
       "      <td>paradise lounge</td>\n",
       "      <td>nicks restaurant</td>\n",
       "      <td>porta bella</td>\n",
       "      <td>oriental shop</td>\n",
       "    </tr>\n",
       "    <tr>\n",
       "      <th>id_</th>\n",
       "      <td>MainContent_12775-2814</td>\n",
       "      <td>MainContent_1496-974</td>\n",
       "      <td>MainContent_1497-981</td>\n",
       "      <td>MainContent_1660-1106</td>\n",
       "      <td>MainContent_19803-4575</td>\n",
       "    </tr>\n",
       "    <tr>\n",
       "      <th>city_</th>\n",
       "      <td>madison</td>\n",
       "      <td>madison</td>\n",
       "      <td>madison</td>\n",
       "      <td>madison</td>\n",
       "      <td>madison</td>\n",
       "    </tr>\n",
       "    <tr>\n",
       "      <th>complex</th>\n",
       "      <td></td>\n",
       "      <td></td>\n",
       "      <td></td>\n",
       "      <td></td>\n",
       "      <td></td>\n",
       "    </tr>\n",
       "    <tr>\n",
       "      <th>num</th>\n",
       "      <td>1405</td>\n",
       "      <td>119</td>\n",
       "      <td>226</td>\n",
       "      <td>425</td>\n",
       "      <td>1029</td>\n",
       "    </tr>\n",
       "    <tr>\n",
       "      <th>street</th>\n",
       "      <td>emil st</td>\n",
       "      <td>west main st</td>\n",
       "      <td>state st</td>\n",
       "      <td>north frances st</td>\n",
       "      <td>south park st</td>\n",
       "    </tr>\n",
       "    <tr>\n",
       "      <th>suite</th>\n",
       "      <td></td>\n",
       "      <td></td>\n",
       "      <td></td>\n",
       "      <td></td>\n",
       "      <td></td>\n",
       "    </tr>\n",
       "    <tr>\n",
       "      <th>zip</th>\n",
       "      <td>53713</td>\n",
       "      <td>53703</td>\n",
       "      <td>53703</td>\n",
       "      <td>53703</td>\n",
       "      <td>53715</td>\n",
       "    </tr>\n",
       "  </tbody>\n",
       "</table>\n",
       "</div>"
      ],
      "text/plain": [
       "                                        MainContent_12775-2814  \\\n",
       "address                        1405 EMIL ST\\nMADISON, WI 53713   \n",
       "inspections  {u'MainContent_2462414': {u'date': u'2/13/2014...   \n",
       "name                                      Licari's Bar & Grill   \n",
       "type                                      Primarily Restaurant   \n",
       "name_                                       licaris bar  grill   \n",
       "id_                                     MainContent_12775-2814   \n",
       "city_                                                  madison   \n",
       "complex                                                          \n",
       "num                                                       1405   \n",
       "street                                                 emil st   \n",
       "suite                                                            \n",
       "zip                                                      53713   \n",
       "\n",
       "                                          MainContent_1496-974  \\\n",
       "address                       119 W MAIN ST\\nMADISON, WI 53703   \n",
       "inspections  {u'MainContent_2471561': {u'date': u'3/27/2014...   \n",
       "name                                           Paradise Lounge   \n",
       "type                                      Primarily Restaurant   \n",
       "name_                                          paradise lounge   \n",
       "id_                                       MainContent_1496-974   \n",
       "city_                                                  madison   \n",
       "complex                                                          \n",
       "num                                                        119   \n",
       "street                                            west main st   \n",
       "suite                                                            \n",
       "zip                                                      53703   \n",
       "\n",
       "                                          MainContent_1497-981  \\\n",
       "address                        226 STATE ST\\nMADISON, WI 53703   \n",
       "inspections  {u'MainContent_2231550': {u'date': u'1/18/2012...   \n",
       "name                                         Nick's Restaurant   \n",
       "type                                      Primarily Restaurant   \n",
       "name_                                         nicks restaurant   \n",
       "id_                                       MainContent_1497-981   \n",
       "city_                                                  madison   \n",
       "complex                                                          \n",
       "num                                                        226   \n",
       "street                                                state st   \n",
       "suite                                                            \n",
       "zip                                                      53703   \n",
       "\n",
       "                                         MainContent_1660-1106  \\\n",
       "address                    425 N FRANCES ST\\nMADISON, WI 53703   \n",
       "inspections  {u'MainContent_2478840': {u'date': u'4/29/2014...   \n",
       "name                                               Porta Bella   \n",
       "type                                      Primarily Restaurant   \n",
       "name_                                              porta bella   \n",
       "id_                                      MainContent_1660-1106   \n",
       "city_                                                  madison   \n",
       "complex                                                          \n",
       "num                                                        425   \n",
       "street                                        north frances st   \n",
       "suite                                                            \n",
       "zip                                                      53703   \n",
       "\n",
       "                                        MainContent_19803-4575  \n",
       "address                      1029 S PARK ST\\nMADISON, WI 53715  \n",
       "inspections  {u'MainContent_2325667': {u'date': u'11/29/201...  \n",
       "name                                             Oriental Shop  \n",
       "type                                 Retail Food Establishment  \n",
       "name_                                            oriental shop  \n",
       "id_                                     MainContent_19803-4575  \n",
       "city_                                                  madison  \n",
       "complex                                                         \n",
       "num                                                       1029  \n",
       "street                                           south park st  \n",
       "suite                                                           \n",
       "zip                                                      53715  "
      ]
     },
     "execution_count": 618,
     "metadata": {},
     "output_type": "execute_result"
    }
   ],
   "source": [
    "WI = H.copy()\n",
    "WI['name_'] = H.name.apply(lib.standard_name)\n",
    "WI['id_'] = H.index\n",
    "\n",
    "WI_address = WI.address.apply(lib.parse_address)\n",
    "col = WI_address.columns.values\n",
    "col[0] = 'city_'\n",
    "WI_address.columns = col\n",
    "\n",
    "WI = pd.concat([WI, WI_address], axis=1)\n",
    "\n",
    "WI.head().T"
   ]
  },
  {
   "cell_type": "code",
   "execution_count": 610,
   "metadata": {
    "collapsed": false
   },
   "outputs": [
    {
     "data": {
      "text/plain": [
       "address            214 COTTAGE GROVE RD\\nCOTTAGE GROVE, WI 53527\n",
       "inspections    {u'MainContent_2318593': {u'date': u'10/23/201...\n",
       "name                                                Village Cafe\n",
       "type                                        Primarily Restaurant\n",
       "name_                                               village cafe\n",
       "id_                                      MainContent_73719-81991\n",
       "city_                                                      grove\n",
       "complex                                                         \n",
       "num                                                          214\n",
       "street                                  cottage grove rd cottage\n",
       "suite                                                           \n",
       "zip                                                        53527\n",
       "Name: MainContent_73719-81991, dtype: object"
      ]
     },
     "execution_count": 610,
     "metadata": {},
     "output_type": "execute_result"
    }
   ],
   "source": [
    "WI.ix['MainContent_73719-81991']"
   ]
  },
  {
   "cell_type": "code",
   "execution_count": 599,
   "metadata": {
    "collapsed": false
   },
   "outputs": [
    {
     "name": "stdout",
     "output_type": "stream",
     "text": [
      "214 cottage grove rd\n",
      "cottage grove, wi 53527\n",
      "214 cottage grove rd\n",
      "cottage grove, wi 53527\n",
      "214 cottage grove rd\n",
      "cottage grove, wi 53527\n",
      "214 cottage grove rd\n",
      "cottage_grove, wi 53527\n"
     ]
    }
   ],
   "source": [
    "a = '214 COTTAGE GROVE RD\\nCOTTAGE GROVE, WI 53527'.lower()\n",
    "cities = {'mc farland':'mcfarland', 'de forest':'deforest', 'cottage grove':'cottage_grove', 'sun prairie':'sun_prairie'}\n",
    "for key, value in cities.iteritems():\n",
    "    print re.sub(r'\\n(%s, wi)\\b' % key, '\\n%s, wi' % value, a)"
   ]
  },
  {
   "cell_type": "code",
   "execution_count": 619,
   "metadata": {
    "collapsed": false
   },
   "outputs": [
    {
     "name": "stdout",
     "output_type": "stream",
     "text": [
      "(298, 25)\n",
      "(513, 27)\n"
     ]
    }
   ],
   "source": [
    "WI_ind = ['name_','num','street','city_','zip']\n",
    "#NV_ind = ['n' 'street','city_','zip']\n",
    "temp = WI.set_index(WI_ind).join(B_WI.set_index(WI_ind), how='inner', rsuffix = 'y_')\n",
    "print temp.shape\n",
    "\n",
    "H_x = WI[~WI.id_.isin(temp.id_)]\n",
    "B_x = B_WI[~B_WI.business_id.isin(temp.business_id)]\n",
    "\n",
    "WI_ind2 = ['num','street','city_','zip']\n",
    "temp2 = H_x.set_index(WI_ind2).join(B_x.set_index(WI_ind2), how='inner', rsuffix = 'y_')\n",
    "\n",
    "print temp2.shape\n",
    "\n",
    "temp_fuzz = lib.append_fuzz_scores(temp2)"
   ]
  },
  {
   "cell_type": "code",
   "execution_count": 620,
   "metadata": {
    "collapsed": false
   },
   "outputs": [
    {
     "name": "stdout",
     "output_type": "stream",
     "text": [
      "(568, 50)\n"
     ]
    }
   ],
   "source": [
    "ind_A = (temp_fuzz['max'] >= 75) & (temp_fuzz.avg_w_2 >= 75)\n",
    "ind_B = (temp_fuzz['max'] >= 60) & (temp_fuzz.avg_w_2 >= 60) & (temp_fuzz.avg_w_3 >= 80)\n",
    "WI_level2 = pd.concat([temp, temp_fuzz[ind_A | ind_B]])\n",
    "\n",
    "print WI_level2.shape\n",
    "\n",
    "H_x2 = WI[~WI.id_.isin(WI_level2.id_)]\n",
    "B_x2 = B_WI[~B_WI.business_id.isin(WI_level2.business_id)]"
   ]
  },
  {
   "cell_type": "code",
   "execution_count": 621,
   "metadata": {
    "collapsed": false
   },
   "outputs": [
    {
     "name": "stdout",
     "output_type": "stream",
     "text": [
      "(42492, 31)\n",
      "(42492, 54)\n"
     ]
    }
   ],
   "source": [
    "WI_ind3 = ['city_','zip']\n",
    "temp3 = H_x2.set_index(WI_ind3).join(B_x2.set_index(WI_ind3), how='inner', rsuffix = 'y_')\n",
    "print temp3.shape\n",
    "\n",
    "temp_fuzz3 = lib.append_fuzz_scores(temp3)\n",
    "print temp_fuzz3.shape"
   ]
  },
  {
   "cell_type": "code",
   "execution_count": 622,
   "metadata": {
    "collapsed": false
   },
   "outputs": [],
   "source": [
    "ind_A3 = (temp_fuzz3['max'] >= 75) & (temp_fuzz3.avg_w_2 >= 75)\n",
    "ind_B3 = (temp_fuzz3['max'] >= 60) & (temp_fuzz3.avg_w_2 >= 60) & (temp_fuzz3.avg_w_3 >= 80)\n",
    "temp_fuzz3[ind_A3 | ind_B3].to_csv('../data/mad/merge_dump_11.csv', encoding='utf-8')"
   ]
  },
  {
   "cell_type": "code",
   "execution_count": 623,
   "metadata": {
    "collapsed": false
   },
   "outputs": [
    {
     "name": "stdout",
     "output_type": "stream",
     "text": [
      "(654, 54)\n"
     ]
    }
   ],
   "source": [
    "def to_int(x):\n",
    "    try:\n",
    "        out = int(x)\n",
    "    except:\n",
    "        out = np.nan\n",
    "    return out\n",
    "\n",
    "ind_A3 = (temp_fuzz3['max'] >= 75) & (temp_fuzz3.avg_w_2 >= 75)\n",
    "ind_B3 = (temp_fuzz3['max'] >= 60) & (temp_fuzz3.avg_w_2 >= 60) & (temp_fuzz3.avg_w_3 >= 80)\n",
    "ind_C3 = temp_fuzz3.num == temp_fuzz3.numy_\n",
    "ind_D3 = (temp_fuzz3.street == temp_fuzz3.street) & \\\n",
    "         (abs(temp_fuzz3.num.apply(to_int) - temp_fuzz3.numy_.apply(to_int)) <= 100)\n",
    "WI_level3 = pd.concat([WI_level2, temp_fuzz3[(ind_A3 | ind_B3) & (ind_C3 | ind_D3)]])\n",
    "print WI_level3.shape"
   ]
  },
  {
   "cell_type": "code",
   "execution_count": 625,
   "metadata": {
    "collapsed": true
   },
   "outputs": [],
   "source": [
    "save_to_pickle(WI_level3,'../data/mad/madison_yelp_merge.pkl')"
   ]
  },
  {
   "cell_type": "code",
   "execution_count": 596,
   "metadata": {
    "collapsed": true
   },
   "outputs": [],
   "source": [
    "temp2.to_csv('../data/mad/merge_dump_01.csv', encoding='utf-8')"
   ]
  },
  {
   "cell_type": "code",
   "execution_count": 624,
   "metadata": {
    "collapsed": true
   },
   "outputs": [],
   "source": [
    "temp_fuzz.to_csv('../data/mad/merge_dump_03.csv', encoding='utf-8')"
   ]
  },
  {
   "cell_type": "code",
   "execution_count": 550,
   "metadata": {
    "collapsed": true
   },
   "outputs": [],
   "source": [
    "b_list = {'MainContent_73157-81352','MainContent_73211-81413','MainContent_LICFDD-2013-00052',\n",
    "          'MainContent_LICFDD-2015-00213','MainContent_73488-81733','MainContent_76218-87721',\n",
    "          'MainContent_73048-81214','MainContent_LICFDD-2015-00295'}\n",
    "ind_b_list = WI.id_.isin(b_list)"
   ]
  },
  {
   "cell_type": "code",
   "execution_count": 563,
   "metadata": {
    "collapsed": false
   },
   "outputs": [
    {
     "data": {
      "text/plain": [
       "<module 'merge_madison' from 'merge_madison.py'>"
      ]
     },
     "execution_count": 563,
     "metadata": {},
     "output_type": "execute_result"
    }
   ],
   "source": [
    "reload(lib)"
   ]
  },
  {
   "cell_type": "code",
   "execution_count": 582,
   "metadata": {
    "collapsed": false
   },
   "outputs": [
    {
     "data": {
      "text/plain": [
       "madison      719\n",
       "middleton     68\n",
       "prairie       45\n",
       "fitchburg     42\n",
       "monona        34\n",
       "verona        21\n",
       "waunakee      14\n",
       "farland        6\n",
       "grove          5\n",
       "deforest       5\n",
       "forest         5\n",
       "mcfarland      4\n",
       "windsor        3\n",
       "dane           2\n",
       "stoughton      2\n",
       "Name: city_, dtype: int64"
      ]
     },
     "execution_count": 582,
     "metadata": {},
     "output_type": "execute_result"
    }
   ],
   "source": [
    "B_WI.city_.value_counts()"
   ]
  },
  {
   "cell_type": "code",
   "execution_count": null,
   "metadata": {
    "collapsed": true
   },
   "outputs": [],
   "source": []
  },
  {
   "cell_type": "code",
   "execution_count": null,
   "metadata": {
    "collapsed": true
   },
   "outputs": [],
   "source": []
  },
  {
   "cell_type": "markdown",
   "metadata": {},
   "source": [
    "### Las Vegas, NV"
   ]
  },
  {
   "cell_type": "code",
   "execution_count": 626,
   "metadata": {
    "collapsed": true
   },
   "outputs": [],
   "source": [
    "import merge_vegas as lib"
   ]
  },
  {
   "cell_type": "code",
   "execution_count": 671,
   "metadata": {
    "collapsed": false
   },
   "outputs": [
    {
     "data": {
      "text/plain": [
       "<module 'merge_vegas' from 'merge_vegas.py'>"
      ]
     },
     "execution_count": 671,
     "metadata": {},
     "output_type": "execute_result"
    }
   ],
   "source": [
    "reload(lib)"
   ]
  },
  {
   "cell_type": "code",
   "execution_count": 672,
   "metadata": {
    "collapsed": false
   },
   "outputs": [
    {
     "name": "stdout",
     "output_type": "stream",
     "text": [
      "[ u'Caesars Palace Hotel & Casino\\n3570 Las Vegas Blvd S\\nThe Strip\\nLas Vegas, NV 89109']\n"
     ]
    },
    {
     "data": {
      "text/html": [
       "<div>\n",
       "<table border=\"1\" class=\"dataframe\">\n",
       "  <thead>\n",
       "    <tr style=\"text-align: right;\">\n",
       "      <th></th>\n",
       "      <th>city</th>\n",
       "      <th>complex</th>\n",
       "      <th>num</th>\n",
       "      <th>street</th>\n",
       "      <th>suite</th>\n",
       "      <th>zip</th>\n",
       "    </tr>\n",
       "  </thead>\n",
       "  <tbody>\n",
       "    <tr>\n",
       "      <th>0</th>\n",
       "      <td>las_vegas</td>\n",
       "      <td>caesars palace hotel casino</td>\n",
       "      <td>3570</td>\n",
       "      <td>las vegas blvd south</td>\n",
       "      <td></td>\n",
       "      <td>89109</td>\n",
       "    </tr>\n",
       "  </tbody>\n",
       "</table>\n",
       "</div>"
      ],
      "text/plain": [
       "        city                      complex   num                street suite  \\\n",
       "0  las_vegas  caesars palace hotel casino  3570  las vegas blvd south         \n",
       "\n",
       "     zip  \n",
       "0  89109  "
      ]
     },
     "execution_count": 672,
     "metadata": {},
     "output_type": "execute_result"
    }
   ],
   "source": [
    "test = B_NV[B_NV.business_id=='F14WDg0i6yZwXbflJ8ndaw']\n",
    "print test.full_address.values\n",
    "pd.Series(zip(test.full_address, test.neighborhoods)).apply(lambda x: lib.parse_address(*x))"
   ]
  },
  {
   "cell_type": "code",
   "execution_count": 673,
   "metadata": {
    "collapsed": false
   },
   "outputs": [],
   "source": [
    "B_NV = B[(B.state=='NV')& (B.categories.apply(lambda x: 'Restaurants' in x))]\n",
    "B_NV['address'] = B_NV.full_address.apply(lambda x: x.replace('\\n',' ')\\\n",
    "                                                     .replace('Ste','Suite')\\\n",
    "                                                     .replace(',','')\\\n",
    "                                                     .replace(' NV ', ' '))\n",
    "B_address = pd.Series(zip(B_NV.full_address, B_NV.neighborhoods)).apply(lambda x: lib.parse_address(*x))\n",
    "B_address.set_index(B_NV.index, inplace=True)\n",
    "col = B_address.columns.values\n",
    "col[0] = 'city_'\n",
    "B_address.columns = col\n",
    "B_NV = pd.concat([B_NV, B_address], axis=1)\n",
    "B_NV['name_'] = B_NV.name.apply(standard_name)"
   ]
  },
  {
   "cell_type": "code",
   "execution_count": 674,
   "metadata": {
    "collapsed": false
   },
   "outputs": [
    {
     "data": {
      "text/html": [
       "<div>\n",
       "<table border=\"1\" class=\"dataframe\">\n",
       "  <thead>\n",
       "    <tr style=\"text-align: right;\">\n",
       "      <th></th>\n",
       "      <th>61168</th>\n",
       "      <th>61169</th>\n",
       "      <th>61170</th>\n",
       "      <th>61175</th>\n",
       "      <th>61178</th>\n",
       "    </tr>\n",
       "  </thead>\n",
       "  <tbody>\n",
       "    <tr>\n",
       "      <th>attributes</th>\n",
       "      <td>{u'Take-out': True, u'Takes Reservations': Fal...</td>\n",
       "      <td>{u'Take-out': True, u'Accepts Credit Cards': T...</td>\n",
       "      <td>{u'Take-out': True, u'Accepts Credit Cards': T...</td>\n",
       "      <td>{u'Take-out': False, u'Price Range': 2, u'Outd...</td>\n",
       "      <td>{u'Take-out': False, u'Accepts Credit Cards': ...</td>\n",
       "    </tr>\n",
       "    <tr>\n",
       "      <th>business_id</th>\n",
       "      <td>F14WDg0i6yZwXbflJ8ndaw</td>\n",
       "      <td>5jpV_QXxhfs8wHOXX3E_3w</td>\n",
       "      <td>m0yKevji9esIZdqmK3IVPQ</td>\n",
       "      <td>AG3jFaQcABSFF-ry3l5t5g</td>\n",
       "      <td>qrgod2lrYnxHwNWC_YYTyQ</td>\n",
       "    </tr>\n",
       "    <tr>\n",
       "      <th>categories</th>\n",
       "      <td>[Pizza, Restaurants]</td>\n",
       "      <td>[Burgers, Fast Food, Sandwiches, Restaurants]</td>\n",
       "      <td>[Lebanese, Mediterranean, Middle Eastern, Rest...</td>\n",
       "      <td>[Breakfast &amp; Brunch, Buffets, Restaurants]</td>\n",
       "      <td>[Seafood, American (New), Latin American, Rest...</td>\n",
       "    </tr>\n",
       "    <tr>\n",
       "      <th>city</th>\n",
       "      <td>Las Vegas</td>\n",
       "      <td>Las Vegas</td>\n",
       "      <td>Henderson</td>\n",
       "      <td>Las Vegas</td>\n",
       "      <td>Las Vegas</td>\n",
       "    </tr>\n",
       "    <tr>\n",
       "      <th>full_address</th>\n",
       "      <td>Caesars Palace Hotel &amp; Casino\\n3570 Las Vegas ...</td>\n",
       "      <td>7210 S Durango Dr\\nSouthwest\\nLas Vegas, NV 89113</td>\n",
       "      <td>10100 S Eastern Ave\\nSte 120\\nAnthem\\nHenderso...</td>\n",
       "      <td>Excalibur Hotel Casino\\n3850 Las Vegas Blvd So...</td>\n",
       "      <td>2620 Regatta Dr\\nSummerlin\\nLas Vegas, NV 89128</td>\n",
       "    </tr>\n",
       "    <tr>\n",
       "      <th>hours</th>\n",
       "      <td>{}</td>\n",
       "      <td>{u'Monday': {u'close': u'00:00', u'open': u'00...</td>\n",
       "      <td>{u'Monday': {u'close': u'21:00', u'open': u'10...</td>\n",
       "      <td>{u'Monday': {u'close': u'22:00', u'open': u'07...</td>\n",
       "      <td>{u'Monday': {u'close': u'22:00', u'open': u'11...</td>\n",
       "    </tr>\n",
       "    <tr>\n",
       "      <th>latitude</th>\n",
       "      <td>36.1172</td>\n",
       "      <td>36.0572</td>\n",
       "      <td>36.0059</td>\n",
       "      <td>36.0989</td>\n",
       "      <td>36.2075</td>\n",
       "    </tr>\n",
       "    <tr>\n",
       "      <th>longitude</th>\n",
       "      <td>-115.178</td>\n",
       "      <td>-115.279</td>\n",
       "      <td>-115.112</td>\n",
       "      <td>-115.176</td>\n",
       "      <td>-115.268</td>\n",
       "    </tr>\n",
       "    <tr>\n",
       "      <th>name</th>\n",
       "      <td>Di Fara Pizza</td>\n",
       "      <td>Checkers Rally's</td>\n",
       "      <td>Shawarma Plus</td>\n",
       "      <td>The Buffet at Excalibur</td>\n",
       "      <td>Latin Fish</td>\n",
       "    </tr>\n",
       "    <tr>\n",
       "      <th>neighborhoods</th>\n",
       "      <td>[The Strip]</td>\n",
       "      <td>[Southwest, Spring Valley]</td>\n",
       "      <td>[Anthem]</td>\n",
       "      <td>[The Strip]</td>\n",
       "      <td>[Summerlin]</td>\n",
       "    </tr>\n",
       "    <tr>\n",
       "      <th>open</th>\n",
       "      <td>True</td>\n",
       "      <td>True</td>\n",
       "      <td>True</td>\n",
       "      <td>True</td>\n",
       "      <td>True</td>\n",
       "    </tr>\n",
       "    <tr>\n",
       "      <th>review_count</th>\n",
       "      <td>3</td>\n",
       "      <td>12</td>\n",
       "      <td>7</td>\n",
       "      <td>8</td>\n",
       "      <td>13</td>\n",
       "    </tr>\n",
       "    <tr>\n",
       "      <th>stars</th>\n",
       "      <td>4</td>\n",
       "      <td>3</td>\n",
       "      <td>5</td>\n",
       "      <td>3</td>\n",
       "      <td>4</td>\n",
       "    </tr>\n",
       "    <tr>\n",
       "      <th>state</th>\n",
       "      <td>NV</td>\n",
       "      <td>NV</td>\n",
       "      <td>NV</td>\n",
       "      <td>NV</td>\n",
       "      <td>NV</td>\n",
       "    </tr>\n",
       "    <tr>\n",
       "      <th>type</th>\n",
       "      <td>business</td>\n",
       "      <td>business</td>\n",
       "      <td>business</td>\n",
       "      <td>business</td>\n",
       "      <td>business</td>\n",
       "    </tr>\n",
       "    <tr>\n",
       "      <th>address</th>\n",
       "      <td>Caesars Palace Hotel &amp; Casino 3570 Las Vegas B...</td>\n",
       "      <td>7210 S Durango Dr Southwest Las Vegas 89113</td>\n",
       "      <td>10100 S Eastern Ave Suite 120 Anthem Henderson...</td>\n",
       "      <td>Excalibur Hotel Casino 3850 Las Vegas Blvd Sou...</td>\n",
       "      <td>2620 Regatta Dr Summerlin Las Vegas 89128</td>\n",
       "    </tr>\n",
       "    <tr>\n",
       "      <th>city_</th>\n",
       "      <td>las_vegas</td>\n",
       "      <td>las_vegas</td>\n",
       "      <td>henderson</td>\n",
       "      <td>las_vegas</td>\n",
       "      <td>las_vegas</td>\n",
       "    </tr>\n",
       "    <tr>\n",
       "      <th>complex</th>\n",
       "      <td>caesars palace hotel casino</td>\n",
       "      <td></td>\n",
       "      <td></td>\n",
       "      <td>excalibur hotel casino</td>\n",
       "      <td></td>\n",
       "    </tr>\n",
       "    <tr>\n",
       "      <th>num</th>\n",
       "      <td>3570</td>\n",
       "      <td>7210</td>\n",
       "      <td>10100</td>\n",
       "      <td>3850</td>\n",
       "      <td>2620</td>\n",
       "    </tr>\n",
       "    <tr>\n",
       "      <th>street</th>\n",
       "      <td>las vegas blvd south</td>\n",
       "      <td>south durango dr</td>\n",
       "      <td>south eastern av</td>\n",
       "      <td>las vegas blvd south</td>\n",
       "      <td>regatta dr</td>\n",
       "    </tr>\n",
       "    <tr>\n",
       "      <th>suite</th>\n",
       "      <td></td>\n",
       "      <td></td>\n",
       "      <td>ste 120</td>\n",
       "      <td></td>\n",
       "      <td></td>\n",
       "    </tr>\n",
       "    <tr>\n",
       "      <th>zip</th>\n",
       "      <td>89109</td>\n",
       "      <td>89113</td>\n",
       "      <td>89052</td>\n",
       "      <td>89109</td>\n",
       "      <td>89128</td>\n",
       "    </tr>\n",
       "    <tr>\n",
       "      <th>name_</th>\n",
       "      <td>di fara pizza</td>\n",
       "      <td>checkers rallys</td>\n",
       "      <td>shawarma plus</td>\n",
       "      <td>the buffet</td>\n",
       "      <td>latin fish</td>\n",
       "    </tr>\n",
       "  </tbody>\n",
       "</table>\n",
       "</div>"
      ],
      "text/plain": [
       "                                                           61168  \\\n",
       "attributes     {u'Take-out': True, u'Takes Reservations': Fal...   \n",
       "business_id                               F14WDg0i6yZwXbflJ8ndaw   \n",
       "categories                                  [Pizza, Restaurants]   \n",
       "city                                                   Las Vegas   \n",
       "full_address   Caesars Palace Hotel & Casino\\n3570 Las Vegas ...   \n",
       "hours                                                         {}   \n",
       "latitude                                                 36.1172   \n",
       "longitude                                               -115.178   \n",
       "name                                               Di Fara Pizza   \n",
       "neighborhoods                                        [The Strip]   \n",
       "open                                                        True   \n",
       "review_count                                                   3   \n",
       "stars                                                          4   \n",
       "state                                                         NV   \n",
       "type                                                    business   \n",
       "address        Caesars Palace Hotel & Casino 3570 Las Vegas B...   \n",
       "city_                                                  las_vegas   \n",
       "complex                              caesars palace hotel casino   \n",
       "num                                                         3570   \n",
       "street                                      las vegas blvd south   \n",
       "suite                                                              \n",
       "zip                                                        89109   \n",
       "name_                                              di fara pizza   \n",
       "\n",
       "                                                           61169  \\\n",
       "attributes     {u'Take-out': True, u'Accepts Credit Cards': T...   \n",
       "business_id                               5jpV_QXxhfs8wHOXX3E_3w   \n",
       "categories         [Burgers, Fast Food, Sandwiches, Restaurants]   \n",
       "city                                                   Las Vegas   \n",
       "full_address   7210 S Durango Dr\\nSouthwest\\nLas Vegas, NV 89113   \n",
       "hours          {u'Monday': {u'close': u'00:00', u'open': u'00...   \n",
       "latitude                                                 36.0572   \n",
       "longitude                                               -115.279   \n",
       "name                                            Checkers Rally's   \n",
       "neighborhoods                         [Southwest, Spring Valley]   \n",
       "open                                                        True   \n",
       "review_count                                                  12   \n",
       "stars                                                          3   \n",
       "state                                                         NV   \n",
       "type                                                    business   \n",
       "address              7210 S Durango Dr Southwest Las Vegas 89113   \n",
       "city_                                                  las_vegas   \n",
       "complex                                                            \n",
       "num                                                         7210   \n",
       "street                                          south durango dr   \n",
       "suite                                                              \n",
       "zip                                                        89113   \n",
       "name_                                            checkers rallys   \n",
       "\n",
       "                                                           61170  \\\n",
       "attributes     {u'Take-out': True, u'Accepts Credit Cards': T...   \n",
       "business_id                               m0yKevji9esIZdqmK3IVPQ   \n",
       "categories     [Lebanese, Mediterranean, Middle Eastern, Rest...   \n",
       "city                                                   Henderson   \n",
       "full_address   10100 S Eastern Ave\\nSte 120\\nAnthem\\nHenderso...   \n",
       "hours          {u'Monday': {u'close': u'21:00', u'open': u'10...   \n",
       "latitude                                                 36.0059   \n",
       "longitude                                               -115.112   \n",
       "name                                               Shawarma Plus   \n",
       "neighborhoods                                           [Anthem]   \n",
       "open                                                        True   \n",
       "review_count                                                   7   \n",
       "stars                                                          5   \n",
       "state                                                         NV   \n",
       "type                                                    business   \n",
       "address        10100 S Eastern Ave Suite 120 Anthem Henderson...   \n",
       "city_                                                  henderson   \n",
       "complex                                                            \n",
       "num                                                        10100   \n",
       "street                                          south eastern av   \n",
       "suite                                                    ste 120   \n",
       "zip                                                        89052   \n",
       "name_                                              shawarma plus   \n",
       "\n",
       "                                                           61175  \\\n",
       "attributes     {u'Take-out': False, u'Price Range': 2, u'Outd...   \n",
       "business_id                               AG3jFaQcABSFF-ry3l5t5g   \n",
       "categories            [Breakfast & Brunch, Buffets, Restaurants]   \n",
       "city                                                   Las Vegas   \n",
       "full_address   Excalibur Hotel Casino\\n3850 Las Vegas Blvd So...   \n",
       "hours          {u'Monday': {u'close': u'22:00', u'open': u'07...   \n",
       "latitude                                                 36.0989   \n",
       "longitude                                               -115.176   \n",
       "name                                     The Buffet at Excalibur   \n",
       "neighborhoods                                        [The Strip]   \n",
       "open                                                        True   \n",
       "review_count                                                   8   \n",
       "stars                                                          3   \n",
       "state                                                         NV   \n",
       "type                                                    business   \n",
       "address        Excalibur Hotel Casino 3850 Las Vegas Blvd Sou...   \n",
       "city_                                                  las_vegas   \n",
       "complex                                   excalibur hotel casino   \n",
       "num                                                         3850   \n",
       "street                                      las vegas blvd south   \n",
       "suite                                                              \n",
       "zip                                                        89109   \n",
       "name_                                                 the buffet   \n",
       "\n",
       "                                                           61178  \n",
       "attributes     {u'Take-out': False, u'Accepts Credit Cards': ...  \n",
       "business_id                               qrgod2lrYnxHwNWC_YYTyQ  \n",
       "categories     [Seafood, American (New), Latin American, Rest...  \n",
       "city                                                   Las Vegas  \n",
       "full_address     2620 Regatta Dr\\nSummerlin\\nLas Vegas, NV 89128  \n",
       "hours          {u'Monday': {u'close': u'22:00', u'open': u'11...  \n",
       "latitude                                                 36.2075  \n",
       "longitude                                               -115.268  \n",
       "name                                                  Latin Fish  \n",
       "neighborhoods                                        [Summerlin]  \n",
       "open                                                        True  \n",
       "review_count                                                  13  \n",
       "stars                                                          4  \n",
       "state                                                         NV  \n",
       "type                                                    business  \n",
       "address                2620 Regatta Dr Summerlin Las Vegas 89128  \n",
       "city_                                                  las_vegas  \n",
       "complex                                                           \n",
       "num                                                         2620  \n",
       "street                                                regatta dr  \n",
       "suite                                                             \n",
       "zip                                                        89128  \n",
       "name_                                                 latin fish  "
      ]
     },
     "execution_count": 674,
     "metadata": {},
     "output_type": "execute_result"
    }
   ],
   "source": [
    "B_NV.tail().T"
   ]
  },
  {
   "cell_type": "code",
   "execution_count": 676,
   "metadata": {
    "collapsed": true
   },
   "outputs": [],
   "source": [
    "H = pd.read_csv('../data/vegas/restaurant_establishments.csv', delimiter=';', header=None, skiprows=1)\n",
    "H.columns = ['permit_number', 'facility_id', 'PE', 'restaurant_name',  'location_name',\n",
    "             'address', 'latitude', 'longitude', 'city_id', \n",
    "             'city_name', 'zip_code', 'nciaa', 'plan_review', 'record_status',\n",
    "             'current_grade', 'current_demerits', 'date_current', 'previous_grade', \n",
    "             'date_previous', 'misc','empty']"
   ]
  },
  {
   "cell_type": "code",
   "execution_count": 462,
   "metadata": {
    "collapsed": true
   },
   "outputs": [
    {
     "name": "stdout",
     "output_type": "stream",
     "text": [
      "<class 'pandas.core.frame.DataFrame'>\n",
      "Int64Index: 20467 entries, 0 to 20466\n",
      "Data columns (total 21 columns):\n",
      "permit_number       20467 non-null object\n",
      "facility_id         20467 non-null object\n",
      "PE                  20467 non-null int64\n",
      "restaurant_name     20465 non-null object\n",
      "location_name       20467 non-null object\n",
      "address             20444 non-null object\n",
      "latitude            20457 non-null float64\n",
      "longitude           20457 non-null float64\n",
      "city_id             20467 non-null int64\n",
      "city_name           20467 non-null object\n",
      "zip_code            20449 non-null object\n",
      "nciaa               15160 non-null object\n",
      "plan_review         13 non-null float64\n",
      "record_status       20467 non-null int64\n",
      "current_grade       19265 non-null object\n",
      "current_demerits    19914 non-null float64\n",
      "date_current        19265 non-null object\n",
      "previous_grade      18177 non-null object\n",
      "date_previous       18177 non-null object\n",
      "misc                20467 non-null object\n",
      "empty               0 non-null float64\n",
      "dtypes: float64(5), int64(3), object(13)\n",
      "memory usage: 3.4+ MB\n"
     ]
    }
   ],
   "source": [
    "H.info()"
   ]
  },
  {
   "cell_type": "code",
   "execution_count": 470,
   "metadata": {
    "collapsed": false,
    "scrolled": true
   },
   "outputs": [
    {
     "data": {
      "text/html": [
       "<div>\n",
       "<table border=\"1\" class=\"dataframe\">\n",
       "  <thead>\n",
       "    <tr style=\"text-align: right;\">\n",
       "      <th></th>\n",
       "      <th>0</th>\n",
       "      <th>1</th>\n",
       "      <th>2</th>\n",
       "      <th>3</th>\n",
       "      <th>4</th>\n",
       "    </tr>\n",
       "  </thead>\n",
       "  <tbody>\n",
       "    <tr>\n",
       "      <th>permit_number</th>\n",
       "      <td>PR0000002</td>\n",
       "      <td>PR0000003</td>\n",
       "      <td>PR0000004</td>\n",
       "      <td>PR0000005</td>\n",
       "      <td>PR0000006</td>\n",
       "    </tr>\n",
       "    <tr>\n",
       "      <th>facility_id</th>\n",
       "      <td>FA0002677</td>\n",
       "      <td>FA0002678</td>\n",
       "      <td>FA0002679</td>\n",
       "      <td>FA0002680</td>\n",
       "      <td>FA0002681</td>\n",
       "    </tr>\n",
       "    <tr>\n",
       "      <th>PE</th>\n",
       "      <td>1006</td>\n",
       "      <td>1008</td>\n",
       "      <td>1007</td>\n",
       "      <td>1007</td>\n",
       "      <td>1006</td>\n",
       "    </tr>\n",
       "    <tr>\n",
       "      <th>restaurant_name</th>\n",
       "      <td>McDonald's #3549 D HOTEL</td>\n",
       "      <td>McDonald's #5551</td>\n",
       "      <td>McDonald's #7675</td>\n",
       "      <td>McDonald's 2922</td>\n",
       "      <td>McDonald's #3153 Plaza</td>\n",
       "    </tr>\n",
       "    <tr>\n",
       "      <th>location_name</th>\n",
       "      <td>D HOTEL - McDonalds #3549</td>\n",
       "      <td>McDonalds Corporation</td>\n",
       "      <td>McDonalds #7675 Rancho &amp; Cheyenne</td>\n",
       "      <td>McDonalds 2922</td>\n",
       "      <td>Plaza Hotel - McDonalds</td>\n",
       "    </tr>\n",
       "    <tr>\n",
       "      <th>address</th>\n",
       "      <td>301 Fremont St</td>\n",
       "      <td>4400 E Charleston Blvd</td>\n",
       "      <td>3175 N Rancho Dr</td>\n",
       "      <td>2020 N Rainbow Blvd</td>\n",
       "      <td>1 S Main St</td>\n",
       "    </tr>\n",
       "    <tr>\n",
       "      <th>latitude</th>\n",
       "      <td>36.1694</td>\n",
       "      <td>36.1594</td>\n",
       "      <td>36.2168</td>\n",
       "      <td>36.1964</td>\n",
       "      <td>36.1722</td>\n",
       "    </tr>\n",
       "    <tr>\n",
       "      <th>longitude</th>\n",
       "      <td>-115.143</td>\n",
       "      <td>-115.08</td>\n",
       "      <td>-115.212</td>\n",
       "      <td>-115.241</td>\n",
       "      <td>-115.147</td>\n",
       "    </tr>\n",
       "    <tr>\n",
       "      <th>city_id</th>\n",
       "      <td>10</td>\n",
       "      <td>10</td>\n",
       "      <td>10</td>\n",
       "      <td>10</td>\n",
       "      <td>10</td>\n",
       "    </tr>\n",
       "    <tr>\n",
       "      <th>city_name</th>\n",
       "      <td>Las Vegas</td>\n",
       "      <td>Las Vegas</td>\n",
       "      <td>Las Vegas</td>\n",
       "      <td>Las Vegas</td>\n",
       "      <td>Las Vegas</td>\n",
       "    </tr>\n",
       "    <tr>\n",
       "      <th>zip_code</th>\n",
       "      <td>89101-5600</td>\n",
       "      <td>89104-5506</td>\n",
       "      <td>89130-3302</td>\n",
       "      <td>89108-7049</td>\n",
       "      <td>89101-6370</td>\n",
       "    </tr>\n",
       "    <tr>\n",
       "      <th>nciaa</th>\n",
       "      <td>N</td>\n",
       "      <td>Y</td>\n",
       "      <td>Y</td>\n",
       "      <td>Y</td>\n",
       "      <td>Y</td>\n",
       "    </tr>\n",
       "    <tr>\n",
       "      <th>plan_review</th>\n",
       "      <td>NaN</td>\n",
       "      <td>NaN</td>\n",
       "      <td>NaN</td>\n",
       "      <td>NaN</td>\n",
       "      <td>NaN</td>\n",
       "    </tr>\n",
       "    <tr>\n",
       "      <th>record_status</th>\n",
       "      <td>1</td>\n",
       "      <td>1</td>\n",
       "      <td>1</td>\n",
       "      <td>1</td>\n",
       "      <td>1</td>\n",
       "    </tr>\n",
       "    <tr>\n",
       "      <th>current_grade</th>\n",
       "      <td>A</td>\n",
       "      <td>A</td>\n",
       "      <td>A</td>\n",
       "      <td>A</td>\n",
       "      <td>A</td>\n",
       "    </tr>\n",
       "    <tr>\n",
       "      <th>current_demerits</th>\n",
       "      <td>8</td>\n",
       "      <td>6</td>\n",
       "      <td>3</td>\n",
       "      <td>6</td>\n",
       "      <td>6</td>\n",
       "    </tr>\n",
       "    <tr>\n",
       "      <th>date_current</th>\n",
       "      <td>2015-08-20 00:00:00</td>\n",
       "      <td>2015-06-12 00:00:00</td>\n",
       "      <td>2015-06-09 00:00:00</td>\n",
       "      <td>2015-02-09 00:00:00</td>\n",
       "      <td>2015-07-28 00:00:00</td>\n",
       "    </tr>\n",
       "    <tr>\n",
       "      <th>previous_grade</th>\n",
       "      <td>A</td>\n",
       "      <td>A</td>\n",
       "      <td>A</td>\n",
       "      <td>A</td>\n",
       "      <td>A</td>\n",
       "    </tr>\n",
       "    <tr>\n",
       "      <th>date_previous</th>\n",
       "      <td>2015-08-20 00:00:00</td>\n",
       "      <td>2015-06-12 00:00:00</td>\n",
       "      <td>2015-06-09 00:00:00</td>\n",
       "      <td>2014-04-23 00:00:00</td>\n",
       "      <td>2015-07-28 00:00:00</td>\n",
       "    </tr>\n",
       "    <tr>\n",
       "      <th>misc</th>\n",
       "      <td>McDonald's #3549 D HOTEL McDonalds 3549 D HOTEL</td>\n",
       "      <td>McDonald's #5551 McDonalds 5551</td>\n",
       "      <td>McDonald's #7675 McDonalds 7675</td>\n",
       "      <td>McDonald's 2922 McDonalds 2922</td>\n",
       "      <td>McDonald's #3153 Plaza McDonalds 3153 Plaza</td>\n",
       "    </tr>\n",
       "    <tr>\n",
       "      <th>empty</th>\n",
       "      <td>NaN</td>\n",
       "      <td>NaN</td>\n",
       "      <td>NaN</td>\n",
       "      <td>NaN</td>\n",
       "      <td>NaN</td>\n",
       "    </tr>\n",
       "  </tbody>\n",
       "</table>\n",
       "</div>"
      ],
      "text/plain": [
       "                                                                0  \\\n",
       "permit_number                                           PR0000002   \n",
       "facility_id                                             FA0002677   \n",
       "PE                                                           1006   \n",
       "restaurant_name                          McDonald's #3549 D HOTEL   \n",
       "location_name                           D HOTEL - McDonalds #3549   \n",
       "address                                            301 Fremont St   \n",
       "latitude                                                  36.1694   \n",
       "longitude                                                -115.143   \n",
       "city_id                                                        10   \n",
       "city_name                                               Las Vegas   \n",
       "zip_code                                               89101-5600   \n",
       "nciaa                                                           N   \n",
       "plan_review                                                   NaN   \n",
       "record_status                                                   1   \n",
       "current_grade                                                   A   \n",
       "current_demerits                                                8   \n",
       "date_current                                  2015-08-20 00:00:00   \n",
       "previous_grade                                                  A   \n",
       "date_previous                                 2015-08-20 00:00:00   \n",
       "misc              McDonald's #3549 D HOTEL McDonalds 3549 D HOTEL   \n",
       "empty                                                         NaN   \n",
       "\n",
       "                                                1  \\\n",
       "permit_number                           PR0000003   \n",
       "facility_id                             FA0002678   \n",
       "PE                                           1008   \n",
       "restaurant_name                  McDonald's #5551   \n",
       "location_name               McDonalds Corporation   \n",
       "address                    4400 E Charleston Blvd   \n",
       "latitude                                  36.1594   \n",
       "longitude                                 -115.08   \n",
       "city_id                                        10   \n",
       "city_name                               Las Vegas   \n",
       "zip_code                               89104-5506   \n",
       "nciaa                                           Y   \n",
       "plan_review                                   NaN   \n",
       "record_status                                   1   \n",
       "current_grade                                   A   \n",
       "current_demerits                                6   \n",
       "date_current                  2015-06-12 00:00:00   \n",
       "previous_grade                                  A   \n",
       "date_previous                 2015-06-12 00:00:00   \n",
       "misc              McDonald's #5551 McDonalds 5551   \n",
       "empty                                         NaN   \n",
       "\n",
       "                                                  2  \\\n",
       "permit_number                             PR0000004   \n",
       "facility_id                               FA0002679   \n",
       "PE                                             1007   \n",
       "restaurant_name                    McDonald's #7675   \n",
       "location_name     McDonalds #7675 Rancho & Cheyenne   \n",
       "address                            3175 N Rancho Dr   \n",
       "latitude                                    36.2168   \n",
       "longitude                                  -115.212   \n",
       "city_id                                          10   \n",
       "city_name                                 Las Vegas   \n",
       "zip_code                                 89130-3302   \n",
       "nciaa                                             Y   \n",
       "plan_review                                     NaN   \n",
       "record_status                                     1   \n",
       "current_grade                                     A   \n",
       "current_demerits                                  3   \n",
       "date_current                    2015-06-09 00:00:00   \n",
       "previous_grade                                    A   \n",
       "date_previous                   2015-06-09 00:00:00   \n",
       "misc                McDonald's #7675 McDonalds 7675   \n",
       "empty                                           NaN   \n",
       "\n",
       "                                               3  \\\n",
       "permit_number                          PR0000005   \n",
       "facility_id                            FA0002680   \n",
       "PE                                          1007   \n",
       "restaurant_name                  McDonald's 2922   \n",
       "location_name                     McDonalds 2922   \n",
       "address                      2020 N Rainbow Blvd   \n",
       "latitude                                 36.1964   \n",
       "longitude                               -115.241   \n",
       "city_id                                       10   \n",
       "city_name                              Las Vegas   \n",
       "zip_code                              89108-7049   \n",
       "nciaa                                          Y   \n",
       "plan_review                                  NaN   \n",
       "record_status                                  1   \n",
       "current_grade                                  A   \n",
       "current_demerits                               6   \n",
       "date_current                 2015-02-09 00:00:00   \n",
       "previous_grade                                 A   \n",
       "date_previous                2014-04-23 00:00:00   \n",
       "misc              McDonald's 2922 McDonalds 2922   \n",
       "empty                                        NaN   \n",
       "\n",
       "                                                            4  \n",
       "permit_number                                       PR0000006  \n",
       "facility_id                                         FA0002681  \n",
       "PE                                                       1006  \n",
       "restaurant_name                        McDonald's #3153 Plaza  \n",
       "location_name                         Plaza Hotel - McDonalds  \n",
       "address                                           1 S Main St  \n",
       "latitude                                              36.1722  \n",
       "longitude                                            -115.147  \n",
       "city_id                                                    10  \n",
       "city_name                                           Las Vegas  \n",
       "zip_code                                           89101-6370  \n",
       "nciaa                                                       Y  \n",
       "plan_review                                               NaN  \n",
       "record_status                                               1  \n",
       "current_grade                                               A  \n",
       "current_demerits                                            6  \n",
       "date_current                              2015-07-28 00:00:00  \n",
       "previous_grade                                              A  \n",
       "date_previous                             2015-07-28 00:00:00  \n",
       "misc              McDonald's #3153 Plaza McDonalds 3153 Plaza  \n",
       "empty                                                     NaN  "
      ]
     },
     "execution_count": 470,
     "metadata": {},
     "output_type": "execute_result"
    }
   ],
   "source": [
    "H.head().T"
   ]
  },
  {
   "cell_type": "code",
   "execution_count": 678,
   "metadata": {
    "collapsed": false
   },
   "outputs": [
    {
     "data": {
      "text/plain": [
       "<module 'merge_vegas' from 'merge_vegas.pyc'>"
      ]
     },
     "execution_count": 678,
     "metadata": {},
     "output_type": "execute_result"
    }
   ],
   "source": [
    "reload(lib)"
   ]
  },
  {
   "cell_type": "code",
   "execution_count": 679,
   "metadata": {
    "collapsed": false
   },
   "outputs": [
    {
     "data": {
      "text/html": [
       "<div>\n",
       "<table border=\"1\" class=\"dataframe\">\n",
       "  <thead>\n",
       "    <tr style=\"text-align: right;\">\n",
       "      <th></th>\n",
       "      <th>0</th>\n",
       "      <th>1</th>\n",
       "      <th>2</th>\n",
       "      <th>3</th>\n",
       "      <th>4</th>\n",
       "    </tr>\n",
       "  </thead>\n",
       "  <tbody>\n",
       "    <tr>\n",
       "      <th>permit_number</th>\n",
       "      <td>PR0000002</td>\n",
       "      <td>PR0000003</td>\n",
       "      <td>PR0000004</td>\n",
       "      <td>PR0000005</td>\n",
       "      <td>PR0000006</td>\n",
       "    </tr>\n",
       "    <tr>\n",
       "      <th>facility_id</th>\n",
       "      <td>FA0002677</td>\n",
       "      <td>FA0002678</td>\n",
       "      <td>FA0002679</td>\n",
       "      <td>FA0002680</td>\n",
       "      <td>FA0002681</td>\n",
       "    </tr>\n",
       "    <tr>\n",
       "      <th>PE</th>\n",
       "      <td>1006</td>\n",
       "      <td>1008</td>\n",
       "      <td>1007</td>\n",
       "      <td>1007</td>\n",
       "      <td>1006</td>\n",
       "    </tr>\n",
       "    <tr>\n",
       "      <th>restaurant_name</th>\n",
       "      <td>McDonald's #3549 D HOTEL</td>\n",
       "      <td>McDonald's #5551</td>\n",
       "      <td>McDonald's #7675</td>\n",
       "      <td>McDonald's 2922</td>\n",
       "      <td>McDonald's #3153 Plaza</td>\n",
       "    </tr>\n",
       "    <tr>\n",
       "      <th>location_name</th>\n",
       "      <td>D HOTEL - McDonalds #3549</td>\n",
       "      <td>McDonalds Corporation</td>\n",
       "      <td>McDonalds #7675 Rancho &amp; Cheyenne</td>\n",
       "      <td>McDonalds 2922</td>\n",
       "      <td>Plaza Hotel - McDonalds</td>\n",
       "    </tr>\n",
       "    <tr>\n",
       "      <th>address</th>\n",
       "      <td>301 Fremont St</td>\n",
       "      <td>4400 E Charleston Blvd</td>\n",
       "      <td>3175 N Rancho Dr</td>\n",
       "      <td>2020 N Rainbow Blvd</td>\n",
       "      <td>1 S Main St</td>\n",
       "    </tr>\n",
       "    <tr>\n",
       "      <th>latitude</th>\n",
       "      <td>36.1694</td>\n",
       "      <td>36.1594</td>\n",
       "      <td>36.2168</td>\n",
       "      <td>36.1964</td>\n",
       "      <td>36.1722</td>\n",
       "    </tr>\n",
       "    <tr>\n",
       "      <th>longitude</th>\n",
       "      <td>-115.143</td>\n",
       "      <td>-115.08</td>\n",
       "      <td>-115.212</td>\n",
       "      <td>-115.241</td>\n",
       "      <td>-115.147</td>\n",
       "    </tr>\n",
       "    <tr>\n",
       "      <th>city_id</th>\n",
       "      <td>10</td>\n",
       "      <td>10</td>\n",
       "      <td>10</td>\n",
       "      <td>10</td>\n",
       "      <td>10</td>\n",
       "    </tr>\n",
       "    <tr>\n",
       "      <th>city_name</th>\n",
       "      <td>Las Vegas</td>\n",
       "      <td>Las Vegas</td>\n",
       "      <td>Las Vegas</td>\n",
       "      <td>Las Vegas</td>\n",
       "      <td>Las Vegas</td>\n",
       "    </tr>\n",
       "    <tr>\n",
       "      <th>zip_code</th>\n",
       "      <td>89101-5600</td>\n",
       "      <td>89104-5506</td>\n",
       "      <td>89130-3302</td>\n",
       "      <td>89108-7049</td>\n",
       "      <td>89101-6370</td>\n",
       "    </tr>\n",
       "    <tr>\n",
       "      <th>nciaa</th>\n",
       "      <td>N</td>\n",
       "      <td>Y</td>\n",
       "      <td>Y</td>\n",
       "      <td>Y</td>\n",
       "      <td>Y</td>\n",
       "    </tr>\n",
       "    <tr>\n",
       "      <th>plan_review</th>\n",
       "      <td>NaN</td>\n",
       "      <td>NaN</td>\n",
       "      <td>NaN</td>\n",
       "      <td>NaN</td>\n",
       "      <td>NaN</td>\n",
       "    </tr>\n",
       "    <tr>\n",
       "      <th>record_status</th>\n",
       "      <td>1</td>\n",
       "      <td>1</td>\n",
       "      <td>1</td>\n",
       "      <td>1</td>\n",
       "      <td>1</td>\n",
       "    </tr>\n",
       "    <tr>\n",
       "      <th>current_grade</th>\n",
       "      <td>A</td>\n",
       "      <td>A</td>\n",
       "      <td>A</td>\n",
       "      <td>A</td>\n",
       "      <td>A</td>\n",
       "    </tr>\n",
       "    <tr>\n",
       "      <th>current_demerits</th>\n",
       "      <td>8</td>\n",
       "      <td>6</td>\n",
       "      <td>3</td>\n",
       "      <td>6</td>\n",
       "      <td>6</td>\n",
       "    </tr>\n",
       "    <tr>\n",
       "      <th>date_current</th>\n",
       "      <td>2015-08-20 00:00:00</td>\n",
       "      <td>2015-06-12 00:00:00</td>\n",
       "      <td>2015-06-09 00:00:00</td>\n",
       "      <td>2015-02-09 00:00:00</td>\n",
       "      <td>2015-07-28 00:00:00</td>\n",
       "    </tr>\n",
       "    <tr>\n",
       "      <th>previous_grade</th>\n",
       "      <td>A</td>\n",
       "      <td>A</td>\n",
       "      <td>A</td>\n",
       "      <td>A</td>\n",
       "      <td>A</td>\n",
       "    </tr>\n",
       "    <tr>\n",
       "      <th>date_previous</th>\n",
       "      <td>2015-08-20 00:00:00</td>\n",
       "      <td>2015-06-12 00:00:00</td>\n",
       "      <td>2015-06-09 00:00:00</td>\n",
       "      <td>2014-04-23 00:00:00</td>\n",
       "      <td>2015-07-28 00:00:00</td>\n",
       "    </tr>\n",
       "    <tr>\n",
       "      <th>misc</th>\n",
       "      <td>McDonald's #3549 D HOTEL McDonalds 3549 D HOTEL</td>\n",
       "      <td>McDonald's #5551 McDonalds 5551</td>\n",
       "      <td>McDonald's #7675 McDonalds 7675</td>\n",
       "      <td>McDonald's 2922 McDonalds 2922</td>\n",
       "      <td>McDonald's #3153 Plaza McDonalds 3153 Plaza</td>\n",
       "    </tr>\n",
       "    <tr>\n",
       "      <th>empty</th>\n",
       "      <td>NaN</td>\n",
       "      <td>NaN</td>\n",
       "      <td>NaN</td>\n",
       "      <td>NaN</td>\n",
       "      <td>NaN</td>\n",
       "    </tr>\n",
       "    <tr>\n",
       "      <th>name_</th>\n",
       "      <td>mcdonalds</td>\n",
       "      <td>mcdonalds</td>\n",
       "      <td>mcdonalds</td>\n",
       "      <td>mcdonalds 2922</td>\n",
       "      <td>mcdonalds</td>\n",
       "    </tr>\n",
       "    <tr>\n",
       "      <th>city_</th>\n",
       "      <td>las_vegas</td>\n",
       "      <td>las_vegas</td>\n",
       "      <td>las_vegas</td>\n",
       "      <td>las_vegas</td>\n",
       "      <td>las_vegas</td>\n",
       "    </tr>\n",
       "    <tr>\n",
       "      <th>zip</th>\n",
       "      <td>89101</td>\n",
       "      <td>89104</td>\n",
       "      <td>89130</td>\n",
       "      <td>89108</td>\n",
       "      <td>89101</td>\n",
       "    </tr>\n",
       "    <tr>\n",
       "      <th>num</th>\n",
       "      <td>301</td>\n",
       "      <td>4400</td>\n",
       "      <td>3175</td>\n",
       "      <td>2020</td>\n",
       "      <td>1</td>\n",
       "    </tr>\n",
       "    <tr>\n",
       "      <th>street</th>\n",
       "      <td>fremont st</td>\n",
       "      <td>east charleston blvd</td>\n",
       "      <td>north rancho dr</td>\n",
       "      <td>north rainbow blvd</td>\n",
       "      <td>south main st</td>\n",
       "    </tr>\n",
       "    <tr>\n",
       "      <th>suite</th>\n",
       "      <td></td>\n",
       "      <td></td>\n",
       "      <td></td>\n",
       "      <td></td>\n",
       "      <td></td>\n",
       "    </tr>\n",
       "  </tbody>\n",
       "</table>\n",
       "</div>"
      ],
      "text/plain": [
       "                                                                0  \\\n",
       "permit_number                                           PR0000002   \n",
       "facility_id                                             FA0002677   \n",
       "PE                                                           1006   \n",
       "restaurant_name                          McDonald's #3549 D HOTEL   \n",
       "location_name                           D HOTEL - McDonalds #3549   \n",
       "address                                            301 Fremont St   \n",
       "latitude                                                  36.1694   \n",
       "longitude                                                -115.143   \n",
       "city_id                                                        10   \n",
       "city_name                                               Las Vegas   \n",
       "zip_code                                               89101-5600   \n",
       "nciaa                                                           N   \n",
       "plan_review                                                   NaN   \n",
       "record_status                                                   1   \n",
       "current_grade                                                   A   \n",
       "current_demerits                                                8   \n",
       "date_current                                  2015-08-20 00:00:00   \n",
       "previous_grade                                                  A   \n",
       "date_previous                                 2015-08-20 00:00:00   \n",
       "misc              McDonald's #3549 D HOTEL McDonalds 3549 D HOTEL   \n",
       "empty                                                         NaN   \n",
       "name_                                                   mcdonalds   \n",
       "city_                                                   las_vegas   \n",
       "zip                                                         89101   \n",
       "num                                                           301   \n",
       "street                                                 fremont st   \n",
       "suite                                                               \n",
       "\n",
       "                                                1  \\\n",
       "permit_number                           PR0000003   \n",
       "facility_id                             FA0002678   \n",
       "PE                                           1008   \n",
       "restaurant_name                  McDonald's #5551   \n",
       "location_name               McDonalds Corporation   \n",
       "address                    4400 E Charleston Blvd   \n",
       "latitude                                  36.1594   \n",
       "longitude                                 -115.08   \n",
       "city_id                                        10   \n",
       "city_name                               Las Vegas   \n",
       "zip_code                               89104-5506   \n",
       "nciaa                                           Y   \n",
       "plan_review                                   NaN   \n",
       "record_status                                   1   \n",
       "current_grade                                   A   \n",
       "current_demerits                                6   \n",
       "date_current                  2015-06-12 00:00:00   \n",
       "previous_grade                                  A   \n",
       "date_previous                 2015-06-12 00:00:00   \n",
       "misc              McDonald's #5551 McDonalds 5551   \n",
       "empty                                         NaN   \n",
       "name_                                   mcdonalds   \n",
       "city_                                   las_vegas   \n",
       "zip                                         89104   \n",
       "num                                          4400   \n",
       "street                       east charleston blvd   \n",
       "suite                                               \n",
       "\n",
       "                                                  2  \\\n",
       "permit_number                             PR0000004   \n",
       "facility_id                               FA0002679   \n",
       "PE                                             1007   \n",
       "restaurant_name                    McDonald's #7675   \n",
       "location_name     McDonalds #7675 Rancho & Cheyenne   \n",
       "address                            3175 N Rancho Dr   \n",
       "latitude                                    36.2168   \n",
       "longitude                                  -115.212   \n",
       "city_id                                          10   \n",
       "city_name                                 Las Vegas   \n",
       "zip_code                                 89130-3302   \n",
       "nciaa                                             Y   \n",
       "plan_review                                     NaN   \n",
       "record_status                                     1   \n",
       "current_grade                                     A   \n",
       "current_demerits                                  3   \n",
       "date_current                    2015-06-09 00:00:00   \n",
       "previous_grade                                    A   \n",
       "date_previous                   2015-06-09 00:00:00   \n",
       "misc                McDonald's #7675 McDonalds 7675   \n",
       "empty                                           NaN   \n",
       "name_                                     mcdonalds   \n",
       "city_                                     las_vegas   \n",
       "zip                                           89130   \n",
       "num                                            3175   \n",
       "street                              north rancho dr   \n",
       "suite                                                 \n",
       "\n",
       "                                               3  \\\n",
       "permit_number                          PR0000005   \n",
       "facility_id                            FA0002680   \n",
       "PE                                          1007   \n",
       "restaurant_name                  McDonald's 2922   \n",
       "location_name                     McDonalds 2922   \n",
       "address                      2020 N Rainbow Blvd   \n",
       "latitude                                 36.1964   \n",
       "longitude                               -115.241   \n",
       "city_id                                       10   \n",
       "city_name                              Las Vegas   \n",
       "zip_code                              89108-7049   \n",
       "nciaa                                          Y   \n",
       "plan_review                                  NaN   \n",
       "record_status                                  1   \n",
       "current_grade                                  A   \n",
       "current_demerits                               6   \n",
       "date_current                 2015-02-09 00:00:00   \n",
       "previous_grade                                 A   \n",
       "date_previous                2014-04-23 00:00:00   \n",
       "misc              McDonald's 2922 McDonalds 2922   \n",
       "empty                                        NaN   \n",
       "name_                             mcdonalds 2922   \n",
       "city_                                  las_vegas   \n",
       "zip                                        89108   \n",
       "num                                         2020   \n",
       "street                        north rainbow blvd   \n",
       "suite                                              \n",
       "\n",
       "                                                            4  \n",
       "permit_number                                       PR0000006  \n",
       "facility_id                                         FA0002681  \n",
       "PE                                                       1006  \n",
       "restaurant_name                        McDonald's #3153 Plaza  \n",
       "location_name                         Plaza Hotel - McDonalds  \n",
       "address                                           1 S Main St  \n",
       "latitude                                              36.1722  \n",
       "longitude                                            -115.147  \n",
       "city_id                                                    10  \n",
       "city_name                                           Las Vegas  \n",
       "zip_code                                           89101-6370  \n",
       "nciaa                                                       Y  \n",
       "plan_review                                               NaN  \n",
       "record_status                                               1  \n",
       "current_grade                                               A  \n",
       "current_demerits                                            6  \n",
       "date_current                              2015-07-28 00:00:00  \n",
       "previous_grade                                              A  \n",
       "date_previous                             2015-07-28 00:00:00  \n",
       "misc              McDonald's #3153 Plaza McDonalds 3153 Plaza  \n",
       "empty                                                     NaN  \n",
       "name_                                               mcdonalds  \n",
       "city_                                               las_vegas  \n",
       "zip                                                     89101  \n",
       "num                                                         1  \n",
       "street                                          south main st  \n",
       "suite                                                          "
      ]
     },
     "execution_count": 679,
     "metadata": {},
     "output_type": "execute_result"
    }
   ],
   "source": [
    "NV = H.copy()\n",
    "NV['name_'] = H.restaurant_name.apply(lib.standard_name)\n",
    "NV['city_'] = NV.city_name.apply(lambda x: '_'.join(x.lower().strip().split()))\n",
    "NV['zip'] = NV.zip_code.apply(lambda x: np.nan if type(x)==float else x[:5])\n",
    "\n",
    "NV = pd.concat([NV, NV.address.apply(lib.split_address)], axis=1)\n",
    "\n",
    "NV.head().T"
   ]
  },
  {
   "cell_type": "code",
   "execution_count": 680,
   "metadata": {
    "collapsed": false
   },
   "outputs": [
    {
     "name": "stdout",
     "output_type": "stream",
     "text": [
      "(952, 40)\n",
      "(23257, 42)\n"
     ]
    }
   ],
   "source": [
    "NV_ind = ['name_','num','street','city_','zip']\n",
    "#NV_ind = ['n' 'street','city_','zip']\n",
    "temp = NV.set_index(NV_ind).join(B_NV.set_index(NV_ind), how='inner', rsuffix = 'y_')\n",
    "print temp.shape\n",
    "\n",
    "H_x = NV[~NV.facility_id.isin(temp.facility_id)]\n",
    "B_x = B_NV[~B_NV.business_id.isin(temp.business_id)]\n",
    "\n",
    "NV_ind2 = ['num','street','city_','zip']\n",
    "temp2 = H_x.set_index(NV_ind2).join(B_x.set_index(NV_ind2), how='inner', rsuffix = 'y_')\n",
    "\n",
    "print temp2.shape\n",
    "\n",
    "temp_fuzz = lib.append_fuzz_scores(temp2)"
   ]
  },
  {
   "cell_type": "code",
   "execution_count": 525,
   "metadata": {
    "collapsed": false,
    "scrolled": true
   },
   "outputs": [
    {
     "data": {
      "text/html": [
       "<div>\n",
       "<table border=\"1\" class=\"dataframe\">\n",
       "  <thead>\n",
       "    <tr>\n",
       "      <th>name_</th>\n",
       "      <th colspan=\"4\" halign=\"left\">applebees</th>\n",
       "      <th>arbys</th>\n",
       "    </tr>\n",
       "    <tr>\n",
       "      <th>num</th>\n",
       "      <th colspan=\"2\" halign=\"left\">10305</th>\n",
       "      <th colspan=\"2\" halign=\"left\">699</th>\n",
       "      <th>10365</th>\n",
       "    </tr>\n",
       "    <tr>\n",
       "      <th>street</th>\n",
       "      <th colspan=\"2\" halign=\"left\">south eastern av</th>\n",
       "      <th colspan=\"2\" halign=\"left\">north</th>\n",
       "      <th>south eastern av</th>\n",
       "    </tr>\n",
       "    <tr>\n",
       "      <th>city_</th>\n",
       "      <th colspan=\"2\" halign=\"left\">henderson</th>\n",
       "      <th colspan=\"2\" halign=\"left\">henderson</th>\n",
       "      <th>henderson</th>\n",
       "    </tr>\n",
       "    <tr>\n",
       "      <th>zip</th>\n",
       "      <th>89052</th>\n",
       "      <th>89052</th>\n",
       "      <th>89014</th>\n",
       "      <th>89014</th>\n",
       "      <th>89052</th>\n",
       "    </tr>\n",
       "  </thead>\n",
       "  <tbody>\n",
       "    <tr>\n",
       "      <th>permit_number</th>\n",
       "      <td>PR0019126</td>\n",
       "      <td>PR0019127</td>\n",
       "      <td>PR0019120</td>\n",
       "      <td>PR0019121</td>\n",
       "      <td>PR0014454</td>\n",
       "    </tr>\n",
       "    <tr>\n",
       "      <th>facility_id</th>\n",
       "      <td>FA0063678</td>\n",
       "      <td>FA0063678</td>\n",
       "      <td>FA0063676</td>\n",
       "      <td>FA0063676</td>\n",
       "      <td>FA0007422</td>\n",
       "    </tr>\n",
       "    <tr>\n",
       "      <th>PE</th>\n",
       "      <td>1003</td>\n",
       "      <td>1016</td>\n",
       "      <td>1006</td>\n",
       "      <td>1016</td>\n",
       "      <td>1007</td>\n",
       "    </tr>\n",
       "    <tr>\n",
       "      <th>restaurant_name</th>\n",
       "      <td>Applebee's #6013 Restaurant</td>\n",
       "      <td>Applebee's #6013 Bar</td>\n",
       "      <td>Applebee's #5904 Restaurant</td>\n",
       "      <td>Applebee's #5904 Bar</td>\n",
       "      <td>Arby's #7564</td>\n",
       "    </tr>\n",
       "    <tr>\n",
       "      <th>location_name</th>\n",
       "      <td>Applebee's Restaurant and Bar</td>\n",
       "      <td>Applebee's Restaurant and Bar</td>\n",
       "      <td>Applebee's</td>\n",
       "      <td>Applebee's</td>\n",
       "      <td>Arby's Roast Beef</td>\n",
       "    </tr>\n",
       "    <tr>\n",
       "      <th>address</th>\n",
       "      <td>10305 S Eastern Ave</td>\n",
       "      <td>10305 S Eastern Ave</td>\n",
       "      <td>699 N Stephanie St</td>\n",
       "      <td>699 N Stephanie St</td>\n",
       "      <td>10365 S Eastern Ave</td>\n",
       "    </tr>\n",
       "    <tr>\n",
       "      <th>latitude</th>\n",
       "      <td>36.0023</td>\n",
       "      <td>36.0023</td>\n",
       "      <td>36.0651</td>\n",
       "      <td>36.0651</td>\n",
       "      <td>36.0018</td>\n",
       "    </tr>\n",
       "    <tr>\n",
       "      <th>longitude</th>\n",
       "      <td>-115.109</td>\n",
       "      <td>-115.109</td>\n",
       "      <td>-115.046</td>\n",
       "      <td>-115.046</td>\n",
       "      <td>-115.108</td>\n",
       "    </tr>\n",
       "    <tr>\n",
       "      <th>city_id</th>\n",
       "      <td>7</td>\n",
       "      <td>7</td>\n",
       "      <td>7</td>\n",
       "      <td>7</td>\n",
       "      <td>7</td>\n",
       "    </tr>\n",
       "    <tr>\n",
       "      <th>city_name</th>\n",
       "      <td>Henderson</td>\n",
       "      <td>Henderson</td>\n",
       "      <td>Henderson</td>\n",
       "      <td>Henderson</td>\n",
       "      <td>Henderson</td>\n",
       "    </tr>\n",
       "    <tr>\n",
       "      <th>zip_code</th>\n",
       "      <td>89052-3960</td>\n",
       "      <td>89052-3960</td>\n",
       "      <td>89014-2612</td>\n",
       "      <td>89014-2612</td>\n",
       "      <td>89052-3960</td>\n",
       "    </tr>\n",
       "    <tr>\n",
       "      <th>nciaa</th>\n",
       "      <td>Y</td>\n",
       "      <td>Y</td>\n",
       "      <td>Y</td>\n",
       "      <td>Y</td>\n",
       "      <td>Y</td>\n",
       "    </tr>\n",
       "    <tr>\n",
       "      <th>plan_review</th>\n",
       "      <td>NaN</td>\n",
       "      <td>NaN</td>\n",
       "      <td>NaN</td>\n",
       "      <td>NaN</td>\n",
       "      <td>NaN</td>\n",
       "    </tr>\n",
       "    <tr>\n",
       "      <th>record_status</th>\n",
       "      <td>1</td>\n",
       "      <td>1</td>\n",
       "      <td>1</td>\n",
       "      <td>1</td>\n",
       "      <td>1</td>\n",
       "    </tr>\n",
       "    <tr>\n",
       "      <th>current_grade</th>\n",
       "      <td>A</td>\n",
       "      <td>A</td>\n",
       "      <td>A</td>\n",
       "      <td>A</td>\n",
       "      <td>A</td>\n",
       "    </tr>\n",
       "    <tr>\n",
       "      <th>current_demerits</th>\n",
       "      <td>6</td>\n",
       "      <td>3</td>\n",
       "      <td>6</td>\n",
       "      <td>0</td>\n",
       "      <td>3</td>\n",
       "    </tr>\n",
       "    <tr>\n",
       "      <th>date_current</th>\n",
       "      <td>2014-01-21 00:00:00</td>\n",
       "      <td>2015-02-26 00:00:00</td>\n",
       "      <td>2015-06-22 00:00:00</td>\n",
       "      <td>2015-06-22 00:00:00</td>\n",
       "      <td>2015-02-23 00:00:00</td>\n",
       "    </tr>\n",
       "    <tr>\n",
       "      <th>previous_grade</th>\n",
       "      <td>A</td>\n",
       "      <td>A</td>\n",
       "      <td>A</td>\n",
       "      <td>A</td>\n",
       "      <td>A</td>\n",
       "    </tr>\n",
       "    <tr>\n",
       "      <th>date_previous</th>\n",
       "      <td>2013-06-24 00:00:00</td>\n",
       "      <td>2014-01-21 00:00:00</td>\n",
       "      <td>2015-06-22 00:00:00</td>\n",
       "      <td>2015-06-22 00:00:00</td>\n",
       "      <td>2014-01-17 00:00:00</td>\n",
       "    </tr>\n",
       "    <tr>\n",
       "      <th>misc</th>\n",
       "      <td>Applebee's #6013 Restaurant Applebees 6013 Res...</td>\n",
       "      <td>Applebee's #6013 Bar Applebees 6013 Bar</td>\n",
       "      <td>Applebee's #5904 Restaurant Applebees 5904 Res...</td>\n",
       "      <td>Applebee's #5904 Bar Applebees 5904 Bar</td>\n",
       "      <td>Arby's #7564 Arbys 7564</td>\n",
       "    </tr>\n",
       "    <tr>\n",
       "      <th>empty</th>\n",
       "      <td>NaN</td>\n",
       "      <td>NaN</td>\n",
       "      <td>NaN</td>\n",
       "      <td>NaN</td>\n",
       "      <td>NaN</td>\n",
       "    </tr>\n",
       "    <tr>\n",
       "      <th>suite</th>\n",
       "      <td></td>\n",
       "      <td></td>\n",
       "      <td>stephanie st</td>\n",
       "      <td>stephanie st</td>\n",
       "      <td></td>\n",
       "    </tr>\n",
       "    <tr>\n",
       "      <th>attributes</th>\n",
       "      <td>{u'Take-out': True, u'Accepts Credit Cards': T...</td>\n",
       "      <td>{u'Take-out': True, u'Accepts Credit Cards': T...</td>\n",
       "      <td>{u'Drive-Thru': False, u'Alcohol': u'full_bar'...</td>\n",
       "      <td>{u'Drive-Thru': False, u'Alcohol': u'full_bar'...</td>\n",
       "      <td>{u'Take-out': True, u'Drive-Thru': True, u'Out...</td>\n",
       "    </tr>\n",
       "    <tr>\n",
       "      <th>business_id</th>\n",
       "      <td>Zzj67RkbWf9mcbotiCfDlA</td>\n",
       "      <td>Zzj67RkbWf9mcbotiCfDlA</td>\n",
       "      <td>0JhjsUzRz98dhAUr5o2DCw</td>\n",
       "      <td>0JhjsUzRz98dhAUr5o2DCw</td>\n",
       "      <td>-U05UXvQJ1BjTEP1Hj9N-w</td>\n",
       "    </tr>\n",
       "    <tr>\n",
       "      <th>categories</th>\n",
       "      <td>[Bars, American (Traditional), Burgers, Nightl...</td>\n",
       "      <td>[Bars, American (Traditional), Burgers, Nightl...</td>\n",
       "      <td>[Bars, American (Traditional), Burgers, Nightl...</td>\n",
       "      <td>[Bars, American (Traditional), Burgers, Nightl...</td>\n",
       "      <td>[Fast Food, Restaurants]</td>\n",
       "    </tr>\n",
       "    <tr>\n",
       "      <th>city</th>\n",
       "      <td>Henderson</td>\n",
       "      <td>Henderson</td>\n",
       "      <td>Henderson</td>\n",
       "      <td>Henderson</td>\n",
       "      <td>Henderson</td>\n",
       "    </tr>\n",
       "    <tr>\n",
       "      <th>full_address</th>\n",
       "      <td>10305 S Eastern Ave\\nAnthem\\nHenderson, NV 89052</td>\n",
       "      <td>10305 S Eastern Ave\\nAnthem\\nHenderson, NV 89052</td>\n",
       "      <td>699 N Stephanie St\\nHenderson, NV 89014</td>\n",
       "      <td>699 N Stephanie St\\nHenderson, NV 89014</td>\n",
       "      <td>10365 S Eastern Ave\\nAnthem\\nHenderson, NV 89052</td>\n",
       "    </tr>\n",
       "    <tr>\n",
       "      <th>hours</th>\n",
       "      <td>{}</td>\n",
       "      <td>{}</td>\n",
       "      <td>{u'Monday': {u'close': u'00:00', u'open': u'11...</td>\n",
       "      <td>{u'Monday': {u'close': u'00:00', u'open': u'11...</td>\n",
       "      <td>{}</td>\n",
       "    </tr>\n",
       "    <tr>\n",
       "      <th>latitudey_</th>\n",
       "      <td>36.002</td>\n",
       "      <td>36.002</td>\n",
       "      <td>36.0656</td>\n",
       "      <td>36.0656</td>\n",
       "      <td>36.0017</td>\n",
       "    </tr>\n",
       "    <tr>\n",
       "      <th>longitudey_</th>\n",
       "      <td>-115.109</td>\n",
       "      <td>-115.109</td>\n",
       "      <td>-115.047</td>\n",
       "      <td>-115.047</td>\n",
       "      <td>-115.108</td>\n",
       "    </tr>\n",
       "    <tr>\n",
       "      <th>name</th>\n",
       "      <td>Applebee's</td>\n",
       "      <td>Applebee's</td>\n",
       "      <td>Applebee's</td>\n",
       "      <td>Applebee's</td>\n",
       "      <td>Arby's</td>\n",
       "    </tr>\n",
       "    <tr>\n",
       "      <th>neighborhoods</th>\n",
       "      <td>[Anthem]</td>\n",
       "      <td>[Anthem]</td>\n",
       "      <td>[]</td>\n",
       "      <td>[]</td>\n",
       "      <td>[Anthem]</td>\n",
       "    </tr>\n",
       "    <tr>\n",
       "      <th>open</th>\n",
       "      <td>True</td>\n",
       "      <td>True</td>\n",
       "      <td>True</td>\n",
       "      <td>True</td>\n",
       "      <td>True</td>\n",
       "    </tr>\n",
       "    <tr>\n",
       "      <th>review_count</th>\n",
       "      <td>46</td>\n",
       "      <td>46</td>\n",
       "      <td>57</td>\n",
       "      <td>57</td>\n",
       "      <td>12</td>\n",
       "    </tr>\n",
       "    <tr>\n",
       "      <th>stars</th>\n",
       "      <td>2.5</td>\n",
       "      <td>2.5</td>\n",
       "      <td>3</td>\n",
       "      <td>3</td>\n",
       "      <td>2.5</td>\n",
       "    </tr>\n",
       "    <tr>\n",
       "      <th>state</th>\n",
       "      <td>NV</td>\n",
       "      <td>NV</td>\n",
       "      <td>NV</td>\n",
       "      <td>NV</td>\n",
       "      <td>NV</td>\n",
       "    </tr>\n",
       "    <tr>\n",
       "      <th>type</th>\n",
       "      <td>business</td>\n",
       "      <td>business</td>\n",
       "      <td>business</td>\n",
       "      <td>business</td>\n",
       "      <td>business</td>\n",
       "    </tr>\n",
       "    <tr>\n",
       "      <th>addressy_</th>\n",
       "      <td>NaN</td>\n",
       "      <td>NaN</td>\n",
       "      <td>NaN</td>\n",
       "      <td>NaN</td>\n",
       "      <td>NaN</td>\n",
       "    </tr>\n",
       "    <tr>\n",
       "      <th>complex</th>\n",
       "      <td></td>\n",
       "      <td></td>\n",
       "      <td></td>\n",
       "      <td></td>\n",
       "      <td></td>\n",
       "    </tr>\n",
       "    <tr>\n",
       "      <th>suitey_</th>\n",
       "      <td></td>\n",
       "      <td></td>\n",
       "      <td>stephanie st</td>\n",
       "      <td>stephanie st</td>\n",
       "      <td></td>\n",
       "    </tr>\n",
       "  </tbody>\n",
       "</table>\n",
       "</div>"
      ],
      "text/plain": [
       "name_                                                     applebees  \\\n",
       "num                                                           10305   \n",
       "street                                             south eastern av   \n",
       "city_                                                     henderson   \n",
       "zip                                                           89052   \n",
       "permit_number                                             PR0019126   \n",
       "facility_id                                               FA0063678   \n",
       "PE                                                             1003   \n",
       "restaurant_name                         Applebee's #6013 Restaurant   \n",
       "location_name                         Applebee's Restaurant and Bar   \n",
       "address                                         10305 S Eastern Ave   \n",
       "latitude                                                    36.0023   \n",
       "longitude                                                  -115.109   \n",
       "city_id                                                           7   \n",
       "city_name                                                 Henderson   \n",
       "zip_code                                                 89052-3960   \n",
       "nciaa                                                             Y   \n",
       "plan_review                                                     NaN   \n",
       "record_status                                                     1   \n",
       "current_grade                                                     A   \n",
       "current_demerits                                                  6   \n",
       "date_current                                    2014-01-21 00:00:00   \n",
       "previous_grade                                                    A   \n",
       "date_previous                                   2013-06-24 00:00:00   \n",
       "misc              Applebee's #6013 Restaurant Applebees 6013 Res...   \n",
       "empty                                                           NaN   \n",
       "suite                                                                 \n",
       "attributes        {u'Take-out': True, u'Accepts Credit Cards': T...   \n",
       "business_id                                  Zzj67RkbWf9mcbotiCfDlA   \n",
       "categories        [Bars, American (Traditional), Burgers, Nightl...   \n",
       "city                                                      Henderson   \n",
       "full_address       10305 S Eastern Ave\\nAnthem\\nHenderson, NV 89052   \n",
       "hours                                                            {}   \n",
       "latitudey_                                                   36.002   \n",
       "longitudey_                                                -115.109   \n",
       "name                                                     Applebee's   \n",
       "neighborhoods                                              [Anthem]   \n",
       "open                                                           True   \n",
       "review_count                                                     46   \n",
       "stars                                                           2.5   \n",
       "state                                                            NV   \n",
       "type                                                       business   \n",
       "addressy_                                                       NaN   \n",
       "complex                                                               \n",
       "suitey_                                                               \n",
       "\n",
       "name_                                                                \\\n",
       "num                                                                   \n",
       "street                                                                \n",
       "city_                                                                 \n",
       "zip                                                           89052   \n",
       "permit_number                                             PR0019127   \n",
       "facility_id                                               FA0063678   \n",
       "PE                                                             1016   \n",
       "restaurant_name                                Applebee's #6013 Bar   \n",
       "location_name                         Applebee's Restaurant and Bar   \n",
       "address                                         10305 S Eastern Ave   \n",
       "latitude                                                    36.0023   \n",
       "longitude                                                  -115.109   \n",
       "city_id                                                           7   \n",
       "city_name                                                 Henderson   \n",
       "zip_code                                                 89052-3960   \n",
       "nciaa                                                             Y   \n",
       "plan_review                                                     NaN   \n",
       "record_status                                                     1   \n",
       "current_grade                                                     A   \n",
       "current_demerits                                                  3   \n",
       "date_current                                    2015-02-26 00:00:00   \n",
       "previous_grade                                                    A   \n",
       "date_previous                                   2014-01-21 00:00:00   \n",
       "misc                        Applebee's #6013 Bar Applebees 6013 Bar   \n",
       "empty                                                           NaN   \n",
       "suite                                                                 \n",
       "attributes        {u'Take-out': True, u'Accepts Credit Cards': T...   \n",
       "business_id                                  Zzj67RkbWf9mcbotiCfDlA   \n",
       "categories        [Bars, American (Traditional), Burgers, Nightl...   \n",
       "city                                                      Henderson   \n",
       "full_address       10305 S Eastern Ave\\nAnthem\\nHenderson, NV 89052   \n",
       "hours                                                            {}   \n",
       "latitudey_                                                   36.002   \n",
       "longitudey_                                                -115.109   \n",
       "name                                                     Applebee's   \n",
       "neighborhoods                                              [Anthem]   \n",
       "open                                                           True   \n",
       "review_count                                                     46   \n",
       "stars                                                           2.5   \n",
       "state                                                            NV   \n",
       "type                                                       business   \n",
       "addressy_                                                       NaN   \n",
       "complex                                                               \n",
       "suitey_                                                               \n",
       "\n",
       "name_                                                                \\\n",
       "num                                                             699   \n",
       "street                                                        north   \n",
       "city_                                                     henderson   \n",
       "zip                                                           89014   \n",
       "permit_number                                             PR0019120   \n",
       "facility_id                                               FA0063676   \n",
       "PE                                                             1006   \n",
       "restaurant_name                         Applebee's #5904 Restaurant   \n",
       "location_name                                            Applebee's   \n",
       "address                                          699 N Stephanie St   \n",
       "latitude                                                    36.0651   \n",
       "longitude                                                  -115.046   \n",
       "city_id                                                           7   \n",
       "city_name                                                 Henderson   \n",
       "zip_code                                                 89014-2612   \n",
       "nciaa                                                             Y   \n",
       "plan_review                                                     NaN   \n",
       "record_status                                                     1   \n",
       "current_grade                                                     A   \n",
       "current_demerits                                                  6   \n",
       "date_current                                    2015-06-22 00:00:00   \n",
       "previous_grade                                                    A   \n",
       "date_previous                                   2015-06-22 00:00:00   \n",
       "misc              Applebee's #5904 Restaurant Applebees 5904 Res...   \n",
       "empty                                                           NaN   \n",
       "suite                                                  stephanie st   \n",
       "attributes        {u'Drive-Thru': False, u'Alcohol': u'full_bar'...   \n",
       "business_id                                  0JhjsUzRz98dhAUr5o2DCw   \n",
       "categories        [Bars, American (Traditional), Burgers, Nightl...   \n",
       "city                                                      Henderson   \n",
       "full_address                699 N Stephanie St\\nHenderson, NV 89014   \n",
       "hours             {u'Monday': {u'close': u'00:00', u'open': u'11...   \n",
       "latitudey_                                                  36.0656   \n",
       "longitudey_                                                -115.047   \n",
       "name                                                     Applebee's   \n",
       "neighborhoods                                                    []   \n",
       "open                                                           True   \n",
       "review_count                                                     57   \n",
       "stars                                                             3   \n",
       "state                                                            NV   \n",
       "type                                                       business   \n",
       "addressy_                                                       NaN   \n",
       "complex                                                               \n",
       "suitey_                                                stephanie st   \n",
       "\n",
       "name_                                                                \\\n",
       "num                                                                   \n",
       "street                                                                \n",
       "city_                                                                 \n",
       "zip                                                           89014   \n",
       "permit_number                                             PR0019121   \n",
       "facility_id                                               FA0063676   \n",
       "PE                                                             1016   \n",
       "restaurant_name                                Applebee's #5904 Bar   \n",
       "location_name                                            Applebee's   \n",
       "address                                          699 N Stephanie St   \n",
       "latitude                                                    36.0651   \n",
       "longitude                                                  -115.046   \n",
       "city_id                                                           7   \n",
       "city_name                                                 Henderson   \n",
       "zip_code                                                 89014-2612   \n",
       "nciaa                                                             Y   \n",
       "plan_review                                                     NaN   \n",
       "record_status                                                     1   \n",
       "current_grade                                                     A   \n",
       "current_demerits                                                  0   \n",
       "date_current                                    2015-06-22 00:00:00   \n",
       "previous_grade                                                    A   \n",
       "date_previous                                   2015-06-22 00:00:00   \n",
       "misc                        Applebee's #5904 Bar Applebees 5904 Bar   \n",
       "empty                                                           NaN   \n",
       "suite                                                  stephanie st   \n",
       "attributes        {u'Drive-Thru': False, u'Alcohol': u'full_bar'...   \n",
       "business_id                                  0JhjsUzRz98dhAUr5o2DCw   \n",
       "categories        [Bars, American (Traditional), Burgers, Nightl...   \n",
       "city                                                      Henderson   \n",
       "full_address                699 N Stephanie St\\nHenderson, NV 89014   \n",
       "hours             {u'Monday': {u'close': u'00:00', u'open': u'11...   \n",
       "latitudey_                                                  36.0656   \n",
       "longitudey_                                                -115.047   \n",
       "name                                                     Applebee's   \n",
       "neighborhoods                                                    []   \n",
       "open                                                           True   \n",
       "review_count                                                     57   \n",
       "stars                                                             3   \n",
       "state                                                            NV   \n",
       "type                                                       business   \n",
       "addressy_                                                       NaN   \n",
       "complex                                                               \n",
       "suitey_                                                stephanie st   \n",
       "\n",
       "name_                                                         arbys  \n",
       "num                                                           10365  \n",
       "street                                             south eastern av  \n",
       "city_                                                     henderson  \n",
       "zip                                                           89052  \n",
       "permit_number                                             PR0014454  \n",
       "facility_id                                               FA0007422  \n",
       "PE                                                             1007  \n",
       "restaurant_name                                        Arby's #7564  \n",
       "location_name                                     Arby's Roast Beef  \n",
       "address                                         10365 S Eastern Ave  \n",
       "latitude                                                    36.0018  \n",
       "longitude                                                  -115.108  \n",
       "city_id                                                           7  \n",
       "city_name                                                 Henderson  \n",
       "zip_code                                                 89052-3960  \n",
       "nciaa                                                             Y  \n",
       "plan_review                                                     NaN  \n",
       "record_status                                                     1  \n",
       "current_grade                                                     A  \n",
       "current_demerits                                                  3  \n",
       "date_current                                    2015-02-23 00:00:00  \n",
       "previous_grade                                                    A  \n",
       "date_previous                                   2014-01-17 00:00:00  \n",
       "misc                                        Arby's #7564 Arbys 7564  \n",
       "empty                                                           NaN  \n",
       "suite                                                                \n",
       "attributes        {u'Take-out': True, u'Drive-Thru': True, u'Out...  \n",
       "business_id                                  -U05UXvQJ1BjTEP1Hj9N-w  \n",
       "categories                                 [Fast Food, Restaurants]  \n",
       "city                                                      Henderson  \n",
       "full_address       10365 S Eastern Ave\\nAnthem\\nHenderson, NV 89052  \n",
       "hours                                                            {}  \n",
       "latitudey_                                                  36.0017  \n",
       "longitudey_                                                -115.108  \n",
       "name                                                         Arby's  \n",
       "neighborhoods                                              [Anthem]  \n",
       "open                                                           True  \n",
       "review_count                                                     12  \n",
       "stars                                                           2.5  \n",
       "state                                                            NV  \n",
       "type                                                       business  \n",
       "addressy_                                                       NaN  \n",
       "complex                                                              \n",
       "suitey_                                                              "
      ]
     },
     "execution_count": 525,
     "metadata": {},
     "output_type": "execute_result"
    }
   ],
   "source": [
    "temp.head().T"
   ]
  },
  {
   "cell_type": "code",
   "execution_count": 681,
   "metadata": {
    "collapsed": false
   },
   "outputs": [
    {
     "name": "stdout",
     "output_type": "stream",
     "text": [
      "(2965, 65)\n"
     ]
    }
   ],
   "source": [
    "ind_A = (temp_fuzz['max'] >= 75) & (temp_fuzz.avg_w_2 >= 75)\n",
    "ind_B = (temp_fuzz['max'] >= 60) & (temp_fuzz.avg_w_2 >= 60) & (temp_fuzz.avg_w_3 >= 80)\n",
    "NV_level2 = pd.concat([temp, temp_fuzz[ind_A | ind_B]])\n",
    "\n",
    "print NV_level2.shape\n",
    "\n",
    "H_x2 = NV[~NV.facility_id.isin(NV_level2.facility_id)]\n",
    "B_x2 = B_NV[~B_NV.business_id.isin(NV_level2.business_id)]"
   ]
  },
  {
   "cell_type": "code",
   "execution_count": 682,
   "metadata": {
    "collapsed": true
   },
   "outputs": [],
   "source": [
    "NV_ind3 = ['city_','zip']\n",
    "temp3 = H_x2.set_index(NV_ind3).join(B_x2.set_index(NV_ind3), how='inner', rsuffix = 'y_')"
   ]
  },
  {
   "cell_type": "code",
   "execution_count": 683,
   "metadata": {
    "collapsed": false
   },
   "outputs": [
    {
     "data": {
      "text/plain": [
       "(2536119, 46)"
      ]
     },
     "execution_count": 683,
     "metadata": {},
     "output_type": "execute_result"
    }
   ],
   "source": [
    "temp3.shape"
   ]
  },
  {
   "cell_type": "code",
   "execution_count": 684,
   "metadata": {
    "collapsed": true
   },
   "outputs": [],
   "source": [
    "# For now only save level1 (exact matches)... \n",
    "#     casino names are causing too much blur when we try to do fuzzy name matching w/in the\n",
    "#     same casino complex\n",
    "NV_level1 = temp.copy()\n",
    "save_to_pickle(NV_level1,'../data/vegas/vegas_yelp_merge.pkl')"
   ]
  },
  {
   "cell_type": "code",
   "execution_count": 529,
   "metadata": {
    "collapsed": true
   },
   "outputs": [],
   "source": [
    "temp2.to_csv('../data/vegas/merge_dump_01.csv', encoding='utf-8')"
   ]
  },
  {
   "cell_type": "code",
   "execution_count": 531,
   "metadata": {
    "collapsed": true
   },
   "outputs": [],
   "source": [
    "temp_fuzz.to_csv('../data/vegas/merge_dump_02.csv', encoding='utf-8')"
   ]
  },
  {
   "cell_type": "markdown",
   "metadata": {},
   "source": [
    "### Charlotte, NC"
   ]
  },
  {
   "cell_type": "code",
   "execution_count": 402,
   "metadata": {
    "collapsed": false
   },
   "outputs": [],
   "source": [
    "def split_address(x):\n",
    "    address = {'suite':''}\n",
    "    x = x.lower().replace('\\r','').replace('\\n','')\n",
    "    x = x.replace(' ste-',' ste ')\n",
    "    \n",
    "    words = x.split()\n",
    "    # some street numbers have a dash, append the second part to suite\n",
    "    if words[0].find('-') > 0:\n",
    "        n = words[0].split('-')\n",
    "        address['suite'] += n[-1] + ' '\n",
    "        x = ' '.join([n[0]] + words[1:])\n",
    "    \n",
    "    x = x.replace('-',' ')\n",
    "    x = re.sub('[%s]' % re.escape(string.punctuation.replace('&','')), '', x)\n",
    "    abbr = {'road':'rd', 'street':'st', 'avenue':'av', 'ave':'av', 'drive':'dr', 'boulevard':'blvd',\n",
    "            'lane':'ln', 'circle':'cir', 'building':'building', 'mount':'mt', \n",
    "            'n':'north', 'e':'east', 's':'south', 'w':'west', 'suite':'ste', 'bv':'blvd', 'suit':'ste',\n",
    "            'pky':'pkwy', 'parkway':'pkwy',\n",
    "            'first':'1st', 'second':'2nd', 'third':'3rd', 'fourth':'4th', 'fifth':'5th', 'sixth':'6th',\n",
    "            'seventh':'7th', 'eighth':'8th', 'ninth':'9th', 'tenth':'10th'}\n",
    "    for key, value in abbr.iteritems():\n",
    "        x = re.sub(r'\\b(%s)\\b' % key, value, x) \n",
    "    x = x.strip()\n",
    "    \n",
    "    n = re.findall(r'^(\\d+\\D?)\\b',x)\n",
    "    s = re.search(r'\\b(ste\\W?\\D?\\W?\\d*\\W?\\D?)|(unit\\W?\\D?\\W?\\d*\\W?\\D?)\\Z', x)\n",
    "    if len(n) > 0 and s is not None and len(s.group()) > 0:\n",
    "        i = re.search(r'\\b(ste)|(bldg)|(unit)\\b', x)\n",
    "        address['num'] = n[0]\n",
    "        address['street'] = re.sub(r'^(\\d+\\D?)\\b', '', x[:x.find(i.group())])\n",
    "        address['suite'] += x[x.find(i.group()):]\n",
    "    elif len(n) > 0:\n",
    "        address['num'] = n[0]\n",
    "        address['street'] = re.sub(r'^(\\d+\\D?)\\b', '', x)\n",
    "    else:\n",
    "        address = {'num':'', 'street':x[0], 'suite':''}\n",
    "        \n",
    "    address = lib.strip_address_letters(address)\n",
    "        \n",
    "    # remove extra white spaces\n",
    "    for key, value in address.iteritems():\n",
    "        address[key] = re.sub(r'\\s+', ' ', value).strip()\n",
    "        \n",
    "    return pd.Series(address)\n",
    "    \n",
    "def standard_name(x):\n",
    "    rep_list = {'@':' at ', '-':' ', '/':' '}\n",
    "    sub_list = {'grille':'grill', 'ristorante':'restaurant','restaurante':'restaurant',\n",
    "                'italiano':'italian', 'mexicano':'mexican', 'mexicana':'mexican'}\n",
    "    if type(x) == float:\n",
    "        x = str(x)\n",
    "    x = x.lower()\n",
    "    for key, value in rep_list.iteritems():\n",
    "        x = x.replace(key, value)\n",
    "    for key, value in sub_list.iteritems():\n",
    "        x = re.sub(r'\\b(%s)\\b' % key, value, x)\n",
    "    \n",
    "    x = x.strip()\n",
    "    x = re.sub(r'(\\#\\d+)\\Z','',x)\n",
    "    x = re.split(r'\\b(at)\\b', x)[0].strip()\n",
    "    return re.sub('[%s]' % re.escape(string.punctuation), '', x)"
   ]
  },
  {
   "cell_type": "code",
   "execution_count": null,
   "metadata": {
    "collapsed": true
   },
   "outputs": [],
   "source": [
    "B_NC = B[(B.state=='NC')& (B.categories.apply(lambda x: 'Restaurants' in x))]\n",
    "B_NC['address'] = B_NC.full_address.apply(lambda x: x.replace('\\n',' ')\\\n",
    "                                                     .replace('Ste','Suite')\\\n",
    "                                                     .replace(',','')\\\n",
    "                                                     .replace(' NC ', ' '))"
   ]
  },
  {
   "cell_type": "code",
   "execution_count": null,
   "metadata": {
    "collapsed": false
   },
   "outputs": [],
   "source": [
    "B_NC.city.value_counts()"
   ]
  },
  {
   "cell_type": "code",
   "execution_count": 6,
   "metadata": {
    "collapsed": false
   },
   "outputs": [],
   "source": [
    "H = open_pickle('../data/char/char_FULL_04.pkl')"
   ]
  },
  {
   "cell_type": "code",
   "execution_count": null,
   "metadata": {
    "collapsed": true
   },
   "outputs": [],
   "source": [
    "H.city.value_counts()"
   ]
  },
  {
   "cell_type": "code",
   "execution_count": 404,
   "metadata": {
    "collapsed": false
   },
   "outputs": [
    {
     "data": {
      "text/html": [
       "<div>\n",
       "<table border=\"1\" class=\"dataframe\">\n",
       "  <thead>\n",
       "    <tr style=\"text-align: right;\">\n",
       "      <th></th>\n",
       "      <th>address</th>\n",
       "      <th>city</th>\n",
       "      <th>county</th>\n",
       "      <th>inspections</th>\n",
       "      <th>name</th>\n",
       "      <th>state</th>\n",
       "      <th>type</th>\n",
       "      <th>zip</th>\n",
       "    </tr>\n",
       "  </thead>\n",
       "  <tbody>\n",
       "    <tr>\n",
       "      <th>122131</th>\n",
       "      <td>1318 W MOREHEAD ST  \\r\\n</td>\n",
       "      <td>CHARLOTTE</td>\n",
       "      <td>Mecklenburg</td>\n",
       "      <td>[[2/26/2015, 90, A, 2398], [10/3/2014, 93, A, ...</td>\n",
       "      <td>OPEN KITCHEN</td>\n",
       "      <td>NC</td>\n",
       "      <td>1 - Restaurant</td>\n",
       "      <td>28208</td>\n",
       "    </tr>\n",
       "  </tbody>\n",
       "</table>\n",
       "</div>"
      ],
      "text/plain": [
       "                         address         city       county  \\\n",
       "122131  1318 W MOREHEAD ST  \\r\\n  CHARLOTTE    Mecklenburg   \n",
       "\n",
       "                                              inspections           name  \\\n",
       "122131  [[2/26/2015, 90, A, 2398], [10/3/2014, 93, A, ...  OPEN KITCHEN    \n",
       "\n",
       "       state            type    zip  \n",
       "122131   NC   1 - Restaurant  28208  "
      ]
     },
     "execution_count": 404,
     "metadata": {},
     "output_type": "execute_result"
    }
   ],
   "source": [
    "NC = pd.DataFrame.from_records(H).T\n",
    "NC.head(1)"
   ]
  },
  {
   "cell_type": "code",
   "execution_count": 405,
   "metadata": {
    "collapsed": false
   },
   "outputs": [
    {
     "data": {
      "text/html": [
       "<div>\n",
       "<table border=\"1\" class=\"dataframe\">\n",
       "  <thead>\n",
       "    <tr style=\"text-align: right;\">\n",
       "      <th></th>\n",
       "      <th>address</th>\n",
       "      <th>city</th>\n",
       "      <th>county</th>\n",
       "      <th>inspections</th>\n",
       "      <th>name</th>\n",
       "      <th>state</th>\n",
       "      <th>type</th>\n",
       "      <th>zip</th>\n",
       "      <th>city_</th>\n",
       "      <th>name_</th>\n",
       "      <th>id_</th>\n",
       "      <th>num</th>\n",
       "      <th>street</th>\n",
       "      <th>suite</th>\n",
       "    </tr>\n",
       "  </thead>\n",
       "  <tbody>\n",
       "    <tr>\n",
       "      <th>123786</th>\n",
       "      <td>516-A N GRAHAM ST  \\r\\n</td>\n",
       "      <td>CHARLOTTE</td>\n",
       "      <td>Mecklenburg</td>\n",
       "      <td>[[4/15/2015, 95, A, 2398], [11/19/2014, 91.50,...</td>\n",
       "      <td>SUB-ONE</td>\n",
       "      <td>NC</td>\n",
       "      <td>1 - Restaurant</td>\n",
       "      <td>28202</td>\n",
       "      <td>charlotte</td>\n",
       "      <td>sub one</td>\n",
       "      <td>123786</td>\n",
       "      <td>516</td>\n",
       "      <td>north graham st</td>\n",
       "      <td>a</td>\n",
       "    </tr>\n",
       "  </tbody>\n",
       "</table>\n",
       "</div>"
      ],
      "text/plain": [
       "                        address         city       county  \\\n",
       "123786  516-A N GRAHAM ST  \\r\\n  CHARLOTTE    Mecklenburg   \n",
       "\n",
       "                                              inspections      name state  \\\n",
       "123786  [[4/15/2015, 95, A, 2398], [11/19/2014, 91.50,...  SUB-ONE    NC    \n",
       "\n",
       "                  type    zip      city_    name_     id_  num  \\\n",
       "123786  1 - Restaurant  28202  charlotte  sub one  123786  516   \n",
       "\n",
       "                 street suite  \n",
       "123786  north graham st     a  "
      ]
     },
     "execution_count": 405,
     "metadata": {},
     "output_type": "execute_result"
    }
   ],
   "source": [
    "NC['city_'] = NC.city.apply(lambda x: x.lower().strip())\n",
    "NC['name_'] = NC.name.apply(standard_name)\n",
    "NC['id_'] = NC.index\n",
    "\n",
    "NC = pd.concat([NC, NC.address.apply(split_address)], axis=1)\n",
    "NC[NC.id_==123786].head(1)"
   ]
  },
  {
   "cell_type": "code",
   "execution_count": 406,
   "metadata": {
    "collapsed": false
   },
   "outputs": [],
   "source": [
    "B_address = pd.Series(zip(B_NC.full_address, B_NC.neighborhoods)).apply(lambda x: lib.parse_address(*x))\n",
    "B_address.set_index(B_NC.index, inplace=True)\n",
    "col = B_address.columns.values\n",
    "col[0] = 'city_'\n",
    "B_address.columns = col\n",
    "B_NC = pd.concat([B_NC, B_address], axis=1)\n",
    "B_NC['name_'] = B_NC.name.apply(standard_name)"
   ]
  },
  {
   "cell_type": "code",
   "execution_count": 242,
   "metadata": {
    "collapsed": false
   },
   "outputs": [
    {
     "data": {
      "text/plain": [
       "[u'9630 University City Blvd\\nSte F\\nUniversity City\\nCharlotte, NC 28213']"
      ]
     },
     "execution_count": 242,
     "metadata": {},
     "output_type": "execute_result"
    }
   ],
   "source": [
    "B_NC[B_NC.business_id=='C3QfGqD3qjWUbwBOkEjqSQ'].full_address.tolist()"
   ]
  },
  {
   "cell_type": "code",
   "execution_count": 407,
   "metadata": {
    "collapsed": false
   },
   "outputs": [
    {
     "data": {
      "text/plain": [
       "(642, 27)"
      ]
     },
     "execution_count": 407,
     "metadata": {},
     "output_type": "execute_result"
    }
   ],
   "source": [
    "NC_ind = ['name_','num','street','city_','zip']\n",
    "temp = NC.set_index(NC_ind).join(B_NC.set_index(NC_ind), how='inner', rsuffix = 'y_')\n",
    "temp.shape"
   ]
  },
  {
   "cell_type": "code",
   "execution_count": 408,
   "metadata": {
    "collapsed": true
   },
   "outputs": [],
   "source": [
    "H_x = NC[~NC.id_.isin(temp.id_)]\n",
    "B_x = B_NC[~B_NC.business_id.isin(temp.business_id)]"
   ]
  },
  {
   "cell_type": "code",
   "execution_count": 409,
   "metadata": {
    "collapsed": true
   },
   "outputs": [],
   "source": [
    "NC_ind2 = ['num','street','city_','zip']\n",
    "temp2 = H_x.set_index(NC_ind2).join(B_x.set_index(NC_ind2), how='inner', rsuffix = 'y_')"
   ]
  },
  {
   "cell_type": "code",
   "execution_count": 410,
   "metadata": {
    "collapsed": false
   },
   "outputs": [
    {
     "data": {
      "text/plain": [
       "(1598, 29)"
      ]
     },
     "execution_count": 410,
     "metadata": {},
     "output_type": "execute_result"
    }
   ],
   "source": [
    "temp2.shape"
   ]
  },
  {
   "cell_type": "code",
   "execution_count": null,
   "metadata": {
    "collapsed": true
   },
   "outputs": [],
   "source": [
    "temp2.to_csv('../data/char/merge_dump_01.csv', encoding='utf-8')"
   ]
  },
  {
   "cell_type": "code",
   "execution_count": 411,
   "metadata": {
    "collapsed": false
   },
   "outputs": [],
   "source": [
    "temp_fuzz = lib.append_fuzz_scores(temp2)"
   ]
  },
  {
   "cell_type": "code",
   "execution_count": 412,
   "metadata": {
    "collapsed": true
   },
   "outputs": [],
   "source": [
    "temp_fuzz.to_csv('../data/char/merge_dump_07.csv', encoding='utf-8')"
   ]
  },
  {
   "cell_type": "code",
   "execution_count": 216,
   "metadata": {
    "collapsed": false
   },
   "outputs": [
    {
     "data": {
      "text/plain": [
       "<module 'merge_charlotte' from 'merge_charlotte.py'>"
      ]
     },
     "execution_count": 216,
     "metadata": {},
     "output_type": "execute_result"
    }
   ],
   "source": [
    "reload(lib)"
   ]
  },
  {
   "cell_type": "code",
   "execution_count": 413,
   "metadata": {
    "collapsed": true
   },
   "outputs": [],
   "source": [
    "ind_A = (temp_fuzz['max'] >= 75) & (temp_fuzz.avg_w_2 >= 75)\n",
    "ind_B = (temp_fuzz['max'] >= 60) & (temp_fuzz.avg_w_2 >= 60) & (temp_fuzz.avg_w_3 >= 80)\n",
    "NC_level2 = pd.concat([temp, temp_fuzz[ind_A | ind_B]])"
   ]
  },
  {
   "cell_type": "code",
   "execution_count": 414,
   "metadata": {
    "collapsed": false
   },
   "outputs": [
    {
     "data": {
      "text/plain": [
       "(1134, 52)"
      ]
     },
     "execution_count": 414,
     "metadata": {},
     "output_type": "execute_result"
    }
   ],
   "source": [
    "NC_level2.shape"
   ]
  },
  {
   "cell_type": "code",
   "execution_count": 415,
   "metadata": {
    "collapsed": true
   },
   "outputs": [],
   "source": [
    "H_x2 = NC[~NC.id_.isin(NC_level2.id_)]\n",
    "B_x2 = B_NC[~B_NC.business_id.isin(NC_level2.business_id)]"
   ]
  },
  {
   "cell_type": "code",
   "execution_count": 416,
   "metadata": {
    "collapsed": true
   },
   "outputs": [],
   "source": [
    "NC_ind3 = ['city_','zip']\n",
    "temp3 = H_x2.set_index(NC_ind3).join(B_x2.set_index(NC_ind3), how='inner', rsuffix = 'y_')"
   ]
  },
  {
   "cell_type": "code",
   "execution_count": 417,
   "metadata": {
    "collapsed": false
   },
   "outputs": [
    {
     "data": {
      "text/plain": [
       "(54046, 33)"
      ]
     },
     "execution_count": 417,
     "metadata": {},
     "output_type": "execute_result"
    }
   ],
   "source": [
    "temp3.shape"
   ]
  },
  {
   "cell_type": "code",
   "execution_count": 418,
   "metadata": {
    "collapsed": false
   },
   "outputs": [],
   "source": [
    "temp_fuzz3 = lib.append_fuzz_scores(temp3)"
   ]
  },
  {
   "cell_type": "code",
   "execution_count": 419,
   "metadata": {
    "collapsed": false
   },
   "outputs": [],
   "source": [
    "ind_A3 = (temp_fuzz3['max'] >= 75) & (temp_fuzz3.avg_w_2 >= 75)\n",
    "ind_B3 = (temp_fuzz3['max'] >= 60) & (temp_fuzz3.avg_w_2 >= 60) & (temp_fuzz3.avg_w_3 >= 80)\n",
    "temp_fuzz3[ind_A3 | ind_B3].to_csv('../data/char/merge_dump_12.csv', encoding='utf-8')"
   ]
  },
  {
   "cell_type": "code",
   "execution_count": 440,
   "metadata": {
    "collapsed": false
   },
   "outputs": [],
   "source": [
    "def to_int(x):\n",
    "    try:\n",
    "        out = int(x)\n",
    "    except:\n",
    "        out = np.nan\n",
    "    return out\n",
    "\n",
    "ind_A3 = (temp_fuzz3['max'] >= 75) & (temp_fuzz3.avg_w_2 >= 75)\n",
    "ind_B3 = (temp_fuzz3['max'] >= 60) & (temp_fuzz3.avg_w_2 >= 60) & (temp_fuzz3.avg_w_3 >= 80)\n",
    "ind_C3 = temp_fuzz3.num == temp_fuzz3.numy_\n",
    "ind_D3 = (temp_fuzz3.street == temp_fuzz3.street) & \\\n",
    "         (abs(temp_fuzz3.num.apply(to_int) - temp_fuzz3.numy_.apply(to_int)) <= 100)\n",
    "NC_level3 = pd.concat([NC_level2, temp_fuzz3[(ind_A3 | ind_B3) & (ind_C3 | ind_D3)]])"
   ]
  },
  {
   "cell_type": "code",
   "execution_count": 442,
   "metadata": {
    "collapsed": false
   },
   "outputs": [
    {
     "data": {
      "text/plain": [
       "(1332, 56)"
      ]
     },
     "execution_count": 442,
     "metadata": {},
     "output_type": "execute_result"
    }
   ],
   "source": [
    "NC_level3.shape"
   ]
  },
  {
   "cell_type": "code",
   "execution_count": 443,
   "metadata": {
    "collapsed": true
   },
   "outputs": [],
   "source": [
    "H_x3 = NC[~NC.id_.isin(NC_level3.id_)]\n",
    "B_x3 = B_NC[~B_NC.business_id.isin(NC_level3.business_id)]"
   ]
  },
  {
   "cell_type": "code",
   "execution_count": 445,
   "metadata": {
    "collapsed": true
   },
   "outputs": [],
   "source": [
    "save_to_pickle(NC_level3,'../data/char/charlotte_yelp_merge.pkl')"
   ]
  },
  {
   "cell_type": "code",
   "execution_count": 444,
   "metadata": {
    "collapsed": false
   },
   "outputs": [
    {
     "name": "stdout",
     "output_type": "stream",
     "text": [
      "(1602, 14)\n",
      "(764, 23)\n"
     ]
    }
   ],
   "source": [
    "print H_x3.shape\n",
    "print B_x3.shape"
   ]
  },
  {
   "cell_type": "code",
   "execution_count": 284,
   "metadata": {
    "collapsed": false
   },
   "outputs": [
    {
     "data": {
      "text/plain": [
       "<module 'merge_charlotte' from 'merge_charlotte.py'>"
      ]
     },
     "execution_count": 284,
     "metadata": {},
     "output_type": "execute_result"
    }
   ],
   "source": [
    "reload(lib)"
   ]
  },
  {
   "cell_type": "code",
   "execution_count": 430,
   "metadata": {
    "collapsed": false
   },
   "outputs": [],
   "source": [
    "b_list = [129641,129644,129560,151433,127252,128514,128700,124251,128677,130023,123415,\n",
    "          126428,126920,160381,123786,124262,127957,144402]\n",
    "bad_list = ['lmY05KHoqyFZjGsuHYx-HQ', 'SNqqdZNsC1w8mL15SHJEWw', \n",
    "            'WjVUvwDBosUunBm3uY-pyA', 'cE8IX3c8V47cBou08KsklA',\n",
    "            'T1jYZFB_7cqdhuvzpxfFWQ', 'yvNnNl1DqVRmVuvCBytxuw',\n",
    "            '4jl0_Ny3wForCqs06DRzRg', 'tZ1FVdbAna3lUL5LGcAa_Q',\n",
    "            'cEtlUnEBXDPsFHhhou27tw', 'RguKChB4sdPwYA_1_S6JMg',\n",
    "            'HKwlJatD3lZjzmF8n_9dNA', 'mH3fUPIdmh5ybrmD48pJkQ',\n",
    "            '6ZtftjQ18WUN3-IW_yA3tQ', 'Iu0ElolxFlhCKimijFTPNw',\n",
    "            'h2fqHWVr6jmjqpwr3gELzg', 'JF4Ge_KqznXoZ-zmk_veQw']\n",
    "bad_ind = B_NC.business_id.isin(bad_list)\n",
    "b_ind = NC.id_.isin(b_list)"
   ]
  },
  {
   "cell_type": "code",
   "execution_count": 431,
   "metadata": {
    "collapsed": false
   },
   "outputs": [
    {
     "data": {
      "text/html": [
       "<div>\n",
       "<table border=\"1\" class=\"dataframe\">\n",
       "  <thead>\n",
       "    <tr style=\"text-align: right;\">\n",
       "      <th></th>\n",
       "      <th>city</th>\n",
       "      <th>complex</th>\n",
       "      <th>num</th>\n",
       "      <th>street</th>\n",
       "      <th>suite</th>\n",
       "      <th>zip</th>\n",
       "    </tr>\n",
       "  </thead>\n",
       "  <tbody>\n",
       "    <tr>\n",
       "      <th>0</th>\n",
       "      <td>pineville</td>\n",
       "      <td></td>\n",
       "      <td>9940</td>\n",
       "      <td>pineville matthews rd</td>\n",
       "      <td></td>\n",
       "      <td>28134</td>\n",
       "    </tr>\n",
       "    <tr>\n",
       "      <th>1</th>\n",
       "      <td>matthews</td>\n",
       "      <td></td>\n",
       "      <td>1905</td>\n",
       "      <td>matthews township pkwy</td>\n",
       "      <td></td>\n",
       "      <td>28105</td>\n",
       "    </tr>\n",
       "    <tr>\n",
       "      <th>2</th>\n",
       "      <td>charlotte</td>\n",
       "      <td></td>\n",
       "      <td>10223</td>\n",
       "      <td>university city blvd</td>\n",
       "      <td></td>\n",
       "      <td>28213</td>\n",
       "    </tr>\n",
       "    <tr>\n",
       "      <th>3</th>\n",
       "      <td>charlotte</td>\n",
       "      <td></td>\n",
       "      <td>1601</td>\n",
       "      <td>elizabeth av</td>\n",
       "      <td></td>\n",
       "      <td>28204</td>\n",
       "    </tr>\n",
       "    <tr>\n",
       "      <th>4</th>\n",
       "      <td>charlotte</td>\n",
       "      <td></td>\n",
       "      <td>8542</td>\n",
       "      <td>university city blvd</td>\n",
       "      <td></td>\n",
       "      <td>28213</td>\n",
       "    </tr>\n",
       "    <tr>\n",
       "      <th>5</th>\n",
       "      <td>charlotte</td>\n",
       "      <td>charlotte douglas international airport</td>\n",
       "      <td>5501</td>\n",
       "      <td>r c josh birmingham pkwy</td>\n",
       "      <td></td>\n",
       "      <td>28208</td>\n",
       "    </tr>\n",
       "    <tr>\n",
       "      <th>6</th>\n",
       "      <td>charlotte</td>\n",
       "      <td></td>\n",
       "      <td>1100</td>\n",
       "      <td>metropolitan av</td>\n",
       "      <td>bldg east ste 100</td>\n",
       "      <td>28204</td>\n",
       "    </tr>\n",
       "    <tr>\n",
       "      <th>7</th>\n",
       "      <td>charlotte</td>\n",
       "      <td></td>\n",
       "      <td>8332</td>\n",
       "      <td>pinevillematthews rd</td>\n",
       "      <td>ste 201203</td>\n",
       "      <td>28226</td>\n",
       "    </tr>\n",
       "    <tr>\n",
       "      <th>8</th>\n",
       "      <td>charlotte</td>\n",
       "      <td></td>\n",
       "      <td>10405</td>\n",
       "      <td>park rd</td>\n",
       "      <td>b</td>\n",
       "      <td>28210</td>\n",
       "    </tr>\n",
       "    <tr>\n",
       "      <th>9</th>\n",
       "      <td>pineville</td>\n",
       "      <td></td>\n",
       "      <td>9101</td>\n",
       "      <td>pineville matthews rd</td>\n",
       "      <td></td>\n",
       "      <td>28134</td>\n",
       "    </tr>\n",
       "    <tr>\n",
       "      <th>10</th>\n",
       "      <td>charlotte</td>\n",
       "      <td>charlotte international airport</td>\n",
       "      <td></td>\n",
       "      <td></td>\n",
       "      <td></td>\n",
       "      <td>28208</td>\n",
       "    </tr>\n",
       "    <tr>\n",
       "      <th>11</th>\n",
       "      <td>charlotte</td>\n",
       "      <td></td>\n",
       "      <td>3419</td>\n",
       "      <td>toringdon way a124</td>\n",
       "      <td></td>\n",
       "      <td>28277</td>\n",
       "    </tr>\n",
       "    <tr>\n",
       "      <th>12</th>\n",
       "      <td>matthews</td>\n",
       "      <td>sycamore commons</td>\n",
       "      <td>2225</td>\n",
       "      <td>matthews township</td>\n",
       "      <td>ste c</td>\n",
       "      <td>28105</td>\n",
       "    </tr>\n",
       "    <tr>\n",
       "      <th>13</th>\n",
       "      <td>charlotte</td>\n",
       "      <td></td>\n",
       "      <td>8225</td>\n",
       "      <td>university city blvd</td>\n",
       "      <td></td>\n",
       "      <td>28213</td>\n",
       "    </tr>\n",
       "    <tr>\n",
       "      <th>14</th>\n",
       "      <td>matthews</td>\n",
       "      <td></td>\n",
       "      <td>2233</td>\n",
       "      <td>matthews township pkwy</td>\n",
       "      <td>ste east</td>\n",
       "      <td>28105</td>\n",
       "    </tr>\n",
       "    <tr>\n",
       "      <th>15</th>\n",
       "      <td>charlotte</td>\n",
       "      <td></td>\n",
       "      <td>3130</td>\n",
       "      <td>driwood ct</td>\n",
       "      <td>unit a</td>\n",
       "      <td>28269</td>\n",
       "    </tr>\n",
       "  </tbody>\n",
       "</table>\n",
       "</div>"
      ],
      "text/plain": [
       "         city                                  complex    num  \\\n",
       "0   pineville                                            9940   \n",
       "1    matthews                                            1905   \n",
       "2   charlotte                                           10223   \n",
       "3   charlotte                                            1601   \n",
       "4   charlotte                                            8542   \n",
       "5   charlotte  charlotte douglas international airport   5501   \n",
       "6   charlotte                                            1100   \n",
       "7   charlotte                                            8332   \n",
       "8   charlotte                                           10405   \n",
       "9   pineville                                            9101   \n",
       "10  charlotte          charlotte international airport          \n",
       "11  charlotte                                            3419   \n",
       "12   matthews                         sycamore commons   2225   \n",
       "13  charlotte                                            8225   \n",
       "14   matthews                                            2233   \n",
       "15  charlotte                                            3130   \n",
       "\n",
       "                      street              suite    zip  \n",
       "0      pineville matthews rd                     28134  \n",
       "1     matthews township pkwy                     28105  \n",
       "2       university city blvd                     28213  \n",
       "3               elizabeth av                     28204  \n",
       "4       university city blvd                     28213  \n",
       "5   r c josh birmingham pkwy                     28208  \n",
       "6            metropolitan av  bldg east ste 100  28204  \n",
       "7       pinevillematthews rd         ste 201203  28226  \n",
       "8                    park rd                  b  28210  \n",
       "9      pineville matthews rd                     28134  \n",
       "10                                               28208  \n",
       "11        toringdon way a124                     28277  \n",
       "12         matthews township              ste c  28105  \n",
       "13      university city blvd                     28213  \n",
       "14    matthews township pkwy           ste east  28105  \n",
       "15                driwood ct             unit a  28269  "
      ]
     },
     "execution_count": 431,
     "metadata": {},
     "output_type": "execute_result"
    }
   ],
   "source": [
    "pd.Series(zip(B_NC[bad_ind].full_address, B_NC[bad_ind].neighborhoods)).apply(lambda x: lib.parse_address(*x))"
   ]
  },
  {
   "cell_type": "code",
   "execution_count": 432,
   "metadata": {
    "collapsed": false
   },
   "outputs": [
    {
     "data": {
      "text/html": [
       "<div>\n",
       "<table border=\"1\" class=\"dataframe\">\n",
       "  <thead>\n",
       "    <tr style=\"text-align: right;\">\n",
       "      <th></th>\n",
       "      <th>full_address</th>\n",
       "    </tr>\n",
       "  </thead>\n",
       "  <tbody>\n",
       "    <tr>\n",
       "      <th>720</th>\n",
       "      <td>9940 Pineville Matthews Rd\\nPineville, NC 28134</td>\n",
       "    </tr>\n",
       "    <tr>\n",
       "      <th>9214</th>\n",
       "      <td>1905 Matthews Township Parkway\\nMatthews, NC 2...</td>\n",
       "    </tr>\n",
       "    <tr>\n",
       "      <th>9621</th>\n",
       "      <td>10223 University City Blvd\\nUniversity City\\nC...</td>\n",
       "    </tr>\n",
       "    <tr>\n",
       "      <th>22748</th>\n",
       "      <td>1601 Elizabeth Ave\\nElizabeth\\nCharlotte, NC 2...</td>\n",
       "    </tr>\n",
       "    <tr>\n",
       "      <th>26452</th>\n",
       "      <td>8542 University City Blvd\\nUniversity City\\nCh...</td>\n",
       "    </tr>\n",
       "    <tr>\n",
       "      <th>31718</th>\n",
       "      <td>Charlotte Douglas International Airport\\n5501 ...</td>\n",
       "    </tr>\n",
       "    <tr>\n",
       "      <th>31798</th>\n",
       "      <td>1100 Metropolitan Ave\\nBldg E, Ste 100\\nMyers ...</td>\n",
       "    </tr>\n",
       "    <tr>\n",
       "      <th>31984</th>\n",
       "      <td>8332 Pineville-Matthews Rd\\nSte 201-203\\nCharl...</td>\n",
       "    </tr>\n",
       "    <tr>\n",
       "      <th>32788</th>\n",
       "      <td>10405-B Park Rd\\nCharlotte, NC 28210</td>\n",
       "    </tr>\n",
       "    <tr>\n",
       "      <th>33087</th>\n",
       "      <td>9101 Pineville Matthews Rd\\nPineville, NC 28134</td>\n",
       "    </tr>\n",
       "    <tr>\n",
       "      <th>37186</th>\n",
       "      <td>Charlotte International Airport\\nCharlotte, NC...</td>\n",
       "    </tr>\n",
       "    <tr>\n",
       "      <th>44806</th>\n",
       "      <td>3419 Toringdon Way A-124\\nBallantyne\\nCharlott...</td>\n",
       "    </tr>\n",
       "    <tr>\n",
       "      <th>48615</th>\n",
       "      <td>Sycamore Commons\\n2225 Matthews Township, Ste ...</td>\n",
       "    </tr>\n",
       "    <tr>\n",
       "      <th>54404</th>\n",
       "      <td>8225 University City Blvd\\nUniversity City\\nCh...</td>\n",
       "    </tr>\n",
       "    <tr>\n",
       "      <th>54990</th>\n",
       "      <td>2233 Matthews Township Pkwy\\nSte E\\nMatthews, ...</td>\n",
       "    </tr>\n",
       "    <tr>\n",
       "      <th>57960</th>\n",
       "      <td>3130 Driwood Ct\\nUnit A\\nHighland Creek\\nCharl...</td>\n",
       "    </tr>\n",
       "  </tbody>\n",
       "</table>\n",
       "</div>"
      ],
      "text/plain": [
       "                                            full_address\n",
       "720      9940 Pineville Matthews Rd\\nPineville, NC 28134\n",
       "9214   1905 Matthews Township Parkway\\nMatthews, NC 2...\n",
       "9621   10223 University City Blvd\\nUniversity City\\nC...\n",
       "22748  1601 Elizabeth Ave\\nElizabeth\\nCharlotte, NC 2...\n",
       "26452  8542 University City Blvd\\nUniversity City\\nCh...\n",
       "31718  Charlotte Douglas International Airport\\n5501 ...\n",
       "31798  1100 Metropolitan Ave\\nBldg E, Ste 100\\nMyers ...\n",
       "31984  8332 Pineville-Matthews Rd\\nSte 201-203\\nCharl...\n",
       "32788               10405-B Park Rd\\nCharlotte, NC 28210\n",
       "33087    9101 Pineville Matthews Rd\\nPineville, NC 28134\n",
       "37186  Charlotte International Airport\\nCharlotte, NC...\n",
       "44806  3419 Toringdon Way A-124\\nBallantyne\\nCharlott...\n",
       "48615  Sycamore Commons\\n2225 Matthews Township, Ste ...\n",
       "54404  8225 University City Blvd\\nUniversity City\\nCh...\n",
       "54990  2233 Matthews Township Pkwy\\nSte E\\nMatthews, ...\n",
       "57960  3130 Driwood Ct\\nUnit A\\nHighland Creek\\nCharl..."
      ]
     },
     "execution_count": 432,
     "metadata": {},
     "output_type": "execute_result"
    }
   ],
   "source": [
    "B_NC[bad_ind][['full_address']]"
   ]
  },
  {
   "cell_type": "code",
   "execution_count": 428,
   "metadata": {
    "collapsed": false
   },
   "outputs": [
    {
     "data": {
      "text/html": [
       "<div>\n",
       "<table border=\"1\" class=\"dataframe\">\n",
       "  <thead>\n",
       "    <tr style=\"text-align: right;\">\n",
       "      <th></th>\n",
       "      <th>num</th>\n",
       "      <th>street</th>\n",
       "      <th>suite</th>\n",
       "    </tr>\n",
       "  </thead>\n",
       "  <tbody>\n",
       "    <tr>\n",
       "      <th>123415</th>\n",
       "      <td>1600</td>\n",
       "      <td>matthews mint hill rd</td>\n",
       "      <td></td>\n",
       "    </tr>\n",
       "    <tr>\n",
       "      <th>123786</th>\n",
       "      <td>516</td>\n",
       "      <td>north graham st</td>\n",
       "      <td>a</td>\n",
       "    </tr>\n",
       "    <tr>\n",
       "      <th>124251</th>\n",
       "      <td>4520</td>\n",
       "      <td>north tryon st</td>\n",
       "      <td>41</td>\n",
       "    </tr>\n",
       "    <tr>\n",
       "      <th>124262</th>\n",
       "      <td>710</td>\n",
       "      <td>west trade st</td>\n",
       "      <td>g</td>\n",
       "    </tr>\n",
       "    <tr>\n",
       "      <th>126428</th>\n",
       "      <td>2910</td>\n",
       "      <td>mt holly huntersville rd</td>\n",
       "      <td></td>\n",
       "    </tr>\n",
       "    <tr>\n",
       "      <th>126920</th>\n",
       "      <td>9005</td>\n",
       "      <td>j m keynes blvd</td>\n",
       "      <td>2</td>\n",
       "    </tr>\n",
       "    <tr>\n",
       "      <th>127252</th>\n",
       "      <td>440</td>\n",
       "      <td>east mccullough dr</td>\n",
       "      <td>230</td>\n",
       "    </tr>\n",
       "    <tr>\n",
       "      <th>127957</th>\n",
       "      <td>265</td>\n",
       "      <td>mtholly huntersville rd</td>\n",
       "      <td></td>\n",
       "    </tr>\n",
       "    <tr>\n",
       "      <th>128514</th>\n",
       "      <td>10405</td>\n",
       "      <td>park rd</td>\n",
       "      <td></td>\n",
       "    </tr>\n",
       "    <tr>\n",
       "      <th>128677</th>\n",
       "      <td>15105</td>\n",
       "      <td>john j delaney dr</td>\n",
       "      <td>a</td>\n",
       "    </tr>\n",
       "    <tr>\n",
       "      <th>128700</th>\n",
       "      <td>2904</td>\n",
       "      <td>b yorkmont rd</td>\n",
       "      <td></td>\n",
       "    </tr>\n",
       "    <tr>\n",
       "      <th>129560</th>\n",
       "      <td>8517</td>\n",
       "      <td>davis lake pkwy</td>\n",
       "      <td></td>\n",
       "    </tr>\n",
       "    <tr>\n",
       "      <th>129641</th>\n",
       "      <td>7705</td>\n",
       "      <td>d south tryon st</td>\n",
       "      <td></td>\n",
       "    </tr>\n",
       "    <tr>\n",
       "      <th>129644</th>\n",
       "      <td>5300</td>\n",
       "      <td>south blvd</td>\n",
       "      <td>unit h</td>\n",
       "    </tr>\n",
       "    <tr>\n",
       "      <th>130023</th>\n",
       "      <td>3716</td>\n",
       "      <td>west wt harris blvd</td>\n",
       "      <td>i</td>\n",
       "    </tr>\n",
       "    <tr>\n",
       "      <th>144402</th>\n",
       "      <td>440</td>\n",
       "      <td></td>\n",
       "      <td>ste 126 east mccullough dr</td>\n",
       "    </tr>\n",
       "    <tr>\n",
       "      <th>151433</th>\n",
       "      <td>11112</td>\n",
       "      <td>b south tryon st</td>\n",
       "      <td></td>\n",
       "    </tr>\n",
       "    <tr>\n",
       "      <th>160381</th>\n",
       "      <td>8662</td>\n",
       "      <td>j west clay blvd</td>\n",
       "      <td>ste 3</td>\n",
       "    </tr>\n",
       "  </tbody>\n",
       "</table>\n",
       "</div>"
      ],
      "text/plain": [
       "          num                    street                       suite\n",
       "123415   1600     matthews mint hill rd                            \n",
       "123786    516           north graham st                           a\n",
       "124251   4520            north tryon st                          41\n",
       "124262    710             west trade st                           g\n",
       "126428   2910  mt holly huntersville rd                            \n",
       "126920   9005           j m keynes blvd                           2\n",
       "127252    440        east mccullough dr                         230\n",
       "127957    265   mtholly huntersville rd                            \n",
       "128514  10405                   park rd                            \n",
       "128677  15105         john j delaney dr                           a\n",
       "128700   2904             b yorkmont rd                            \n",
       "129560   8517           davis lake pkwy                            \n",
       "129641   7705          d south tryon st                            \n",
       "129644   5300                south blvd                      unit h\n",
       "130023   3716       west wt harris blvd                           i\n",
       "144402    440                            ste 126 east mccullough dr\n",
       "151433  11112          b south tryon st                            \n",
       "160381   8662          j west clay blvd                       ste 3"
      ]
     },
     "execution_count": 428,
     "metadata": {},
     "output_type": "execute_result"
    }
   ],
   "source": [
    "NC[b_ind].address.apply(split_address)"
   ]
  },
  {
   "cell_type": "code",
   "execution_count": 429,
   "metadata": {
    "collapsed": false
   },
   "outputs": [
    {
     "data": {
      "text/html": [
       "<div>\n",
       "<table border=\"1\" class=\"dataframe\">\n",
       "  <thead>\n",
       "    <tr style=\"text-align: right;\">\n",
       "      <th></th>\n",
       "      <th>address</th>\n",
       "    </tr>\n",
       "  </thead>\n",
       "  <tbody>\n",
       "    <tr>\n",
       "      <th>123415</th>\n",
       "      <td>1600 MATTHEWS-MINT HILL RD  \\r\\n</td>\n",
       "    </tr>\n",
       "    <tr>\n",
       "      <th>123786</th>\n",
       "      <td>516-A N GRAHAM ST  \\r\\n</td>\n",
       "    </tr>\n",
       "    <tr>\n",
       "      <th>124251</th>\n",
       "      <td>4520-41 N TRYON  ST  \\r\\n</td>\n",
       "    </tr>\n",
       "    <tr>\n",
       "      <th>124262</th>\n",
       "      <td>710-G W TRADE ST  \\r\\n</td>\n",
       "    </tr>\n",
       "    <tr>\n",
       "      <th>126428</th>\n",
       "      <td>2910 MT. HOLLY-HUNTERSVILLE RD  \\r\\n</td>\n",
       "    </tr>\n",
       "    <tr>\n",
       "      <th>126920</th>\n",
       "      <td>9005-2 J M KEYNES BLVD  \\r\\n</td>\n",
       "    </tr>\n",
       "    <tr>\n",
       "      <th>127252</th>\n",
       "      <td>440-230 E MCCULLOUGH  DR  \\r\\n</td>\n",
       "    </tr>\n",
       "    <tr>\n",
       "      <th>127957</th>\n",
       "      <td>265 MT.HOLLY-HUNTERSVILLE RD  \\r\\n</td>\n",
       "    </tr>\n",
       "    <tr>\n",
       "      <th>128514</th>\n",
       "      <td>10405 PARK  RD  \\r\\n</td>\n",
       "    </tr>\n",
       "    <tr>\n",
       "      <th>128677</th>\n",
       "      <td>15105-A  JOHN J DELANEY DR  \\r\\n</td>\n",
       "    </tr>\n",
       "    <tr>\n",
       "      <th>128700</th>\n",
       "      <td>2904 - B YORKMONT RD  \\r\\n</td>\n",
       "    </tr>\n",
       "    <tr>\n",
       "      <th>129560</th>\n",
       "      <td>8517  DAVIS LAKE PKY  \\r\\n</td>\n",
       "    </tr>\n",
       "    <tr>\n",
       "      <th>129641</th>\n",
       "      <td>7705 D S TRYON ST  \\r\\n</td>\n",
       "    </tr>\n",
       "    <tr>\n",
       "      <th>129644</th>\n",
       "      <td>5300 SOUTH BLVD UNIT H  \\r\\n</td>\n",
       "    </tr>\n",
       "    <tr>\n",
       "      <th>130023</th>\n",
       "      <td>3716-I W. WT HARRIS BLVD  \\r\\n</td>\n",
       "    </tr>\n",
       "    <tr>\n",
       "      <th>144402</th>\n",
       "      <td>440 SUITE 126 E MCCULLOUGH DR  \\r\\n</td>\n",
       "    </tr>\n",
       "    <tr>\n",
       "      <th>151433</th>\n",
       "      <td>11112 B SOUTH TRYON ST  \\r\\n</td>\n",
       "    </tr>\n",
       "    <tr>\n",
       "      <th>160381</th>\n",
       "      <td>8662 J W CLAY BLVD SUITE 3  \\r\\n</td>\n",
       "    </tr>\n",
       "  </tbody>\n",
       "</table>\n",
       "</div>"
      ],
      "text/plain": [
       "                                     address\n",
       "123415      1600 MATTHEWS-MINT HILL RD  \\r\\n\n",
       "123786               516-A N GRAHAM ST  \\r\\n\n",
       "124251             4520-41 N TRYON  ST  \\r\\n\n",
       "124262                710-G W TRADE ST  \\r\\n\n",
       "126428  2910 MT. HOLLY-HUNTERSVILLE RD  \\r\\n\n",
       "126920          9005-2 J M KEYNES BLVD  \\r\\n\n",
       "127252        440-230 E MCCULLOUGH  DR  \\r\\n\n",
       "127957    265 MT.HOLLY-HUNTERSVILLE RD  \\r\\n\n",
       "128514                  10405 PARK  RD  \\r\\n\n",
       "128677      15105-A  JOHN J DELANEY DR  \\r\\n\n",
       "128700            2904 - B YORKMONT RD  \\r\\n\n",
       "129560            8517  DAVIS LAKE PKY  \\r\\n\n",
       "129641               7705 D S TRYON ST  \\r\\n\n",
       "129644          5300 SOUTH BLVD UNIT H  \\r\\n\n",
       "130023        3716-I W. WT HARRIS BLVD  \\r\\n\n",
       "144402   440 SUITE 126 E MCCULLOUGH DR  \\r\\n\n",
       "151433          11112 B SOUTH TRYON ST  \\r\\n\n",
       "160381      8662 J W CLAY BLVD SUITE 3  \\r\\n"
      ]
     },
     "execution_count": 429,
     "metadata": {},
     "output_type": "execute_result"
    }
   ],
   "source": [
    "NC[b_ind][['address']]"
   ]
  },
  {
   "cell_type": "code",
   "execution_count": 375,
   "metadata": {
    "collapsed": false
   },
   "outputs": [],
   "source": [
    "y = u'1100 Metropolitan Ave Bldg E Ste 100 Myers'.lower()\n",
    "x = re.search(r'\\b(ste)|(bldg)|(unit)\\b',y)"
   ]
  },
  {
   "cell_type": "code",
   "execution_count": 322,
   "metadata": {
    "collapsed": false
   },
   "outputs": [
    {
     "data": {
      "text/plain": [
       "['9101 ', ' Matthews Rd\\n', ', NC 28134']"
      ]
     },
     "execution_count": 322,
     "metadata": {},
     "output_type": "execute_result"
    }
   ],
   "source": [
    "re.split(r'\\b%s\\b' % 'Pineville', '9101 Pineville Matthews Rd\\nPineville, NC 28134')"
   ]
  },
  {
   "cell_type": "code",
   "execution_count": 315,
   "metadata": {
    "collapsed": false
   },
   "outputs": [
    {
     "data": {
      "text/plain": [
       "u'bldg e ste 100 myers'"
      ]
     },
     "execution_count": 315,
     "metadata": {},
     "output_type": "execute_result"
    }
   ],
   "source": [
    "y[y.find(x.group()):]"
   ]
  },
  {
   "cell_type": "code",
   "execution_count": 329,
   "metadata": {
    "collapsed": false
   },
   "outputs": [
    {
     "data": {
      "text/plain": [
       "u'bldg'"
      ]
     },
     "execution_count": 329,
     "metadata": {},
     "output_type": "execute_result"
    }
   ],
   "source": [
    "x.group()"
   ]
  },
  {
   "cell_type": "markdown",
   "metadata": {},
   "source": [
    "## merge cities with final script"
   ]
  },
  {
   "cell_type": "code",
   "execution_count": 90,
   "metadata": {
    "collapsed": true
   },
   "outputs": [],
   "source": [
    "import merge_phoenix as lib\n",
    "import merge_main as lib_main"
   ]
  },
  {
   "cell_type": "code",
   "execution_count": 91,
   "metadata": {
    "collapsed": false
   },
   "outputs": [
    {
     "data": {
      "text/plain": [
       "<module 'merge_main' from 'merge_main.pyc'>"
      ]
     },
     "execution_count": 91,
     "metadata": {},
     "output_type": "execute_result"
    }
   ],
   "source": [
    "reload(lib)\n",
    "reload(lib_main)"
   ]
  },
  {
   "cell_type": "code",
   "execution_count": 92,
   "metadata": {
    "collapsed": false
   },
   "outputs": [],
   "source": [
    "B2 = lib_main.preprocess_yelp(lib_main.get_yelp_businesses(), 'AZ')\n",
    "H2 = lib.preprocess_AZ()"
   ]
  },
  {
   "cell_type": "code",
   "execution_count": 93,
   "metadata": {
    "collapsed": false
   },
   "outputs": [
    {
     "data": {
      "text/html": [
       "<div>\n",
       "<table border=\"1\" class=\"dataframe\">\n",
       "  <thead>\n",
       "    <tr style=\"text-align: right;\">\n",
       "      <th></th>\n",
       "      <th>address</th>\n",
       "      <th>cutting_edge</th>\n",
       "      <th>link</th>\n",
       "      <th>name</th>\n",
       "      <th>permit_id</th>\n",
       "      <th>has_i</th>\n",
       "      <th>has_v</th>\n",
       "      <th>city</th>\n",
       "      <th>complex</th>\n",
       "      <th>num</th>\n",
       "      <th>street</th>\n",
       "      <th>suite</th>\n",
       "      <th>zip</th>\n",
       "      <th>name_</th>\n",
       "    </tr>\n",
       "  </thead>\n",
       "  <tbody>\n",
       "    <tr>\n",
       "      <th>0</th>\n",
       "      <td>120 N Valentine St   Wickenburg 85358</td>\n",
       "      <td></td>\n",
       "      <td>/EnvSvc/OnlineApplication/EnvironmentalHealth/...</td>\n",
       "      <td>Wickenburg Community Ctr</td>\n",
       "      <td>FD-00001</td>\n",
       "      <td>True</td>\n",
       "      <td>False</td>\n",
       "      <td>wickenburg</td>\n",
       "      <td></td>\n",
       "      <td>120</td>\n",
       "      <td>north valentine st</td>\n",
       "      <td></td>\n",
       "      <td>85358</td>\n",
       "      <td>wickenburg community ctr</td>\n",
       "    </tr>\n",
       "    <tr>\n",
       "      <th>1</th>\n",
       "      <td>11820 N 81st Ave   Peoria 85345</td>\n",
       "      <td></td>\n",
       "      <td>/EnvSvc/OnlineApplication/EnvironmentalHealth/...</td>\n",
       "      <td>Peoria Boys &amp; Girls Club</td>\n",
       "      <td>FD-00002</td>\n",
       "      <td>True</td>\n",
       "      <td>False</td>\n",
       "      <td>peoria</td>\n",
       "      <td></td>\n",
       "      <td>11820</td>\n",
       "      <td>north 81st av</td>\n",
       "      <td></td>\n",
       "      <td>85345</td>\n",
       "      <td>peoria boys  girls club</td>\n",
       "    </tr>\n",
       "    <tr>\n",
       "      <th>2</th>\n",
       "      <td>613 N 4th Ave   Phoenix 85003</td>\n",
       "      <td></td>\n",
       "      <td>/EnvSvc/OnlineApplication/EnvironmentalHealth/...</td>\n",
       "      <td>Phoenix Silvercrest</td>\n",
       "      <td>FD-00003</td>\n",
       "      <td>True</td>\n",
       "      <td>True</td>\n",
       "      <td>phoenix</td>\n",
       "      <td></td>\n",
       "      <td>613</td>\n",
       "      <td>north 4th av</td>\n",
       "      <td></td>\n",
       "      <td>85003</td>\n",
       "      <td>phoenix silvercrest</td>\n",
       "    </tr>\n",
       "    <tr>\n",
       "      <th>3</th>\n",
       "      <td>8561 N 61st Ave   Glendale 85302</td>\n",
       "      <td></td>\n",
       "      <td>/EnvSvc/OnlineApplication/EnvironmentalHealth/...</td>\n",
       "      <td>Ywca Senior Citizens</td>\n",
       "      <td>FD-00004</td>\n",
       "      <td>True</td>\n",
       "      <td>True</td>\n",
       "      <td>glendale</td>\n",
       "      <td></td>\n",
       "      <td>8561</td>\n",
       "      <td>north 61st av</td>\n",
       "      <td></td>\n",
       "      <td>85302</td>\n",
       "      <td>ywca senior citizens</td>\n",
       "    </tr>\n",
       "    <tr>\n",
       "      <th>4</th>\n",
       "      <td>7410 E Sutton Pl   Scottsdale 85260</td>\n",
       "      <td></td>\n",
       "      <td>/EnvSvc/OnlineApplication/EnvironmentalHealth/...</td>\n",
       "      <td>Thunderbird Academy</td>\n",
       "      <td>FD-00005</td>\n",
       "      <td>True</td>\n",
       "      <td>True</td>\n",
       "      <td>scottsdale</td>\n",
       "      <td></td>\n",
       "      <td>7410</td>\n",
       "      <td>east sutton pl</td>\n",
       "      <td></td>\n",
       "      <td>85260</td>\n",
       "      <td>thunderbird academy</td>\n",
       "    </tr>\n",
       "  </tbody>\n",
       "</table>\n",
       "</div>"
      ],
      "text/plain": [
       "                                 address cutting_edge  \\\n",
       "0  120 N Valentine St   Wickenburg 85358                \n",
       "1        11820 N 81st Ave   Peoria 85345                \n",
       "2          613 N 4th Ave   Phoenix 85003                \n",
       "3       8561 N 61st Ave   Glendale 85302                \n",
       "4    7410 E Sutton Pl   Scottsdale 85260                \n",
       "\n",
       "                                                link  \\\n",
       "0  /EnvSvc/OnlineApplication/EnvironmentalHealth/...   \n",
       "1  /EnvSvc/OnlineApplication/EnvironmentalHealth/...   \n",
       "2  /EnvSvc/OnlineApplication/EnvironmentalHealth/...   \n",
       "3  /EnvSvc/OnlineApplication/EnvironmentalHealth/...   \n",
       "4  /EnvSvc/OnlineApplication/EnvironmentalHealth/...   \n",
       "\n",
       "                       name permit_id has_i  has_v        city complex    num  \\\n",
       "0  Wickenburg Community Ctr  FD-00001  True  False  wickenburg            120   \n",
       "1  Peoria Boys & Girls Club  FD-00002  True  False      peoria          11820   \n",
       "2       Phoenix Silvercrest  FD-00003  True   True     phoenix            613   \n",
       "3      Ywca Senior Citizens  FD-00004  True   True    glendale           8561   \n",
       "4       Thunderbird Academy  FD-00005  True   True  scottsdale           7410   \n",
       "\n",
       "               street suite    zip                     name_  \n",
       "0  north valentine st        85358  wickenburg community ctr  \n",
       "1       north 81st av        85345   peoria boys  girls club  \n",
       "2        north 4th av        85003       phoenix silvercrest  \n",
       "3       north 61st av        85302      ywca senior citizens  \n",
       "4      east sutton pl        85260       thunderbird academy  "
      ]
     },
     "execution_count": 93,
     "metadata": {},
     "output_type": "execute_result"
    }
   ],
   "source": [
    "H2.head()"
   ]
  },
  {
   "cell_type": "code",
   "execution_count": 94,
   "metadata": {
    "collapsed": false
   },
   "outputs": [
    {
     "data": {
      "text/html": [
       "<div>\n",
       "<table border=\"1\" class=\"dataframe\">\n",
       "  <thead>\n",
       "    <tr style=\"text-align: right;\">\n",
       "      <th></th>\n",
       "      <th>attributes</th>\n",
       "      <th>business_id</th>\n",
       "      <th>categories</th>\n",
       "      <th>city</th>\n",
       "      <th>full_address</th>\n",
       "      <th>hours</th>\n",
       "      <th>latitude</th>\n",
       "      <th>longitude</th>\n",
       "      <th>name</th>\n",
       "      <th>neighborhoods</th>\n",
       "      <th>...</th>\n",
       "      <th>state</th>\n",
       "      <th>type</th>\n",
       "      <th>address</th>\n",
       "      <th>name_</th>\n",
       "      <th>city_</th>\n",
       "      <th>complex</th>\n",
       "      <th>num</th>\n",
       "      <th>street</th>\n",
       "      <th>suite</th>\n",
       "      <th>zip</th>\n",
       "    </tr>\n",
       "  </thead>\n",
       "  <tbody>\n",
       "    <tr>\n",
       "      <th>1878</th>\n",
       "      <td>{u'Take-out': True, u'Accepts Credit Cards': T...</td>\n",
       "      <td>x5Mv61CnZLohZWxfCVCPTQ</td>\n",
       "      <td>[Sandwiches, Pizza, Chicken Wings, Restaurants]</td>\n",
       "      <td>Phoenix</td>\n",
       "      <td>2819 N Central Ave\\nPhoenix, AZ 85004</td>\n",
       "      <td>{}</td>\n",
       "      <td>33.479542</td>\n",
       "      <td>-112.073418</td>\n",
       "      <td>Domino's Pizza</td>\n",
       "      <td>[]</td>\n",
       "      <td>...</td>\n",
       "      <td>AZ</td>\n",
       "      <td>business</td>\n",
       "      <td>2819 N Central Ave Phoenix 85004</td>\n",
       "      <td>dominos pizza</td>\n",
       "      <td>phoenix</td>\n",
       "      <td></td>\n",
       "      <td>2819</td>\n",
       "      <td>north central av</td>\n",
       "      <td></td>\n",
       "      <td>85004</td>\n",
       "    </tr>\n",
       "    <tr>\n",
       "      <th>1879</th>\n",
       "      <td>{u'Take-out': True, u'Noise Level': u'quiet', ...</td>\n",
       "      <td>2ZnCITVa0abGce4gZ6RhIw</td>\n",
       "      <td>[American (New), Sandwiches, Restaurants]</td>\n",
       "      <td>Phoenix</td>\n",
       "      <td>1850 N Central Ave\\nPhoenix, AZ 85004</td>\n",
       "      <td>{}</td>\n",
       "      <td>33.468988</td>\n",
       "      <td>-112.074315</td>\n",
       "      <td>Viad Tower Restaurants</td>\n",
       "      <td>[]</td>\n",
       "      <td>...</td>\n",
       "      <td>AZ</td>\n",
       "      <td>business</td>\n",
       "      <td>1850 N Central Ave Phoenix 85004</td>\n",
       "      <td>viad tower restaurants</td>\n",
       "      <td>phoenix</td>\n",
       "      <td></td>\n",
       "      <td>1850</td>\n",
       "      <td>north central av</td>\n",
       "      <td></td>\n",
       "      <td>85004</td>\n",
       "    </tr>\n",
       "    <tr>\n",
       "      <th>1880</th>\n",
       "      <td>{u'Alcohol': u'full_bar', u'Price Range': 1, u...</td>\n",
       "      <td>EmzaQR5hQlF0WIl24NxAZA</td>\n",
       "      <td>[American (New), Nightlife, Dance Clubs, Resta...</td>\n",
       "      <td>Phoenix</td>\n",
       "      <td>132 E Washington St\\nPhoenix, AZ 85004</td>\n",
       "      <td>{u'Sunday': {u'close': u'02:00', u'open': u'21...</td>\n",
       "      <td>33.448399</td>\n",
       "      <td>-112.071702</td>\n",
       "      <td>Sky Lounge</td>\n",
       "      <td>[]</td>\n",
       "      <td>...</td>\n",
       "      <td>AZ</td>\n",
       "      <td>business</td>\n",
       "      <td>132 E Washington St Phoenix 85004</td>\n",
       "      <td>sky lounge</td>\n",
       "      <td>phoenix</td>\n",
       "      <td></td>\n",
       "      <td>132</td>\n",
       "      <td>east washington st</td>\n",
       "      <td></td>\n",
       "      <td>85004</td>\n",
       "    </tr>\n",
       "    <tr>\n",
       "      <th>1883</th>\n",
       "      <td>{u'Take-out': True, u'Accepts Credit Cards': T...</td>\n",
       "      <td>KPoTixdjoJxSqRSEApSAGg</td>\n",
       "      <td>[Thai, Restaurants]</td>\n",
       "      <td>Phoenix</td>\n",
       "      <td>2631 N Central Ave\\nPhoenix, AZ 85004</td>\n",
       "      <td>{u'Monday': {u'close': u'21:00', u'open': u'11...</td>\n",
       "      <td>33.477934</td>\n",
       "      <td>-112.073524</td>\n",
       "      <td>Wild Thaiger</td>\n",
       "      <td>[]</td>\n",
       "      <td>...</td>\n",
       "      <td>AZ</td>\n",
       "      <td>business</td>\n",
       "      <td>2631 N Central Ave Phoenix 85004</td>\n",
       "      <td>wild thaiger</td>\n",
       "      <td>phoenix</td>\n",
       "      <td></td>\n",
       "      <td>2631</td>\n",
       "      <td>north central av</td>\n",
       "      <td></td>\n",
       "      <td>85004</td>\n",
       "    </tr>\n",
       "    <tr>\n",
       "      <th>1891</th>\n",
       "      <td>{u'Alcohol': u'full_bar', u'Open 24 Hours': Fa...</td>\n",
       "      <td>e5kc0CQ4R-PCCDgb274gSg</td>\n",
       "      <td>[Mexican, Tex-Mex, Restaurants]</td>\n",
       "      <td>Phoenix</td>\n",
       "      <td>455 N 3rd St\\nSte 114\\nPhoenix, AZ 85004</td>\n",
       "      <td>{u'Monday': {u'close': u'21:00', u'open': u'11...</td>\n",
       "      <td>33.452603</td>\n",
       "      <td>-112.069119</td>\n",
       "      <td>Canyon Cafe</td>\n",
       "      <td>[]</td>\n",
       "      <td>...</td>\n",
       "      <td>AZ</td>\n",
       "      <td>business</td>\n",
       "      <td>455 N 3rd St Suite 114 Phoenix 85004</td>\n",
       "      <td>canyon cafe</td>\n",
       "      <td>phoenix</td>\n",
       "      <td></td>\n",
       "      <td>455</td>\n",
       "      <td>north 3rd st</td>\n",
       "      <td>ste 114</td>\n",
       "      <td>85004</td>\n",
       "    </tr>\n",
       "  </tbody>\n",
       "</table>\n",
       "<p>5 rows × 23 columns</p>\n",
       "</div>"
      ],
      "text/plain": [
       "                                             attributes  \\\n",
       "1878  {u'Take-out': True, u'Accepts Credit Cards': T...   \n",
       "1879  {u'Take-out': True, u'Noise Level': u'quiet', ...   \n",
       "1880  {u'Alcohol': u'full_bar', u'Price Range': 1, u...   \n",
       "1883  {u'Take-out': True, u'Accepts Credit Cards': T...   \n",
       "1891  {u'Alcohol': u'full_bar', u'Open 24 Hours': Fa...   \n",
       "\n",
       "                 business_id  \\\n",
       "1878  x5Mv61CnZLohZWxfCVCPTQ   \n",
       "1879  2ZnCITVa0abGce4gZ6RhIw   \n",
       "1880  EmzaQR5hQlF0WIl24NxAZA   \n",
       "1883  KPoTixdjoJxSqRSEApSAGg   \n",
       "1891  e5kc0CQ4R-PCCDgb274gSg   \n",
       "\n",
       "                                             categories     city  \\\n",
       "1878    [Sandwiches, Pizza, Chicken Wings, Restaurants]  Phoenix   \n",
       "1879          [American (New), Sandwiches, Restaurants]  Phoenix   \n",
       "1880  [American (New), Nightlife, Dance Clubs, Resta...  Phoenix   \n",
       "1883                                [Thai, Restaurants]  Phoenix   \n",
       "1891                    [Mexican, Tex-Mex, Restaurants]  Phoenix   \n",
       "\n",
       "                                  full_address  \\\n",
       "1878     2819 N Central Ave\\nPhoenix, AZ 85004   \n",
       "1879     1850 N Central Ave\\nPhoenix, AZ 85004   \n",
       "1880    132 E Washington St\\nPhoenix, AZ 85004   \n",
       "1883     2631 N Central Ave\\nPhoenix, AZ 85004   \n",
       "1891  455 N 3rd St\\nSte 114\\nPhoenix, AZ 85004   \n",
       "\n",
       "                                                  hours   latitude  \\\n",
       "1878                                                 {}  33.479542   \n",
       "1879                                                 {}  33.468988   \n",
       "1880  {u'Sunday': {u'close': u'02:00', u'open': u'21...  33.448399   \n",
       "1883  {u'Monday': {u'close': u'21:00', u'open': u'11...  33.477934   \n",
       "1891  {u'Monday': {u'close': u'21:00', u'open': u'11...  33.452603   \n",
       "\n",
       "       longitude                    name neighborhoods  ...   state      type  \\\n",
       "1878 -112.073418          Domino's Pizza            []  ...      AZ  business   \n",
       "1879 -112.074315  Viad Tower Restaurants            []  ...      AZ  business   \n",
       "1880 -112.071702              Sky Lounge            []  ...      AZ  business   \n",
       "1883 -112.073524            Wild Thaiger            []  ...      AZ  business   \n",
       "1891 -112.069119             Canyon Cafe            []  ...      AZ  business   \n",
       "\n",
       "                                   address                   name_    city_  \\\n",
       "1878      2819 N Central Ave Phoenix 85004           dominos pizza  phoenix   \n",
       "1879      1850 N Central Ave Phoenix 85004  viad tower restaurants  phoenix   \n",
       "1880     132 E Washington St Phoenix 85004              sky lounge  phoenix   \n",
       "1883      2631 N Central Ave Phoenix 85004            wild thaiger  phoenix   \n",
       "1891  455 N 3rd St Suite 114 Phoenix 85004             canyon cafe  phoenix   \n",
       "\n",
       "     complex   num              street    suite    zip  \n",
       "1878          2819    north central av           85004  \n",
       "1879          1850    north central av           85004  \n",
       "1880           132  east washington st           85004  \n",
       "1883          2631    north central av           85004  \n",
       "1891           455        north 3rd st  ste 114  85004  \n",
       "\n",
       "[5 rows x 23 columns]"
      ]
     },
     "execution_count": 94,
     "metadata": {},
     "output_type": "execute_result"
    }
   ],
   "source": [
    "B2.head()"
   ]
  },
  {
   "cell_type": "code",
   "execution_count": null,
   "metadata": {
    "collapsed": true
   },
   "outputs": [],
   "source": []
  },
  {
   "cell_type": "code",
   "execution_count": null,
   "metadata": {
    "collapsed": true
   },
   "outputs": [],
   "source": []
  },
  {
   "cell_type": "code",
   "execution_count": null,
   "metadata": {
    "collapsed": true
   },
   "outputs": [],
   "source": []
  },
  {
   "cell_type": "markdown",
   "metadata": {},
   "source": [
    "## Charlotte create features:"
   ]
  },
  {
   "cell_type": "code",
   "execution_count": 5,
   "metadata": {
    "collapsed": false
   },
   "outputs": [],
   "source": [
    "df_nc = open_pickle('../data/char/charlotte_yelp_features.pkl')"
   ]
  },
  {
   "cell_type": "code",
   "execution_count": 6,
   "metadata": {
    "collapsed": false
   },
   "outputs": [
    {
     "name": "stdout",
     "output_type": "stream",
     "text": [
      "<class 'pandas.core.frame.DataFrame'>\n",
      "Int64Index: 6613 entries, 0 to 6743\n",
      "Data columns (total 12 columns):\n",
      "business_id    6613 non-null object\n",
      "id_            6613 non-null int64\n",
      "date           6613 non-null object\n",
      "inspec_id      6613 non-null object\n",
      "score          6613 non-null object\n",
      "grade          6613 non-null object\n",
      "date_start     0 non-null datetime64[ns]\n",
      "rev_ct         6613 non-null int64\n",
      "neg_ct         6613 non-null int64\n",
      "stars_avg      6613 non-null float64\n",
      "rev_len_avg    6613 non-null float64\n",
      "stars_var      6613 non-null float64\n",
      "dtypes: datetime64[ns](1), float64(3), int64(3), object(5)\n",
      "memory usage: 671.6+ KB\n"
     ]
    }
   ],
   "source": [
    "df_nc.info()"
   ]
  },
  {
   "cell_type": "code",
   "execution_count": 7,
   "metadata": {
    "collapsed": true
   },
   "outputs": [],
   "source": [
    "\n",
    "NC = open_pickle('../data/char/charlotte_yelp_merge.pkl')"
   ]
  },
  {
   "cell_type": "code",
   "execution_count": 8,
   "metadata": {
    "collapsed": true
   },
   "outputs": [],
   "source": [
    "import features_charlotte as lib"
   ]
  },
  {
   "cell_type": "code",
   "execution_count": 25,
   "metadata": {
    "collapsed": false
   },
   "outputs": [
    {
     "data": {
      "text/plain": [
       "<module 'features_charlotte' from 'features_charlotte.pyc'>"
      ]
     },
     "execution_count": 25,
     "metadata": {},
     "output_type": "execute_result"
    }
   ],
   "source": [
    "reload(lib)"
   ]
  },
  {
   "cell_type": "code",
   "execution_count": 30,
   "metadata": {
    "collapsed": false
   },
   "outputs": [
    {
     "name": "stdout",
     "output_type": "stream",
     "text": [
      "<class 'pandas.core.frame.DataFrame'>\n",
      "Int64Index: 41485 entries, 0 to 41484\n",
      "Data columns (total 9 columns):\n",
      "_id            41485 non-null object\n",
      "business_id    41485 non-null object\n",
      "date           41485 non-null object\n",
      "review_id      41485 non-null object\n",
      "stars          41485 non-null int64\n",
      "text           41485 non-null object\n",
      "type           41485 non-null object\n",
      "user_id        41485 non-null object\n",
      "votes          41485 non-null object\n",
      "dtypes: int64(1), object(8)\n",
      "memory usage: 3.2+ MB\n",
      "None\n",
      "(241574, 15)\n",
      "(1382, 15)\n",
      "<class 'pandas.core.frame.DataFrame'>\n",
      "Int64Index: 6744 entries, 0 to 6743\n",
      "Data columns (total 7 columns):\n",
      "business_id    6744 non-null object\n",
      "id_            6744 non-null int64\n",
      "date           6744 non-null object\n",
      "inspec_id      6744 non-null object\n",
      "score          6744 non-null object\n",
      "grade          6744 non-null object\n",
      "date_start     6744 non-null datetime64[ns]\n",
      "dtypes: datetime64[ns](1), int64(1), object(5)\n",
      "memory usage: 421.5+ KB\n",
      "None\n",
      "CPU times: user 58.3 s, sys: 2.76 s, total: 1min 1s\n",
      "Wall time: 1min 27s\n"
     ]
    }
   ],
   "source": [
    "%%time\n",
    "df_NC = lib.get_features_NC(NC, '2011-06-30', 'charlotte', ['score','grade'])"
   ]
  },
  {
   "cell_type": "code",
   "execution_count": 27,
   "metadata": {
    "collapsed": true
   },
   "outputs": [],
   "source": [
    "save_to_pickle(df_NC, '../data/char/charlotte_yelp_features.pkl')"
   ]
  },
  {
   "cell_type": "code",
   "execution_count": 13,
   "metadata": {
    "collapsed": true
   },
   "outputs": [],
   "source": [
    "I = lib.get_NC_inspections(NC)"
   ]
  },
  {
   "cell_type": "code",
   "execution_count": 14,
   "metadata": {
    "collapsed": true
   },
   "outputs": [],
   "source": [
    "import features_main as lib_main"
   ]
  },
  {
   "cell_type": "code",
   "execution_count": 22,
   "metadata": {
    "collapsed": false
   },
   "outputs": [
    {
     "data": {
      "text/plain": [
       "<module 'features_main' from 'features_main.py'>"
      ]
     },
     "execution_count": 22,
     "metadata": {},
     "output_type": "execute_result"
    }
   ],
   "source": [
    "reload(lib_main)"
   ]
  },
  {
   "cell_type": "code",
   "execution_count": 23,
   "metadata": {
    "collapsed": true
   },
   "outputs": [],
   "source": [
    "I2 = lib_main.generate_inspec_dates(I)"
   ]
  },
  {
   "cell_type": "code",
   "execution_count": 24,
   "metadata": {
    "collapsed": false
   },
   "outputs": [
    {
     "data": {
      "text/html": [
       "<div>\n",
       "<table border=\"1\" class=\"dataframe\">\n",
       "  <thead>\n",
       "    <tr style=\"text-align: right;\">\n",
       "      <th></th>\n",
       "      <th>date_start</th>\n",
       "    </tr>\n",
       "    <tr>\n",
       "      <th>inspec_id</th>\n",
       "      <th></th>\n",
       "    </tr>\n",
       "  </thead>\n",
       "  <tbody>\n",
       "    <tr>\n",
       "      <th>168590_0</th>\n",
       "      <td>2015-04-02</td>\n",
       "    </tr>\n",
       "    <tr>\n",
       "      <th>168489_0</th>\n",
       "      <td>2015-04-14</td>\n",
       "    </tr>\n",
       "    <tr>\n",
       "      <th>168173_0</th>\n",
       "      <td>2015-03-11</td>\n",
       "    </tr>\n",
       "    <tr>\n",
       "      <th>168145_0</th>\n",
       "      <td>2015-04-02</td>\n",
       "    </tr>\n",
       "    <tr>\n",
       "      <th>167990_0</th>\n",
       "      <td>2015-03-13</td>\n",
       "    </tr>\n",
       "  </tbody>\n",
       "</table>\n",
       "</div>"
      ],
      "text/plain": [
       "          date_start\n",
       "inspec_id           \n",
       "168590_0  2015-04-02\n",
       "168489_0  2015-04-14\n",
       "168173_0  2015-03-11\n",
       "168145_0  2015-04-02\n",
       "167990_0  2015-03-13"
      ]
     },
     "execution_count": 24,
     "metadata": {},
     "output_type": "execute_result"
    }
   ],
   "source": [
    "I2.head()"
   ]
  },
  {
   "cell_type": "code",
   "execution_count": 21,
   "metadata": {
    "collapsed": false
   },
   "outputs": [
    {
     "data": {
      "text/html": [
       "<div>\n",
       "<table border=\"1\" class=\"dataframe\">\n",
       "  <thead>\n",
       "    <tr style=\"text-align: right;\">\n",
       "      <th></th>\n",
       "      <th>date</th>\n",
       "      <th>score</th>\n",
       "      <th>grade</th>\n",
       "      <th>inspector</th>\n",
       "      <th>id_</th>\n",
       "      <th>inspec_id</th>\n",
       "    </tr>\n",
       "  </thead>\n",
       "  <tbody>\n",
       "    <tr>\n",
       "      <th>0</th>\n",
       "      <td>3/3/2015</td>\n",
       "      <td>97</td>\n",
       "      <td>A</td>\n",
       "      <td>2219</td>\n",
       "      <td>161416</td>\n",
       "      <td>161416_0</td>\n",
       "    </tr>\n",
       "    <tr>\n",
       "      <th>1</th>\n",
       "      <td>12/5/2014</td>\n",
       "      <td>96</td>\n",
       "      <td>A</td>\n",
       "      <td>2219</td>\n",
       "      <td>161416</td>\n",
       "      <td>161416_1</td>\n",
       "    </tr>\n",
       "    <tr>\n",
       "      <th>2</th>\n",
       "      <td>9/24/2015</td>\n",
       "      <td>97</td>\n",
       "      <td>A</td>\n",
       "      <td>2427</td>\n",
       "      <td>127669</td>\n",
       "      <td>127669_0</td>\n",
       "    </tr>\n",
       "    <tr>\n",
       "      <th>3</th>\n",
       "      <td>5/26/2015</td>\n",
       "      <td>97.50</td>\n",
       "      <td>A</td>\n",
       "      <td>2447</td>\n",
       "      <td>127669</td>\n",
       "      <td>127669_1</td>\n",
       "    </tr>\n",
       "    <tr>\n",
       "      <th>4</th>\n",
       "      <td>1/15/2015</td>\n",
       "      <td>97</td>\n",
       "      <td>A</td>\n",
       "      <td>2447</td>\n",
       "      <td>127669</td>\n",
       "      <td>127669_2</td>\n",
       "    </tr>\n",
       "  </tbody>\n",
       "</table>\n",
       "</div>"
      ],
      "text/plain": [
       "        date  score grade inspector     id_ inspec_id\n",
       "0   3/3/2015     97     A      2219  161416  161416_0\n",
       "1  12/5/2014     96     A      2219  161416  161416_1\n",
       "2  9/24/2015     97     A      2427  127669  127669_0\n",
       "3  5/26/2015  97.50     A      2447  127669  127669_1\n",
       "4  1/15/2015     97     A      2447  127669  127669_2"
      ]
     },
     "execution_count": 21,
     "metadata": {},
     "output_type": "execute_result"
    }
   ],
   "source": [
    "I.head()"
   ]
  },
  {
   "cell_type": "code",
   "execution_count": 29,
   "metadata": {
    "collapsed": true
   },
   "outputs": [
    {
     "name": "stdout",
     "output_type": "stream",
     "text": [
      "<class 'pandas.core.frame.DataFrame'>\n",
      "Index: 1332 entries, (, 321, north caldwell st, charlotte, 28202) to (pineville, 28134)\n",
      "Data columns (total 56 columns):\n",
      "address                    1332 non-null object\n",
      "addressy_                  1332 non-null object\n",
      "attributes                 1332 non-null object\n",
      "avg                        690 non-null float64\n",
      "avg_2                      690 non-null float64\n",
      "avg_3                      690 non-null float64\n",
      "avg_w                      690 non-null float64\n",
      "avg_w_2                    690 non-null float64\n",
      "avg_w_3                    690 non-null float64\n",
      "business_id                1332 non-null object\n",
      "categories                 1332 non-null object\n",
      "city                       1332 non-null object\n",
      "cityy_                     1332 non-null object\n",
      "complex                    1332 non-null object\n",
      "county                     1332 non-null object\n",
      "full_address               1332 non-null object\n",
      "fuzz_partial_ratio         690 non-null float64\n",
      "fuzz_partial_ratio_2       690 non-null float64\n",
      "fuzz_partial_ratio_3       690 non-null float64\n",
      "fuzz_ratio                 690 non-null float64\n",
      "fuzz_ratio_2               690 non-null float64\n",
      "fuzz_ratio_3               690 non-null float64\n",
      "fuzz_token_set_ratio       690 non-null float64\n",
      "fuzz_token_set_ratio_2     690 non-null float64\n",
      "fuzz_token_set_ratio_3     690 non-null float64\n",
      "fuzz_token_sort_ratio      690 non-null float64\n",
      "fuzz_token_sort_ratio_2    690 non-null float64\n",
      "fuzz_token_sort_ratio_3    690 non-null float64\n",
      "hours                      1332 non-null object\n",
      "id_                        1332 non-null int64\n",
      "inspections                1332 non-null object\n",
      "latitude                   1332 non-null float64\n",
      "longitude                  1332 non-null float64\n",
      "max                        690 non-null float64\n",
      "max_2                      690 non-null float64\n",
      "max_3                      690 non-null float64\n",
      "name                       1332 non-null object\n",
      "name2_h                    690 non-null object\n",
      "name2_y                    690 non-null object\n",
      "name_                      690 non-null object\n",
      "name_y_                    690 non-null object\n",
      "namey_                     1332 non-null object\n",
      "neighborhoods              1332 non-null object\n",
      "num                        198 non-null object\n",
      "numy_                      198 non-null object\n",
      "open                       1332 non-null bool\n",
      "review_count               1332 non-null int64\n",
      "stars                      1332 non-null float64\n",
      "state                      1332 non-null object\n",
      "statey_                    1332 non-null object\n",
      "street                     198 non-null object\n",
      "streety_                   198 non-null object\n",
      "suite                      1332 non-null object\n",
      "suitey_                    1332 non-null object\n",
      "type                       1332 non-null object\n",
      "typey_                     1332 non-null object\n",
      "dtypes: bool(1), float64(24), int64(2), object(29)\n",
      "memory usage: 584.1+ KB\n"
     ]
    }
   ],
   "source": [
    "NC.info()"
   ]
  },
  {
   "cell_type": "code",
   "execution_count": 28,
   "metadata": {
    "collapsed": false
   },
   "outputs": [
    {
     "name": "stdout",
     "output_type": "stream",
     "text": [
      "<class 'pandas.core.frame.DataFrame'>\n",
      "Int64Index: 284 entries, 0 to 6742\n",
      "Data columns (total 12 columns):\n",
      "business_id    284 non-null object\n",
      "id_            284 non-null int64\n",
      "date           284 non-null object\n",
      "inspec_id      284 non-null object\n",
      "score          284 non-null object\n",
      "grade          284 non-null object\n",
      "date_start     284 non-null datetime64[ns]\n",
      "rev_ct         284 non-null int64\n",
      "neg_ct         284 non-null int64\n",
      "stars_avg      284 non-null float64\n",
      "rev_len_avg    284 non-null float64\n",
      "stars_var      284 non-null float64\n",
      "dtypes: datetime64[ns](1), float64(3), int64(3), object(5)\n",
      "memory usage: 28.8+ KB\n"
     ]
    }
   ],
   "source": [
    "df_NC.info()"
   ]
  },
  {
   "cell_type": "markdown",
   "metadata": {},
   "source": [
    "# Pittsburgh, PA"
   ]
  },
  {
   "cell_type": "code",
   "execution_count": 7,
   "metadata": {
    "collapsed": false
   },
   "outputs": [],
   "source": [
    "import merge_pittsburgh as lib\n",
    "import merge_main as lib_main"
   ]
  },
  {
   "cell_type": "code",
   "execution_count": 145,
   "metadata": {
    "collapsed": false
   },
   "outputs": [
    {
     "data": {
      "text/plain": [
       "<module 'merge_main' from 'merge_main.py'>"
      ]
     },
     "execution_count": 145,
     "metadata": {},
     "output_type": "execute_result"
    }
   ],
   "source": [
    "reload(lib)\n",
    "reload(lib_main)"
   ]
  },
  {
   "cell_type": "code",
   "execution_count": 41,
   "metadata": {
    "collapsed": false
   },
   "outputs": [],
   "source": [
    "H = open_pickle('../data/pitt/pitt_inspections_FINAL.pkl')"
   ]
  },
  {
   "cell_type": "code",
   "execution_count": 146,
   "metadata": {
    "collapsed": false
   },
   "outputs": [],
   "source": [
    "B_PA = lib_main.preprocess_yelp(B, 'PA')\n",
    "PA = lib.preprocess_PA()"
   ]
  },
  {
   "cell_type": "code",
   "execution_count": 147,
   "metadata": {
    "collapsed": false
   },
   "outputs": [
    {
     "name": "stdout",
     "output_type": "stream",
     "text": [
      "(4290, 34)\n"
     ]
    }
   ],
   "source": [
    "merge_level1 = lib_main.merge_exact_match(PA, B_PA)"
   ]
  },
  {
   "cell_type": "code",
   "execution_count": 148,
   "metadata": {
    "collapsed": false
   },
   "outputs": [
    {
     "name": "stdout",
     "output_type": "stream",
     "text": [
      "(7277, 36)\n",
      "(7832, 59)\n"
     ]
    }
   ],
   "source": [
    "merge_level2 = lib_main.merge_partial_match2(PA, B_PA, merge_level1, merge_level=2, dump_tag='02')"
   ]
  },
  {
   "cell_type": "code",
   "execution_count": 149,
   "metadata": {
    "collapsed": false
   },
   "outputs": [
    {
     "name": "stdout",
     "output_type": "stream",
     "text": [
      "(2732, 38)\n",
      "(8447, 61)\n"
     ]
    }
   ],
   "source": [
    "merge_level3 = lib_main.merge_partial_match2(PA, B_PA, merge_level2, merge_level=3, dump_tag='03')"
   ]
  },
  {
   "cell_type": "code",
   "execution_count": 150,
   "metadata": {
    "collapsed": false
   },
   "outputs": [
    {
     "name": "stdout",
     "output_type": "stream",
     "text": [
      "(27453, 38)\n",
      "(8757, 63)\n"
     ]
    }
   ],
   "source": [
    "merge_level4 = lib_main.merge_partial_match2(PA, B_PA, merge_level3, merge_level=4, dump_tag='04')"
   ]
  },
  {
   "cell_type": "code",
   "execution_count": 131,
   "metadata": {
    "collapsed": false
   },
   "outputs": [
    {
     "data": {
      "text/plain": [
       "\"J.D.'s mc millans JDFJ doug N.W.E.S la feria GF trally TR\""
      ]
     },
     "execution_count": 131,
     "metadata": {},
     "output_type": "execute_result"
    }
   ],
   "source": [
    "foo = \"JD's McMillans JDF J Doug N.W.E.S LaFeria GF TRally TR\"\n",
    "foo = \"J.D.'s McMillans J D F J Doug N. W. E.S LaFeria G F TRally T R\"\n",
    "\n",
    "x = foo\n",
    "bar = re.findall(r'[a-z][A-Z]', x)\n",
    "\n",
    "for w in bar:\n",
    "    x = x.replace(w, w[0] + ' ' + w[1])\n",
    "    \n",
    "bar = re.findall(r'[A-Z]+[a-z]',x)\n",
    "for w in bar:\n",
    "    x = x.replace(w, w.lower())\n",
    "\n",
    "bar = re.findall(r'(?=([A-Z]\\.? [A-Z]))', x)\n",
    "\n",
    "for w in bar:\n",
    "    x = x.replace(w, w.replace(' ',''))\n",
    "x"
   ]
  },
  {
   "cell_type": "code",
   "execution_count": 125,
   "metadata": {
    "collapsed": false
   },
   "outputs": [
    {
     "name": "stdout",
     "output_type": "stream",
     "text": [
      "JD's Mc Millans JDF J Doug N.W.E.S La Feria GF TRally TR\n"
     ]
    },
    {
     "data": {
      "text/plain": [
       "['Mc', 'Mi', 'Do', 'La', 'Fe', 'TRa']"
      ]
     },
     "execution_count": 125,
     "metadata": {},
     "output_type": "execute_result"
    }
   ],
   "source": [
    "x = foo\n",
    "bar = re.findall(r'[a-z][A-Z]', x)\n",
    "\n",
    "for w in bar:\n",
    "    x = x.replace(w, w[0] + ' ' + w[1])\n",
    "\n",
    "print x\n",
    "    \n",
    "bar = re.findall(r'[A-Z]+[a-z]',x)\n",
    "bar"
   ]
  },
  {
   "cell_type": "code",
   "execution_count": null,
   "metadata": {
    "collapsed": true
   },
   "outputs": [],
   "source": []
  }
 ],
 "metadata": {
  "kernelspec": {
   "display_name": "Python 2",
   "language": "python",
   "name": "python2"
  },
  "language_info": {
   "codemirror_mode": {
    "name": "ipython",
    "version": 2
   },
   "file_extension": ".py",
   "mimetype": "text/x-python",
   "name": "python",
   "nbconvert_exporter": "python",
   "pygments_lexer": "ipython2",
   "version": "2.7.10"
  }
 },
 "nbformat": 4,
 "nbformat_minor": 0
}
