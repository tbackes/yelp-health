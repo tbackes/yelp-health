{
 "cells": [
  {
   "cell_type": "code",
   "execution_count": 1,
   "metadata": {
    "collapsed": true
   },
   "outputs": [],
   "source": [
    "from selenium import webdriver\n",
    "from bs4 import BeautifulSoup, UnicodeDammit\n",
    "import pandas as pd\n",
    "import numpy as np\n",
    "import import_madison_health as mad"
   ]
  },
  {
   "cell_type": "markdown",
   "metadata": {},
   "source": [
    "### Basic Selenium Interface:"
   ]
  },
  {
   "cell_type": "code",
   "execution_count": 264,
   "metadata": {
    "collapsed": true
   },
   "outputs": [],
   "source": [
    "path_to_chromedriver = '/Users/tracy/Desktop/chromedriver' # change path as needed\n",
    "browser = webdriver.Chrome(executable_path = path_to_chromedriver)"
   ]
  },
  {
   "cell_type": "code",
   "execution_count": 265,
   "metadata": {
    "collapsed": true
   },
   "outputs": [],
   "source": [
    "#navigate to main page\n",
    "search_term='a'\n",
    "url = 'https://elam.cityofmadison.com/HealthInspections/Default.aspx?AcceptsCookies=1'\n",
    "browser.get(url)\n",
    "\n",
    "search_content = browser.find_element_by_id('MainContent_txtSearchEstablishment')\n",
    "search_content.clear()\n",
    "search_content.send_keys(search_term)\n",
    "\n",
    "# press search button\n",
    "browser.find_element_by_id('MainContent_btnSearch').click()"
   ]
  },
  {
   "cell_type": "markdown",
   "metadata": {},
   "source": [
    "## Design waterfall of search terms that will capture all Madison Restaurants:"
   ]
  },
  {
   "cell_type": "code",
   "execution_count": 187,
   "metadata": {
    "collapsed": false
   },
   "outputs": [
    {
     "name": "stdout",
     "output_type": "stream",
     "text": [
      "Term: a    # New Restaurants: 1823\n",
      "Term: e    # New Restaurants: 316\n",
      "Term: i    # New Restaurants: 113\n",
      "Term: o    # New Restaurants: 61\n",
      "Term: u    # New Restaurants: 6\n",
      "Term: y    # New Restaurants: 0\n",
      "Term: b    # New Restaurants: 0\n",
      "Term: c    # New Restaurants: 0\n",
      "Term: d    # New Restaurants: 3\n",
      "Term: f    # New Restaurants: 0\n",
      "Term: g    # New Restaurants: 0\n",
      "Term: h    # New Restaurants: 0\n",
      "Term: j    # New Restaurants: 0\n",
      "Term: k    # New Restaurants: 0\n",
      "Term: l    # New Restaurants: 0\n",
      "Term: m    # New Restaurants: 0\n",
      "Term: n    # New Restaurants: 0\n",
      "Term: p    # New Restaurants: 0\n",
      "Term: q    # New Restaurants: 0\n",
      "Term: r    # New Restaurants: 0\n",
      "Term: s    # New Restaurants: 0\n",
      "Term: t    # New Restaurants: 0\n",
      "Term: v    # New Restaurants: 0\n",
      "Term: w    # New Restaurants: 0\n",
      "Term: x    # New Restaurants: 0\n",
      "Term: z    # New Restaurants: 0\n",
      "Term: 608    # New Restaurants: 1\n"
     ]
    }
   ],
   "source": [
    "# Download restaurant level info for all specified searches:\n",
    "rest_list2 = []\n",
    "search_list2 = ['a','e','i','o','u','y','b','c','d','f','g','h','j','k','l','m',\n",
    "                'n','p','q','r','s','t','v','w','x','z',\n",
    "                '608']\n",
    "\n",
    "# The 'seen' list documents all restaurants that have already been captured \n",
    "# via prior search terms (and which should therefore be ignored/not counted)\n",
    "seen2 = set()\n",
    "for term in search_list2:\n",
    "    restaurants = mad.search_restaurants(browser, term, seen2, False)\n",
    "    rest_list2.append(restaurants)\n",
    "    seen2.update(set(restaurants.keys()))\n",
    "    print 'Term: %s    # New Restaurants: %d' % (term, len(restaurants))"
   ]
  },
  {
   "cell_type": "markdown",
   "metadata": {},
   "source": [
    "#### As can be seen above, the vowel searches capture all but 4 Madison-area restaurants. \n",
    "\"Jd's\" and \"608\" are the only special cases that need to be added to the vowel search list"
   ]
  },
  {
   "cell_type": "code",
   "execution_count": 245,
   "metadata": {
    "collapsed": false
   },
   "outputs": [
    {
     "name": "stdout",
     "output_type": "stream",
     "text": [
      "Term: a    # New Restaurants: 1823\n",
      "Term: e    # New Restaurants: 316\n",
      "Term: i    # New Restaurants: 113\n",
      "Term: o    # New Restaurants: 61\n",
      "Term: u    # New Restaurants: 6\n",
      "Term: y    # New Restaurants: 0\n",
      "Term: Jd's    # New Restaurants: 3\n",
      "Term: 608    # New Restaurants: 1\n"
     ]
    }
   ],
   "source": [
    "rest_list = []\n",
    "search_list = ['a','e','i','o','u','y',\"Jd's\",'608']\n",
    "seen = set()\n",
    "\n",
    "# Grab restaurant-level information for all search terms in search_list\n",
    "for term in search_list:\n",
    "    restaurants = mad.search_restaurants(browser, term, seen, False)\n",
    "    rest_list.append(restaurants)\n",
    "    seen.update(set(restaurants.keys()))\n",
    "    print 'Term: %s    # New Restaurants: %d' % (term, len(restaurants))\n",
    "    \n",
    "# Split 'a' search into 5 chunks (for parallelization)\n",
    "# This is doen by making 5 'seen' files for the 'a' search, where \n",
    "# 4/5 of the id's are in each 'seen' file\n",
    "r = rest_list[0].keys()\n",
    "a_list = [r[i:i+365] for i in xrange(0,len(r),365)]\n",
    "for i in xrange(len(a_list)):\n",
    "    save_to_pickle([x for x in r if x not in a_list[i]], 'madison_a_%d.pkl' % i)\n",
    "   \n",
    "# Write out 'seen' files, which describe restaurant id's that have already been downloaded\n",
    "# by previous searches. This step allows for parallelization of the final download process\n",
    "r = rest_list[0]\n",
    "save_to_pickle(r, '../yelp-health/data/mad/madison_a_full.pkl')\n",
    "r.update(rest_list[1])\n",
    "save_to_pickle(r.keys(), '../data/mad/madison_e_full.pkl')\n",
    "r.update(rest_list[2])\n",
    "save_to_pickle(r.keys(), '../data/mad/madison_i_full.pkl')\n",
    "r.update(rest_list[3])\n",
    "save_to_pickle(r.keys(), '../data/mad/madison_o_full.pkl')\n",
    "r.update(rest_list[4])\n",
    "save_to_pickle(r.keys(), '../data/mad/madison_u_full.pkl')\n",
    "r.update(rest_list[6])\n",
    "save_to_pickle(r.keys(), '../data/mad/madison_Jd_full.pkl')\n",
    "r.update(rest_list[7])\n",
    "save_to_pickle(r.keys(), '../data/mad/madison_608_full.pkl')"
   ]
  },
  {
   "cell_type": "markdown",
   "metadata": {},
   "source": [
    "## Exploratory Analysis"
   ]
  },
  {
   "cell_type": "code",
   "execution_count": 4,
   "metadata": {
    "collapsed": false
   },
   "outputs": [],
   "source": [
    "R_2 = mad.open_pickle('../data/mad/mad_health_2.pkl')"
   ]
  },
  {
   "cell_type": "code",
   "execution_count": 5,
   "metadata": {
    "collapsed": false
   },
   "outputs": [
    {
     "data": {
      "text/html": [
       "<div>\n",
       "<table border=\"1\" class=\"dataframe\">\n",
       "  <thead>\n",
       "    <tr style=\"text-align: right;\">\n",
       "      <th></th>\n",
       "      <th>address</th>\n",
       "      <th>inspections</th>\n",
       "      <th>name</th>\n",
       "      <th>type</th>\n",
       "    </tr>\n",
       "  </thead>\n",
       "  <tbody>\n",
       "    <tr>\n",
       "      <th>MainContent_10143-2421</th>\n",
       "      <td>2505 MONROE ST\\nMADISON, WI 53711</td>\n",
       "      <td>{u'MainContent_2349540': {u'date': u'2/5/2013'...</td>\n",
       "      <td>Laurel Tavern</td>\n",
       "      <td>Primarily Restaurant</td>\n",
       "    </tr>\n",
       "    <tr>\n",
       "      <th>MainContent_1269-798</th>\n",
       "      <td>4402 E WASHINGTON AVE\\nMADISON, WI 53704</td>\n",
       "      <td>{u'MainContent_2390670': {u'date': u'6/27/2013...</td>\n",
       "      <td>Crowne Plaza Madison</td>\n",
       "      <td>Primarily Restaurant</td>\n",
       "    </tr>\n",
       "    <tr>\n",
       "      <th>MainContent_1580-1041</th>\n",
       "      <td>22 S CARROLL ST\\nMADISON, WI 53703</td>\n",
       "      <td>{u'MainContent_2587815': {u'date': u'6/12/2015...</td>\n",
       "      <td>Inn On The Park</td>\n",
       "      <td>Primarily Restaurant</td>\n",
       "    </tr>\n",
       "    <tr>\n",
       "      <th>MainContent_1811-1189</th>\n",
       "      <td>554 W MAIN ST\\nMADISON, WI 53703</td>\n",
       "      <td>{u'MainContent_2624458': {u'date': u'10/2/2015...</td>\n",
       "      <td>Echo Tap &amp; Grill</td>\n",
       "      <td>Primarily Restaurant</td>\n",
       "    </tr>\n",
       "    <tr>\n",
       "      <th>MainContent_18705-4236</th>\n",
       "      <td>523 STATE ST\\nMADISON, WI 53703</td>\n",
       "      <td>{u'MainContent_2581271': {u'date': u'4/28/2015...</td>\n",
       "      <td>Mondays</td>\n",
       "      <td>Establisment Type not defined</td>\n",
       "    </tr>\n",
       "  </tbody>\n",
       "</table>\n",
       "</div>"
      ],
      "text/plain": [
       "                                                         address  \\\n",
       "MainContent_10143-2421         2505 MONROE ST\\nMADISON, WI 53711   \n",
       "MainContent_1269-798    4402 E WASHINGTON AVE\\nMADISON, WI 53704   \n",
       "MainContent_1580-1041         22 S CARROLL ST\\nMADISON, WI 53703   \n",
       "MainContent_1811-1189           554 W MAIN ST\\nMADISON, WI 53703   \n",
       "MainContent_18705-4236           523 STATE ST\\nMADISON, WI 53703   \n",
       "\n",
       "                                                              inspections  \\\n",
       "MainContent_10143-2421  {u'MainContent_2349540': {u'date': u'2/5/2013'...   \n",
       "MainContent_1269-798    {u'MainContent_2390670': {u'date': u'6/27/2013...   \n",
       "MainContent_1580-1041   {u'MainContent_2587815': {u'date': u'6/12/2015...   \n",
       "MainContent_1811-1189   {u'MainContent_2624458': {u'date': u'10/2/2015...   \n",
       "MainContent_18705-4236  {u'MainContent_2581271': {u'date': u'4/28/2015...   \n",
       "\n",
       "                                        name                           type  \n",
       "MainContent_10143-2421         Laurel Tavern           Primarily Restaurant  \n",
       "MainContent_1269-798    Crowne Plaza Madison           Primarily Restaurant  \n",
       "MainContent_1580-1041        Inn On The Park           Primarily Restaurant  \n",
       "MainContent_1811-1189       Echo Tap & Grill           Primarily Restaurant  \n",
       "MainContent_18705-4236               Mondays  Establisment Type not defined  "
      ]
     },
     "execution_count": 5,
     "metadata": {},
     "output_type": "execute_result"
    }
   ],
   "source": [
    "df_2 = pd.DataFrame.from_dict(R_2).T\n",
    "df_2.head()"
   ]
  },
  {
   "cell_type": "code",
   "execution_count": null,
   "metadata": {
    "collapsed": true
   },
   "outputs": [],
   "source": []
  }
 ],
 "metadata": {
  "kernelspec": {
   "display_name": "Python 2",
   "language": "python",
   "name": "python2"
  },
  "language_info": {
   "codemirror_mode": {
    "name": "ipython",
    "version": 2
   },
   "file_extension": ".py",
   "mimetype": "text/x-python",
   "name": "python",
   "nbconvert_exporter": "python",
   "pygments_lexer": "ipython2",
   "version": "2.7.10"
  }
 },
 "nbformat": 4,
 "nbformat_minor": 0
}
